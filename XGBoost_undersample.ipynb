{
  "nbformat": 4,
  "nbformat_minor": 0,
  "metadata": {
    "accelerator": "GPU",
    "colab": {
      "name": "XGBoost_undersample.ipynb",
      "provenance": [],
      "collapsed_sections": [],
      "include_colab_link": true
    },
    "kernelspec": {
      "display_name": "Python 3",
      "language": "python",
      "name": "python3"
    },
    "language_info": {
      "codemirror_mode": {
        "name": "ipython",
        "version": 3
      },
      "file_extension": ".py",
      "mimetype": "text/x-python",
      "name": "python",
      "nbconvert_exporter": "python",
      "pygments_lexer": "ipython3",
      "version": "3.8.3"
    }
  },
  "cells": [
    {
      "cell_type": "markdown",
      "metadata": {
        "id": "view-in-github",
        "colab_type": "text"
      },
      "source": [
        "<a href=\"https://colab.research.google.com/github/wonkwonlee/a2w-kma-big-data-contest/blob/main/XGBoost_undersample.ipynb\" target=\"_parent\"><img src=\"https://colab.research.google.com/assets/colab-badge.svg\" alt=\"Open In Colab\"/></a>"
      ]
    },
    {
      "cell_type": "code",
      "metadata": {
        "id": "LvY5pmhLOPfa"
      },
      "source": [
        "#pip install xgboost"
      ],
      "execution_count": null,
      "outputs": []
    },
    {
      "cell_type": "code",
      "metadata": {
        "colab": {
          "base_uri": "https://localhost:8080/"
        },
        "id": "KxMkgXIlOTLX",
        "outputId": "8d460f40-bae1-4202-d267-04bbd0314d94"
      },
      "source": [
        "from google.colab import drive\n",
        "drive.mount('/content/drive')"
      ],
      "execution_count": 1,
      "outputs": [
        {
          "output_type": "stream",
          "text": [
            "Mounted at /content/drive\n"
          ],
          "name": "stdout"
        }
      ]
    },
    {
      "cell_type": "code",
      "metadata": {
        "id": "mdlc9MPLOPfb"
      },
      "source": [
        "# # 경로 설정 \n",
        "# import os\n",
        "# os.chdir('C:\\\\Users\\\\billk\\\\weathercontest\\\\data')\n",
        "import os\n",
        "os.chdir('/content/drive/MyDrive/Colab Notebooks')"
      ],
      "execution_count": 2,
      "outputs": []
    },
    {
      "cell_type": "code",
      "metadata": {
        "id": "4eJg-iMzOPfb"
      },
      "source": [
        "import tensorflow as tf\n",
        "from tensorflow import keras\n",
        "\n",
        "import os\n",
        "import tempfile\n",
        "\n",
        "import matplotlib as mpl\n",
        "import matplotlib.pyplot as plt\n",
        "import numpy as np\n",
        "import pandas as pd\n",
        "import seaborn as sns\n",
        "\n",
        "import sklearn\n",
        "from sklearn.tree import DecisionTreeClassifier\n",
        "from sklearn.ensemble import RandomForestClassifier\n",
        "from sklearn.metrics import confusion_matrix\n",
        "from sklearn.model_selection import train_test_split\n",
        "from sklearn.preprocessing import StandardScaler\n",
        "from sklearn.model_selection import train_test_split, GridSearchCV\n",
        "from sklearn.metrics import make_scorer, accuracy_score, precision_score, recall_score, f1_score, roc_auc_score\n",
        "from sklearn.linear_model import LogisticRegression\n",
        "\n",
        "\n",
        "from xgboost import plot_importance\n",
        "from xgboost import XGBClassifier"
      ],
      "execution_count": 12,
      "outputs": []
    },
    {
      "cell_type": "code",
      "metadata": {
        "id": "PVrolvhqOPfc"
      },
      "source": [
        "def metrics(y_test, pred):\n",
        "    accuracy = accuracy_score(y_test, pred)\n",
        "    precision = precision_score(y_test, pred)\n",
        "    recall = recall_score(y_test, pred)\n",
        "    f1 = f1_score(y_test, pred)\n",
        "    roc_score = roc_auc_score(y_test, pred)\n",
        "    print('정확도 : {0:.2f}, 정밀도 : {1:.2f}, 재현율 : {2:.2f}'.format(accuracy, precision, recall))\n",
        "    print('f1-score : {0:.2f}, auc : {1:.2f}'.format(f1, roc_score))"
      ],
      "execution_count": 4,
      "outputs": []
    },
    {
      "cell_type": "markdown",
      "metadata": {
        "id": "2ubwLMH_OPfd"
      },
      "source": [
        "# 데이터 처리 및 탐색"
      ]
    },
    {
      "cell_type": "code",
      "metadata": {
        "id": "e_JXIStyOPfd"
      },
      "source": [
        "raw_df = pd.read_csv(\"../A2W/데이터/data_submission/merge_final_real.csv\", encoding='utf-8-sig')"
      ],
      "execution_count": 5,
      "outputs": []
    },
    {
      "cell_type": "code",
      "metadata": {
        "id": "_cCORziJOPff"
      },
      "source": [
        "raw_df['1day_yn'] = 0.0\n",
        "raw_df['2day_yn'] = 0.0"
      ],
      "execution_count": 6,
      "outputs": []
    },
    {
      "cell_type": "code",
      "metadata": {
        "colab": {
          "base_uri": "https://localhost:8080/"
        },
        "id": "7MrrPwSDOPff",
        "outputId": "4551ecf6-4821-418c-e6c5-4427786df6fe"
      },
      "source": [
        "# 열을 밀어서 출력, 맨 첫날, 마지막 날의 경우 산사태가 발생하지 않음.\n",
        "raw_df['1day_yn'][1:-1] = raw_df['landslide'][0:-2]\n",
        "raw_df['2day_yn'][2:-1] = raw_df['landslide'][0:-3]"
      ],
      "execution_count": 7,
      "outputs": [
        {
          "output_type": "stream",
          "text": [
            "/usr/local/lib/python3.7/dist-packages/ipykernel_launcher.py:2: SettingWithCopyWarning: \n",
            "A value is trying to be set on a copy of a slice from a DataFrame\n",
            "\n",
            "See the caveats in the documentation: https://pandas.pydata.org/pandas-docs/stable/user_guide/indexing.html#returning-a-view-versus-a-copy\n",
            "  \n",
            "/usr/local/lib/python3.7/dist-packages/ipykernel_launcher.py:3: SettingWithCopyWarning: \n",
            "A value is trying to be set on a copy of a slice from a DataFrame\n",
            "\n",
            "See the caveats in the documentation: https://pandas.pydata.org/pandas-docs/stable/user_guide/indexing.html#returning-a-view-versus-a-copy\n",
            "  This is separate from the ipykernel package so we can avoid doing imports until\n"
          ],
          "name": "stderr"
        }
      ]
    },
    {
      "cell_type": "code",
      "metadata": {
        "colab": {
          "base_uri": "https://localhost:8080/",
          "height": 921
        },
        "id": "CtgsDFA3OPfg",
        "outputId": "cdad8553-7b30-4c67-bce6-e33cc23ec1d4"
      },
      "source": [
        "select_df = raw_df[['maxTa','minTa','avgTa','EIGHT_AGL','stnId','mi10MaxRn', 'hr1MaxRn', 'sumRnDur', 'sumRn', 'maxInsWs', 'maxWs', 'avgWs','minRhm','avgRhm','n99Rn', 'PRRCK_LARG', 'PRRCK_MDDL','LOCTN_ALTT','LOCTN_GRDN','CLZN_CD','TPGRP_TPCD','PRDN_FOM_C','SLDPT_TPCD','SLANT_TYP','SCSTX_CD','SLTP_CD','STORUNST','FROR_CD','FRTP_CD','KOFTR_GROU','DMCLS_CD','AGCLS_CD','HEIGHT','1day_yn']]\n",
        "cleaned_df_1 = select_df.fillna(0)\n",
        "cleaned_df_1.info()\n",
        "cleaned_df_1.head()"
      ],
      "execution_count": 8,
      "outputs": [
        {
          "output_type": "stream",
          "text": [
            "<class 'pandas.core.frame.DataFrame'>\n",
            "RangeIndex: 2093790 entries, 0 to 2093789\n",
            "Data columns (total 34 columns):\n",
            " #   Column      Dtype  \n",
            "---  ------      -----  \n",
            " 0   maxTa       float64\n",
            " 1   minTa       float64\n",
            " 2   avgTa       float64\n",
            " 3   EIGHT_AGL   float64\n",
            " 4   stnId       int64  \n",
            " 5   mi10MaxRn   float64\n",
            " 6   hr1MaxRn    float64\n",
            " 7   sumRnDur    float64\n",
            " 8   sumRn       float64\n",
            " 9   maxInsWs    float64\n",
            " 10  maxWs       float64\n",
            " 11  avgWs       float64\n",
            " 12  minRhm      float64\n",
            " 13  avgRhm      float64\n",
            " 14  n99Rn       float64\n",
            " 15  PRRCK_LARG  int64  \n",
            " 16  PRRCK_MDDL  int64  \n",
            " 17  LOCTN_ALTT  float64\n",
            " 18  LOCTN_GRDN  float64\n",
            " 19  CLZN_CD     int64  \n",
            " 20  TPGRP_TPCD  int64  \n",
            " 21  PRDN_FOM_C  int64  \n",
            " 22  SLDPT_TPCD  int64  \n",
            " 23  SLANT_TYP   int64  \n",
            " 24  SCSTX_CD    int64  \n",
            " 25  SLTP_CD     int64  \n",
            " 26  STORUNST    float64\n",
            " 27  FROR_CD     float64\n",
            " 28  FRTP_CD     float64\n",
            " 29  KOFTR_GROU  float64\n",
            " 30  DMCLS_CD    float64\n",
            " 31  AGCLS_CD    float64\n",
            " 32  HEIGHT      float64\n",
            " 33  1day_yn     float64\n",
            "dtypes: float64(24), int64(10)\n",
            "memory usage: 543.1 MB\n"
          ],
          "name": "stdout"
        },
        {
          "output_type": "execute_result",
          "data": {
            "text/html": [
              "<div>\n",
              "<style scoped>\n",
              "    .dataframe tbody tr th:only-of-type {\n",
              "        vertical-align: middle;\n",
              "    }\n",
              "\n",
              "    .dataframe tbody tr th {\n",
              "        vertical-align: top;\n",
              "    }\n",
              "\n",
              "    .dataframe thead th {\n",
              "        text-align: right;\n",
              "    }\n",
              "</style>\n",
              "<table border=\"1\" class=\"dataframe\">\n",
              "  <thead>\n",
              "    <tr style=\"text-align: right;\">\n",
              "      <th></th>\n",
              "      <th>maxTa</th>\n",
              "      <th>minTa</th>\n",
              "      <th>avgTa</th>\n",
              "      <th>EIGHT_AGL</th>\n",
              "      <th>stnId</th>\n",
              "      <th>mi10MaxRn</th>\n",
              "      <th>hr1MaxRn</th>\n",
              "      <th>sumRnDur</th>\n",
              "      <th>sumRn</th>\n",
              "      <th>maxInsWs</th>\n",
              "      <th>maxWs</th>\n",
              "      <th>avgWs</th>\n",
              "      <th>minRhm</th>\n",
              "      <th>avgRhm</th>\n",
              "      <th>n99Rn</th>\n",
              "      <th>PRRCK_LARG</th>\n",
              "      <th>PRRCK_MDDL</th>\n",
              "      <th>LOCTN_ALTT</th>\n",
              "      <th>LOCTN_GRDN</th>\n",
              "      <th>CLZN_CD</th>\n",
              "      <th>TPGRP_TPCD</th>\n",
              "      <th>PRDN_FOM_C</th>\n",
              "      <th>SLDPT_TPCD</th>\n",
              "      <th>SLANT_TYP</th>\n",
              "      <th>SCSTX_CD</th>\n",
              "      <th>SLTP_CD</th>\n",
              "      <th>STORUNST</th>\n",
              "      <th>FROR_CD</th>\n",
              "      <th>FRTP_CD</th>\n",
              "      <th>KOFTR_GROU</th>\n",
              "      <th>DMCLS_CD</th>\n",
              "      <th>AGCLS_CD</th>\n",
              "      <th>HEIGHT</th>\n",
              "      <th>1day_yn</th>\n",
              "    </tr>\n",
              "  </thead>\n",
              "  <tbody>\n",
              "    <tr>\n",
              "      <th>0</th>\n",
              "      <td>2.1</td>\n",
              "      <td>-1.1</td>\n",
              "      <td>0.8</td>\n",
              "      <td>0.0</td>\n",
              "      <td>115</td>\n",
              "      <td>0.0</td>\n",
              "      <td>0.0</td>\n",
              "      <td>19.33</td>\n",
              "      <td>28.0</td>\n",
              "      <td>29.4</td>\n",
              "      <td>19.0</td>\n",
              "      <td>11.1</td>\n",
              "      <td>65.0</td>\n",
              "      <td>82.5</td>\n",
              "      <td>5.8</td>\n",
              "      <td>0</td>\n",
              "      <td>0</td>\n",
              "      <td>0.0</td>\n",
              "      <td>0.0</td>\n",
              "      <td>0</td>\n",
              "      <td>0</td>\n",
              "      <td>0</td>\n",
              "      <td>0</td>\n",
              "      <td>0</td>\n",
              "      <td>0</td>\n",
              "      <td>0</td>\n",
              "      <td>1.0</td>\n",
              "      <td>2.0</td>\n",
              "      <td>2.0</td>\n",
              "      <td>30.0</td>\n",
              "      <td>1.0</td>\n",
              "      <td>5.0</td>\n",
              "      <td>16.0</td>\n",
              "      <td>0.0</td>\n",
              "    </tr>\n",
              "    <tr>\n",
              "      <th>1</th>\n",
              "      <td>1.3</td>\n",
              "      <td>-0.9</td>\n",
              "      <td>0.1</td>\n",
              "      <td>0.0</td>\n",
              "      <td>115</td>\n",
              "      <td>0.0</td>\n",
              "      <td>0.0</td>\n",
              "      <td>22.83</td>\n",
              "      <td>24.8</td>\n",
              "      <td>14.5</td>\n",
              "      <td>8.5</td>\n",
              "      <td>6.0</td>\n",
              "      <td>65.0</td>\n",
              "      <td>91.5</td>\n",
              "      <td>29.7</td>\n",
              "      <td>0</td>\n",
              "      <td>0</td>\n",
              "      <td>0.0</td>\n",
              "      <td>0.0</td>\n",
              "      <td>0</td>\n",
              "      <td>0</td>\n",
              "      <td>0</td>\n",
              "      <td>0</td>\n",
              "      <td>0</td>\n",
              "      <td>0</td>\n",
              "      <td>0</td>\n",
              "      <td>1.0</td>\n",
              "      <td>2.0</td>\n",
              "      <td>2.0</td>\n",
              "      <td>30.0</td>\n",
              "      <td>1.0</td>\n",
              "      <td>5.0</td>\n",
              "      <td>16.0</td>\n",
              "      <td>0.0</td>\n",
              "    </tr>\n",
              "    <tr>\n",
              "      <th>2</th>\n",
              "      <td>0.8</td>\n",
              "      <td>-1.4</td>\n",
              "      <td>-0.3</td>\n",
              "      <td>0.0</td>\n",
              "      <td>115</td>\n",
              "      <td>0.0</td>\n",
              "      <td>0.0</td>\n",
              "      <td>12.83</td>\n",
              "      <td>7.5</td>\n",
              "      <td>15.9</td>\n",
              "      <td>10.2</td>\n",
              "      <td>6.5</td>\n",
              "      <td>61.0</td>\n",
              "      <td>80.3</td>\n",
              "      <td>0.3</td>\n",
              "      <td>0</td>\n",
              "      <td>0</td>\n",
              "      <td>0.0</td>\n",
              "      <td>0.0</td>\n",
              "      <td>0</td>\n",
              "      <td>0</td>\n",
              "      <td>0</td>\n",
              "      <td>0</td>\n",
              "      <td>0</td>\n",
              "      <td>0</td>\n",
              "      <td>0</td>\n",
              "      <td>1.0</td>\n",
              "      <td>2.0</td>\n",
              "      <td>2.0</td>\n",
              "      <td>30.0</td>\n",
              "      <td>1.0</td>\n",
              "      <td>5.0</td>\n",
              "      <td>16.0</td>\n",
              "      <td>0.0</td>\n",
              "    </tr>\n",
              "    <tr>\n",
              "      <th>3</th>\n",
              "      <td>3.9</td>\n",
              "      <td>0.4</td>\n",
              "      <td>1.7</td>\n",
              "      <td>0.0</td>\n",
              "      <td>115</td>\n",
              "      <td>0.0</td>\n",
              "      <td>0.0</td>\n",
              "      <td>0.00</td>\n",
              "      <td>0.0</td>\n",
              "      <td>11.2</td>\n",
              "      <td>6.8</td>\n",
              "      <td>3.1</td>\n",
              "      <td>53.0</td>\n",
              "      <td>63.1</td>\n",
              "      <td>0.0</td>\n",
              "      <td>0</td>\n",
              "      <td>0</td>\n",
              "      <td>0.0</td>\n",
              "      <td>0.0</td>\n",
              "      <td>0</td>\n",
              "      <td>0</td>\n",
              "      <td>0</td>\n",
              "      <td>0</td>\n",
              "      <td>0</td>\n",
              "      <td>0</td>\n",
              "      <td>0</td>\n",
              "      <td>1.0</td>\n",
              "      <td>2.0</td>\n",
              "      <td>2.0</td>\n",
              "      <td>30.0</td>\n",
              "      <td>1.0</td>\n",
              "      <td>5.0</td>\n",
              "      <td>16.0</td>\n",
              "      <td>0.0</td>\n",
              "    </tr>\n",
              "    <tr>\n",
              "      <th>4</th>\n",
              "      <td>2.6</td>\n",
              "      <td>-1.2</td>\n",
              "      <td>1.2</td>\n",
              "      <td>0.0</td>\n",
              "      <td>115</td>\n",
              "      <td>0.0</td>\n",
              "      <td>0.0</td>\n",
              "      <td>7.25</td>\n",
              "      <td>1.8</td>\n",
              "      <td>13.9</td>\n",
              "      <td>6.9</td>\n",
              "      <td>4.1</td>\n",
              "      <td>42.0</td>\n",
              "      <td>61.5</td>\n",
              "      <td>12.3</td>\n",
              "      <td>0</td>\n",
              "      <td>0</td>\n",
              "      <td>0.0</td>\n",
              "      <td>0.0</td>\n",
              "      <td>0</td>\n",
              "      <td>0</td>\n",
              "      <td>0</td>\n",
              "      <td>0</td>\n",
              "      <td>0</td>\n",
              "      <td>0</td>\n",
              "      <td>0</td>\n",
              "      <td>1.0</td>\n",
              "      <td>2.0</td>\n",
              "      <td>2.0</td>\n",
              "      <td>30.0</td>\n",
              "      <td>1.0</td>\n",
              "      <td>5.0</td>\n",
              "      <td>16.0</td>\n",
              "      <td>0.0</td>\n",
              "    </tr>\n",
              "  </tbody>\n",
              "</table>\n",
              "</div>"
            ],
            "text/plain": [
              "   maxTa  minTa  avgTa  EIGHT_AGL  ...  DMCLS_CD  AGCLS_CD  HEIGHT  1day_yn\n",
              "0    2.1   -1.1    0.8        0.0  ...       1.0       5.0    16.0      0.0\n",
              "1    1.3   -0.9    0.1        0.0  ...       1.0       5.0    16.0      0.0\n",
              "2    0.8   -1.4   -0.3        0.0  ...       1.0       5.0    16.0      0.0\n",
              "3    3.9    0.4    1.7        0.0  ...       1.0       5.0    16.0      0.0\n",
              "4    2.6   -1.2    1.2        0.0  ...       1.0       5.0    16.0      0.0\n",
              "\n",
              "[5 rows x 34 columns]"
            ]
          },
          "metadata": {
            "tags": []
          },
          "execution_count": 8
        }
      ]
    },
    {
      "cell_type": "markdown",
      "metadata": {
        "id": "ni-MoLNmOPfh"
      },
      "source": [
        "## 1일 후 예측"
      ]
    },
    {
      "cell_type": "code",
      "metadata": {
        "id": "T9CM8GNlOPfh"
      },
      "source": [
        "y = cleaned_df_1['1day_yn']\n",
        "X = cleaned_df_1.drop('1day_yn', axis =1)\n",
        "# X_train, X_test, y_train, y_test = train_test_split(X, y, test_size = 0.2, random_state = 11)\n",
        "# print(X_train.shape, X_test.shape)"
      ],
      "execution_count": 15,
      "outputs": []
    },
    {
      "cell_type": "code",
      "metadata": {
        "colab": {
          "base_uri": "https://localhost:8080/"
        },
        "id": "hZvGMFS7uxrv",
        "outputId": "e63460b8-8919-4973-f92e-f0665364cf29"
      },
      "source": [
        "from imblearn.under_sampling import RandomUnderSampler\n",
        "\n",
        "# 1: 50 비율\n",
        "X_samp, y_samp = RandomUnderSampler(random_state=1024, ratio={1: 359, 0: 17950}).fit_sample(X, y)\n",
        "X_df = pd.DataFrame(X_samp)\n",
        "y_df = pd.DataFrame(y_samp)\n",
        "\n",
        "df_samp = pd.concat([X_df, y_df], axis=1)"
      ],
      "execution_count": 43,
      "outputs": [
        {
          "output_type": "stream",
          "text": [
            "/usr/local/lib/python3.7/dist-packages/sklearn/utils/deprecation.py:87: FutureWarning: Function safe_indexing is deprecated; safe_indexing is deprecated in version 0.22 and will be removed in version 0.24.\n",
            "  warnings.warn(msg, category=FutureWarning)\n"
          ],
          "name": "stderr"
        }
      ]
    },
    {
      "cell_type": "code",
      "metadata": {
        "colab": {
          "base_uri": "https://localhost:8080/"
        },
        "id": "tlEs2zgMvmjU",
        "outputId": "8a852e6c-3ed3-4b1c-fccf-31347508feeb"
      },
      "source": [
        "y_df.value_counts()"
      ],
      "execution_count": 44,
      "outputs": [
        {
          "output_type": "execute_result",
          "data": {
            "text/plain": [
              "0.0    17950\n",
              "1.0      359\n",
              "dtype: int64"
            ]
          },
          "metadata": {
            "tags": []
          },
          "execution_count": 44
        }
      ]
    },
    {
      "cell_type": "code",
      "metadata": {
        "colab": {
          "base_uri": "https://localhost:8080/"
        },
        "id": "88uE4NCwsQjX",
        "outputId": "70aa7cea-e409-45f5-a365-0eb13ccc4a01"
      },
      "source": [
        "X_train, X_test, y_train, y_test = train_test_split(X_df, y_df, test_size=0.25, shuffle=True, stratify=y_df, random_state=1024)\n",
        "\n",
        "print('X_train shape:', X_train.shape)\n",
        "print('X_test shape:', X_test.shape)\n",
        "print('y_train shape:', y_train.shape)\n",
        "print('y_test shape:', y_test.shape)"
      ],
      "execution_count": 45,
      "outputs": [
        {
          "output_type": "stream",
          "text": [
            "X_train shape: (13731, 31)\n",
            "X_test shape: (4578, 31)\n",
            "y_train shape: (13731, 1)\n",
            "y_test shape: (4578, 1)\n"
          ],
          "name": "stdout"
        }
      ]
    },
    {
      "cell_type": "code",
      "metadata": {
        "id": "unBr_HY_OPfh",
        "colab": {
          "base_uri": "https://localhost:8080/"
        },
        "outputId": "0ff5aceb-1282-4581-8322-b362ce420c1a"
      },
      "source": [
        "xgb = XGBClassifier(n_estimators=500, learning_rate = 0.1, max_depth = 4)\n",
        "xgb.fit(X_train, y_train)\n",
        "xgb_pred = xgb.predict(X_test)"
      ],
      "execution_count": 46,
      "outputs": [
        {
          "output_type": "stream",
          "text": [
            "/usr/local/lib/python3.7/dist-packages/sklearn/preprocessing/_label.py:235: DataConversionWarning: A column-vector y was passed when a 1d array was expected. Please change the shape of y to (n_samples, ), for example using ravel().\n",
            "  [0],\n",
            "/usr/local/lib/python3.7/dist-packages/sklearn/preprocessing/_label.py:268: DataConversionWarning: A column-vector y was passed when a 1d array was expected. Please change the shape of y to (n_samples, ), for example using ravel().\n",
            "  \"zero pos_label and zero neg_label, got \"\n"
          ],
          "name": "stderr"
        }
      ]
    },
    {
      "cell_type": "code",
      "metadata": {
        "colab": {
          "base_uri": "https://localhost:8080/"
        },
        "id": "ME1V0WjYOPfi",
        "outputId": "0d3d5a96-d3e7-42f8-ffd6-21611c5d367e"
      },
      "source": [
        "metrics(y_test, xgb_pred)"
      ],
      "execution_count": 47,
      "outputs": [
        {
          "output_type": "stream",
          "text": [
            "정확도 : 1.00, 정밀도 : 0.97, 재현율 : 0.79\n",
            "f1-score : 0.87, auc : 0.89\n"
          ],
          "name": "stdout"
        }
      ]
    },
    {
      "cell_type": "markdown",
      "metadata": {
        "id": "Brn9trA6OPfi"
      },
      "source": [
        "### 하이퍼 파라미터 튜닝 후 예측"
      ]
    },
    {
      "cell_type": "code",
      "metadata": {
        "colab": {
          "base_uri": "https://localhost:8080/"
        },
        "id": "_QmARUKQOPfj",
        "outputId": "b0201c4a-abd2-4209-c677-78a096a16abc"
      },
      "source": [
        "xgb = XGBClassifier()\n",
        "\n",
        "xgb_param_grid = {\n",
        "    'n_estimators' : [100, 200, 400, 600],\n",
        "    'learning_rate' : [0.01, 0.05, 0.1, 0.15, 0.2],\n",
        "    'max_depth' : [4, 6, 8, 10, 12],\n",
        "}\n",
        "# sklearn.metrics.SCORERS.keys()\n",
        "xgb_grid = GridSearchCV(xgb, param_grid = xgb_param_grid, scoring=\"roc_auc\", n_jobs= 1, verbose = 1)\n",
        "xgb_grid.fit(X_train, y_train)"
      ],
      "execution_count": 49,
      "outputs": [
        {
          "output_type": "stream",
          "text": [
            "/usr/local/lib/python3.7/dist-packages/sklearn/preprocessing/_label.py:235: DataConversionWarning: A column-vector y was passed when a 1d array was expected. Please change the shape of y to (n_samples, ), for example using ravel().\n",
            "  [0],\n",
            "/usr/local/lib/python3.7/dist-packages/sklearn/preprocessing/_label.py:268: DataConversionWarning: A column-vector y was passed when a 1d array was expected. Please change the shape of y to (n_samples, ), for example using ravel().\n",
            "  \"zero pos_label and zero neg_label, got \"\n",
            "/usr/local/lib/python3.7/dist-packages/sklearn/preprocessing/_label.py:235: DataConversionWarning: A column-vector y was passed when a 1d array was expected. Please change the shape of y to (n_samples, ), for example using ravel().\n",
            "  [0],\n",
            "/usr/local/lib/python3.7/dist-packages/sklearn/preprocessing/_label.py:268: DataConversionWarning: A column-vector y was passed when a 1d array was expected. Please change the shape of y to (n_samples, ), for example using ravel().\n",
            "  \"zero pos_label and zero neg_label, got \"\n",
            "/usr/local/lib/python3.7/dist-packages/sklearn/preprocessing/_label.py:235: DataConversionWarning: A column-vector y was passed when a 1d array was expected. Please change the shape of y to (n_samples, ), for example using ravel().\n",
            "  [0],\n",
            "/usr/local/lib/python3.7/dist-packages/sklearn/preprocessing/_label.py:268: DataConversionWarning: A column-vector y was passed when a 1d array was expected. Please change the shape of y to (n_samples, ), for example using ravel().\n",
            "  \"zero pos_label and zero neg_label, got \"\n",
            "/usr/local/lib/python3.7/dist-packages/sklearn/preprocessing/_label.py:235: DataConversionWarning: A column-vector y was passed when a 1d array was expected. Please change the shape of y to (n_samples, ), for example using ravel().\n",
            "  [0],\n",
            "/usr/local/lib/python3.7/dist-packages/sklearn/preprocessing/_label.py:268: DataConversionWarning: A column-vector y was passed when a 1d array was expected. Please change the shape of y to (n_samples, ), for example using ravel().\n",
            "  \"zero pos_label and zero neg_label, got \"\n",
            "/usr/local/lib/python3.7/dist-packages/sklearn/preprocessing/_label.py:235: DataConversionWarning: A column-vector y was passed when a 1d array was expected. Please change the shape of y to (n_samples, ), for example using ravel().\n",
            "  [0],\n",
            "/usr/local/lib/python3.7/dist-packages/sklearn/preprocessing/_label.py:268: DataConversionWarning: A column-vector y was passed when a 1d array was expected. Please change the shape of y to (n_samples, ), for example using ravel().\n",
            "  \"zero pos_label and zero neg_label, got \"\n",
            "/usr/local/lib/python3.7/dist-packages/sklearn/preprocessing/_label.py:235: DataConversionWarning: A column-vector y was passed when a 1d array was expected. Please change the shape of y to (n_samples, ), for example using ravel().\n",
            "  [0],\n",
            "/usr/local/lib/python3.7/dist-packages/sklearn/preprocessing/_label.py:268: DataConversionWarning: A column-vector y was passed when a 1d array was expected. Please change the shape of y to (n_samples, ), for example using ravel().\n",
            "  \"zero pos_label and zero neg_label, got \"\n",
            "/usr/local/lib/python3.7/dist-packages/sklearn/preprocessing/_label.py:235: DataConversionWarning: A column-vector y was passed when a 1d array was expected. Please change the shape of y to (n_samples, ), for example using ravel().\n",
            "  [0],\n",
            "/usr/local/lib/python3.7/dist-packages/sklearn/preprocessing/_label.py:268: DataConversionWarning: A column-vector y was passed when a 1d array was expected. Please change the shape of y to (n_samples, ), for example using ravel().\n",
            "  \"zero pos_label and zero neg_label, got \"\n",
            "/usr/local/lib/python3.7/dist-packages/sklearn/preprocessing/_label.py:235: DataConversionWarning: A column-vector y was passed when a 1d array was expected. Please change the shape of y to (n_samples, ), for example using ravel().\n",
            "  [0],\n",
            "/usr/local/lib/python3.7/dist-packages/sklearn/preprocessing/_label.py:268: DataConversionWarning: A column-vector y was passed when a 1d array was expected. Please change the shape of y to (n_samples, ), for example using ravel().\n",
            "  \"zero pos_label and zero neg_label, got \"\n",
            "[Parallel(n_jobs=1)]: Done 500 out of 500 | elapsed: 47.3min finished\n",
            "/usr/local/lib/python3.7/dist-packages/sklearn/preprocessing/_label.py:235: DataConversionWarning: A column-vector y was passed when a 1d array was expected. Please change the shape of y to (n_samples, ), for example using ravel().\n",
            "  [0],\n",
            "/usr/local/lib/python3.7/dist-packages/sklearn/preprocessing/_label.py:268: DataConversionWarning: A column-vector y was passed when a 1d array was expected. Please change the shape of y to (n_samples, ), for example using ravel().\n",
            "  \"zero pos_label and zero neg_label, got \"\n"
          ],
          "name": "stderr"
        },
        {
          "output_type": "execute_result",
          "data": {
            "text/plain": [
              "GridSearchCV(cv=None, error_score=nan,\n",
              "             estimator=XGBClassifier(base_score=0.5, booster='gbtree',\n",
              "                                     colsample_bylevel=1, colsample_bynode=1,\n",
              "                                     colsample_bytree=1, gamma=0,\n",
              "                                     learning_rate=0.1, max_delta_step=0,\n",
              "                                     max_depth=3, min_child_weight=1,\n",
              "                                     missing=None, n_estimators=100, n_jobs=1,\n",
              "                                     nthread=None, objective='binary:logistic',\n",
              "                                     random_state=0, reg_alpha=0, reg_lambda=1,\n",
              "                                     scale_pos_weight=1, seed=None, silent=None,\n",
              "                                     subsample=1, verbosity=1),\n",
              "             iid='deprecated', n_jobs=1,\n",
              "             param_grid={'learning_rate': [0.01, 0.05, 0.1, 0.15, 0.2],\n",
              "                         'max_depth': [4, 6, 8, 10, 12],\n",
              "                         'n_estimators': [100, 200, 400, 600]},\n",
              "             pre_dispatch='2*n_jobs', refit=True, return_train_score=False,\n",
              "             scoring='roc_auc', verbose=1)"
            ]
          },
          "metadata": {
            "tags": []
          },
          "execution_count": 49
        }
      ]
    },
    {
      "cell_type": "code",
      "metadata": {
        "id": "PHy4E2UmOPfj",
        "colab": {
          "base_uri": "https://localhost:8080/"
        },
        "outputId": "6225e09f-54ad-466b-8b9e-6a69c672397b"
      },
      "source": [
        "print(\"최고 평균 auc : {0:.4f}\".format(xgb_grid.best_score_))\n",
        "print(\"최고의 파라미터 : \", xgb_grid.best_params_)"
      ],
      "execution_count": 50,
      "outputs": [
        {
          "output_type": "stream",
          "text": [
            "최고 평균 auc : 0.9906\n",
            "최고의 파라미터 :  {'learning_rate': 0.2, 'max_depth': 6, 'n_estimators': 100}\n"
          ],
          "name": "stdout"
        }
      ]
    },
    {
      "cell_type": "code",
      "metadata": {
        "id": "CpuglcsWOPfj"
      },
      "source": [
        "result = pd.DataFrame(xgb_grid.cv_results_)\n",
        "result.sort_values(by=['rank_test_score'], inplace=True)"
      ],
      "execution_count": 51,
      "outputs": []
    },
    {
      "cell_type": "code",
      "metadata": {
        "id": "BikUmykSOPfj",
        "colab": {
          "base_uri": "https://localhost:8080/",
          "height": 359
        },
        "outputId": "9c1cecac-24d2-4228-b6de-140b59b65efb"
      },
      "source": [
        "result[['params', 'mean_test_score', 'rank_test_score']].head(10)"
      ],
      "execution_count": 52,
      "outputs": [
        {
          "output_type": "execute_result",
          "data": {
            "text/html": [
              "<div>\n",
              "<style scoped>\n",
              "    .dataframe tbody tr th:only-of-type {\n",
              "        vertical-align: middle;\n",
              "    }\n",
              "\n",
              "    .dataframe tbody tr th {\n",
              "        vertical-align: top;\n",
              "    }\n",
              "\n",
              "    .dataframe thead th {\n",
              "        text-align: right;\n",
              "    }\n",
              "</style>\n",
              "<table border=\"1\" class=\"dataframe\">\n",
              "  <thead>\n",
              "    <tr style=\"text-align: right;\">\n",
              "      <th></th>\n",
              "      <th>params</th>\n",
              "      <th>mean_test_score</th>\n",
              "      <th>rank_test_score</th>\n",
              "    </tr>\n",
              "  </thead>\n",
              "  <tbody>\n",
              "    <tr>\n",
              "      <th>84</th>\n",
              "      <td>{'learning_rate': 0.2, 'max_depth': 6, 'n_esti...</td>\n",
              "      <td>0.990617</td>\n",
              "      <td>1</td>\n",
              "    </tr>\n",
              "    <tr>\n",
              "      <th>34</th>\n",
              "      <td>{'learning_rate': 0.05, 'max_depth': 10, 'n_es...</td>\n",
              "      <td>0.990372</td>\n",
              "      <td>2</td>\n",
              "    </tr>\n",
              "    <tr>\n",
              "      <th>37</th>\n",
              "      <td>{'learning_rate': 0.05, 'max_depth': 12, 'n_es...</td>\n",
              "      <td>0.990105</td>\n",
              "      <td>3</td>\n",
              "    </tr>\n",
              "    <tr>\n",
              "      <th>35</th>\n",
              "      <td>{'learning_rate': 0.05, 'max_depth': 10, 'n_es...</td>\n",
              "      <td>0.990083</td>\n",
              "      <td>4</td>\n",
              "    </tr>\n",
              "    <tr>\n",
              "      <th>56</th>\n",
              "      <td>{'learning_rate': 0.1, 'max_depth': 12, 'n_est...</td>\n",
              "      <td>0.990072</td>\n",
              "      <td>5</td>\n",
              "    </tr>\n",
              "    <tr>\n",
              "      <th>64</th>\n",
              "      <td>{'learning_rate': 0.15, 'max_depth': 6, 'n_est...</td>\n",
              "      <td>0.990072</td>\n",
              "      <td>6</td>\n",
              "    </tr>\n",
              "    <tr>\n",
              "      <th>85</th>\n",
              "      <td>{'learning_rate': 0.2, 'max_depth': 6, 'n_esti...</td>\n",
              "      <td>0.990053</td>\n",
              "      <td>7</td>\n",
              "    </tr>\n",
              "    <tr>\n",
              "      <th>33</th>\n",
              "      <td>{'learning_rate': 0.05, 'max_depth': 10, 'n_es...</td>\n",
              "      <td>0.990030</td>\n",
              "      <td>8</td>\n",
              "    </tr>\n",
              "    <tr>\n",
              "      <th>53</th>\n",
              "      <td>{'learning_rate': 0.1, 'max_depth': 10, 'n_est...</td>\n",
              "      <td>0.989992</td>\n",
              "      <td>9</td>\n",
              "    </tr>\n",
              "    <tr>\n",
              "      <th>68</th>\n",
              "      <td>{'learning_rate': 0.15, 'max_depth': 8, 'n_est...</td>\n",
              "      <td>0.989915</td>\n",
              "      <td>10</td>\n",
              "    </tr>\n",
              "  </tbody>\n",
              "</table>\n",
              "</div>"
            ],
            "text/plain": [
              "                                               params  ...  rank_test_score\n",
              "84  {'learning_rate': 0.2, 'max_depth': 6, 'n_esti...  ...                1\n",
              "34  {'learning_rate': 0.05, 'max_depth': 10, 'n_es...  ...                2\n",
              "37  {'learning_rate': 0.05, 'max_depth': 12, 'n_es...  ...                3\n",
              "35  {'learning_rate': 0.05, 'max_depth': 10, 'n_es...  ...                4\n",
              "56  {'learning_rate': 0.1, 'max_depth': 12, 'n_est...  ...                5\n",
              "64  {'learning_rate': 0.15, 'max_depth': 6, 'n_est...  ...                6\n",
              "85  {'learning_rate': 0.2, 'max_depth': 6, 'n_esti...  ...                7\n",
              "33  {'learning_rate': 0.05, 'max_depth': 10, 'n_es...  ...                8\n",
              "53  {'learning_rate': 0.1, 'max_depth': 10, 'n_est...  ...                9\n",
              "68  {'learning_rate': 0.15, 'max_depth': 8, 'n_est...  ...               10\n",
              "\n",
              "[10 rows x 3 columns]"
            ]
          },
          "metadata": {
            "tags": []
          },
          "execution_count": 52
        }
      ]
    },
    {
      "cell_type": "markdown",
      "metadata": {
        "id": "uZvVe6CwOPfk"
      },
      "source": [
        "## 최고의 파라미터 값으로 예측 실시 \n",
        "n_estimators = 100, learning_rate = 0.2, max_depth = 6"
      ]
    },
    {
      "cell_type": "code",
      "metadata": {
        "id": "dZxgUOmHOPfk",
        "colab": {
          "base_uri": "https://localhost:8080/"
        },
        "outputId": "3c5565b5-4692-4d03-e634-de97d08125b7"
      },
      "source": [
        "xgb = XGBClassifier(n_estimators=100, learning_rate = 0.2, max_depth = 6)\n",
        "evals = [(X_test, y_test)]\n",
        "xgb.fit(X_train, y_train, early_stopping_rounds = 100, eval_metric = \"logloss\", eval_set = evals, verbose = 1)"
      ],
      "execution_count": 53,
      "outputs": [
        {
          "output_type": "stream",
          "text": [
            "[0]\tvalidation_0-logloss:0.524379\n",
            "Will train until validation_0-logloss hasn't improved in 100 rounds.\n",
            "[1]\tvalidation_0-logloss:0.409751\n",
            "[2]\tvalidation_0-logloss:0.327662\n",
            "[3]\tvalidation_0-logloss:0.266058\n",
            "[4]\tvalidation_0-logloss:0.220372\n",
            "[5]\tvalidation_0-logloss:0.184645\n"
          ],
          "name": "stdout"
        },
        {
          "output_type": "stream",
          "text": [
            "/usr/local/lib/python3.7/dist-packages/sklearn/preprocessing/_label.py:235: DataConversionWarning: A column-vector y was passed when a 1d array was expected. Please change the shape of y to (n_samples, ), for example using ravel().\n",
            "  [0],\n",
            "/usr/local/lib/python3.7/dist-packages/sklearn/preprocessing/_label.py:268: DataConversionWarning: A column-vector y was passed when a 1d array was expected. Please change the shape of y to (n_samples, ), for example using ravel().\n",
            "  \"zero pos_label and zero neg_label, got \"\n"
          ],
          "name": "stderr"
        },
        {
          "output_type": "stream",
          "text": [
            "[6]\tvalidation_0-logloss:0.156692\n",
            "[7]\tvalidation_0-logloss:0.133744\n",
            "[8]\tvalidation_0-logloss:0.116104\n",
            "[9]\tvalidation_0-logloss:0.101512\n",
            "[10]\tvalidation_0-logloss:0.089465\n",
            "[11]\tvalidation_0-logloss:0.080623\n",
            "[12]\tvalidation_0-logloss:0.073107\n",
            "[13]\tvalidation_0-logloss:0.067155\n",
            "[14]\tvalidation_0-logloss:0.062196\n",
            "[15]\tvalidation_0-logloss:0.057276\n",
            "[16]\tvalidation_0-logloss:0.053099\n",
            "[17]\tvalidation_0-logloss:0.050062\n",
            "[18]\tvalidation_0-logloss:0.04775\n",
            "[19]\tvalidation_0-logloss:0.046143\n",
            "[20]\tvalidation_0-logloss:0.044494\n",
            "[21]\tvalidation_0-logloss:0.041737\n",
            "[22]\tvalidation_0-logloss:0.040874\n",
            "[23]\tvalidation_0-logloss:0.039766\n",
            "[24]\tvalidation_0-logloss:0.037527\n",
            "[25]\tvalidation_0-logloss:0.036514\n",
            "[26]\tvalidation_0-logloss:0.035013\n",
            "[27]\tvalidation_0-logloss:0.034544\n",
            "[28]\tvalidation_0-logloss:0.033735\n",
            "[29]\tvalidation_0-logloss:0.033104\n",
            "[30]\tvalidation_0-logloss:0.032895\n",
            "[31]\tvalidation_0-logloss:0.032659\n",
            "[32]\tvalidation_0-logloss:0.032441\n",
            "[33]\tvalidation_0-logloss:0.032097\n",
            "[34]\tvalidation_0-logloss:0.031872\n",
            "[35]\tvalidation_0-logloss:0.03196\n",
            "[36]\tvalidation_0-logloss:0.031721\n",
            "[37]\tvalidation_0-logloss:0.031569\n",
            "[38]\tvalidation_0-logloss:0.031035\n",
            "[39]\tvalidation_0-logloss:0.030803\n",
            "[40]\tvalidation_0-logloss:0.030879\n",
            "[41]\tvalidation_0-logloss:0.02975\n",
            "[42]\tvalidation_0-logloss:0.029724\n",
            "[43]\tvalidation_0-logloss:0.029369\n",
            "[44]\tvalidation_0-logloss:0.029234\n",
            "[45]\tvalidation_0-logloss:0.028449\n",
            "[46]\tvalidation_0-logloss:0.027964\n",
            "[47]\tvalidation_0-logloss:0.027847\n",
            "[48]\tvalidation_0-logloss:0.027705\n",
            "[49]\tvalidation_0-logloss:0.027517\n",
            "[50]\tvalidation_0-logloss:0.027063\n",
            "[51]\tvalidation_0-logloss:0.026408\n",
            "[52]\tvalidation_0-logloss:0.026351\n",
            "[53]\tvalidation_0-logloss:0.025531\n",
            "[54]\tvalidation_0-logloss:0.025422\n",
            "[55]\tvalidation_0-logloss:0.025288\n",
            "[56]\tvalidation_0-logloss:0.024859\n",
            "[57]\tvalidation_0-logloss:0.024843\n",
            "[58]\tvalidation_0-logloss:0.024506\n",
            "[59]\tvalidation_0-logloss:0.024298\n",
            "[60]\tvalidation_0-logloss:0.024224\n",
            "[61]\tvalidation_0-logloss:0.024146\n",
            "[62]\tvalidation_0-logloss:0.024097\n",
            "[63]\tvalidation_0-logloss:0.023482\n",
            "[64]\tvalidation_0-logloss:0.023404\n",
            "[65]\tvalidation_0-logloss:0.023372\n",
            "[66]\tvalidation_0-logloss:0.023055\n",
            "[67]\tvalidation_0-logloss:0.023147\n",
            "[68]\tvalidation_0-logloss:0.023095\n",
            "[69]\tvalidation_0-logloss:0.022895\n",
            "[70]\tvalidation_0-logloss:0.022596\n",
            "[71]\tvalidation_0-logloss:0.022334\n",
            "[72]\tvalidation_0-logloss:0.022247\n",
            "[73]\tvalidation_0-logloss:0.022232\n",
            "[74]\tvalidation_0-logloss:0.02222\n",
            "[75]\tvalidation_0-logloss:0.022183\n",
            "[76]\tvalidation_0-logloss:0.022118\n",
            "[77]\tvalidation_0-logloss:0.022035\n",
            "[78]\tvalidation_0-logloss:0.021851\n",
            "[79]\tvalidation_0-logloss:0.021766\n",
            "[80]\tvalidation_0-logloss:0.021825\n",
            "[81]\tvalidation_0-logloss:0.021706\n",
            "[82]\tvalidation_0-logloss:0.021688\n",
            "[83]\tvalidation_0-logloss:0.021795\n",
            "[84]\tvalidation_0-logloss:0.021675\n",
            "[85]\tvalidation_0-logloss:0.021499\n",
            "[86]\tvalidation_0-logloss:0.021425\n",
            "[87]\tvalidation_0-logloss:0.02138\n",
            "[88]\tvalidation_0-logloss:0.021328\n",
            "[89]\tvalidation_0-logloss:0.021351\n",
            "[90]\tvalidation_0-logloss:0.02136\n",
            "[91]\tvalidation_0-logloss:0.021214\n",
            "[92]\tvalidation_0-logloss:0.021131\n",
            "[93]\tvalidation_0-logloss:0.021067\n",
            "[94]\tvalidation_0-logloss:0.021178\n",
            "[95]\tvalidation_0-logloss:0.021082\n",
            "[96]\tvalidation_0-logloss:0.021205\n",
            "[97]\tvalidation_0-logloss:0.021168\n",
            "[98]\tvalidation_0-logloss:0.02113\n",
            "[99]\tvalidation_0-logloss:0.021049\n"
          ],
          "name": "stdout"
        },
        {
          "output_type": "execute_result",
          "data": {
            "text/plain": [
              "XGBClassifier(base_score=0.5, booster='gbtree', colsample_bylevel=1,\n",
              "              colsample_bynode=1, colsample_bytree=1, gamma=0,\n",
              "              learning_rate=0.2, max_delta_step=0, max_depth=6,\n",
              "              min_child_weight=1, missing=None, n_estimators=100, n_jobs=1,\n",
              "              nthread=None, objective='binary:logistic', random_state=0,\n",
              "              reg_alpha=0, reg_lambda=1, scale_pos_weight=1, seed=None,\n",
              "              silent=None, subsample=1, verbosity=1)"
            ]
          },
          "metadata": {
            "tags": []
          },
          "execution_count": 53
        }
      ]
    },
    {
      "cell_type": "code",
      "metadata": {
        "colab": {
          "base_uri": "https://localhost:8080/"
        },
        "id": "RL9WspwrIYb5",
        "outputId": "383c1ac2-24b5-40d7-adff-48495fee7e9d"
      },
      "source": [
        "xgb_pred = xgb.predict(X_test)\n",
        "metrics(y_test, xgb_pred)"
      ],
      "execution_count": 60,
      "outputs": [
        {
          "output_type": "stream",
          "text": [
            "정확도 : 0.99, 정밀도 : 0.96, 재현율 : 0.78\n",
            "f1-score : 0.86, auc : 0.89\n"
          ],
          "name": "stdout"
        }
      ]
    },
    {
      "cell_type": "markdown",
      "metadata": {
        "id": "_NxRI3JtOPfk"
      },
      "source": [
        "## 2일 후 예측"
      ]
    },
    {
      "cell_type": "code",
      "metadata": {
        "id": "UT_CdgsnOPfk"
      },
      "source": [
        "#분석을 위해 음수 값을 가지는 칼럼들을 제외하고 결측치를 0으로 대체한다.\n",
        "select_df = raw_df[['maxTa','minTa','avgTa','EIGHT_AGL','stnId','mi10MaxRn', 'hr1MaxRn', 'sumRnDur', 'sumRn', 'maxInsWs', 'maxWs', 'avgWs','minRhm','avgRhm','n99Rn', 'PRRCK_LARG', 'PRRCK_MDDL','LOCTN_ALTT','LOCTN_GRDN','CLZN_CD','TPGRP_TPCD','PRDN_FOM_C','SLDPT_TPCD','SLANT_TYP','SCSTX_CD','SLTP_CD','STORUNST','FROR_CD','FRTP_CD','KOFTR_GROU','DMCLS_CD','AGCLS_CD','HEIGHT','2day_yn']]\n",
        "cleaned_df_2 = select_df.fillna(0)"
      ],
      "execution_count": 70,
      "outputs": []
    },
    {
      "cell_type": "code",
      "metadata": {
        "id": "BBj_B6fP57VF"
      },
      "source": [
        "y = cleaned_df_2['2day_yn']\n",
        "X = cleaned_df_2.drop('2day_yn', axis =1)"
      ],
      "execution_count": 71,
      "outputs": []
    },
    {
      "cell_type": "code",
      "metadata": {
        "colab": {
          "base_uri": "https://localhost:8080/"
        },
        "id": "sYmHIBNS5ebn",
        "outputId": "2f52d4e8-2300-48e7-889d-97e07dea474d"
      },
      "source": [
        "# 1: 50 비율\n",
        "X_samp, y_samp = RandomUnderSampler(random_state=1024, ratio={1: 359, 0: 17950}).fit_sample(X, y)\n",
        "X_df = pd.DataFrame(X_samp)\n",
        "y_df = pd.DataFrame(y_samp)\n",
        "\n",
        "df_samp = pd.concat([X_df, y_df], axis=1)"
      ],
      "execution_count": 72,
      "outputs": [
        {
          "output_type": "stream",
          "text": [
            "/usr/local/lib/python3.7/dist-packages/sklearn/utils/deprecation.py:87: FutureWarning: Function safe_indexing is deprecated; safe_indexing is deprecated in version 0.22 and will be removed in version 0.24.\n",
            "  warnings.warn(msg, category=FutureWarning)\n"
          ],
          "name": "stderr"
        }
      ]
    },
    {
      "cell_type": "code",
      "metadata": {
        "colab": {
          "base_uri": "https://localhost:8080/"
        },
        "id": "hh1w6B775lof",
        "outputId": "26f26fce-b487-4976-d264-9793068ffce4"
      },
      "source": [
        "X_train, X_test, y_train, y_test = train_test_split(X_df, y_df, test_size=0.25, shuffle=True, stratify=y_df, random_state=1024)\n",
        "\n",
        "print('X_train shape:', X_train.shape)\n",
        "print('X_test shape:', X_test.shape)\n",
        "print('y_train shape:', y_train.shape)\n",
        "print('y_test shape:', y_test.shape)"
      ],
      "execution_count": 73,
      "outputs": [
        {
          "output_type": "stream",
          "text": [
            "X_train shape: (13731, 33)\n",
            "X_test shape: (4578, 33)\n",
            "y_train shape: (13731, 1)\n",
            "y_test shape: (4578, 1)\n"
          ],
          "name": "stdout"
        }
      ]
    },
    {
      "cell_type": "code",
      "metadata": {
        "id": "fgby8mjaOPfl",
        "colab": {
          "base_uri": "https://localhost:8080/"
        },
        "outputId": "291cb3bd-4c09-4c22-e488-5721e73f9c03"
      },
      "source": [
        "# 최고 하이퍼 파라미터 값으로 예측 실시\n",
        "xgb = XGBClassifier(n_estimators=100, learning_rate = 0.2, max_depth = 6)\n",
        "evals = [(X_test, y_test)]\n",
        "xgb.fit(X_train, y_train, early_stopping_rounds = 100, eval_metric = \"logloss\", eval_set = evals, verbose = 1)"
      ],
      "execution_count": 74,
      "outputs": [
        {
          "output_type": "stream",
          "text": [
            "[0]\tvalidation_0-logloss:0.523628\n",
            "Will train until validation_0-logloss hasn't improved in 100 rounds.\n",
            "[1]\tvalidation_0-logloss:0.409944\n",
            "[2]\tvalidation_0-logloss:0.328209\n",
            "[3]\tvalidation_0-logloss:0.266016\n",
            "[4]\tvalidation_0-logloss:0.219081\n"
          ],
          "name": "stdout"
        },
        {
          "output_type": "stream",
          "text": [
            "/usr/local/lib/python3.7/dist-packages/sklearn/preprocessing/_label.py:235: DataConversionWarning: A column-vector y was passed when a 1d array was expected. Please change the shape of y to (n_samples, ), for example using ravel().\n",
            "  [0],\n",
            "/usr/local/lib/python3.7/dist-packages/sklearn/preprocessing/_label.py:268: DataConversionWarning: A column-vector y was passed when a 1d array was expected. Please change the shape of y to (n_samples, ), for example using ravel().\n",
            "  \"zero pos_label and zero neg_label, got \"\n"
          ],
          "name": "stderr"
        },
        {
          "output_type": "stream",
          "text": [
            "[5]\tvalidation_0-logloss:0.183136\n",
            "[6]\tvalidation_0-logloss:0.15394\n",
            "[7]\tvalidation_0-logloss:0.131121\n",
            "[8]\tvalidation_0-logloss:0.113175\n",
            "[9]\tvalidation_0-logloss:0.099038\n",
            "[10]\tvalidation_0-logloss:0.087109\n",
            "[11]\tvalidation_0-logloss:0.077889\n",
            "[12]\tvalidation_0-logloss:0.070422\n",
            "[13]\tvalidation_0-logloss:0.064108\n",
            "[14]\tvalidation_0-logloss:0.057349\n",
            "[15]\tvalidation_0-logloss:0.053129\n",
            "[16]\tvalidation_0-logloss:0.049165\n",
            "[17]\tvalidation_0-logloss:0.046038\n",
            "[18]\tvalidation_0-logloss:0.043482\n",
            "[19]\tvalidation_0-logloss:0.041793\n",
            "[20]\tvalidation_0-logloss:0.039151\n",
            "[21]\tvalidation_0-logloss:0.037914\n",
            "[22]\tvalidation_0-logloss:0.036951\n",
            "[23]\tvalidation_0-logloss:0.035638\n",
            "[24]\tvalidation_0-logloss:0.034986\n",
            "[25]\tvalidation_0-logloss:0.034363\n",
            "[26]\tvalidation_0-logloss:0.033371\n",
            "[27]\tvalidation_0-logloss:0.032889\n",
            "[28]\tvalidation_0-logloss:0.031726\n",
            "[29]\tvalidation_0-logloss:0.031368\n",
            "[30]\tvalidation_0-logloss:0.030108\n",
            "[31]\tvalidation_0-logloss:0.030153\n",
            "[32]\tvalidation_0-logloss:0.029432\n",
            "[33]\tvalidation_0-logloss:0.029167\n",
            "[34]\tvalidation_0-logloss:0.028431\n",
            "[35]\tvalidation_0-logloss:0.028289\n",
            "[36]\tvalidation_0-logloss:0.028235\n",
            "[37]\tvalidation_0-logloss:0.028206\n",
            "[38]\tvalidation_0-logloss:0.028355\n",
            "[39]\tvalidation_0-logloss:0.028144\n",
            "[40]\tvalidation_0-logloss:0.027503\n",
            "[41]\tvalidation_0-logloss:0.026833\n",
            "[42]\tvalidation_0-logloss:0.026846\n",
            "[43]\tvalidation_0-logloss:0.026731\n",
            "[44]\tvalidation_0-logloss:0.026591\n",
            "[45]\tvalidation_0-logloss:0.026332\n",
            "[46]\tvalidation_0-logloss:0.026101\n",
            "[47]\tvalidation_0-logloss:0.025519\n",
            "[48]\tvalidation_0-logloss:0.02533\n",
            "[49]\tvalidation_0-logloss:0.025109\n",
            "[50]\tvalidation_0-logloss:0.024879\n",
            "[51]\tvalidation_0-logloss:0.024779\n",
            "[52]\tvalidation_0-logloss:0.02477\n",
            "[53]\tvalidation_0-logloss:0.024478\n",
            "[54]\tvalidation_0-logloss:0.024414\n",
            "[55]\tvalidation_0-logloss:0.024669\n",
            "[56]\tvalidation_0-logloss:0.024228\n",
            "[57]\tvalidation_0-logloss:0.024009\n",
            "[58]\tvalidation_0-logloss:0.023898\n",
            "[59]\tvalidation_0-logloss:0.023982\n",
            "[60]\tvalidation_0-logloss:0.023814\n",
            "[61]\tvalidation_0-logloss:0.023862\n",
            "[62]\tvalidation_0-logloss:0.023922\n",
            "[63]\tvalidation_0-logloss:0.023783\n",
            "[64]\tvalidation_0-logloss:0.023802\n",
            "[65]\tvalidation_0-logloss:0.023596\n",
            "[66]\tvalidation_0-logloss:0.023606\n",
            "[67]\tvalidation_0-logloss:0.023413\n",
            "[68]\tvalidation_0-logloss:0.023325\n",
            "[69]\tvalidation_0-logloss:0.023241\n",
            "[70]\tvalidation_0-logloss:0.023027\n",
            "[71]\tvalidation_0-logloss:0.022932\n",
            "[72]\tvalidation_0-logloss:0.022889\n",
            "[73]\tvalidation_0-logloss:0.022738\n",
            "[74]\tvalidation_0-logloss:0.022642\n",
            "[75]\tvalidation_0-logloss:0.022512\n",
            "[76]\tvalidation_0-logloss:0.022575\n",
            "[77]\tvalidation_0-logloss:0.022406\n",
            "[78]\tvalidation_0-logloss:0.022434\n",
            "[79]\tvalidation_0-logloss:0.022422\n",
            "[80]\tvalidation_0-logloss:0.022488\n",
            "[81]\tvalidation_0-logloss:0.022596\n",
            "[82]\tvalidation_0-logloss:0.022514\n",
            "[83]\tvalidation_0-logloss:0.022531\n",
            "[84]\tvalidation_0-logloss:0.022489\n",
            "[85]\tvalidation_0-logloss:0.022414\n",
            "[86]\tvalidation_0-logloss:0.022383\n",
            "[87]\tvalidation_0-logloss:0.022157\n",
            "[88]\tvalidation_0-logloss:0.022112\n",
            "[89]\tvalidation_0-logloss:0.022241\n",
            "[90]\tvalidation_0-logloss:0.022246\n",
            "[91]\tvalidation_0-logloss:0.022187\n",
            "[92]\tvalidation_0-logloss:0.022434\n",
            "[93]\tvalidation_0-logloss:0.022396\n",
            "[94]\tvalidation_0-logloss:0.02234\n",
            "[95]\tvalidation_0-logloss:0.022389\n",
            "[96]\tvalidation_0-logloss:0.02234\n",
            "[97]\tvalidation_0-logloss:0.022395\n",
            "[98]\tvalidation_0-logloss:0.022171\n",
            "[99]\tvalidation_0-logloss:0.02226\n"
          ],
          "name": "stdout"
        },
        {
          "output_type": "execute_result",
          "data": {
            "text/plain": [
              "XGBClassifier(base_score=0.5, booster='gbtree', colsample_bylevel=1,\n",
              "              colsample_bynode=1, colsample_bytree=1, gamma=0,\n",
              "              learning_rate=0.2, max_delta_step=0, max_depth=6,\n",
              "              min_child_weight=1, missing=None, n_estimators=100, n_jobs=1,\n",
              "              nthread=None, objective='binary:logistic', random_state=0,\n",
              "              reg_alpha=0, reg_lambda=1, scale_pos_weight=1, seed=None,\n",
              "              silent=None, subsample=1, verbosity=1)"
            ]
          },
          "metadata": {
            "tags": []
          },
          "execution_count": 74
        }
      ]
    },
    {
      "cell_type": "code",
      "metadata": {
        "id": "LLPuApjeOPfm",
        "colab": {
          "base_uri": "https://localhost:8080/"
        },
        "outputId": "accfe127-2b3f-47a3-be27-a93245a1c6c3"
      },
      "source": [
        "xgb_pred = xgb.predict(X_test)\n",
        "metrics(y_test, xgb_pred)"
      ],
      "execution_count": 75,
      "outputs": [
        {
          "output_type": "stream",
          "text": [
            "정확도 : 0.99, 정밀도 : 0.93, 재현율 : 0.76\n",
            "f1-score : 0.83, auc : 0.88\n"
          ],
          "name": "stdout"
        }
      ]
    },
    {
      "cell_type": "markdown",
      "metadata": {
        "id": "tgUz7Y6-KCVW"
      },
      "source": [
        "# XGBoost 결과\n",
        "## 하이퍼 파라미터\n",
        "* n_estimators = 100\n",
        "* learning_rate = 0.2\n",
        "* max_depth = 6\n",
        "\n",
        "## 1일 뒤 예측\n",
        "* 정확도: 0.99\n",
        "* 정밀도: 0.96\n",
        "* 재현율: 0.79\n",
        "* f1-score: 0.86\n",
        "* AUC: 0.89\n",
        "\n",
        "## 2일 뒤 예측\n",
        "* 정확도: 0.99\n",
        "* 정밀도: 0.93\n",
        "* 재현율: 0.76\n",
        "* f1-score: 0.83\n",
        "* AUC: 0.88"
      ]
    }
  ]
}