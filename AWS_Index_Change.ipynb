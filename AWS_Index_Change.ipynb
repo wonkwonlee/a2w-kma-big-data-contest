{
  "nbformat": 4,
  "nbformat_minor": 0,
  "metadata": {
    "colab": {
      "name": "AWS_Index_Change.ipynb",
      "provenance": [],
      "include_colab_link": true
    },
    "kernelspec": {
      "name": "python3",
      "display_name": "Python 3"
    },
    "language_info": {
      "name": "python"
    }
  },
  "cells": [
    {
      "cell_type": "markdown",
      "metadata": {
        "id": "view-in-github",
        "colab_type": "text"
      },
      "source": [
        "<a href=\"https://colab.research.google.com/github/wonkwonlee/a2w-kma-big-data-contest/blob/main/AWS_Index_Change.ipynb\" target=\"_parent\"><img src=\"https://colab.research.google.com/assets/colab-badge.svg\" alt=\"Open In Colab\"/></a>"
      ]
    },
    {
      "cell_type": "code",
      "metadata": {
        "colab": {
          "base_uri": "https://localhost:8080/"
        },
        "id": "td95U2WvYOEO",
        "outputId": "ec691014-84b8-48e1-d199-1f0cb6f5d81d"
      },
      "source": [
        "from google.colab import drive\n",
        "drive.mount('/content/drive')"
      ],
      "execution_count": 1,
      "outputs": [
        {
          "output_type": "stream",
          "text": [
            "Mounted at /content/drive\n"
          ],
          "name": "stdout"
        }
      ]
    },
    {
      "cell_type": "code",
      "metadata": {
        "id": "ExoZ6pKzaT0c"
      },
      "source": [
        "# 경로 설정 \n",
        "import os\n",
        "os.chdir('/content/drive/MyDrive/Meteorological_Agency_Bigdata_Contest')"
      ],
      "execution_count": 2,
      "outputs": []
    },
    {
      "cell_type": "code",
      "metadata": {
        "id": "eR3bwa2IaVXd"
      },
      "source": [
        "import pandas as pd\n",
        "import csv"
      ],
      "execution_count": 5,
      "outputs": []
    },
    {
      "cell_type": "code",
      "metadata": {
        "id": "qGE3Ad8ZcecI"
      },
      "source": [
        "area_code = [96,311,312,313,319,530,673,686,800,801,802,803,804,805,806,807,808,809,810,811,812,813,814,815,\n",
        "             816,817,818,819,820,821,822,823,824,825,826,827,829,830,831,832,833,834,835,836,837,838,839,840,\n",
        "             841,842,843,844,847,848,849,850,851,852,853,859,872,902,903,905,906,907,908,909,911,912,913,\n",
        "             914,915,916,917,918,919,920,922,925,926,927,928,929,930,931,932,933,934,935,936,944,945,946,947,948,953,974]\n",
        "\n",
        "area_name = ['독도','가야산','주왕산','양지암','천부','태하','진영','대곡','평해','영양','온정','옥산','청하','죽장','선산','의흥',\n",
        "             '호미곶','대덕','성주','황성','고령','청도','부석','예천','구룡포','수비','마성','예안','하회','공성','김천','군위',\n",
        "             '가산','칠곡','신녕','경산','외동','기계','석포','단북','은척','화서','봉화읍','현서','이산','동로','길안','하양','화북',\n",
        "             '산내','금강송','영덕읍','소보','청도금천','지보','감포','소곡','죽변','팔공산','토함산','지리산','시천','도천',\n",
        "             '양산상북','화개','삼천포','진해','서이말','매물도','백천','상주면','서하','삼가','단성','사천','고성','창녕','함안',\n",
        "             '단장','생림','진북','송백','웅상','개천','사량도','욕지도','하동','금남','수곡','청덕','신포','길곡','대병','북상','명사',\n",
        "             '삼장','장목','대곡']"
      ],
      "execution_count": null,
      "outputs": []
    },
    {
      "cell_type": "code",
      "metadata": {
        "id": "VVz2hZxAlgO0",
        "colab": {
          "base_uri": "https://localhost:8080/",
          "height": 380
        },
        "outputId": "ad5164a9-370e-4cf1-a926-a65ec03c802d"
      },
      "source": [
        "aws_final = pd.read_csv('AWS_proc.csv')\n",
        "aws_final.head()"
      ],
      "execution_count": 7,
      "outputs": [
        {
          "output_type": "execute_result",
          "data": {
            "text/html": [
              "<div>\n",
              "<style scoped>\n",
              "    .dataframe tbody tr th:only-of-type {\n",
              "        vertical-align: middle;\n",
              "    }\n",
              "\n",
              "    .dataframe tbody tr th {\n",
              "        vertical-align: top;\n",
              "    }\n",
              "\n",
              "    .dataframe thead th {\n",
              "        text-align: right;\n",
              "    }\n",
              "</style>\n",
              "<table border=\"1\" class=\"dataframe\">\n",
              "  <thead>\n",
              "    <tr style=\"text-align: right;\">\n",
              "      <th></th>\n",
              "      <th>지점</th>\n",
              "      <th>지역</th>\n",
              "      <th>일시</th>\n",
              "      <th>평균기온(°C)</th>\n",
              "      <th>최저기온(°C)</th>\n",
              "      <th>최저기온 시각(hhmi)</th>\n",
              "      <th>최고기온(°C)</th>\n",
              "      <th>최고기온 시각(hhmi)</th>\n",
              "      <th>1시간 최다강수량(mm)</th>\n",
              "      <th>1시간 최다 강수량 시각(hhmi)</th>\n",
              "      <th>일강수량(mm)</th>\n",
              "      <th>최대 순간 풍속(m/s)</th>\n",
              "      <th>최대 순간풍속 시각(hhmi)</th>\n",
              "      <th>평균 풍속(m/s)</th>\n",
              "      <th>최대 순간 풍속 풍향(hhmi)</th>\n",
              "      <th>최대 순간 풍속 풍향(deg)</th>\n",
              "    </tr>\n",
              "  </thead>\n",
              "  <tbody>\n",
              "    <tr>\n",
              "      <th>0</th>\n",
              "      <td>96</td>\n",
              "      <td>독도</td>\n",
              "      <td>2011-01-01</td>\n",
              "      <td>3.7</td>\n",
              "      <td>-0.4</td>\n",
              "      <td>403.0</td>\n",
              "      <td>5.5</td>\n",
              "      <td>1406.0</td>\n",
              "      <td>5.0</td>\n",
              "      <td>500.0</td>\n",
              "      <td>11.5</td>\n",
              "      <td>30.1</td>\n",
              "      <td>355.0</td>\n",
              "      <td>5.7</td>\n",
              "      <td>254.9</td>\n",
              "      <td>NaN</td>\n",
              "    </tr>\n",
              "    <tr>\n",
              "      <th>1</th>\n",
              "      <td>311</td>\n",
              "      <td>가야산</td>\n",
              "      <td>2011-01-01</td>\n",
              "      <td>-6.9</td>\n",
              "      <td>-11.1</td>\n",
              "      <td>34.0</td>\n",
              "      <td>-2.6</td>\n",
              "      <td>1328.0</td>\n",
              "      <td>0.0</td>\n",
              "      <td>NaN</td>\n",
              "      <td>0.0</td>\n",
              "      <td>13.9</td>\n",
              "      <td>1111.0</td>\n",
              "      <td>2.2</td>\n",
              "      <td>56.3</td>\n",
              "      <td>NaN</td>\n",
              "    </tr>\n",
              "    <tr>\n",
              "      <th>2</th>\n",
              "      <td>312</td>\n",
              "      <td>주왕산</td>\n",
              "      <td>2011-01-01</td>\n",
              "      <td>-5.5</td>\n",
              "      <td>-10.8</td>\n",
              "      <td>309.0</td>\n",
              "      <td>0.5</td>\n",
              "      <td>1604.0</td>\n",
              "      <td>0.0</td>\n",
              "      <td>NaN</td>\n",
              "      <td>0.0</td>\n",
              "      <td>6.5</td>\n",
              "      <td>1316.0</td>\n",
              "      <td>0.8</td>\n",
              "      <td>34.5</td>\n",
              "      <td>NaN</td>\n",
              "    </tr>\n",
              "    <tr>\n",
              "      <th>3</th>\n",
              "      <td>313</td>\n",
              "      <td>양지암</td>\n",
              "      <td>2011-01-01</td>\n",
              "      <td>1.0</td>\n",
              "      <td>-2.6</td>\n",
              "      <td>732.0</td>\n",
              "      <td>3.9</td>\n",
              "      <td>1526.0</td>\n",
              "      <td>0.0</td>\n",
              "      <td>NaN</td>\n",
              "      <td>0.0</td>\n",
              "      <td>8.4</td>\n",
              "      <td>452.0</td>\n",
              "      <td>2.5</td>\n",
              "      <td>304.8</td>\n",
              "      <td>NaN</td>\n",
              "    </tr>\n",
              "    <tr>\n",
              "      <th>4</th>\n",
              "      <td>319</td>\n",
              "      <td>천부</td>\n",
              "      <td>2011-01-01</td>\n",
              "      <td>4.0</td>\n",
              "      <td>1.1</td>\n",
              "      <td>353.0</td>\n",
              "      <td>5.3</td>\n",
              "      <td>1456.0</td>\n",
              "      <td>7.5</td>\n",
              "      <td>500.0</td>\n",
              "      <td>26.5</td>\n",
              "      <td>22.2</td>\n",
              "      <td>614.0</td>\n",
              "      <td>6.9</td>\n",
              "      <td>4.2</td>\n",
              "      <td>NaN</td>\n",
              "    </tr>\n",
              "  </tbody>\n",
              "</table>\n",
              "</div>"
            ],
            "text/plain": [
              "    지점   지역          일시  ...  평균 풍속(m/s)  최대 순간 풍속 풍향(hhmi)  최대 순간 풍속 풍향(deg)\n",
              "0   96   독도  2011-01-01  ...         5.7              254.9               NaN\n",
              "1  311  가야산  2011-01-01  ...         2.2               56.3               NaN\n",
              "2  312  주왕산  2011-01-01  ...         0.8               34.5               NaN\n",
              "3  313  양지암  2011-01-01  ...         2.5              304.8               NaN\n",
              "4  319   천부  2011-01-01  ...         6.9                4.2               NaN\n",
              "\n",
              "[5 rows x 16 columns]"
            ]
          },
          "metadata": {
            "tags": []
          },
          "execution_count": 7
        }
      ]
    },
    {
      "cell_type": "code",
      "metadata": {
        "colab": {
          "base_uri": "https://localhost:8080/",
          "height": 300
        },
        "id": "mUY9qDGAZgyc",
        "outputId": "ec1309f9-c698-4409-fb53-ff4d478c824b"
      },
      "source": [
        "# 변수명 변경 -> rename 메서드 활용\n",
        "col_rename = {'지점' : 'stnId', '지역' : 'stnNm', '일시' : 'tm', '평균기온(°C)' : 'avgTa', '최저기온(°C)' : 'minTa', '최저기온 시각(hhmi)' : 'minTaHrmt', '최고기온(°C)' : 'maxTa', '최고기온 시각(hhmi)' : 'maxTaHrmt', '1시간 최다강수량(mm)' : 'hr1MaxRn', '1시간 최다 강수량 시각(hhmi)' : 'hr1MaxRnHrmt', '일강수량(mm)' : 'sumRn', '최대 순간 풍속(m/s)' : 'maxInsWs', '최대 순간풍속 시각(hhmi)' : 'maxInsWsHrmt', '평균 풍속(m/s)' : 'avgWs', '최대 순간 풍속 풍향(hhmi)' : 'maxInsWsHrmt', '최대 순간 풍속 풍향(deg)' : 'maxInsWsWd'}\n",
        "aws_final_rename = aws_final.rename(columns = col_rename)\n",
        "aws_final_rename.head()"
      ],
      "execution_count": 10,
      "outputs": [
        {
          "output_type": "execute_result",
          "data": {
            "text/html": [
              "<div>\n",
              "<style scoped>\n",
              "    .dataframe tbody tr th:only-of-type {\n",
              "        vertical-align: middle;\n",
              "    }\n",
              "\n",
              "    .dataframe tbody tr th {\n",
              "        vertical-align: top;\n",
              "    }\n",
              "\n",
              "    .dataframe thead th {\n",
              "        text-align: right;\n",
              "    }\n",
              "</style>\n",
              "<table border=\"1\" class=\"dataframe\">\n",
              "  <thead>\n",
              "    <tr style=\"text-align: right;\">\n",
              "      <th></th>\n",
              "      <th>stnId</th>\n",
              "      <th>stnNm</th>\n",
              "      <th>tm</th>\n",
              "      <th>avgTa</th>\n",
              "      <th>minTa</th>\n",
              "      <th>minTaHrmt</th>\n",
              "      <th>maxTa</th>\n",
              "      <th>maxTaHrmt</th>\n",
              "      <th>hr1MaxRn</th>\n",
              "      <th>hr1MaxRnHrmt</th>\n",
              "      <th>sumRn</th>\n",
              "      <th>maxInsWs</th>\n",
              "      <th>maxInsWsHrmt</th>\n",
              "      <th>avgWs</th>\n",
              "      <th>maxInsWsHrmt</th>\n",
              "      <th>maxInsWsWd</th>\n",
              "    </tr>\n",
              "  </thead>\n",
              "  <tbody>\n",
              "    <tr>\n",
              "      <th>0</th>\n",
              "      <td>96</td>\n",
              "      <td>독도</td>\n",
              "      <td>2011-01-01</td>\n",
              "      <td>3.7</td>\n",
              "      <td>-0.4</td>\n",
              "      <td>403.0</td>\n",
              "      <td>5.5</td>\n",
              "      <td>1406.0</td>\n",
              "      <td>5.0</td>\n",
              "      <td>500.0</td>\n",
              "      <td>11.5</td>\n",
              "      <td>30.1</td>\n",
              "      <td>355.0</td>\n",
              "      <td>5.7</td>\n",
              "      <td>254.9</td>\n",
              "      <td>NaN</td>\n",
              "    </tr>\n",
              "    <tr>\n",
              "      <th>1</th>\n",
              "      <td>311</td>\n",
              "      <td>가야산</td>\n",
              "      <td>2011-01-01</td>\n",
              "      <td>-6.9</td>\n",
              "      <td>-11.1</td>\n",
              "      <td>34.0</td>\n",
              "      <td>-2.6</td>\n",
              "      <td>1328.0</td>\n",
              "      <td>0.0</td>\n",
              "      <td>NaN</td>\n",
              "      <td>0.0</td>\n",
              "      <td>13.9</td>\n",
              "      <td>1111.0</td>\n",
              "      <td>2.2</td>\n",
              "      <td>56.3</td>\n",
              "      <td>NaN</td>\n",
              "    </tr>\n",
              "    <tr>\n",
              "      <th>2</th>\n",
              "      <td>312</td>\n",
              "      <td>주왕산</td>\n",
              "      <td>2011-01-01</td>\n",
              "      <td>-5.5</td>\n",
              "      <td>-10.8</td>\n",
              "      <td>309.0</td>\n",
              "      <td>0.5</td>\n",
              "      <td>1604.0</td>\n",
              "      <td>0.0</td>\n",
              "      <td>NaN</td>\n",
              "      <td>0.0</td>\n",
              "      <td>6.5</td>\n",
              "      <td>1316.0</td>\n",
              "      <td>0.8</td>\n",
              "      <td>34.5</td>\n",
              "      <td>NaN</td>\n",
              "    </tr>\n",
              "    <tr>\n",
              "      <th>3</th>\n",
              "      <td>313</td>\n",
              "      <td>양지암</td>\n",
              "      <td>2011-01-01</td>\n",
              "      <td>1.0</td>\n",
              "      <td>-2.6</td>\n",
              "      <td>732.0</td>\n",
              "      <td>3.9</td>\n",
              "      <td>1526.0</td>\n",
              "      <td>0.0</td>\n",
              "      <td>NaN</td>\n",
              "      <td>0.0</td>\n",
              "      <td>8.4</td>\n",
              "      <td>452.0</td>\n",
              "      <td>2.5</td>\n",
              "      <td>304.8</td>\n",
              "      <td>NaN</td>\n",
              "    </tr>\n",
              "    <tr>\n",
              "      <th>4</th>\n",
              "      <td>319</td>\n",
              "      <td>천부</td>\n",
              "      <td>2011-01-01</td>\n",
              "      <td>4.0</td>\n",
              "      <td>1.1</td>\n",
              "      <td>353.0</td>\n",
              "      <td>5.3</td>\n",
              "      <td>1456.0</td>\n",
              "      <td>7.5</td>\n",
              "      <td>500.0</td>\n",
              "      <td>26.5</td>\n",
              "      <td>22.2</td>\n",
              "      <td>614.0</td>\n",
              "      <td>6.9</td>\n",
              "      <td>4.2</td>\n",
              "      <td>NaN</td>\n",
              "    </tr>\n",
              "  </tbody>\n",
              "</table>\n",
              "</div>"
            ],
            "text/plain": [
              "   stnId stnNm          tm  ...  avgWs  maxInsWsHrmt  maxInsWsWd\n",
              "0     96    독도  2011-01-01  ...    5.7         254.9         NaN\n",
              "1    311   가야산  2011-01-01  ...    2.2          56.3         NaN\n",
              "2    312   주왕산  2011-01-01  ...    0.8          34.5         NaN\n",
              "3    313   양지암  2011-01-01  ...    2.5         304.8         NaN\n",
              "4    319    천부  2011-01-01  ...    6.9           4.2         NaN\n",
              "\n",
              "[5 rows x 16 columns]"
            ]
          },
          "metadata": {
            "tags": []
          },
          "execution_count": 10
        }
      ]
    },
    {
      "cell_type": "code",
      "metadata": {
        "id": "O7bUFSljhktp"
      },
      "source": [
        ""
      ],
      "execution_count": null,
      "outputs": []
    }
  ]
}