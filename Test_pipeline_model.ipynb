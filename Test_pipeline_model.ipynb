{
  "nbformat": 4,
  "nbformat_minor": 0,
  "metadata": {
    "colab": {
      "name": "Test_pipeline_model.ipynb",
      "provenance": []
    },
    "kernelspec": {
      "display_name": "Python 3",
      "language": "python",
      "name": "python3"
    },
    "language_info": {
      "codemirror_mode": {
        "name": "ipython",
        "version": 3
      },
      "file_extension": ".py",
      "mimetype": "text/x-python",
      "name": "python",
      "nbconvert_exporter": "python",
      "pygments_lexer": "ipython3",
      "version": "3.8.8"
    }
  },
  "cells": [
    {
      "cell_type": "code",
      "metadata": {
        "colab": {
          "base_uri": "https://localhost:8080/"
        },
        "id": "08iwF1ADtbLf",
        "outputId": "36097186-ad5f-4f6f-cd0e-a9a3dec49901"
      },
      "source": [
        "from google.colab import drive\n",
        "drive.mount('/content/drive')"
      ],
      "execution_count": 20,
      "outputs": [
        {
          "output_type": "stream",
          "text": [
            "Drive already mounted at /content/drive; to attempt to forcibly remount, call drive.mount(\"/content/drive\", force_remount=True).\n"
          ],
          "name": "stdout"
        }
      ]
    },
    {
      "cell_type": "code",
      "metadata": {
        "id": "5IwZrukbtdhI"
      },
      "source": [
        "# 경로 설정 \n",
        "import os\n",
        "os.chdir('/content/drive/MyDrive/A2W/데이터/data_submission')"
      ],
      "execution_count": 35,
      "outputs": []
    },
    {
      "cell_type": "code",
      "metadata": {
        "id": "eR3bwa2IaVXd"
      },
      "source": [
        "import pandas as pd\n",
        "import csv"
      ],
      "execution_count": 36,
      "outputs": []
    },
    {
      "cell_type": "code",
      "metadata": {
        "colab": {
          "base_uri": "https://localhost:8080/",
          "height": 475
        },
        "id": "k1fdD73js9uJ",
        "outputId": "d1473887-c8ef-4750-f34c-a33d55dac417"
      },
      "source": [
        "# Merged_data_file\n",
        "Merged_2020 = pd.read_csv('merge_s_h_a20.csv')\n",
        "Merged_2020.head()"
      ],
      "execution_count": 37,
      "outputs": [
        {
          "output_type": "execute_result",
          "data": {
            "text/html": [
              "<div>\n",
              "<style scoped>\n",
              "    .dataframe tbody tr th:only-of-type {\n",
              "        vertical-align: middle;\n",
              "    }\n",
              "\n",
              "    .dataframe tbody tr th {\n",
              "        vertical-align: top;\n",
              "    }\n",
              "\n",
              "    .dataframe thead th {\n",
              "        text-align: right;\n",
              "    }\n",
              "</style>\n",
              "<table border=\"1\" class=\"dataframe\">\n",
              "  <thead>\n",
              "    <tr style=\"text-align: right;\">\n",
              "      <th></th>\n",
              "      <th>tm</th>\n",
              "      <th>stnId</th>\n",
              "      <th>stnNm</th>\n",
              "      <th>umd</th>\n",
              "      <th>sgg</th>\n",
              "      <th>umd2</th>\n",
              "      <th>avgTa</th>\n",
              "      <th>minTa</th>\n",
              "      <th>maxTa</th>\n",
              "      <th>mi10MaxRn</th>\n",
              "      <th>hr1MaxRn</th>\n",
              "      <th>sumRnDur</th>\n",
              "      <th>sumRn</th>\n",
              "      <th>maxInsWs</th>\n",
              "      <th>maxWs</th>\n",
              "      <th>avgWs</th>\n",
              "      <th>minRhm</th>\n",
              "      <th>avgRhm</th>\n",
              "      <th>n99Rn</th>\n",
              "      <th>PRRCK_LARG</th>\n",
              "      <th>PRRCK_MDDL</th>\n",
              "      <th>LOCTN_ALTT</th>\n",
              "      <th>LOCTN_GRDN</th>\n",
              "      <th>EIGHT_AGL</th>\n",
              "      <th>CLZN_CD</th>\n",
              "      <th>TPGRP_TPCD</th>\n",
              "      <th>PRDN_FOM_C</th>\n",
              "      <th>SLANT_TYP</th>\n",
              "      <th>SLDPT_TPCD</th>\n",
              "      <th>SCSTX_CD</th>\n",
              "      <th>SLTP_CD</th>\n",
              "      <th>STORUNST</th>\n",
              "      <th>FROR_CD</th>\n",
              "      <th>FRTP_CD</th>\n",
              "      <th>KOFTR_GROU</th>\n",
              "      <th>DMCLS_CD</th>\n",
              "      <th>AGCLS_CD</th>\n",
              "      <th>HEIGHT</th>\n",
              "    </tr>\n",
              "  </thead>\n",
              "  <tbody>\n",
              "    <tr>\n",
              "      <th>0</th>\n",
              "      <td>2020-01-01</td>\n",
              "      <td>115</td>\n",
              "      <td>울릉도</td>\n",
              "      <td>울릉읍</td>\n",
              "      <td>울릉군</td>\n",
              "      <td>울릉군 울릉읍</td>\n",
              "      <td>2.1</td>\n",
              "      <td>-0.6</td>\n",
              "      <td>3.8</td>\n",
              "      <td>0.0</td>\n",
              "      <td>0.0</td>\n",
              "      <td>0.00</td>\n",
              "      <td>0.0</td>\n",
              "      <td>7.9</td>\n",
              "      <td>4.0</td>\n",
              "      <td>1.8</td>\n",
              "      <td>46.0</td>\n",
              "      <td>56.4</td>\n",
              "      <td>0.0</td>\n",
              "      <td>0</td>\n",
              "      <td>0</td>\n",
              "      <td>0.0</td>\n",
              "      <td>0.0</td>\n",
              "      <td>0.0</td>\n",
              "      <td>0</td>\n",
              "      <td>0</td>\n",
              "      <td>0</td>\n",
              "      <td>0</td>\n",
              "      <td>0</td>\n",
              "      <td>0</td>\n",
              "      <td>0</td>\n",
              "      <td>1.0</td>\n",
              "      <td>2.0</td>\n",
              "      <td>2.0</td>\n",
              "      <td>30.0</td>\n",
              "      <td>1.0</td>\n",
              "      <td>5.0</td>\n",
              "      <td>16.0</td>\n",
              "    </tr>\n",
              "    <tr>\n",
              "      <th>1</th>\n",
              "      <td>2020-01-02</td>\n",
              "      <td>115</td>\n",
              "      <td>울릉도</td>\n",
              "      <td>울릉읍</td>\n",
              "      <td>울릉군</td>\n",
              "      <td>울릉군 울릉읍</td>\n",
              "      <td>4.7</td>\n",
              "      <td>2.7</td>\n",
              "      <td>7.2</td>\n",
              "      <td>0.0</td>\n",
              "      <td>0.0</td>\n",
              "      <td>0.00</td>\n",
              "      <td>0.0</td>\n",
              "      <td>9.9</td>\n",
              "      <td>6.4</td>\n",
              "      <td>2.0</td>\n",
              "      <td>40.0</td>\n",
              "      <td>50.8</td>\n",
              "      <td>0.0</td>\n",
              "      <td>0</td>\n",
              "      <td>0</td>\n",
              "      <td>0.0</td>\n",
              "      <td>0.0</td>\n",
              "      <td>0.0</td>\n",
              "      <td>0</td>\n",
              "      <td>0</td>\n",
              "      <td>0</td>\n",
              "      <td>0</td>\n",
              "      <td>0</td>\n",
              "      <td>0</td>\n",
              "      <td>0</td>\n",
              "      <td>1.0</td>\n",
              "      <td>2.0</td>\n",
              "      <td>2.0</td>\n",
              "      <td>30.0</td>\n",
              "      <td>1.0</td>\n",
              "      <td>5.0</td>\n",
              "      <td>16.0</td>\n",
              "    </tr>\n",
              "    <tr>\n",
              "      <th>2</th>\n",
              "      <td>2020-01-03</td>\n",
              "      <td>115</td>\n",
              "      <td>울릉도</td>\n",
              "      <td>울릉읍</td>\n",
              "      <td>울릉군</td>\n",
              "      <td>울릉군 울릉읍</td>\n",
              "      <td>5.9</td>\n",
              "      <td>4.1</td>\n",
              "      <td>8.5</td>\n",
              "      <td>0.0</td>\n",
              "      <td>0.0</td>\n",
              "      <td>0.00</td>\n",
              "      <td>0.0</td>\n",
              "      <td>11.7</td>\n",
              "      <td>7.1</td>\n",
              "      <td>2.3</td>\n",
              "      <td>38.0</td>\n",
              "      <td>51.6</td>\n",
              "      <td>0.0</td>\n",
              "      <td>0</td>\n",
              "      <td>0</td>\n",
              "      <td>0.0</td>\n",
              "      <td>0.0</td>\n",
              "      <td>0.0</td>\n",
              "      <td>0</td>\n",
              "      <td>0</td>\n",
              "      <td>0</td>\n",
              "      <td>0</td>\n",
              "      <td>0</td>\n",
              "      <td>0</td>\n",
              "      <td>0</td>\n",
              "      <td>1.0</td>\n",
              "      <td>2.0</td>\n",
              "      <td>2.0</td>\n",
              "      <td>30.0</td>\n",
              "      <td>1.0</td>\n",
              "      <td>5.0</td>\n",
              "      <td>16.0</td>\n",
              "    </tr>\n",
              "    <tr>\n",
              "      <th>3</th>\n",
              "      <td>2020-01-04</td>\n",
              "      <td>115</td>\n",
              "      <td>울릉도</td>\n",
              "      <td>울릉읍</td>\n",
              "      <td>울릉군</td>\n",
              "      <td>울릉군 울릉읍</td>\n",
              "      <td>5.0</td>\n",
              "      <td>2.7</td>\n",
              "      <td>8.1</td>\n",
              "      <td>0.0</td>\n",
              "      <td>0.0</td>\n",
              "      <td>2.23</td>\n",
              "      <td>1.5</td>\n",
              "      <td>18.1</td>\n",
              "      <td>9.1</td>\n",
              "      <td>4.0</td>\n",
              "      <td>40.0</td>\n",
              "      <td>55.6</td>\n",
              "      <td>1.5</td>\n",
              "      <td>0</td>\n",
              "      <td>0</td>\n",
              "      <td>0.0</td>\n",
              "      <td>0.0</td>\n",
              "      <td>0.0</td>\n",
              "      <td>0</td>\n",
              "      <td>0</td>\n",
              "      <td>0</td>\n",
              "      <td>0</td>\n",
              "      <td>0</td>\n",
              "      <td>0</td>\n",
              "      <td>0</td>\n",
              "      <td>1.0</td>\n",
              "      <td>2.0</td>\n",
              "      <td>2.0</td>\n",
              "      <td>30.0</td>\n",
              "      <td>1.0</td>\n",
              "      <td>5.0</td>\n",
              "      <td>16.0</td>\n",
              "    </tr>\n",
              "    <tr>\n",
              "      <th>4</th>\n",
              "      <td>2020-01-05</td>\n",
              "      <td>115</td>\n",
              "      <td>울릉도</td>\n",
              "      <td>울릉읍</td>\n",
              "      <td>울릉군</td>\n",
              "      <td>울릉군 울릉읍</td>\n",
              "      <td>4.4</td>\n",
              "      <td>2.7</td>\n",
              "      <td>6.2</td>\n",
              "      <td>0.0</td>\n",
              "      <td>0.0</td>\n",
              "      <td>5.75</td>\n",
              "      <td>4.7</td>\n",
              "      <td>8.2</td>\n",
              "      <td>5.7</td>\n",
              "      <td>2.2</td>\n",
              "      <td>55.0</td>\n",
              "      <td>73.5</td>\n",
              "      <td>0.0</td>\n",
              "      <td>0</td>\n",
              "      <td>0</td>\n",
              "      <td>0.0</td>\n",
              "      <td>0.0</td>\n",
              "      <td>0.0</td>\n",
              "      <td>0</td>\n",
              "      <td>0</td>\n",
              "      <td>0</td>\n",
              "      <td>0</td>\n",
              "      <td>0</td>\n",
              "      <td>0</td>\n",
              "      <td>0</td>\n",
              "      <td>1.0</td>\n",
              "      <td>2.0</td>\n",
              "      <td>2.0</td>\n",
              "      <td>30.0</td>\n",
              "      <td>1.0</td>\n",
              "      <td>5.0</td>\n",
              "      <td>16.0</td>\n",
              "    </tr>\n",
              "  </tbody>\n",
              "</table>\n",
              "</div>"
            ],
            "text/plain": [
              "           tm  stnId stnNm  umd  ... KOFTR_GROU DMCLS_CD  AGCLS_CD  HEIGHT\n",
              "0  2020-01-01    115   울릉도  울릉읍  ...       30.0      1.0       5.0    16.0\n",
              "1  2020-01-02    115   울릉도  울릉읍  ...       30.0      1.0       5.0    16.0\n",
              "2  2020-01-03    115   울릉도  울릉읍  ...       30.0      1.0       5.0    16.0\n",
              "3  2020-01-04    115   울릉도  울릉읍  ...       30.0      1.0       5.0    16.0\n",
              "4  2020-01-05    115   울릉도  울릉읍  ...       30.0      1.0       5.0    16.0\n",
              "\n",
              "[5 rows x 38 columns]"
            ]
          },
          "metadata": {
            "tags": []
          },
          "execution_count": 37
        }
      ]
    },
    {
      "cell_type": "code",
      "metadata": {
        "colab": {
          "base_uri": "https://localhost:8080/",
          "height": 203
        },
        "id": "758nGi_Zs9uJ",
        "outputId": "98ee15bf-873a-4b1a-8b8f-c23b4429f6bd"
      },
      "source": [
        "# Test 검증 데이터셋\n",
        "test_input = pd.read_csv('input.csv', encoding = 'cp949')\n",
        "test_input.head()"
      ],
      "execution_count": 38,
      "outputs": [
        {
          "output_type": "execute_result",
          "data": {
            "text/html": [
              "<div>\n",
              "<style scoped>\n",
              "    .dataframe tbody tr th:only-of-type {\n",
              "        vertical-align: middle;\n",
              "    }\n",
              "\n",
              "    .dataframe tbody tr th {\n",
              "        vertical-align: top;\n",
              "    }\n",
              "\n",
              "    .dataframe thead th {\n",
              "        text-align: right;\n",
              "    }\n",
              "</style>\n",
              "<table border=\"1\" class=\"dataframe\">\n",
              "  <thead>\n",
              "    <tr style=\"text-align: right;\">\n",
              "      <th></th>\n",
              "      <th>date</th>\n",
              "      <th>sd</th>\n",
              "      <th>sgg</th>\n",
              "      <th>umd</th>\n",
              "      <th>1day</th>\n",
              "      <th>1day_yn</th>\n",
              "      <th>2day</th>\n",
              "      <th>2day_yn</th>\n",
              "    </tr>\n",
              "  </thead>\n",
              "  <tbody>\n",
              "    <tr>\n",
              "      <th>0</th>\n",
              "      <td>2020-06-10</td>\n",
              "      <td>경상남도</td>\n",
              "      <td>사천시</td>\n",
              "      <td>곤명면</td>\n",
              "      <td>2020-06-11</td>\n",
              "      <td>NaN</td>\n",
              "      <td>2020-06-12</td>\n",
              "      <td>NaN</td>\n",
              "    </tr>\n",
              "    <tr>\n",
              "      <th>1</th>\n",
              "      <td>2020-06-11</td>\n",
              "      <td>경상남도</td>\n",
              "      <td>사천시</td>\n",
              "      <td>곤명면</td>\n",
              "      <td>2020-06-12</td>\n",
              "      <td>NaN</td>\n",
              "      <td>2020-06-13</td>\n",
              "      <td>NaN</td>\n",
              "    </tr>\n",
              "    <tr>\n",
              "      <th>2</th>\n",
              "      <td>2020-06-12</td>\n",
              "      <td>경상남도</td>\n",
              "      <td>사천시</td>\n",
              "      <td>곤명면</td>\n",
              "      <td>2020-06-13</td>\n",
              "      <td>NaN</td>\n",
              "      <td>2020-06-14</td>\n",
              "      <td>NaN</td>\n",
              "    </tr>\n",
              "    <tr>\n",
              "      <th>3</th>\n",
              "      <td>2020-06-10</td>\n",
              "      <td>경상남도</td>\n",
              "      <td>사천시</td>\n",
              "      <td>곤양면</td>\n",
              "      <td>2020-06-11</td>\n",
              "      <td>NaN</td>\n",
              "      <td>2020-06-12</td>\n",
              "      <td>NaN</td>\n",
              "    </tr>\n",
              "    <tr>\n",
              "      <th>4</th>\n",
              "      <td>2020-06-11</td>\n",
              "      <td>경상남도</td>\n",
              "      <td>사천시</td>\n",
              "      <td>곤양면</td>\n",
              "      <td>2020-06-12</td>\n",
              "      <td>NaN</td>\n",
              "      <td>2020-06-13</td>\n",
              "      <td>NaN</td>\n",
              "    </tr>\n",
              "  </tbody>\n",
              "</table>\n",
              "</div>"
            ],
            "text/plain": [
              "         date    sd  sgg  umd        1day  1day_yn        2day  2day_yn\n",
              "0  2020-06-10  경상남도  사천시  곤명면  2020-06-11      NaN  2020-06-12      NaN\n",
              "1  2020-06-11  경상남도  사천시  곤명면  2020-06-12      NaN  2020-06-13      NaN\n",
              "2  2020-06-12  경상남도  사천시  곤명면  2020-06-13      NaN  2020-06-14      NaN\n",
              "3  2020-06-10  경상남도  사천시  곤양면  2020-06-11      NaN  2020-06-12      NaN\n",
              "4  2020-06-11  경상남도  사천시  곤양면  2020-06-12      NaN  2020-06-13      NaN"
            ]
          },
          "metadata": {
            "tags": []
          },
          "execution_count": 38
        }
      ]
    },
    {
      "cell_type": "code",
      "metadata": {
        "colab": {
          "base_uri": "https://localhost:8080/",
          "height": 35
        },
        "id": "b58yGVvOs9uK",
        "outputId": "7759401e-372a-48db-8bd5-dc9a8c0a5256"
      },
      "source": [
        "# searching data 찾아야 됨\n",
        "def search_data(sgg, umd, date):\n",
        "    # sgg 데이터와 umd 데이터, date를 통한 추출\n",
        "    text = sgg + ' ' + umd\n",
        "    # specific 자체가 학습 돌린 결과 참고해서 input으로 만들어야 됨\n",
        "    specific = Merged_2020[Merged_2020['umd2'].str.contains(text.rstrip()) & Merged_2020['tm'].str.contains(date)]\n",
        "    return specific\n",
        "\n",
        "'''\n",
        "input 예시\n",
        "input_date = '2020-06-11' # 날짜 단위\n",
        "input_sgg = '울릉군' # 시 단위\n",
        "input_umd = '울릉읍' # 읍면동 단위\n",
        "'''"
      ],
      "execution_count": 25,
      "outputs": [
        {
          "output_type": "execute_result",
          "data": {
            "application/vnd.google.colaboratory.intrinsic+json": {
              "type": "string"
            },
            "text/plain": [
              "\"\\ninput 예시\\ninput_date = '2020-06-11' # 날짜 단위\\ninput_sgg = '울릉군' # 시 단위\\ninput_umd = '울릉읍' # 읍면동 단위\\n\""
            ]
          },
          "metadata": {
            "tags": []
          },
          "execution_count": 25
        }
      ]
    },
    {
      "cell_type": "code",
      "metadata": {
        "id": "-w2o2FPZs9uK"
      },
      "source": [
        "import tensorflow as tf\n",
        "from tensorflow import keras\n",
        "\n",
        "import os\n",
        "import tempfile\n",
        "\n",
        "import matplotlib as mpl\n",
        "import matplotlib.pyplot as plt\n",
        "import numpy as np\n",
        "import pandas as pd\n",
        "import seaborn as sns\n",
        "\n",
        "import sklearn\n",
        "from sklearn.tree import DecisionTreeClassifier\n",
        "from sklearn.ensemble import RandomForestClassifier\n",
        "from sklearn.metrics import confusion_matrix\n",
        "from sklearn.model_selection import train_test_split\n",
        "from sklearn.preprocessing import StandardScaler\n",
        "from sklearn.model_selection import train_test_split, GridSearchCV\n",
        "from sklearn.metrics import make_scorer, accuracy_score, precision_score, recall_score, f1_score, roc_auc_score\n",
        "from sklearn.linear_model import LogisticRegression\n",
        "\n",
        "\n",
        "from xgboost import plot_importance\n",
        "from xgboost import XGBClassifier"
      ],
      "execution_count": 43,
      "outputs": []
    },
    {
      "cell_type": "code",
      "metadata": {
        "id": "2_U9uSghMIVr"
      },
      "source": [
        "from sklearn.externals import joblib"
      ],
      "execution_count": 28,
      "outputs": []
    },
    {
      "cell_type": "code",
      "metadata": {
        "id": "V1G1RP9IMlx8"
      },
      "source": [
        "os.chdir('/content/drive/MyDrive/A2W/데이터/model')"
      ],
      "execution_count": 39,
      "outputs": []
    },
    {
      "cell_type": "code",
      "metadata": {
        "id": "VT5HMNmBMThK"
      },
      "source": [
        "gbrt1 = joblib.load('gbrt_best_model_1day_yn.pkl') \n",
        "gbrt2 = joblib.load('gbrt_best_model_2day_yn.pkl') "
      ],
      "execution_count": 11,
      "outputs": []
    },
    {
      "cell_type": "code",
      "metadata": {
        "id": "gsM270Uoq50j"
      },
      "source": [
        "xgb1 = joblib.load('xgb_best_model_1day_yn.pkl') \n",
        "xgb2 = joblib.load('xgb_best_model_2day_yn.pkl') "
      ],
      "execution_count": 40,
      "outputs": []
    },
    {
      "cell_type": "code",
      "metadata": {
        "id": "hy8W5XKQs9uP"
      },
      "source": [
        "# 훈련된 모델로 결과 도출 : day1 함수\n",
        "def day1_data_test(sgg, umd, date):    \n",
        "    # sgg 데이터와 umd 데이터, date를 통한 추출\n",
        "    text = sgg + ' ' + umd\n",
        "    # specific 자체가 학습 돌린 결과 참고해서 input으로 만들어야 됨\n",
        "    test_day1 = Merged_2020[Merged_2020['umd2'].str.contains(text.rstrip()) & Merged_2020['tm'].str.contains(date)]\n",
        "    test_specific_day1 = test_day1[['maxTa','minTa','avgTa','EIGHT_AGL','stnId','mi10MaxRn', 'hr1MaxRn', 'sumRnDur', 'sumRn', 'maxInsWs', 'maxWs', 'avgWs','minRhm','avgRhm','n99Rn', 'PRRCK_LARG', 'PRRCK_MDDL','LOCTN_ALTT','LOCTN_GRDN','CLZN_CD','TPGRP_TPCD','PRDN_FOM_C','SLDPT_TPCD','SLANT_TYP','SCSTX_CD','SLTP_CD','STORUNST','FROR_CD','FRTP_CD','KOFTR_GROU','DMCLS_CD','AGCLS_CD','HEIGHT']]\n",
        "    fillna_test_specific_day1 = test_specific_day1.fillna(0)\n",
        "    model_pred = gbrt1.predict(fillna_test_specific_day1)\n",
        "    return model_pred\n",
        "\n",
        "# 훈련된 모델로 결과 도출 : day2 함수\n",
        "def day2_data_test(sgg, umd, date):    \n",
        "    # sgg 데이터와 umd 데이터, date를 통한 추출\n",
        "    text = sgg + ' ' + umd\n",
        "    # specific 자체가 학습 돌린 결과 참고해서 input으로 만들어야 됨\n",
        "    test_day2 = Merged_2020[Merged_2020['umd2'].str.contains(text.rstrip()) & Merged_2020['tm'].str.contains(date)]\n",
        "    test_specific_day2 = test_day2[['maxTa','minTa','avgTa','EIGHT_AGL','stnId','mi10MaxRn', 'hr1MaxRn', 'sumRnDur', 'sumRn', 'maxInsWs', 'maxWs', 'avgWs','minRhm','avgRhm','n99Rn', 'PRRCK_LARG', 'PRRCK_MDDL','LOCTN_ALTT','LOCTN_GRDN','CLZN_CD','TPGRP_TPCD','PRDN_FOM_C','SLDPT_TPCD','SLANT_TYP','SCSTX_CD','SLTP_CD','STORUNST','FROR_CD','FRTP_CD','KOFTR_GROU','DMCLS_CD','AGCLS_CD','HEIGHT']]\n",
        "    fillna_test_specific_day2 = test_specific_day2.fillna(0)\n",
        "    model_pred = gbrt2.predict(fillna_test_specific_day2)\n",
        "    return model_pred"
      ],
      "execution_count": 12,
      "outputs": []
    },
    {
      "cell_type": "code",
      "metadata": {
        "id": "0Jc-vMinrHC2"
      },
      "source": [
        "# 훈련된 모델로 결과 도출 : day1 함수\n",
        "def day1_data_test(sgg, umd, date):    \n",
        "    # sgg 데이터와 umd 데이터, date를 통한 추출\n",
        "    text = sgg + ' ' + umd\n",
        "    # specific 자체가 학습 돌린 결과 참고해서 input으로 만들어야 됨\n",
        "    test_day1 = Merged_2020[Merged_2020['umd2'].str.contains(text.rstrip()) & Merged_2020['tm'].str.contains(date)]\n",
        "    test_specific_day1 = test_day1['avgRhm', 'minRhm', 'FRTP_CD', 'SLANT_TYP', 'SLTP_CD', 'KOFTR_GROU', 'LOCTN_GRDN', 'sumRn', 'CLZN_CD', 'SCSTX_CD', 'DMCLS_CD', 'PRRCK_LARG', 'PRRCK_MDDL', 'HEIGHT', 'minTa', 'stnId', 'SLDPT_TPCD', 'AGCLS_CD', 'avgWs', 'maxWs', 'FROR_CD', 'LOCTN_ALTT', 'STORUNST', 'maxTa', 'mi10MaxRn', 'maxInsWs', 'avgTa', 'EIGHT_AGL', 'hr1MaxRn', 'n99Rn', 'sumRnDur', 'PRDN_FOM_C', 'TPGRP_TPCD']\n",
        "    fillna_test_specific_day1 = test_specific_day1.fillna(0)\n",
        "    model_pred = xgb1.predict(fillna_test_specific_day1)\n",
        "    return model_pred\n",
        "\n",
        "# 훈련된 모델로 결과 도출 : day2 함수\n",
        "def day2_data_test(sgg, umd, date):    \n",
        "    # sgg 데이터와 umd 데이터, date를 통한 추출\n",
        "    text = sgg + ' ' + umd\n",
        "    # specific 자체가 학습 돌린 결과 참고해서 input으로 만들어야 됨\n",
        "    test_day2 = Merged_2020[Merged_2020['umd2'].str.contains(text.rstrip()) & Merged_2020['tm'].str.contains(date)]\n",
        "    test_specific_day2 = test_day2['avgRhm', 'minRhm', 'FRTP_CD', 'SLANT_TYP', 'SLTP_CD', 'KOFTR_GROU', 'LOCTN_GRDN', 'sumRn', 'CLZN_CD', 'SCSTX_CD', 'DMCLS_CD', 'PRRCK_LARG', 'PRRCK_MDDL', 'HEIGHT', 'minTa', 'stnId', 'SLDPT_TPCD', 'AGCLS_CD', 'avgWs', 'maxWs', 'FROR_CD', 'LOCTN_ALTT', 'STORUNST', 'maxTa', 'mi10MaxRn', 'maxInsWs', 'avgTa', 'EIGHT_AGL', 'hr1MaxRn', 'n99Rn', 'sumRnDur', 'PRDN_FOM_C', 'TPGRP_TPCD']\n",
        "    fillna_test_specific_day2 = test_specific_day2.fillna(0)\n",
        "    model_pred = xgb2.predict(fillna_test_specific_day2)\n",
        "    return model_pred"
      ],
      "execution_count": 48,
      "outputs": []
    },
    {
      "cell_type": "code",
      "metadata": {
        "colab": {
          "base_uri": "https://localhost:8080/",
          "height": 650
        },
        "id": "TWSpXcoQs9uP",
        "outputId": "223d8431-a19c-4d2a-96d1-77f8033f50b7"
      },
      "source": [
        "length_test_input = len(test_input.index)\n",
        "\n",
        "#day_1 data\n",
        "for index in range(length_test_input):\n",
        "    if test_input['umd'][index] == \"삼거동\":\n",
        "        input_date = test_input['date'][index]\n",
        "        input_sgg = test_input['sgg'][index]\n",
        "        input_umd = \"상문동\"\n",
        "    elif test_input['umd'][index] == \"어곡동\":\n",
        "        input_date = test_input['date'][index]\n",
        "        input_sgg = test_input['sgg'][index]\n",
        "        input_umd = \"강서동\"\n",
        "    elif test_input['umd'][index] == \"주진동\":\n",
        "        input_date = test_input['date'][index]\n",
        "        input_sgg = test_input['sgg'][index]\n",
        "        input_umd = \"소주동\"\n",
        "    elif test_input['umd'][index] == \"시동\":\n",
        "        input_date = test_input['date'][index]\n",
        "        input_sgg = test_input['sgg'][index]\n",
        "        input_umd = \"불국동\"\n",
        "    elif test_input['umd'][index] == \"덕곡동\":\n",
        "        input_date = test_input['date'][index]\n",
        "        input_sgg = test_input['sgg'][index]\n",
        "        input_umd = \"지좌동\"\n",
        "    elif test_input['umd'][index] == \"조와동\":\n",
        "        input_date = test_input['date'][index]\n",
        "        input_sgg = test_input['sgg'][index]\n",
        "        input_umd = \"상망동\"\n",
        "    else:\n",
        "        input_date = test_input['date'][index]\n",
        "        input_sgg = test_input['sgg'][index]\n",
        "        input_umd = test_input['umd'][index]\n",
        "    test_input['1day_yn'][index] = day1_data_test(input_sgg, input_umd, input_date)\n",
        "        \n",
        "\n",
        "#day_2 data\n",
        "for index in range(length_test_input):\n",
        "    if test_input['umd'][index] == \"삼거동\":\n",
        "        input_date = test_input['date'][index]\n",
        "        input_sgg = test_input['sgg'][index]\n",
        "        input_umd = \"상문동\"\n",
        "    elif test_input['umd'][index] == \"어곡동\":\n",
        "        input_date = test_input['date'][index]\n",
        "        input_sgg = test_input['sgg'][index]\n",
        "        input_umd = \"강서동\"\n",
        "    elif test_input['umd'][index] == \"주진동\":\n",
        "        input_date = test_input['date'][index]\n",
        "        input_sgg = test_input['sgg'][index]\n",
        "        input_umd = \"소주동\"\n",
        "    elif test_input['umd'][index] == \"시동\":\n",
        "        input_date = test_input['date'][index]\n",
        "        input_sgg = test_input['sgg'][index]\n",
        "        input_umd = \"불국동\"\n",
        "    elif test_input['umd'][index] == \"덕곡동\":\n",
        "        input_date = test_input['date'][index]\n",
        "        input_sgg = test_input['sgg'][index]\n",
        "        input_umd = \"지좌동\"\n",
        "    elif test_input['umd'][index] == \"조와동\":\n",
        "        input_date = test_input['date'][index]\n",
        "        input_sgg = test_input['sgg'][index]\n",
        "        input_umd = \"상망동\"\n",
        "    else:\n",
        "        input_date = test_input['date'][index]\n",
        "        input_sgg = test_input['sgg'][index]\n",
        "        input_umd = test_input['umd'][index]\n",
        "    test_input['2day_yn'][index] = day2_data_test(input_sgg, input_umd, input_date)\n",
        "        \n",
        "# print(search_data(input_sgg, input_umd, input_date))\n",
        "\n",
        "\n",
        "test_input.head()"
      ],
      "execution_count": 49,
      "outputs": [
        {
          "output_type": "error",
          "ename": "KeyError",
          "evalue": "ignored",
          "traceback": [
            "\u001b[0;31m---------------------------------------------------------------------------\u001b[0m",
            "\u001b[0;31mKeyError\u001b[0m                                  Traceback (most recent call last)",
            "\u001b[0;32m/usr/local/lib/python3.7/dist-packages/pandas/core/indexes/base.py\u001b[0m in \u001b[0;36mget_loc\u001b[0;34m(self, key, method, tolerance)\u001b[0m\n\u001b[1;32m   2897\u001b[0m             \u001b[0;32mtry\u001b[0m\u001b[0;34m:\u001b[0m\u001b[0;34m\u001b[0m\u001b[0;34m\u001b[0m\u001b[0m\n\u001b[0;32m-> 2898\u001b[0;31m                 \u001b[0;32mreturn\u001b[0m \u001b[0mself\u001b[0m\u001b[0;34m.\u001b[0m\u001b[0m_engine\u001b[0m\u001b[0;34m.\u001b[0m\u001b[0mget_loc\u001b[0m\u001b[0;34m(\u001b[0m\u001b[0mcasted_key\u001b[0m\u001b[0;34m)\u001b[0m\u001b[0;34m\u001b[0m\u001b[0;34m\u001b[0m\u001b[0m\n\u001b[0m\u001b[1;32m   2899\u001b[0m             \u001b[0;32mexcept\u001b[0m \u001b[0mKeyError\u001b[0m \u001b[0;32mas\u001b[0m \u001b[0merr\u001b[0m\u001b[0;34m:\u001b[0m\u001b[0;34m\u001b[0m\u001b[0;34m\u001b[0m\u001b[0m\n",
            "\u001b[0;32mpandas/_libs/index.pyx\u001b[0m in \u001b[0;36mpandas._libs.index.IndexEngine.get_loc\u001b[0;34m()\u001b[0m\n",
            "\u001b[0;32mpandas/_libs/index.pyx\u001b[0m in \u001b[0;36mpandas._libs.index.IndexEngine.get_loc\u001b[0;34m()\u001b[0m\n",
            "\u001b[0;32mpandas/_libs/hashtable_class_helper.pxi\u001b[0m in \u001b[0;36mpandas._libs.hashtable.PyObjectHashTable.get_item\u001b[0;34m()\u001b[0m\n",
            "\u001b[0;32mpandas/_libs/hashtable_class_helper.pxi\u001b[0m in \u001b[0;36mpandas._libs.hashtable.PyObjectHashTable.get_item\u001b[0;34m()\u001b[0m\n",
            "\u001b[0;31mKeyError\u001b[0m: ('avgRhm', 'minRhm', 'FRTP_CD', 'SLANT_TYP', 'SLTP_CD', 'KOFTR_GROU', 'LOCTN_GRDN', 'sumRn', 'CLZN_CD', 'SCSTX_CD', 'DMCLS_CD', 'PRRCK_LARG', 'PRRCK_MDDL', 'HEIGHT', 'minTa', 'stnId', 'SLDPT_TPCD', 'AGCLS_CD', 'avgWs', 'maxWs', 'FROR_CD', 'LOCTN_ALTT', 'STORUNST', 'maxTa', 'mi10MaxRn', 'maxInsWs', 'avgTa', 'EIGHT_AGL', 'hr1MaxRn', 'n99Rn', 'sumRnDur', 'PRDN_FOM_C', 'TPGRP_TPCD')",
            "\nThe above exception was the direct cause of the following exception:\n",
            "\u001b[0;31mKeyError\u001b[0m                                  Traceback (most recent call last)",
            "\u001b[0;32m<ipython-input-49-85cd75d6f9ea>\u001b[0m in \u001b[0;36m<module>\u001b[0;34m()\u001b[0m\n\u001b[1;32m     31\u001b[0m         \u001b[0minput_sgg\u001b[0m \u001b[0;34m=\u001b[0m \u001b[0mtest_input\u001b[0m\u001b[0;34m[\u001b[0m\u001b[0;34m'sgg'\u001b[0m\u001b[0;34m]\u001b[0m\u001b[0;34m[\u001b[0m\u001b[0mindex\u001b[0m\u001b[0;34m]\u001b[0m\u001b[0;34m\u001b[0m\u001b[0;34m\u001b[0m\u001b[0m\n\u001b[1;32m     32\u001b[0m         \u001b[0minput_umd\u001b[0m \u001b[0;34m=\u001b[0m \u001b[0mtest_input\u001b[0m\u001b[0;34m[\u001b[0m\u001b[0;34m'umd'\u001b[0m\u001b[0;34m]\u001b[0m\u001b[0;34m[\u001b[0m\u001b[0mindex\u001b[0m\u001b[0;34m]\u001b[0m\u001b[0;34m\u001b[0m\u001b[0;34m\u001b[0m\u001b[0m\n\u001b[0;32m---> 33\u001b[0;31m     \u001b[0mtest_input\u001b[0m\u001b[0;34m[\u001b[0m\u001b[0;34m'1day_yn'\u001b[0m\u001b[0;34m]\u001b[0m\u001b[0;34m[\u001b[0m\u001b[0mindex\u001b[0m\u001b[0;34m]\u001b[0m \u001b[0;34m=\u001b[0m \u001b[0mday1_data_test\u001b[0m\u001b[0;34m(\u001b[0m\u001b[0minput_sgg\u001b[0m\u001b[0;34m,\u001b[0m \u001b[0minput_umd\u001b[0m\u001b[0;34m,\u001b[0m \u001b[0minput_date\u001b[0m\u001b[0;34m)\u001b[0m\u001b[0;34m\u001b[0m\u001b[0;34m\u001b[0m\u001b[0m\n\u001b[0m\u001b[1;32m     34\u001b[0m \u001b[0;34m\u001b[0m\u001b[0m\n\u001b[1;32m     35\u001b[0m \u001b[0;34m\u001b[0m\u001b[0m\n",
            "\u001b[0;32m<ipython-input-48-8f1af386463b>\u001b[0m in \u001b[0;36mday1_data_test\u001b[0;34m(sgg, umd, date)\u001b[0m\n\u001b[1;32m      5\u001b[0m     \u001b[0;31m# specific 자체가 학습 돌린 결과 참고해서 input으로 만들어야 됨\u001b[0m\u001b[0;34m\u001b[0m\u001b[0;34m\u001b[0m\u001b[0;34m\u001b[0m\u001b[0m\n\u001b[1;32m      6\u001b[0m     \u001b[0mtest_day1\u001b[0m \u001b[0;34m=\u001b[0m \u001b[0mMerged_2020\u001b[0m\u001b[0;34m[\u001b[0m\u001b[0mMerged_2020\u001b[0m\u001b[0;34m[\u001b[0m\u001b[0;34m'umd2'\u001b[0m\u001b[0;34m]\u001b[0m\u001b[0;34m.\u001b[0m\u001b[0mstr\u001b[0m\u001b[0;34m.\u001b[0m\u001b[0mcontains\u001b[0m\u001b[0;34m(\u001b[0m\u001b[0mtext\u001b[0m\u001b[0;34m.\u001b[0m\u001b[0mrstrip\u001b[0m\u001b[0;34m(\u001b[0m\u001b[0;34m)\u001b[0m\u001b[0;34m)\u001b[0m \u001b[0;34m&\u001b[0m \u001b[0mMerged_2020\u001b[0m\u001b[0;34m[\u001b[0m\u001b[0;34m'tm'\u001b[0m\u001b[0;34m]\u001b[0m\u001b[0;34m.\u001b[0m\u001b[0mstr\u001b[0m\u001b[0;34m.\u001b[0m\u001b[0mcontains\u001b[0m\u001b[0;34m(\u001b[0m\u001b[0mdate\u001b[0m\u001b[0;34m)\u001b[0m\u001b[0;34m]\u001b[0m\u001b[0;34m\u001b[0m\u001b[0;34m\u001b[0m\u001b[0m\n\u001b[0;32m----> 7\u001b[0;31m     \u001b[0mtest_specific_day1\u001b[0m \u001b[0;34m=\u001b[0m \u001b[0mtest_day1\u001b[0m\u001b[0;34m[\u001b[0m\u001b[0;34m'avgRhm'\u001b[0m\u001b[0;34m,\u001b[0m \u001b[0;34m'minRhm'\u001b[0m\u001b[0;34m,\u001b[0m \u001b[0;34m'FRTP_CD'\u001b[0m\u001b[0;34m,\u001b[0m \u001b[0;34m'SLANT_TYP'\u001b[0m\u001b[0;34m,\u001b[0m \u001b[0;34m'SLTP_CD'\u001b[0m\u001b[0;34m,\u001b[0m \u001b[0;34m'KOFTR_GROU'\u001b[0m\u001b[0;34m,\u001b[0m \u001b[0;34m'LOCTN_GRDN'\u001b[0m\u001b[0;34m,\u001b[0m \u001b[0;34m'sumRn'\u001b[0m\u001b[0;34m,\u001b[0m \u001b[0;34m'CLZN_CD'\u001b[0m\u001b[0;34m,\u001b[0m \u001b[0;34m'SCSTX_CD'\u001b[0m\u001b[0;34m,\u001b[0m \u001b[0;34m'DMCLS_CD'\u001b[0m\u001b[0;34m,\u001b[0m \u001b[0;34m'PRRCK_LARG'\u001b[0m\u001b[0;34m,\u001b[0m \u001b[0;34m'PRRCK_MDDL'\u001b[0m\u001b[0;34m,\u001b[0m \u001b[0;34m'HEIGHT'\u001b[0m\u001b[0;34m,\u001b[0m \u001b[0;34m'minTa'\u001b[0m\u001b[0;34m,\u001b[0m \u001b[0;34m'stnId'\u001b[0m\u001b[0;34m,\u001b[0m \u001b[0;34m'SLDPT_TPCD'\u001b[0m\u001b[0;34m,\u001b[0m \u001b[0;34m'AGCLS_CD'\u001b[0m\u001b[0;34m,\u001b[0m \u001b[0;34m'avgWs'\u001b[0m\u001b[0;34m,\u001b[0m \u001b[0;34m'maxWs'\u001b[0m\u001b[0;34m,\u001b[0m \u001b[0;34m'FROR_CD'\u001b[0m\u001b[0;34m,\u001b[0m \u001b[0;34m'LOCTN_ALTT'\u001b[0m\u001b[0;34m,\u001b[0m \u001b[0;34m'STORUNST'\u001b[0m\u001b[0;34m,\u001b[0m \u001b[0;34m'maxTa'\u001b[0m\u001b[0;34m,\u001b[0m \u001b[0;34m'mi10MaxRn'\u001b[0m\u001b[0;34m,\u001b[0m \u001b[0;34m'maxInsWs'\u001b[0m\u001b[0;34m,\u001b[0m \u001b[0;34m'avgTa'\u001b[0m\u001b[0;34m,\u001b[0m \u001b[0;34m'EIGHT_AGL'\u001b[0m\u001b[0;34m,\u001b[0m \u001b[0;34m'hr1MaxRn'\u001b[0m\u001b[0;34m,\u001b[0m \u001b[0;34m'n99Rn'\u001b[0m\u001b[0;34m,\u001b[0m \u001b[0;34m'sumRnDur'\u001b[0m\u001b[0;34m,\u001b[0m \u001b[0;34m'PRDN_FOM_C'\u001b[0m\u001b[0;34m,\u001b[0m \u001b[0;34m'TPGRP_TPCD'\u001b[0m\u001b[0;34m]\u001b[0m\u001b[0;34m\u001b[0m\u001b[0;34m\u001b[0m\u001b[0m\n\u001b[0m\u001b[1;32m      8\u001b[0m     \u001b[0mfillna_test_specific_day1\u001b[0m \u001b[0;34m=\u001b[0m \u001b[0mtest_specific_day1\u001b[0m\u001b[0;34m.\u001b[0m\u001b[0mfillna\u001b[0m\u001b[0;34m(\u001b[0m\u001b[0;36m0\u001b[0m\u001b[0;34m)\u001b[0m\u001b[0;34m\u001b[0m\u001b[0;34m\u001b[0m\u001b[0m\n\u001b[1;32m      9\u001b[0m     \u001b[0mmodel_pred\u001b[0m \u001b[0;34m=\u001b[0m \u001b[0mxgb1\u001b[0m\u001b[0;34m.\u001b[0m\u001b[0mpredict\u001b[0m\u001b[0;34m(\u001b[0m\u001b[0mfillna_test_specific_day1\u001b[0m\u001b[0;34m)\u001b[0m\u001b[0;34m\u001b[0m\u001b[0;34m\u001b[0m\u001b[0m\n",
            "\u001b[0;32m/usr/local/lib/python3.7/dist-packages/pandas/core/frame.py\u001b[0m in \u001b[0;36m__getitem__\u001b[0;34m(self, key)\u001b[0m\n\u001b[1;32m   2904\u001b[0m             \u001b[0;32mif\u001b[0m \u001b[0mself\u001b[0m\u001b[0;34m.\u001b[0m\u001b[0mcolumns\u001b[0m\u001b[0;34m.\u001b[0m\u001b[0mnlevels\u001b[0m \u001b[0;34m>\u001b[0m \u001b[0;36m1\u001b[0m\u001b[0;34m:\u001b[0m\u001b[0;34m\u001b[0m\u001b[0;34m\u001b[0m\u001b[0m\n\u001b[1;32m   2905\u001b[0m                 \u001b[0;32mreturn\u001b[0m \u001b[0mself\u001b[0m\u001b[0;34m.\u001b[0m\u001b[0m_getitem_multilevel\u001b[0m\u001b[0;34m(\u001b[0m\u001b[0mkey\u001b[0m\u001b[0;34m)\u001b[0m\u001b[0;34m\u001b[0m\u001b[0;34m\u001b[0m\u001b[0m\n\u001b[0;32m-> 2906\u001b[0;31m             \u001b[0mindexer\u001b[0m \u001b[0;34m=\u001b[0m \u001b[0mself\u001b[0m\u001b[0;34m.\u001b[0m\u001b[0mcolumns\u001b[0m\u001b[0;34m.\u001b[0m\u001b[0mget_loc\u001b[0m\u001b[0;34m(\u001b[0m\u001b[0mkey\u001b[0m\u001b[0;34m)\u001b[0m\u001b[0;34m\u001b[0m\u001b[0;34m\u001b[0m\u001b[0m\n\u001b[0m\u001b[1;32m   2907\u001b[0m             \u001b[0;32mif\u001b[0m \u001b[0mis_integer\u001b[0m\u001b[0;34m(\u001b[0m\u001b[0mindexer\u001b[0m\u001b[0;34m)\u001b[0m\u001b[0;34m:\u001b[0m\u001b[0;34m\u001b[0m\u001b[0;34m\u001b[0m\u001b[0m\n\u001b[1;32m   2908\u001b[0m                 \u001b[0mindexer\u001b[0m \u001b[0;34m=\u001b[0m \u001b[0;34m[\u001b[0m\u001b[0mindexer\u001b[0m\u001b[0;34m]\u001b[0m\u001b[0;34m\u001b[0m\u001b[0;34m\u001b[0m\u001b[0m\n",
            "\u001b[0;32m/usr/local/lib/python3.7/dist-packages/pandas/core/indexes/base.py\u001b[0m in \u001b[0;36mget_loc\u001b[0;34m(self, key, method, tolerance)\u001b[0m\n\u001b[1;32m   2898\u001b[0m                 \u001b[0;32mreturn\u001b[0m \u001b[0mself\u001b[0m\u001b[0;34m.\u001b[0m\u001b[0m_engine\u001b[0m\u001b[0;34m.\u001b[0m\u001b[0mget_loc\u001b[0m\u001b[0;34m(\u001b[0m\u001b[0mcasted_key\u001b[0m\u001b[0;34m)\u001b[0m\u001b[0;34m\u001b[0m\u001b[0;34m\u001b[0m\u001b[0m\n\u001b[1;32m   2899\u001b[0m             \u001b[0;32mexcept\u001b[0m \u001b[0mKeyError\u001b[0m \u001b[0;32mas\u001b[0m \u001b[0merr\u001b[0m\u001b[0;34m:\u001b[0m\u001b[0;34m\u001b[0m\u001b[0;34m\u001b[0m\u001b[0m\n\u001b[0;32m-> 2900\u001b[0;31m                 \u001b[0;32mraise\u001b[0m \u001b[0mKeyError\u001b[0m\u001b[0;34m(\u001b[0m\u001b[0mkey\u001b[0m\u001b[0;34m)\u001b[0m \u001b[0;32mfrom\u001b[0m \u001b[0merr\u001b[0m\u001b[0;34m\u001b[0m\u001b[0;34m\u001b[0m\u001b[0m\n\u001b[0m\u001b[1;32m   2901\u001b[0m \u001b[0;34m\u001b[0m\u001b[0m\n\u001b[1;32m   2902\u001b[0m         \u001b[0;32mif\u001b[0m \u001b[0mtolerance\u001b[0m \u001b[0;32mis\u001b[0m \u001b[0;32mnot\u001b[0m \u001b[0;32mNone\u001b[0m\u001b[0;34m:\u001b[0m\u001b[0;34m\u001b[0m\u001b[0;34m\u001b[0m\u001b[0m\n",
            "\u001b[0;31mKeyError\u001b[0m: ('avgRhm', 'minRhm', 'FRTP_CD', 'SLANT_TYP', 'SLTP_CD', 'KOFTR_GROU', 'LOCTN_GRDN', 'sumRn', 'CLZN_CD', 'SCSTX_CD', 'DMCLS_CD', 'PRRCK_LARG', 'PRRCK_MDDL', 'HEIGHT', 'minTa', 'stnId', 'SLDPT_TPCD', 'AGCLS_CD', 'avgWs', 'maxWs', 'FROR_CD', 'LOCTN_ALTT', 'STORUNST', 'maxTa', 'mi10MaxRn', 'maxInsWs', 'avgTa', 'EIGHT_AGL', 'hr1MaxRn', 'n99Rn', 'sumRnDur', 'PRDN_FOM_C', 'TPGRP_TPCD')"
          ]
        }
      ]
    },
    {
      "cell_type": "code",
      "metadata": {
        "colab": {
          "base_uri": "https://localhost:8080/"
        },
        "id": "5nvWEVFdZbP2",
        "outputId": "785b7d03-d435-4a0e-ae1d-37c8dd69e43a"
      },
      "source": [
        "test_input[\"1day_yn\"].value_counts()"
      ],
      "execution_count": 17,
      "outputs": [
        {
          "output_type": "execute_result",
          "data": {
            "text/plain": [
              "0.0    3380\n",
              "1.0      30\n",
              "Name: 1day_yn, dtype: int64"
            ]
          },
          "metadata": {
            "tags": []
          },
          "execution_count": 17
        }
      ]
    },
    {
      "cell_type": "code",
      "metadata": {
        "colab": {
          "base_uri": "https://localhost:8080/"
        },
        "id": "1DJBQanqZtZX",
        "outputId": "4c0fe051-3641-4abc-cb45-bd8db55b20d7"
      },
      "source": [
        "test_input[\"2day_yn\"].value_counts()"
      ],
      "execution_count": 18,
      "outputs": [
        {
          "output_type": "execute_result",
          "data": {
            "text/plain": [
              "0.0    3410\n",
              "Name: 2day_yn, dtype: int64"
            ]
          },
          "metadata": {
            "tags": []
          },
          "execution_count": 18
        }
      ]
    },
    {
      "cell_type": "code",
      "metadata": {
        "id": "C4LFCkcgs9uQ"
      },
      "source": [
        "test_input.to_csv(\"test_result_gbrt_best_model.csv\", index=False, encoding='utf-8-sig')"
      ],
      "execution_count": 19,
      "outputs": []
    },
    {
      "cell_type": "code",
      "metadata": {
        "id": "uWxlAmx0s9uQ"
      },
      "source": [
        ""
      ],
      "execution_count": null,
      "outputs": []
    }
  ]
}