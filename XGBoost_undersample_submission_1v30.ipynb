{
  "nbformat": 4,
  "nbformat_minor": 0,
  "metadata": {
    "accelerator": "GPU",
    "colab": {
      "name": "XGBoost_undersample_submission_1:30.ipynb",
      "provenance": [],
      "collapsed_sections": [],
      "include_colab_link": true
    },
    "kernelspec": {
      "display_name": "Python 3",
      "language": "python",
      "name": "python3"
    },
    "language_info": {
      "codemirror_mode": {
        "name": "ipython",
        "version": 3
      },
      "file_extension": ".py",
      "mimetype": "text/x-python",
      "name": "python",
      "nbconvert_exporter": "python",
      "pygments_lexer": "ipython3",
      "version": "3.8.3"
    }
  },
  "cells": [
    {
      "cell_type": "markdown",
      "metadata": {
        "id": "view-in-github",
        "colab_type": "text"
      },
      "source": [
        "<a href=\"https://colab.research.google.com/github/wonkwonlee/a2w-kma-big-data-contest/blob/main/XGBoost_undersample_submission_1v30.ipynb\" target=\"_parent\"><img src=\"https://colab.research.google.com/assets/colab-badge.svg\" alt=\"Open In Colab\"/></a>"
      ]
    },
    {
      "cell_type": "code",
      "metadata": {
        "id": "KxMkgXIlOTLX",
        "colab": {
          "base_uri": "https://localhost:8080/"
        },
        "outputId": "2c28ea3c-dcef-4325-b3a1-7c03f9f6fe91"
      },
      "source": [
        "from google.colab import drive\n",
        "drive.mount('/content/drive')"
      ],
      "execution_count": null,
      "outputs": [
        {
          "output_type": "stream",
          "text": [
            "Drive already mounted at /content/drive; to attempt to forcibly remount, call drive.mount(\"/content/drive\", force_remount=True).\n"
          ],
          "name": "stdout"
        }
      ]
    },
    {
      "cell_type": "code",
      "metadata": {
        "id": "mdlc9MPLOPfb"
      },
      "source": [
        "import os\n",
        "os.chdir('/content/drive/MyDrive/Colab Notebooks')"
      ],
      "execution_count": null,
      "outputs": []
    },
    {
      "cell_type": "code",
      "metadata": {
        "id": "4eJg-iMzOPfb"
      },
      "source": [
        "import tensorflow as tf\n",
        "from tensorflow import keras\n",
        "\n",
        "import os\n",
        "import tempfile\n",
        "\n",
        "import matplotlib as mpl\n",
        "import matplotlib.pyplot as plt\n",
        "import numpy as np\n",
        "import pandas as pd\n",
        "import seaborn as sns\n",
        "\n",
        "import sklearn\n",
        "from sklearn.tree import DecisionTreeClassifier\n",
        "from sklearn.ensemble import RandomForestClassifier\n",
        "from sklearn.metrics import confusion_matrix\n",
        "from sklearn.model_selection import train_test_split\n",
        "from sklearn.preprocessing import StandardScaler\n",
        "from sklearn.model_selection import train_test_split, GridSearchCV\n",
        "from sklearn.metrics import make_scorer, accuracy_score, precision_score, recall_score, f1_score, roc_auc_score\n",
        "from sklearn.linear_model import LogisticRegression\n",
        "\n",
        "\n",
        "from xgboost import plot_importance\n",
        "from xgboost import XGBClassifier"
      ],
      "execution_count": null,
      "outputs": []
    },
    {
      "cell_type": "code",
      "metadata": {
        "id": "PVrolvhqOPfc"
      },
      "source": [
        "def metrics(y_test, pred):\n",
        "    accuracy = accuracy_score(y_test, pred)\n",
        "    precision = precision_score(y_test, pred)\n",
        "    recall = recall_score(y_test, pred)\n",
        "    f1 = f1_score(y_test, pred)\n",
        "    roc_score = roc_auc_score(y_test, pred)\n",
        "    print('정확도 : {0:.2f}, 정밀도 : {1:.2f}, 재현율 : {2:.2f}'.format(accuracy, precision, recall))\n",
        "    print('f1-score : {0:.2f}, auc : {1:.2f}'.format(f1, roc_score))"
      ],
      "execution_count": null,
      "outputs": []
    },
    {
      "cell_type": "markdown",
      "metadata": {
        "id": "2ubwLMH_OPfd"
      },
      "source": [
        "# 데이터 처리 및 탐색"
      ]
    },
    {
      "cell_type": "code",
      "metadata": {
        "id": "e_JXIStyOPfd"
      },
      "source": [
        "raw_df = pd.read_csv(\"../A2W/데이터/data_submission/merge_final_real.csv\", encoding='utf-8-sig')"
      ],
      "execution_count": null,
      "outputs": []
    },
    {
      "cell_type": "code",
      "metadata": {
        "id": "_cCORziJOPff"
      },
      "source": [
        "raw_df['1day_yn'] = 0.0\n",
        "raw_df['2day_yn'] = 0.0"
      ],
      "execution_count": null,
      "outputs": []
    },
    {
      "cell_type": "code",
      "metadata": {
        "colab": {
          "base_uri": "https://localhost:8080/"
        },
        "id": "7MrrPwSDOPff",
        "outputId": "5f1d47ce-afa5-4556-b10c-03f094a100ba"
      },
      "source": [
        "# 열을 밀어서 출력, 맨 첫날, 마지막 날의 경우 산사태가 발생하지 않음.\n",
        "raw_df['1day_yn'][1:-1] = raw_df['landslide'][0:-2]\n",
        "raw_df['2day_yn'][2:-1] = raw_df['landslide'][0:-3]"
      ],
      "execution_count": null,
      "outputs": [
        {
          "output_type": "stream",
          "text": [
            "/usr/local/lib/python3.7/dist-packages/ipykernel_launcher.py:2: SettingWithCopyWarning: \n",
            "A value is trying to be set on a copy of a slice from a DataFrame\n",
            "\n",
            "See the caveats in the documentation: https://pandas.pydata.org/pandas-docs/stable/user_guide/indexing.html#returning-a-view-versus-a-copy\n",
            "  \n",
            "/usr/local/lib/python3.7/dist-packages/ipykernel_launcher.py:3: SettingWithCopyWarning: \n",
            "A value is trying to be set on a copy of a slice from a DataFrame\n",
            "\n",
            "See the caveats in the documentation: https://pandas.pydata.org/pandas-docs/stable/user_guide/indexing.html#returning-a-view-versus-a-copy\n",
            "  This is separate from the ipykernel package so we can avoid doing imports until\n"
          ],
          "name": "stderr"
        }
      ]
    },
    {
      "cell_type": "code",
      "metadata": {
        "id": "CtgsDFA3OPfg"
      },
      "source": [
        "select_df = raw_df[['maxTa','minTa','avgTa','EIGHT_AGL','mi10MaxRn', 'hr1MaxRn', 'sumRnDur', 'sumRn', 'maxInsWs', 'maxWs', 'avgWs','minRhm','avgRhm','n99Rn', 'PRRCK_LARG', 'PRRCK_MDDL','LOCTN_ALTT','LOCTN_GRDN','CLZN_CD','TPGRP_TPCD','PRDN_FOM_C','SLDPT_TPCD','SLANT_TYP','SCSTX_CD','SLTP_CD','STORUNST','FROR_CD','FRTP_CD','KOFTR_GROU','DMCLS_CD','AGCLS_CD','HEIGHT','1day_yn']]\n",
        "cleaned_df_1 = select_df.fillna(0)"
      ],
      "execution_count": null,
      "outputs": []
    },
    {
      "cell_type": "markdown",
      "metadata": {
        "id": "ni-MoLNmOPfh"
      },
      "source": [
        "## 1일 후 예측"
      ]
    },
    {
      "cell_type": "code",
      "metadata": {
        "id": "T9CM8GNlOPfh"
      },
      "source": [
        "y = cleaned_df_1['1day_yn']\n",
        "X = cleaned_df_1.drop('1day_yn', axis =1)"
      ],
      "execution_count": null,
      "outputs": []
    },
    {
      "cell_type": "code",
      "metadata": {
        "colab": {
          "base_uri": "https://localhost:8080/"
        },
        "id": "hZvGMFS7uxrv",
        "outputId": "bb2d43ab-6243-4282-d5ee-aabd24990281"
      },
      "source": [
        "from imblearn.under_sampling import RandomUnderSampler\n",
        "\n",
        "# 1: 50 비율\n",
        "X_samp, y_samp = RandomUnderSampler(random_state=1024, ratio={1: 359, 0: 10770}).fit_sample(X, y)"
      ],
      "execution_count": null,
      "outputs": [
        {
          "output_type": "stream",
          "text": [
            "/usr/local/lib/python3.7/dist-packages/sklearn/externals/six.py:31: FutureWarning: The module is deprecated in version 0.21 and will be removed in version 0.23 since we've dropped support for Python 2.7. Please rely on the official version of six (https://pypi.org/project/six/).\n",
            "  \"(https://pypi.org/project/six/).\", FutureWarning)\n",
            "/usr/local/lib/python3.7/dist-packages/sklearn/utils/deprecation.py:144: FutureWarning: The sklearn.neighbors.base module is  deprecated in version 0.22 and will be removed in version 0.24. The corresponding classes / functions should instead be imported from sklearn.neighbors. Anything that cannot be imported from sklearn.neighbors is now part of the private API.\n",
            "  warnings.warn(message, FutureWarning)\n",
            "/usr/local/lib/python3.7/dist-packages/sklearn/utils/deprecation.py:87: FutureWarning: Function safe_indexing is deprecated; safe_indexing is deprecated in version 0.22 and will be removed in version 0.24.\n",
            "  warnings.warn(msg, category=FutureWarning)\n"
          ],
          "name": "stderr"
        }
      ]
    },
    {
      "cell_type": "code",
      "metadata": {
        "id": "MKM0x1xeHIFo"
      },
      "source": [
        "X_train, X_test, y_train, y_test = train_test_split(X_samp, y_samp, test_size=0.25, shuffle=True, stratify=y_samp, random_state=1024)"
      ],
      "execution_count": null,
      "outputs": []
    },
    {
      "cell_type": "markdown",
      "metadata": {
        "id": "Brn9trA6OPfi"
      },
      "source": [
        "### 하이퍼 파라미터 튜닝 후 예측"
      ]
    },
    {
      "cell_type": "code",
      "metadata": {
        "id": "_QmARUKQOPfj",
        "colab": {
          "base_uri": "https://localhost:8080/"
        },
        "outputId": "4bba8c1a-18df-4f40-8fa2-c5655be00377"
      },
      "source": [
        "xgb = XGBClassifier()\n",
        "\n",
        "xgb_param_grid = {\n",
        "    'n_estimators' : [100, 200, 400, 500, 600],\n",
        "    'learning_rate' : [0.01, 0.05, 0.1, 0.15, 0.2],\n",
        "    'max_depth' : [4, 6, 8, 10, 12],\n",
        "}\n",
        "# sklearn.metrics.SCORERS.keys()\n",
        "xgb_grid = GridSearchCV(xgb, param_grid = xgb_param_grid, scoring=\"roc_auc\", n_jobs= 1, verbose = 1)\n",
        "xgb_grid.fit(X_train, y_train)"
      ],
      "execution_count": null,
      "outputs": [
        {
          "output_type": "stream",
          "text": [
            "[Parallel(n_jobs=1)]: Using backend SequentialBackend with 1 concurrent workers.\n"
          ],
          "name": "stderr"
        },
        {
          "output_type": "stream",
          "text": [
            "Fitting 5 folds for each of 125 candidates, totalling 625 fits\n"
          ],
          "name": "stdout"
        },
        {
          "output_type": "stream",
          "text": [
            "[Parallel(n_jobs=1)]: Done 625 out of 625 | elapsed: 34.9min finished\n"
          ],
          "name": "stderr"
        },
        {
          "output_type": "execute_result",
          "data": {
            "text/plain": [
              "GridSearchCV(cv=None, error_score=nan,\n",
              "             estimator=XGBClassifier(base_score=0.5, booster='gbtree',\n",
              "                                     colsample_bylevel=1, colsample_bynode=1,\n",
              "                                     colsample_bytree=1, gamma=0,\n",
              "                                     learning_rate=0.1, max_delta_step=0,\n",
              "                                     max_depth=3, min_child_weight=1,\n",
              "                                     missing=None, n_estimators=100, n_jobs=1,\n",
              "                                     nthread=None, objective='binary:logistic',\n",
              "                                     random_state=0, reg_alpha=0, reg_lambda=1,\n",
              "                                     scale_pos_weight=1, seed=None, silent=None,\n",
              "                                     subsample=1, verbosity=1),\n",
              "             iid='deprecated', n_jobs=1,\n",
              "             param_grid={'learning_rate': [0.01, 0.05, 0.1, 0.15, 0.2],\n",
              "                         'max_depth': [4, 6, 8, 10, 12],\n",
              "                         'n_estimators': [100, 200, 400, 500, 600]},\n",
              "             pre_dispatch='2*n_jobs', refit=True, return_train_score=False,\n",
              "             scoring='roc_auc', verbose=1)"
            ]
          },
          "metadata": {
            "tags": []
          },
          "execution_count": 16
        }
      ]
    },
    {
      "cell_type": "code",
      "metadata": {
        "id": "PHy4E2UmOPfj",
        "colab": {
          "base_uri": "https://localhost:8080/"
        },
        "outputId": "1c64d88d-ade8-44c0-dafb-57f0157be25e"
      },
      "source": [
        "print(\"최고 평균 auc : {0:.4f}\".format(xgb_grid.best_score_))\n",
        "print(\"최고의 파라미터 : \", xgb_grid.best_params_)\n",
        "print(\"최고 점수를 낸 파라미터를 가진 모형 : \", xgb_grid.best_estimator_)"
      ],
      "execution_count": null,
      "outputs": [
        {
          "output_type": "stream",
          "text": [
            "최고 평균 auc : 0.9944\n",
            "최고의 파라미터 :  {'learning_rate': 0.1, 'max_depth': 6, 'n_estimators': 200}\n",
            "최고 점수를 낸 파라미터를 가진 모형 :  XGBClassifier(base_score=0.5, booster='gbtree', colsample_bylevel=1,\n",
            "              colsample_bynode=1, colsample_bytree=1, gamma=0,\n",
            "              learning_rate=0.1, max_delta_step=0, max_depth=6,\n",
            "              min_child_weight=1, missing=None, n_estimators=200, n_jobs=1,\n",
            "              nthread=None, objective='binary:logistic', random_state=0,\n",
            "              reg_alpha=0, reg_lambda=1, scale_pos_weight=1, seed=None,\n",
            "              silent=None, subsample=1, verbosity=1)\n"
          ],
          "name": "stdout"
        }
      ]
    },
    {
      "cell_type": "code",
      "metadata": {
        "id": "CpuglcsWOPfj"
      },
      "source": [
        "result = pd.DataFrame(xgb_grid.cv_results_)\n",
        "result.sort_values(by=['rank_test_score'], inplace=True)"
      ],
      "execution_count": null,
      "outputs": []
    },
    {
      "cell_type": "code",
      "metadata": {
        "id": "BikUmykSOPfj",
        "colab": {
          "base_uri": "https://localhost:8080/",
          "height": 359
        },
        "outputId": "66d7ef8b-4a43-4270-deab-9e327357a471"
      },
      "source": [
        "result[['params', 'mean_test_score', 'rank_test_score']].head(10)"
      ],
      "execution_count": null,
      "outputs": [
        {
          "output_type": "execute_result",
          "data": {
            "text/html": [
              "<div>\n",
              "<style scoped>\n",
              "    .dataframe tbody tr th:only-of-type {\n",
              "        vertical-align: middle;\n",
              "    }\n",
              "\n",
              "    .dataframe tbody tr th {\n",
              "        vertical-align: top;\n",
              "    }\n",
              "\n",
              "    .dataframe thead th {\n",
              "        text-align: right;\n",
              "    }\n",
              "</style>\n",
              "<table border=\"1\" class=\"dataframe\">\n",
              "  <thead>\n",
              "    <tr style=\"text-align: right;\">\n",
              "      <th></th>\n",
              "      <th>params</th>\n",
              "      <th>mean_test_score</th>\n",
              "      <th>rank_test_score</th>\n",
              "    </tr>\n",
              "  </thead>\n",
              "  <tbody>\n",
              "    <tr>\n",
              "      <th>56</th>\n",
              "      <td>{'learning_rate': 0.1, 'max_depth': 6, 'n_esti...</td>\n",
              "      <td>0.994377</td>\n",
              "      <td>1</td>\n",
              "    </tr>\n",
              "    <tr>\n",
              "      <th>32</th>\n",
              "      <td>{'learning_rate': 0.05, 'max_depth': 6, 'n_est...</td>\n",
              "      <td>0.994320</td>\n",
              "      <td>2</td>\n",
              "    </tr>\n",
              "    <tr>\n",
              "      <th>33</th>\n",
              "      <td>{'learning_rate': 0.05, 'max_depth': 6, 'n_est...</td>\n",
              "      <td>0.994285</td>\n",
              "      <td>3</td>\n",
              "    </tr>\n",
              "    <tr>\n",
              "      <th>34</th>\n",
              "      <td>{'learning_rate': 0.05, 'max_depth': 6, 'n_est...</td>\n",
              "      <td>0.994179</td>\n",
              "      <td>4</td>\n",
              "    </tr>\n",
              "    <tr>\n",
              "      <th>52</th>\n",
              "      <td>{'learning_rate': 0.1, 'max_depth': 4, 'n_esti...</td>\n",
              "      <td>0.994092</td>\n",
              "      <td>5</td>\n",
              "    </tr>\n",
              "    <tr>\n",
              "      <th>76</th>\n",
              "      <td>{'learning_rate': 0.15, 'max_depth': 4, 'n_est...</td>\n",
              "      <td>0.994071</td>\n",
              "      <td>6</td>\n",
              "    </tr>\n",
              "    <tr>\n",
              "      <th>53</th>\n",
              "      <td>{'learning_rate': 0.1, 'max_depth': 4, 'n_esti...</td>\n",
              "      <td>0.994053</td>\n",
              "      <td>7</td>\n",
              "    </tr>\n",
              "    <tr>\n",
              "      <th>55</th>\n",
              "      <td>{'learning_rate': 0.1, 'max_depth': 6, 'n_esti...</td>\n",
              "      <td>0.994031</td>\n",
              "      <td>8</td>\n",
              "    </tr>\n",
              "    <tr>\n",
              "      <th>54</th>\n",
              "      <td>{'learning_rate': 0.1, 'max_depth': 4, 'n_esti...</td>\n",
              "      <td>0.994013</td>\n",
              "      <td>9</td>\n",
              "    </tr>\n",
              "    <tr>\n",
              "      <th>105</th>\n",
              "      <td>{'learning_rate': 0.2, 'max_depth': 6, 'n_esti...</td>\n",
              "      <td>0.993959</td>\n",
              "      <td>10</td>\n",
              "    </tr>\n",
              "  </tbody>\n",
              "</table>\n",
              "</div>"
            ],
            "text/plain": [
              "                                                params  ...  rank_test_score\n",
              "56   {'learning_rate': 0.1, 'max_depth': 6, 'n_esti...  ...                1\n",
              "32   {'learning_rate': 0.05, 'max_depth': 6, 'n_est...  ...                2\n",
              "33   {'learning_rate': 0.05, 'max_depth': 6, 'n_est...  ...                3\n",
              "34   {'learning_rate': 0.05, 'max_depth': 6, 'n_est...  ...                4\n",
              "52   {'learning_rate': 0.1, 'max_depth': 4, 'n_esti...  ...                5\n",
              "76   {'learning_rate': 0.15, 'max_depth': 4, 'n_est...  ...                6\n",
              "53   {'learning_rate': 0.1, 'max_depth': 4, 'n_esti...  ...                7\n",
              "55   {'learning_rate': 0.1, 'max_depth': 6, 'n_esti...  ...                8\n",
              "54   {'learning_rate': 0.1, 'max_depth': 4, 'n_esti...  ...                9\n",
              "105  {'learning_rate': 0.2, 'max_depth': 6, 'n_esti...  ...               10\n",
              "\n",
              "[10 rows x 3 columns]"
            ]
          },
          "metadata": {
            "tags": []
          },
          "execution_count": 19
        }
      ]
    },
    {
      "cell_type": "code",
      "metadata": {
        "id": "9WklsWvlzgf5",
        "colab": {
          "base_uri": "https://localhost:8080/"
        },
        "outputId": "c2a97f3c-35bd-49db-b62c-8a0c2e11dca2"
      },
      "source": [
        "import joblib\n",
        "\n",
        "xgb1 = xgb_grid.best_estimator_\n",
        "xgb1.fit(X_train, y_train)\n",
        "joblib.dump(xgb1, './xgb_1v30_model_1day_yn.pkl')"
      ],
      "execution_count": null,
      "outputs": [
        {
          "output_type": "execute_result",
          "data": {
            "text/plain": [
              "['./xgb_1v30_model_1day_yn.pkl']"
            ]
          },
          "metadata": {
            "tags": []
          },
          "execution_count": 20
        }
      ]
    },
    {
      "cell_type": "code",
      "metadata": {
        "id": "nghkOjSO4EbC",
        "colab": {
          "base_uri": "https://localhost:8080/"
        },
        "outputId": "74088fdf-1f57-42db-832c-02e0dcd1a20c"
      },
      "source": [
        "xgb1_pred = xgb1.predict(X_test)\n",
        "metrics(y_test, xgb1_pred)"
      ],
      "execution_count": null,
      "outputs": [
        {
          "output_type": "stream",
          "text": [
            "정확도 : 0.99, 정밀도 : 0.88, 재현율 : 0.82\n",
            "f1-score : 0.85, auc : 0.91\n"
          ],
          "name": "stdout"
        }
      ]
    },
    {
      "cell_type": "markdown",
      "metadata": {
        "id": "_NxRI3JtOPfk"
      },
      "source": [
        "## 2일 후 예측"
      ]
    },
    {
      "cell_type": "code",
      "metadata": {
        "id": "UT_CdgsnOPfk"
      },
      "source": [
        "#분석을 위해 음수 값을 가지는 칼럼들을 제외하고 결측치를 0으로 대체한다.\n",
        "select_df = raw_df[['maxTa','minTa','avgTa','EIGHT_AGL','mi10MaxRn', 'hr1MaxRn', 'sumRnDur', 'sumRn', 'maxInsWs', 'maxWs', 'avgWs','minRhm','avgRhm','n99Rn', 'PRRCK_LARG', 'PRRCK_MDDL','LOCTN_ALTT','LOCTN_GRDN','CLZN_CD','TPGRP_TPCD','PRDN_FOM_C','SLDPT_TPCD','SLANT_TYP','SCSTX_CD','SLTP_CD','STORUNST','FROR_CD','FRTP_CD','KOFTR_GROU','DMCLS_CD','AGCLS_CD','HEIGHT','2day_yn']]\n",
        "cleaned_df_2 = select_df.fillna(0)"
      ],
      "execution_count": null,
      "outputs": []
    },
    {
      "cell_type": "code",
      "metadata": {
        "id": "BBj_B6fP57VF"
      },
      "source": [
        "y = cleaned_df_2['2day_yn']\n",
        "X = cleaned_df_2.drop('2day_yn', axis =1)"
      ],
      "execution_count": null,
      "outputs": []
    },
    {
      "cell_type": "code",
      "metadata": {
        "id": "sYmHIBNS5ebn",
        "colab": {
          "base_uri": "https://localhost:8080/"
        },
        "outputId": "b27159d3-317f-4b74-9527-024def41a737"
      },
      "source": [
        "# 1: 50 비율\n",
        "X_samp, y_samp = RandomUnderSampler(random_state=1024, ratio={1: 359, 0: 10770}).fit_sample(X, y)"
      ],
      "execution_count": null,
      "outputs": [
        {
          "output_type": "stream",
          "text": [
            "/usr/local/lib/python3.7/dist-packages/sklearn/utils/deprecation.py:87: FutureWarning: Function safe_indexing is deprecated; safe_indexing is deprecated in version 0.22 and will be removed in version 0.24.\n",
            "  warnings.warn(msg, category=FutureWarning)\n"
          ],
          "name": "stderr"
        }
      ]
    },
    {
      "cell_type": "code",
      "metadata": {
        "id": "hh1w6B775lof",
        "colab": {
          "base_uri": "https://localhost:8080/"
        },
        "outputId": "8e55c6c0-047c-4187-c6cb-75b0a09b9b03"
      },
      "source": [
        "X_train, X_test, y_train, y_test = train_test_split(X_samp, y_samp, test_size=0.25, shuffle=True, stratify=y_samp, random_state=1024)\n",
        "\n",
        "print('X_train shape:', X_train.shape)\n",
        "print('X_test shape:', X_test.shape)\n",
        "print('y_train shape:', y_train.shape)\n",
        "print('y_test shape:', y_test.shape)"
      ],
      "execution_count": null,
      "outputs": [
        {
          "output_type": "stream",
          "text": [
            "X_train shape: (8346, 32)\n",
            "X_test shape: (2783, 32)\n",
            "y_train shape: (8346,)\n",
            "y_test shape: (2783,)\n"
          ],
          "name": "stdout"
        }
      ]
    },
    {
      "cell_type": "code",
      "metadata": {
        "id": "6tvH-zErVdRi",
        "colab": {
          "base_uri": "https://localhost:8080/"
        },
        "outputId": "91c92db6-3257-4caa-8a6c-8b5f44312cd0"
      },
      "source": [
        "xgb2 = XGBClassifier(n_estimators=200, learning_rate = 0.05, max_depth = 10)\n",
        "evals = [(X_test, y_test)]\n",
        "xgb2.fit(X_train, y_train, eval_metric = \"logloss\", eval_set = evals, verbose = 1)"
      ],
      "execution_count": null,
      "outputs": [
        {
          "output_type": "stream",
          "text": [
            "[0]\tvalidation_0-logloss:0.646881\n",
            "[1]\tvalidation_0-logloss:0.605096\n",
            "[2]\tvalidation_0-logloss:0.56703\n",
            "[3]\tvalidation_0-logloss:0.532345\n",
            "[4]\tvalidation_0-logloss:0.500501\n",
            "[5]\tvalidation_0-logloss:0.471344\n",
            "[6]\tvalidation_0-logloss:0.444247\n",
            "[7]\tvalidation_0-logloss:0.419183\n",
            "[8]\tvalidation_0-logloss:0.396157\n",
            "[9]\tvalidation_0-logloss:0.374792\n",
            "[10]\tvalidation_0-logloss:0.354999\n",
            "[11]\tvalidation_0-logloss:0.336584\n",
            "[12]\tvalidation_0-logloss:0.319255\n",
            "[13]\tvalidation_0-logloss:0.303141\n",
            "[14]\tvalidation_0-logloss:0.288137\n",
            "[15]\tvalidation_0-logloss:0.274005\n",
            "[16]\tvalidation_0-logloss:0.26079\n",
            "[17]\tvalidation_0-logloss:0.248447\n",
            "[18]\tvalidation_0-logloss:0.236788\n",
            "[19]\tvalidation_0-logloss:0.225809\n",
            "[20]\tvalidation_0-logloss:0.215658\n",
            "[21]\tvalidation_0-logloss:0.205981\n",
            "[22]\tvalidation_0-logloss:0.196861\n",
            "[23]\tvalidation_0-logloss:0.188364\n",
            "[24]\tvalidation_0-logloss:0.180296\n",
            "[25]\tvalidation_0-logloss:0.172767\n",
            "[26]\tvalidation_0-logloss:0.165606\n",
            "[27]\tvalidation_0-logloss:0.158857\n",
            "[28]\tvalidation_0-logloss:0.152464\n",
            "[29]\tvalidation_0-logloss:0.146474\n",
            "[30]\tvalidation_0-logloss:0.140822\n",
            "[31]\tvalidation_0-logloss:0.135414\n",
            "[32]\tvalidation_0-logloss:0.13019\n",
            "[33]\tvalidation_0-logloss:0.125303\n",
            "[34]\tvalidation_0-logloss:0.120584\n",
            "[35]\tvalidation_0-logloss:0.116254\n",
            "[36]\tvalidation_0-logloss:0.112098\n",
            "[37]\tvalidation_0-logloss:0.10815\n",
            "[38]\tvalidation_0-logloss:0.104437\n",
            "[39]\tvalidation_0-logloss:0.100697\n",
            "[40]\tvalidation_0-logloss:0.09724\n",
            "[41]\tvalidation_0-logloss:0.093865\n",
            "[42]\tvalidation_0-logloss:0.090888\n",
            "[43]\tvalidation_0-logloss:0.087966\n",
            "[44]\tvalidation_0-logloss:0.085043\n",
            "[45]\tvalidation_0-logloss:0.082426\n",
            "[46]\tvalidation_0-logloss:0.079956\n",
            "[47]\tvalidation_0-logloss:0.077646\n",
            "[48]\tvalidation_0-logloss:0.075426\n",
            "[49]\tvalidation_0-logloss:0.073179\n",
            "[50]\tvalidation_0-logloss:0.071182\n",
            "[51]\tvalidation_0-logloss:0.069194\n",
            "[52]\tvalidation_0-logloss:0.067449\n",
            "[53]\tvalidation_0-logloss:0.065676\n",
            "[54]\tvalidation_0-logloss:0.064061\n",
            "[55]\tvalidation_0-logloss:0.062549\n",
            "[56]\tvalidation_0-logloss:0.060938\n",
            "[57]\tvalidation_0-logloss:0.059516\n",
            "[58]\tvalidation_0-logloss:0.058133\n",
            "[59]\tvalidation_0-logloss:0.056848\n",
            "[60]\tvalidation_0-logloss:0.055651\n",
            "[61]\tvalidation_0-logloss:0.054491\n",
            "[62]\tvalidation_0-logloss:0.053433\n",
            "[63]\tvalidation_0-logloss:0.052351\n",
            "[64]\tvalidation_0-logloss:0.051333\n",
            "[65]\tvalidation_0-logloss:0.050375\n",
            "[66]\tvalidation_0-logloss:0.049466\n",
            "[67]\tvalidation_0-logloss:0.048562\n",
            "[68]\tvalidation_0-logloss:0.047715\n",
            "[69]\tvalidation_0-logloss:0.047035\n",
            "[70]\tvalidation_0-logloss:0.046235\n",
            "[71]\tvalidation_0-logloss:0.045501\n",
            "[72]\tvalidation_0-logloss:0.044831\n",
            "[73]\tvalidation_0-logloss:0.044063\n",
            "[74]\tvalidation_0-logloss:0.043312\n",
            "[75]\tvalidation_0-logloss:0.042808\n",
            "[76]\tvalidation_0-logloss:0.042195\n",
            "[77]\tvalidation_0-logloss:0.041726\n",
            "[78]\tvalidation_0-logloss:0.041342\n",
            "[79]\tvalidation_0-logloss:0.040885\n",
            "[80]\tvalidation_0-logloss:0.040445\n",
            "[81]\tvalidation_0-logloss:0.039931\n",
            "[82]\tvalidation_0-logloss:0.039486\n",
            "[83]\tvalidation_0-logloss:0.039128\n",
            "[84]\tvalidation_0-logloss:0.038723\n",
            "[85]\tvalidation_0-logloss:0.038356\n",
            "[86]\tvalidation_0-logloss:0.038067\n",
            "[87]\tvalidation_0-logloss:0.037581\n",
            "[88]\tvalidation_0-logloss:0.037288\n",
            "[89]\tvalidation_0-logloss:0.036814\n",
            "[90]\tvalidation_0-logloss:0.036599\n",
            "[91]\tvalidation_0-logloss:0.036193\n",
            "[92]\tvalidation_0-logloss:0.036018\n",
            "[93]\tvalidation_0-logloss:0.035714\n",
            "[94]\tvalidation_0-logloss:0.035522\n",
            "[95]\tvalidation_0-logloss:0.035198\n",
            "[96]\tvalidation_0-logloss:0.03501\n",
            "[97]\tvalidation_0-logloss:0.034702\n",
            "[98]\tvalidation_0-logloss:0.034409\n",
            "[99]\tvalidation_0-logloss:0.034245\n",
            "[100]\tvalidation_0-logloss:0.034028\n",
            "[101]\tvalidation_0-logloss:0.033887\n",
            "[102]\tvalidation_0-logloss:0.033755\n",
            "[103]\tvalidation_0-logloss:0.03354\n",
            "[104]\tvalidation_0-logloss:0.033429\n",
            "[105]\tvalidation_0-logloss:0.033221\n",
            "[106]\tvalidation_0-logloss:0.03312\n",
            "[107]\tvalidation_0-logloss:0.033044\n",
            "[108]\tvalidation_0-logloss:0.032874\n",
            "[109]\tvalidation_0-logloss:0.032808\n",
            "[110]\tvalidation_0-logloss:0.032685\n",
            "[111]\tvalidation_0-logloss:0.032639\n",
            "[112]\tvalidation_0-logloss:0.032618\n",
            "[113]\tvalidation_0-logloss:0.032508\n",
            "[114]\tvalidation_0-logloss:0.032403\n",
            "[115]\tvalidation_0-logloss:0.032315\n",
            "[116]\tvalidation_0-logloss:0.032169\n",
            "[117]\tvalidation_0-logloss:0.032099\n",
            "[118]\tvalidation_0-logloss:0.031964\n",
            "[119]\tvalidation_0-logloss:0.031911\n",
            "[120]\tvalidation_0-logloss:0.031828\n",
            "[121]\tvalidation_0-logloss:0.031799\n",
            "[122]\tvalidation_0-logloss:0.031657\n",
            "[123]\tvalidation_0-logloss:0.031533\n",
            "[124]\tvalidation_0-logloss:0.031458\n",
            "[125]\tvalidation_0-logloss:0.031384\n",
            "[126]\tvalidation_0-logloss:0.031277\n",
            "[127]\tvalidation_0-logloss:0.031215\n",
            "[128]\tvalidation_0-logloss:0.031113\n",
            "[129]\tvalidation_0-logloss:0.031053\n",
            "[130]\tvalidation_0-logloss:0.030991\n",
            "[131]\tvalidation_0-logloss:0.030958\n",
            "[132]\tvalidation_0-logloss:0.0309\n",
            "[133]\tvalidation_0-logloss:0.030886\n",
            "[134]\tvalidation_0-logloss:0.030882\n",
            "[135]\tvalidation_0-logloss:0.030864\n",
            "[136]\tvalidation_0-logloss:0.030829\n",
            "[137]\tvalidation_0-logloss:0.030793\n",
            "[138]\tvalidation_0-logloss:0.030742\n",
            "[139]\tvalidation_0-logloss:0.030739\n",
            "[140]\tvalidation_0-logloss:0.03071\n",
            "[141]\tvalidation_0-logloss:0.030693\n",
            "[142]\tvalidation_0-logloss:0.030654\n",
            "[143]\tvalidation_0-logloss:0.030626\n",
            "[144]\tvalidation_0-logloss:0.030613\n",
            "[145]\tvalidation_0-logloss:0.030555\n",
            "[146]\tvalidation_0-logloss:0.030517\n",
            "[147]\tvalidation_0-logloss:0.030506\n",
            "[148]\tvalidation_0-logloss:0.030516\n",
            "[149]\tvalidation_0-logloss:0.030454\n",
            "[150]\tvalidation_0-logloss:0.030405\n",
            "[151]\tvalidation_0-logloss:0.030412\n",
            "[152]\tvalidation_0-logloss:0.030454\n",
            "[153]\tvalidation_0-logloss:0.030415\n",
            "[154]\tvalidation_0-logloss:0.030351\n",
            "[155]\tvalidation_0-logloss:0.0304\n",
            "[156]\tvalidation_0-logloss:0.030399\n",
            "[157]\tvalidation_0-logloss:0.030375\n",
            "[158]\tvalidation_0-logloss:0.030329\n",
            "[159]\tvalidation_0-logloss:0.030303\n",
            "[160]\tvalidation_0-logloss:0.030292\n",
            "[161]\tvalidation_0-logloss:0.030247\n",
            "[162]\tvalidation_0-logloss:0.03021\n",
            "[163]\tvalidation_0-logloss:0.030198\n",
            "[164]\tvalidation_0-logloss:0.03021\n",
            "[165]\tvalidation_0-logloss:0.030169\n",
            "[166]\tvalidation_0-logloss:0.030145\n",
            "[167]\tvalidation_0-logloss:0.030117\n",
            "[168]\tvalidation_0-logloss:0.03016\n",
            "[169]\tvalidation_0-logloss:0.03014\n",
            "[170]\tvalidation_0-logloss:0.030182\n",
            "[171]\tvalidation_0-logloss:0.030207\n",
            "[172]\tvalidation_0-logloss:0.030228\n",
            "[173]\tvalidation_0-logloss:0.03023\n",
            "[174]\tvalidation_0-logloss:0.030125\n",
            "[175]\tvalidation_0-logloss:0.03009\n",
            "[176]\tvalidation_0-logloss:0.030074\n",
            "[177]\tvalidation_0-logloss:0.030059\n",
            "[178]\tvalidation_0-logloss:0.030079\n",
            "[179]\tvalidation_0-logloss:0.03012\n",
            "[180]\tvalidation_0-logloss:0.030096\n",
            "[181]\tvalidation_0-logloss:0.030052\n",
            "[182]\tvalidation_0-logloss:0.030035\n",
            "[183]\tvalidation_0-logloss:0.029979\n",
            "[184]\tvalidation_0-logloss:0.030025\n",
            "[185]\tvalidation_0-logloss:0.030006\n",
            "[186]\tvalidation_0-logloss:0.030049\n",
            "[187]\tvalidation_0-logloss:0.030015\n",
            "[188]\tvalidation_0-logloss:0.030036\n",
            "[189]\tvalidation_0-logloss:0.029987\n",
            "[190]\tvalidation_0-logloss:0.030001\n",
            "[191]\tvalidation_0-logloss:0.030009\n",
            "[192]\tvalidation_0-logloss:0.029997\n",
            "[193]\tvalidation_0-logloss:0.029966\n",
            "[194]\tvalidation_0-logloss:0.029953\n",
            "[195]\tvalidation_0-logloss:0.029988\n",
            "[196]\tvalidation_0-logloss:0.030013\n",
            "[197]\tvalidation_0-logloss:0.029993\n",
            "[198]\tvalidation_0-logloss:0.030004\n",
            "[199]\tvalidation_0-logloss:0.030015\n"
          ],
          "name": "stdout"
        },
        {
          "output_type": "execute_result",
          "data": {
            "text/plain": [
              "XGBClassifier(base_score=0.5, booster='gbtree', colsample_bylevel=1,\n",
              "              colsample_bynode=1, colsample_bytree=1, gamma=0,\n",
              "              learning_rate=0.05, max_delta_step=0, max_depth=10,\n",
              "              min_child_weight=1, missing=None, n_estimators=200, n_jobs=1,\n",
              "              nthread=None, objective='binary:logistic', random_state=0,\n",
              "              reg_alpha=0, reg_lambda=1, scale_pos_weight=1, seed=None,\n",
              "              silent=None, subsample=1, verbosity=1)"
            ]
          },
          "metadata": {
            "tags": []
          },
          "execution_count": 26
        }
      ]
    },
    {
      "cell_type": "code",
      "metadata": {
        "id": "BhkzH76w-6h1",
        "colab": {
          "base_uri": "https://localhost:8080/"
        },
        "outputId": "1d96ff40-108c-4ec5-97b0-372c86b72ba2"
      },
      "source": [
        "xgb = XGBClassifier()\n",
        "\n",
        "xgb_param_grid = {\n",
        "    'n_estimators' : [100, 200, 400, 500, 600],\n",
        "    'learning_rate' : [0.01, 0.05, 0.1, 0.15, 0.2],\n",
        "    'max_depth' : [4, 6, 8, 10, 12],\n",
        "}\n",
        "# sklearn.metrics.SCORERS.keys()\n",
        "xgb_grid = GridSearchCV(xgb, param_grid = xgb_param_grid, scoring=\"roc_auc\", n_jobs= 1, verbose = 1)\n",
        "xgb_grid.fit(X_train, y_train)"
      ],
      "execution_count": null,
      "outputs": [
        {
          "output_type": "stream",
          "text": [
            "Fitting 5 folds for each of 125 candidates, totalling 625 fits\n"
          ],
          "name": "stdout"
        },
        {
          "output_type": "stream",
          "text": [
            "[Parallel(n_jobs=1)]: Using backend SequentialBackend with 1 concurrent workers.\n",
            "[Parallel(n_jobs=1)]: Done 625 out of 625 | elapsed: 37.0min finished\n"
          ],
          "name": "stderr"
        },
        {
          "output_type": "execute_result",
          "data": {
            "text/plain": [
              "GridSearchCV(cv=None, error_score=nan,\n",
              "             estimator=XGBClassifier(base_score=0.5, booster='gbtree',\n",
              "                                     colsample_bylevel=1, colsample_bynode=1,\n",
              "                                     colsample_bytree=1, gamma=0,\n",
              "                                     learning_rate=0.1, max_delta_step=0,\n",
              "                                     max_depth=3, min_child_weight=1,\n",
              "                                     missing=None, n_estimators=100, n_jobs=1,\n",
              "                                     nthread=None, objective='binary:logistic',\n",
              "                                     random_state=0, reg_alpha=0, reg_lambda=1,\n",
              "                                     scale_pos_weight=1, seed=None, silent=None,\n",
              "                                     subsample=1, verbosity=1),\n",
              "             iid='deprecated', n_jobs=1,\n",
              "             param_grid={'learning_rate': [0.01, 0.05, 0.1, 0.15, 0.2],\n",
              "                         'max_depth': [4, 6, 8, 10, 12],\n",
              "                         'n_estimators': [100, 200, 400, 500, 600]},\n",
              "             pre_dispatch='2*n_jobs', refit=True, return_train_score=False,\n",
              "             scoring='roc_auc', verbose=1)"
            ]
          },
          "metadata": {
            "tags": []
          },
          "execution_count": 27
        }
      ]
    },
    {
      "cell_type": "code",
      "metadata": {
        "id": "3CuJHa-M_BIv",
        "colab": {
          "base_uri": "https://localhost:8080/"
        },
        "outputId": "c6ef2c9c-0d79-48e9-99b3-ea5e49cebd5e"
      },
      "source": [
        "print(\"최고 평균 auc : {0:.4f}\".format(xgb_grid.best_score_))\n",
        "print(\"최고의 파라미터 : \", xgb_grid.best_params_)\n",
        "print(\"최고 점수를 낸 파라미터를 가진 모형 : \", xgb_grid.best_estimator_)"
      ],
      "execution_count": null,
      "outputs": [
        {
          "output_type": "stream",
          "text": [
            "최고 평균 auc : 0.9915\n",
            "최고의 파라미터 :  {'learning_rate': 0.2, 'max_depth': 4, 'n_estimators': 100}\n",
            "최고 점수를 낸 파라미터를 가진 모형 :  XGBClassifier(base_score=0.5, booster='gbtree', colsample_bylevel=1,\n",
            "              colsample_bynode=1, colsample_bytree=1, gamma=0,\n",
            "              learning_rate=0.2, max_delta_step=0, max_depth=4,\n",
            "              min_child_weight=1, missing=None, n_estimators=100, n_jobs=1,\n",
            "              nthread=None, objective='binary:logistic', random_state=0,\n",
            "              reg_alpha=0, reg_lambda=1, scale_pos_weight=1, seed=None,\n",
            "              silent=None, subsample=1, verbosity=1)\n"
          ],
          "name": "stdout"
        }
      ]
    },
    {
      "cell_type": "code",
      "metadata": {
        "id": "8UKeVOhB_FFh"
      },
      "source": [
        "result = pd.DataFrame(xgb_grid.cv_results_)\n",
        "result.sort_values(by=['rank_test_score'], inplace=True)"
      ],
      "execution_count": null,
      "outputs": []
    },
    {
      "cell_type": "code",
      "metadata": {
        "id": "f4OZLWrJ_KHS",
        "colab": {
          "base_uri": "https://localhost:8080/",
          "height": 359
        },
        "outputId": "7d275acf-77f4-452e-a3be-d983b65f6e9b"
      },
      "source": [
        "result[['params', 'mean_test_score', 'rank_test_score']].head(10)"
      ],
      "execution_count": null,
      "outputs": [
        {
          "output_type": "execute_result",
          "data": {
            "text/html": [
              "<div>\n",
              "<style scoped>\n",
              "    .dataframe tbody tr th:only-of-type {\n",
              "        vertical-align: middle;\n",
              "    }\n",
              "\n",
              "    .dataframe tbody tr th {\n",
              "        vertical-align: top;\n",
              "    }\n",
              "\n",
              "    .dataframe thead th {\n",
              "        text-align: right;\n",
              "    }\n",
              "</style>\n",
              "<table border=\"1\" class=\"dataframe\">\n",
              "  <thead>\n",
              "    <tr style=\"text-align: right;\">\n",
              "      <th></th>\n",
              "      <th>params</th>\n",
              "      <th>mean_test_score</th>\n",
              "      <th>rank_test_score</th>\n",
              "    </tr>\n",
              "  </thead>\n",
              "  <tbody>\n",
              "    <tr>\n",
              "      <th>100</th>\n",
              "      <td>{'learning_rate': 0.2, 'max_depth': 4, 'n_esti...</td>\n",
              "      <td>0.991524</td>\n",
              "      <td>1</td>\n",
              "    </tr>\n",
              "    <tr>\n",
              "      <th>85</th>\n",
              "      <td>{'learning_rate': 0.15, 'max_depth': 8, 'n_est...</td>\n",
              "      <td>0.991129</td>\n",
              "      <td>2</td>\n",
              "    </tr>\n",
              "    <tr>\n",
              "      <th>36</th>\n",
              "      <td>{'learning_rate': 0.05, 'max_depth': 8, 'n_est...</td>\n",
              "      <td>0.991116</td>\n",
              "      <td>3</td>\n",
              "    </tr>\n",
              "    <tr>\n",
              "      <th>32</th>\n",
              "      <td>{'learning_rate': 0.05, 'max_depth': 6, 'n_est...</td>\n",
              "      <td>0.990880</td>\n",
              "      <td>4</td>\n",
              "    </tr>\n",
              "    <tr>\n",
              "      <th>37</th>\n",
              "      <td>{'learning_rate': 0.05, 'max_depth': 8, 'n_est...</td>\n",
              "      <td>0.990717</td>\n",
              "      <td>5</td>\n",
              "    </tr>\n",
              "    <tr>\n",
              "      <th>86</th>\n",
              "      <td>{'learning_rate': 0.15, 'max_depth': 8, 'n_est...</td>\n",
              "      <td>0.990647</td>\n",
              "      <td>6</td>\n",
              "    </tr>\n",
              "    <tr>\n",
              "      <th>60</th>\n",
              "      <td>{'learning_rate': 0.1, 'max_depth': 8, 'n_esti...</td>\n",
              "      <td>0.990639</td>\n",
              "      <td>7</td>\n",
              "    </tr>\n",
              "    <tr>\n",
              "      <th>42</th>\n",
              "      <td>{'learning_rate': 0.05, 'max_depth': 10, 'n_es...</td>\n",
              "      <td>0.990583</td>\n",
              "      <td>8</td>\n",
              "    </tr>\n",
              "    <tr>\n",
              "      <th>38</th>\n",
              "      <td>{'learning_rate': 0.05, 'max_depth': 8, 'n_est...</td>\n",
              "      <td>0.990566</td>\n",
              "      <td>9</td>\n",
              "    </tr>\n",
              "    <tr>\n",
              "      <th>61</th>\n",
              "      <td>{'learning_rate': 0.1, 'max_depth': 8, 'n_esti...</td>\n",
              "      <td>0.990538</td>\n",
              "      <td>10</td>\n",
              "    </tr>\n",
              "  </tbody>\n",
              "</table>\n",
              "</div>"
            ],
            "text/plain": [
              "                                                params  ...  rank_test_score\n",
              "100  {'learning_rate': 0.2, 'max_depth': 4, 'n_esti...  ...                1\n",
              "85   {'learning_rate': 0.15, 'max_depth': 8, 'n_est...  ...                2\n",
              "36   {'learning_rate': 0.05, 'max_depth': 8, 'n_est...  ...                3\n",
              "32   {'learning_rate': 0.05, 'max_depth': 6, 'n_est...  ...                4\n",
              "37   {'learning_rate': 0.05, 'max_depth': 8, 'n_est...  ...                5\n",
              "86   {'learning_rate': 0.15, 'max_depth': 8, 'n_est...  ...                6\n",
              "60   {'learning_rate': 0.1, 'max_depth': 8, 'n_esti...  ...                7\n",
              "42   {'learning_rate': 0.05, 'max_depth': 10, 'n_es...  ...                8\n",
              "38   {'learning_rate': 0.05, 'max_depth': 8, 'n_est...  ...                9\n",
              "61   {'learning_rate': 0.1, 'max_depth': 8, 'n_esti...  ...               10\n",
              "\n",
              "[10 rows x 3 columns]"
            ]
          },
          "metadata": {
            "tags": []
          },
          "execution_count": 30
        }
      ]
    },
    {
      "cell_type": "code",
      "metadata": {
        "id": "uKROyLL5_MKW",
        "colab": {
          "base_uri": "https://localhost:8080/"
        },
        "outputId": "c3f9009f-451e-4433-ce76-6819bc333211"
      },
      "source": [
        "import joblib\n",
        "\n",
        "xgb2 = xgb_grid.best_estimator_\n",
        "xgb2.fit(X_train, y_train)\n",
        "joblib.dump(xgb2, './xgb_1v30_model_2day_yn.pkl')"
      ],
      "execution_count": null,
      "outputs": [
        {
          "output_type": "execute_result",
          "data": {
            "text/plain": [
              "['./xgb_1v30_model_2day_yn.pkl']"
            ]
          },
          "metadata": {
            "tags": []
          },
          "execution_count": 31
        }
      ]
    },
    {
      "cell_type": "code",
      "metadata": {
        "colab": {
          "base_uri": "https://localhost:8080/"
        },
        "id": "7xqjvbZdMHoX",
        "outputId": "911435b0-0446-43dd-9b2c-e934f1b04c54"
      },
      "source": [
        "xgb2_pred = xgb2.predict(X_test)\n",
        "metrics(y_test, xgb2_pred)"
      ],
      "execution_count": null,
      "outputs": [
        {
          "output_type": "stream",
          "text": [
            "정확도 : 0.99, 정밀도 : 0.96, 재현율 : 0.78\n",
            "f1-score : 0.86, auc : 0.89\n"
          ],
          "name": "stdout"
        }
      ]
    },
    {
      "cell_type": "markdown",
      "metadata": {
        "id": "KsIAcoQ8WbLl"
      },
      "source": [
        "# Submission 실행"
      ]
    },
    {
      "cell_type": "code",
      "metadata": {
        "id": "xb-kuYkAWeBK"
      },
      "source": [
        "# Merged_data_file\n",
        "Merged_2020 = pd.read_csv('../A2W/데이터/data_submission/merge_s_h_a20.csv')\n",
        "# Test 검증 데이터셋\n",
        "test_input = pd.read_csv('../A2W/데이터/data_submission/input.csv', encoding = 'cp949')"
      ],
      "execution_count": null,
      "outputs": []
    },
    {
      "cell_type": "code",
      "metadata": {
        "id": "Epg_Zmq5WkEm"
      },
      "source": [
        "# 훈련된 모델로 결과 도출 : day1 함수\n",
        "def day1_data_test(sgg, umd, date):    \n",
        "    # sgg 데이터와 umd 데이터, date를 통한 추출\n",
        "    text = sgg + ' ' + umd\n",
        "    # specific 자체가 학습 돌린 결과 참고해서 input으로 만들어야 됨\n",
        "    test_day1 = Merged_2020[Merged_2020['umd2'].str.contains(text.rstrip()) & Merged_2020['tm'].str.contains(date)]\n",
        "    test_specific_day1 = test_day1[['maxTa','minTa','avgTa','EIGHT_AGL','mi10MaxRn', 'hr1MaxRn', 'sumRnDur', 'sumRn', 'maxInsWs', \n",
        "                                    'maxWs', 'avgWs','minRhm','avgRhm','n99Rn', 'PRRCK_LARG', 'PRRCK_MDDL','LOCTN_ALTT','LOCTN_GRDN',\n",
        "                                    'CLZN_CD','TPGRP_TPCD','PRDN_FOM_C','SLDPT_TPCD','SLANT_TYP','SCSTX_CD','SLTP_CD','STORUNST','FROR_CD',\n",
        "                                    'FRTP_CD','KOFTR_GROU','DMCLS_CD','AGCLS_CD','HEIGHT']]\n",
        "    fillna_test_specific_day1 = test_specific_day1.fillna(0)\n",
        "    model_pred = xgb1.predict(fillna_test_specific_day1.to_numpy())\n",
        "    return model_pred\n",
        "\n",
        "# 훈련된 모델로 결과 도출 : day2 함수\n",
        "def day2_data_test(sgg, umd, date):    \n",
        "    # sgg 데이터와 umd 데이터, date를 통한 추출\n",
        "    text = sgg + ' ' + umd\n",
        "    # specific 자체가 학습 돌린 결과 참고해서 input으로 만들어야 됨\n",
        "    test_day2 = Merged_2020[Merged_2020['umd2'].str.contains(text.rstrip()) & Merged_2020['tm'].str.contains(date)]\n",
        "    test_specific_day2 = test_day2[['maxTa','minTa','avgTa','EIGHT_AGL','mi10MaxRn', 'hr1MaxRn', 'sumRnDur', 'sumRn', 'maxInsWs',\n",
        "                                    'maxWs', 'avgWs','minRhm','avgRhm','n99Rn', 'PRRCK_LARG', 'PRRCK_MDDL','LOCTN_ALTT','LOCTN_GRDN',\n",
        "                                    'CLZN_CD','TPGRP_TPCD','PRDN_FOM_C','SLDPT_TPCD','SLANT_TYP','SCSTX_CD','SLTP_CD','STORUNST','FROR_CD',\n",
        "                                    'FRTP_CD','KOFTR_GROU','DMCLS_CD','AGCLS_CD','HEIGHT']]\n",
        "    fillna_test_specific_day2 = test_specific_day2.fillna(0)\n",
        "    model_pred = xgb2.predict(fillna_test_specific_day2.to_numpy())\n",
        "    return model_pred"
      ],
      "execution_count": null,
      "outputs": []
    },
    {
      "cell_type": "code",
      "metadata": {
        "colab": {
          "base_uri": "https://localhost:8080/",
          "height": 340
        },
        "id": "Yx_h_cmAXbNE",
        "outputId": "50e2f0c2-3a15-411c-c593-3caf3d2573cc"
      },
      "source": [
        "length_test_input = len(test_input.index)\n",
        "\n",
        "#day_1 data\n",
        "for index in range(length_test_input):\n",
        "    if test_input['umd'][index] == \"삼거동\":\n",
        "        input_date = test_input['date'][index]\n",
        "        input_sgg = test_input['sgg'][index]\n",
        "        input_umd = \"상문동\"\n",
        "    elif test_input['umd'][index] == \"어곡동\":\n",
        "        input_date = test_input['date'][index]\n",
        "        input_sgg = test_input['sgg'][index]\n",
        "        input_umd = \"강서동\"\n",
        "    elif test_input['umd'][index] == \"주진동\":\n",
        "        input_date = test_input['date'][index]\n",
        "        input_sgg = test_input['sgg'][index]\n",
        "        input_umd = \"소주동\"\n",
        "    elif test_input['umd'][index] == \"시동\":\n",
        "        input_date = test_input['date'][index]\n",
        "        input_sgg = test_input['sgg'][index]\n",
        "        input_umd = \"불국동\"\n",
        "    elif test_input['umd'][index] == \"덕곡동\":\n",
        "        input_date = test_input['date'][index]\n",
        "        input_sgg = test_input['sgg'][index]\n",
        "        input_umd = \"지좌동\"\n",
        "    elif test_input['umd'][index] == \"조와동\":\n",
        "        input_date = test_input['date'][index]\n",
        "        input_sgg = test_input['sgg'][index]\n",
        "        input_umd = \"상망동\"\n",
        "    else:\n",
        "        input_date = test_input['date'][index]\n",
        "        input_sgg = test_input['sgg'][index]\n",
        "        input_umd = test_input['umd'][index]\n",
        "    test_input['1day_yn'][index] = day1_data_test(input_sgg, input_umd, input_date)\n",
        "        \n",
        "\n",
        "#day_2 data\n",
        "for index in range(length_test_input):\n",
        "    if test_input['umd'][index] == \"삼거동\":\n",
        "        input_date = test_input['date'][index]\n",
        "        input_sgg = test_input['sgg'][index]\n",
        "        input_umd = \"상문동\"\n",
        "    elif test_input['umd'][index] == \"어곡동\":\n",
        "        input_date = test_input['date'][index]\n",
        "        input_sgg = test_input['sgg'][index]\n",
        "        input_umd = \"강서동\"\n",
        "    elif test_input['umd'][index] == \"주진동\":\n",
        "        input_date = test_input['date'][index]\n",
        "        input_sgg = test_input['sgg'][index]\n",
        "        input_umd = \"소주동\"\n",
        "    elif test_input['umd'][index] == \"시동\":\n",
        "        input_date = test_input['date'][index]\n",
        "        input_sgg = test_input['sgg'][index]\n",
        "        input_umd = \"불국동\"\n",
        "    elif test_input['umd'][index] == \"덕곡동\":\n",
        "        input_date = test_input['date'][index]\n",
        "        input_sgg = test_input['sgg'][index]\n",
        "        input_umd = \"지좌동\"\n",
        "    elif test_input['umd'][index] == \"조와동\":\n",
        "        input_date = test_input['date'][index]\n",
        "        input_sgg = test_input['sgg'][index]\n",
        "        input_umd = \"상망동\"\n",
        "    else:\n",
        "        input_date = test_input['date'][index]\n",
        "        input_sgg = test_input['sgg'][index]\n",
        "        input_umd = test_input['umd'][index]\n",
        "    test_input['2day_yn'][index] = day2_data_test(input_sgg, input_umd, input_date)\n",
        "\n",
        "\n",
        "test_input.head()"
      ],
      "execution_count": null,
      "outputs": [
        {
          "output_type": "stream",
          "text": [
            "/usr/local/lib/python3.7/dist-packages/ipykernel_launcher.py:33: SettingWithCopyWarning: \n",
            "A value is trying to be set on a copy of a slice from a DataFrame\n",
            "\n",
            "See the caveats in the documentation: https://pandas.pydata.org/pandas-docs/stable/user_guide/indexing.html#returning-a-view-versus-a-copy\n",
            "/usr/local/lib/python3.7/dist-packages/ipykernel_launcher.py:66: SettingWithCopyWarning: \n",
            "A value is trying to be set on a copy of a slice from a DataFrame\n",
            "\n",
            "See the caveats in the documentation: https://pandas.pydata.org/pandas-docs/stable/user_guide/indexing.html#returning-a-view-versus-a-copy\n"
          ],
          "name": "stderr"
        },
        {
          "output_type": "execute_result",
          "data": {
            "text/html": [
              "<div>\n",
              "<style scoped>\n",
              "    .dataframe tbody tr th:only-of-type {\n",
              "        vertical-align: middle;\n",
              "    }\n",
              "\n",
              "    .dataframe tbody tr th {\n",
              "        vertical-align: top;\n",
              "    }\n",
              "\n",
              "    .dataframe thead th {\n",
              "        text-align: right;\n",
              "    }\n",
              "</style>\n",
              "<table border=\"1\" class=\"dataframe\">\n",
              "  <thead>\n",
              "    <tr style=\"text-align: right;\">\n",
              "      <th></th>\n",
              "      <th>date</th>\n",
              "      <th>sd</th>\n",
              "      <th>sgg</th>\n",
              "      <th>umd</th>\n",
              "      <th>1day</th>\n",
              "      <th>1day_yn</th>\n",
              "      <th>2day</th>\n",
              "      <th>2day_yn</th>\n",
              "    </tr>\n",
              "  </thead>\n",
              "  <tbody>\n",
              "    <tr>\n",
              "      <th>0</th>\n",
              "      <td>2020-06-10</td>\n",
              "      <td>경상남도</td>\n",
              "      <td>사천시</td>\n",
              "      <td>곤명면</td>\n",
              "      <td>2020-06-11</td>\n",
              "      <td>0.0</td>\n",
              "      <td>2020-06-12</td>\n",
              "      <td>0.0</td>\n",
              "    </tr>\n",
              "    <tr>\n",
              "      <th>1</th>\n",
              "      <td>2020-06-11</td>\n",
              "      <td>경상남도</td>\n",
              "      <td>사천시</td>\n",
              "      <td>곤명면</td>\n",
              "      <td>2020-06-12</td>\n",
              "      <td>0.0</td>\n",
              "      <td>2020-06-13</td>\n",
              "      <td>0.0</td>\n",
              "    </tr>\n",
              "    <tr>\n",
              "      <th>2</th>\n",
              "      <td>2020-06-12</td>\n",
              "      <td>경상남도</td>\n",
              "      <td>사천시</td>\n",
              "      <td>곤명면</td>\n",
              "      <td>2020-06-13</td>\n",
              "      <td>0.0</td>\n",
              "      <td>2020-06-14</td>\n",
              "      <td>0.0</td>\n",
              "    </tr>\n",
              "    <tr>\n",
              "      <th>3</th>\n",
              "      <td>2020-06-10</td>\n",
              "      <td>경상남도</td>\n",
              "      <td>사천시</td>\n",
              "      <td>곤양면</td>\n",
              "      <td>2020-06-11</td>\n",
              "      <td>0.0</td>\n",
              "      <td>2020-06-12</td>\n",
              "      <td>0.0</td>\n",
              "    </tr>\n",
              "    <tr>\n",
              "      <th>4</th>\n",
              "      <td>2020-06-11</td>\n",
              "      <td>경상남도</td>\n",
              "      <td>사천시</td>\n",
              "      <td>곤양면</td>\n",
              "      <td>2020-06-12</td>\n",
              "      <td>0.0</td>\n",
              "      <td>2020-06-13</td>\n",
              "      <td>0.0</td>\n",
              "    </tr>\n",
              "  </tbody>\n",
              "</table>\n",
              "</div>"
            ],
            "text/plain": [
              "         date    sd  sgg  umd        1day  1day_yn        2day  2day_yn\n",
              "0  2020-06-10  경상남도  사천시  곤명면  2020-06-11      0.0  2020-06-12      0.0\n",
              "1  2020-06-11  경상남도  사천시  곤명면  2020-06-12      0.0  2020-06-13      0.0\n",
              "2  2020-06-12  경상남도  사천시  곤명면  2020-06-13      0.0  2020-06-14      0.0\n",
              "3  2020-06-10  경상남도  사천시  곤양면  2020-06-11      0.0  2020-06-12      0.0\n",
              "4  2020-06-11  경상남도  사천시  곤양면  2020-06-12      0.0  2020-06-13      0.0"
            ]
          },
          "metadata": {
            "tags": []
          },
          "execution_count": 35
        }
      ]
    },
    {
      "cell_type": "code",
      "metadata": {
        "colab": {
          "base_uri": "https://localhost:8080/"
        },
        "id": "tGUPog5CXczN",
        "outputId": "b9f9c544-bdf6-4d9a-8aa6-8e997e98a7f4"
      },
      "source": [
        "test_input[\"1day_yn\"].value_counts()"
      ],
      "execution_count": null,
      "outputs": [
        {
          "output_type": "execute_result",
          "data": {
            "text/plain": [
              "0.0    3397\n",
              "1.0      13\n",
              "Name: 1day_yn, dtype: int64"
            ]
          },
          "metadata": {
            "tags": []
          },
          "execution_count": 36
        }
      ]
    },
    {
      "cell_type": "code",
      "metadata": {
        "colab": {
          "base_uri": "https://localhost:8080/"
        },
        "id": "dDVcmOseXeZI",
        "outputId": "da5c427e-921a-4fbd-9716-6bd80dc9ad57"
      },
      "source": [
        "test_input[\"2day_yn\"].value_counts()"
      ],
      "execution_count": null,
      "outputs": [
        {
          "output_type": "execute_result",
          "data": {
            "text/plain": [
              "0.0    3410\n",
              "Name: 2day_yn, dtype: int64"
            ]
          },
          "metadata": {
            "tags": []
          },
          "execution_count": 37
        }
      ]
    },
    {
      "cell_type": "code",
      "metadata": {
        "id": "tSi6kCXSXfcl"
      },
      "source": [
        "test_input.to_csv(\"xgb_1v30_model.csv\", index=False, encoding='cp949')"
      ],
      "execution_count": null,
      "outputs": []
    }
  ]
}