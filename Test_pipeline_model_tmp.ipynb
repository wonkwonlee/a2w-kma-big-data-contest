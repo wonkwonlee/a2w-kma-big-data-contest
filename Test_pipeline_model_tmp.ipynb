{
  "nbformat": 4,
  "nbformat_minor": 0,
  "metadata": {
    "colab": {
      "name": "Test_pipeline_model_tmp.ipynb",
      "provenance": [],
      "collapsed_sections": [],
      "include_colab_link": true
    },
    "kernelspec": {
      "display_name": "Python 3",
      "language": "python",
      "name": "python3"
    },
    "language_info": {
      "codemirror_mode": {
        "name": "ipython",
        "version": 3
      },
      "file_extension": ".py",
      "mimetype": "text/x-python",
      "name": "python",
      "nbconvert_exporter": "python",
      "pygments_lexer": "ipython3",
      "version": "3.8.8"
    }
  },
  "cells": [
    {
      "cell_type": "markdown",
      "metadata": {
        "id": "view-in-github",
        "colab_type": "text"
      },
      "source": [
        "<a href=\"https://colab.research.google.com/github/wonkwonlee/a2w-kma-big-data-contest/blob/main/Test_pipeline_model_tmp.ipynb\" target=\"_parent\"><img src=\"https://colab.research.google.com/assets/colab-badge.svg\" alt=\"Open In Colab\"/></a>"
      ]
    },
    {
      "cell_type": "code",
      "metadata": {
        "colab": {
          "base_uri": "https://localhost:8080/"
        },
        "id": "08iwF1ADtbLf",
        "outputId": "aa46a1f8-dfdd-4f56-c18e-9300774c0e3e"
      },
      "source": [
        "from google.colab import drive\n",
        "drive.mount('/content/drive')"
      ],
      "execution_count": 1,
      "outputs": [
        {
          "output_type": "stream",
          "text": [
            "Mounted at /content/drive\n"
          ],
          "name": "stdout"
        }
      ]
    },
    {
      "cell_type": "code",
      "metadata": {
        "id": "5IwZrukbtdhI"
      },
      "source": [
        "# 경로 설정 \n",
        "import os\n",
        "os.chdir('/content/drive/MyDrive/A2W/데이터/data_submission')"
      ],
      "execution_count": 79,
      "outputs": []
    },
    {
      "cell_type": "code",
      "metadata": {
        "id": "eR3bwa2IaVXd"
      },
      "source": [
        "import pandas as pd\n",
        "import csv"
      ],
      "execution_count": 3,
      "outputs": []
    },
    {
      "cell_type": "code",
      "metadata": {
        "colab": {
          "base_uri": "https://localhost:8080/",
          "height": 394
        },
        "id": "k1fdD73js9uJ",
        "outputId": "9bee5ca5-83fe-4d98-c294-f4a9a5207156"
      },
      "source": [
        "# Merged_data_file\n",
        "Merged_2020 = pd.read_csv('merge_s_h_a20.csv')\n",
        "Merged_2020.head()"
      ],
      "execution_count": 80,
      "outputs": [
        {
          "output_type": "execute_result",
          "data": {
            "text/html": [
              "<div>\n",
              "<style scoped>\n",
              "    .dataframe tbody tr th:only-of-type {\n",
              "        vertical-align: middle;\n",
              "    }\n",
              "\n",
              "    .dataframe tbody tr th {\n",
              "        vertical-align: top;\n",
              "    }\n",
              "\n",
              "    .dataframe thead th {\n",
              "        text-align: right;\n",
              "    }\n",
              "</style>\n",
              "<table border=\"1\" class=\"dataframe\">\n",
              "  <thead>\n",
              "    <tr style=\"text-align: right;\">\n",
              "      <th></th>\n",
              "      <th>tm</th>\n",
              "      <th>stnId</th>\n",
              "      <th>stnNm</th>\n",
              "      <th>umd</th>\n",
              "      <th>sgg</th>\n",
              "      <th>umd2</th>\n",
              "      <th>avgTa</th>\n",
              "      <th>minTa</th>\n",
              "      <th>maxTa</th>\n",
              "      <th>mi10MaxRn</th>\n",
              "      <th>hr1MaxRn</th>\n",
              "      <th>sumRnDur</th>\n",
              "      <th>sumRn</th>\n",
              "      <th>maxInsWs</th>\n",
              "      <th>maxWs</th>\n",
              "      <th>avgWs</th>\n",
              "      <th>minRhm</th>\n",
              "      <th>avgRhm</th>\n",
              "      <th>n99Rn</th>\n",
              "      <th>PRRCK_LARG</th>\n",
              "      <th>PRRCK_MDDL</th>\n",
              "      <th>LOCTN_ALTT</th>\n",
              "      <th>LOCTN_GRDN</th>\n",
              "      <th>EIGHT_AGL</th>\n",
              "      <th>CLZN_CD</th>\n",
              "      <th>TPGRP_TPCD</th>\n",
              "      <th>PRDN_FOM_C</th>\n",
              "      <th>SLANT_TYP</th>\n",
              "      <th>SLDPT_TPCD</th>\n",
              "      <th>SCSTX_CD</th>\n",
              "      <th>SLTP_CD</th>\n",
              "      <th>STORUNST</th>\n",
              "      <th>FROR_CD</th>\n",
              "      <th>FRTP_CD</th>\n",
              "      <th>KOFTR_GROU</th>\n",
              "      <th>DMCLS_CD</th>\n",
              "      <th>AGCLS_CD</th>\n",
              "      <th>HEIGHT</th>\n",
              "    </tr>\n",
              "  </thead>\n",
              "  <tbody>\n",
              "    <tr>\n",
              "      <th>0</th>\n",
              "      <td>2020-01-01</td>\n",
              "      <td>115</td>\n",
              "      <td>울릉도</td>\n",
              "      <td>울릉읍</td>\n",
              "      <td>울릉군</td>\n",
              "      <td>울릉군 울릉읍</td>\n",
              "      <td>2.1</td>\n",
              "      <td>-0.6</td>\n",
              "      <td>3.8</td>\n",
              "      <td>0.0</td>\n",
              "      <td>0.0</td>\n",
              "      <td>0.00</td>\n",
              "      <td>0.0</td>\n",
              "      <td>7.9</td>\n",
              "      <td>4.0</td>\n",
              "      <td>1.8</td>\n",
              "      <td>46.0</td>\n",
              "      <td>56.4</td>\n",
              "      <td>0.0</td>\n",
              "      <td>0</td>\n",
              "      <td>0</td>\n",
              "      <td>0.0</td>\n",
              "      <td>0.0</td>\n",
              "      <td>0.0</td>\n",
              "      <td>0</td>\n",
              "      <td>0</td>\n",
              "      <td>0</td>\n",
              "      <td>0</td>\n",
              "      <td>0</td>\n",
              "      <td>0</td>\n",
              "      <td>0</td>\n",
              "      <td>1.0</td>\n",
              "      <td>2.0</td>\n",
              "      <td>2.0</td>\n",
              "      <td>30.0</td>\n",
              "      <td>1.0</td>\n",
              "      <td>5.0</td>\n",
              "      <td>16.0</td>\n",
              "    </tr>\n",
              "    <tr>\n",
              "      <th>1</th>\n",
              "      <td>2020-01-02</td>\n",
              "      <td>115</td>\n",
              "      <td>울릉도</td>\n",
              "      <td>울릉읍</td>\n",
              "      <td>울릉군</td>\n",
              "      <td>울릉군 울릉읍</td>\n",
              "      <td>4.7</td>\n",
              "      <td>2.7</td>\n",
              "      <td>7.2</td>\n",
              "      <td>0.0</td>\n",
              "      <td>0.0</td>\n",
              "      <td>0.00</td>\n",
              "      <td>0.0</td>\n",
              "      <td>9.9</td>\n",
              "      <td>6.4</td>\n",
              "      <td>2.0</td>\n",
              "      <td>40.0</td>\n",
              "      <td>50.8</td>\n",
              "      <td>0.0</td>\n",
              "      <td>0</td>\n",
              "      <td>0</td>\n",
              "      <td>0.0</td>\n",
              "      <td>0.0</td>\n",
              "      <td>0.0</td>\n",
              "      <td>0</td>\n",
              "      <td>0</td>\n",
              "      <td>0</td>\n",
              "      <td>0</td>\n",
              "      <td>0</td>\n",
              "      <td>0</td>\n",
              "      <td>0</td>\n",
              "      <td>1.0</td>\n",
              "      <td>2.0</td>\n",
              "      <td>2.0</td>\n",
              "      <td>30.0</td>\n",
              "      <td>1.0</td>\n",
              "      <td>5.0</td>\n",
              "      <td>16.0</td>\n",
              "    </tr>\n",
              "    <tr>\n",
              "      <th>2</th>\n",
              "      <td>2020-01-03</td>\n",
              "      <td>115</td>\n",
              "      <td>울릉도</td>\n",
              "      <td>울릉읍</td>\n",
              "      <td>울릉군</td>\n",
              "      <td>울릉군 울릉읍</td>\n",
              "      <td>5.9</td>\n",
              "      <td>4.1</td>\n",
              "      <td>8.5</td>\n",
              "      <td>0.0</td>\n",
              "      <td>0.0</td>\n",
              "      <td>0.00</td>\n",
              "      <td>0.0</td>\n",
              "      <td>11.7</td>\n",
              "      <td>7.1</td>\n",
              "      <td>2.3</td>\n",
              "      <td>38.0</td>\n",
              "      <td>51.6</td>\n",
              "      <td>0.0</td>\n",
              "      <td>0</td>\n",
              "      <td>0</td>\n",
              "      <td>0.0</td>\n",
              "      <td>0.0</td>\n",
              "      <td>0.0</td>\n",
              "      <td>0</td>\n",
              "      <td>0</td>\n",
              "      <td>0</td>\n",
              "      <td>0</td>\n",
              "      <td>0</td>\n",
              "      <td>0</td>\n",
              "      <td>0</td>\n",
              "      <td>1.0</td>\n",
              "      <td>2.0</td>\n",
              "      <td>2.0</td>\n",
              "      <td>30.0</td>\n",
              "      <td>1.0</td>\n",
              "      <td>5.0</td>\n",
              "      <td>16.0</td>\n",
              "    </tr>\n",
              "    <tr>\n",
              "      <th>3</th>\n",
              "      <td>2020-01-04</td>\n",
              "      <td>115</td>\n",
              "      <td>울릉도</td>\n",
              "      <td>울릉읍</td>\n",
              "      <td>울릉군</td>\n",
              "      <td>울릉군 울릉읍</td>\n",
              "      <td>5.0</td>\n",
              "      <td>2.7</td>\n",
              "      <td>8.1</td>\n",
              "      <td>0.0</td>\n",
              "      <td>0.0</td>\n",
              "      <td>2.23</td>\n",
              "      <td>1.5</td>\n",
              "      <td>18.1</td>\n",
              "      <td>9.1</td>\n",
              "      <td>4.0</td>\n",
              "      <td>40.0</td>\n",
              "      <td>55.6</td>\n",
              "      <td>1.5</td>\n",
              "      <td>0</td>\n",
              "      <td>0</td>\n",
              "      <td>0.0</td>\n",
              "      <td>0.0</td>\n",
              "      <td>0.0</td>\n",
              "      <td>0</td>\n",
              "      <td>0</td>\n",
              "      <td>0</td>\n",
              "      <td>0</td>\n",
              "      <td>0</td>\n",
              "      <td>0</td>\n",
              "      <td>0</td>\n",
              "      <td>1.0</td>\n",
              "      <td>2.0</td>\n",
              "      <td>2.0</td>\n",
              "      <td>30.0</td>\n",
              "      <td>1.0</td>\n",
              "      <td>5.0</td>\n",
              "      <td>16.0</td>\n",
              "    </tr>\n",
              "    <tr>\n",
              "      <th>4</th>\n",
              "      <td>2020-01-05</td>\n",
              "      <td>115</td>\n",
              "      <td>울릉도</td>\n",
              "      <td>울릉읍</td>\n",
              "      <td>울릉군</td>\n",
              "      <td>울릉군 울릉읍</td>\n",
              "      <td>4.4</td>\n",
              "      <td>2.7</td>\n",
              "      <td>6.2</td>\n",
              "      <td>0.0</td>\n",
              "      <td>0.0</td>\n",
              "      <td>5.75</td>\n",
              "      <td>4.7</td>\n",
              "      <td>8.2</td>\n",
              "      <td>5.7</td>\n",
              "      <td>2.2</td>\n",
              "      <td>55.0</td>\n",
              "      <td>73.5</td>\n",
              "      <td>0.0</td>\n",
              "      <td>0</td>\n",
              "      <td>0</td>\n",
              "      <td>0.0</td>\n",
              "      <td>0.0</td>\n",
              "      <td>0.0</td>\n",
              "      <td>0</td>\n",
              "      <td>0</td>\n",
              "      <td>0</td>\n",
              "      <td>0</td>\n",
              "      <td>0</td>\n",
              "      <td>0</td>\n",
              "      <td>0</td>\n",
              "      <td>1.0</td>\n",
              "      <td>2.0</td>\n",
              "      <td>2.0</td>\n",
              "      <td>30.0</td>\n",
              "      <td>1.0</td>\n",
              "      <td>5.0</td>\n",
              "      <td>16.0</td>\n",
              "    </tr>\n",
              "  </tbody>\n",
              "</table>\n",
              "</div>"
            ],
            "text/plain": [
              "           tm  stnId stnNm  umd  ... KOFTR_GROU DMCLS_CD  AGCLS_CD  HEIGHT\n",
              "0  2020-01-01    115   울릉도  울릉읍  ...       30.0      1.0       5.0    16.0\n",
              "1  2020-01-02    115   울릉도  울릉읍  ...       30.0      1.0       5.0    16.0\n",
              "2  2020-01-03    115   울릉도  울릉읍  ...       30.0      1.0       5.0    16.0\n",
              "3  2020-01-04    115   울릉도  울릉읍  ...       30.0      1.0       5.0    16.0\n",
              "4  2020-01-05    115   울릉도  울릉읍  ...       30.0      1.0       5.0    16.0\n",
              "\n",
              "[5 rows x 38 columns]"
            ]
          },
          "metadata": {
            "tags": []
          },
          "execution_count": 80
        }
      ]
    },
    {
      "cell_type": "code",
      "metadata": {
        "colab": {
          "base_uri": "https://localhost:8080/",
          "height": 204
        },
        "id": "758nGi_Zs9uJ",
        "outputId": "b10cd423-ce99-478a-c6ec-b4d46757bc84"
      },
      "source": [
        "# Test 검증 데이터셋\n",
        "test_input = pd.read_csv('input.csv', encoding = 'cp949')\n",
        "test_input.head()"
      ],
      "execution_count": 5,
      "outputs": [
        {
          "output_type": "execute_result",
          "data": {
            "text/html": [
              "<div>\n",
              "<style scoped>\n",
              "    .dataframe tbody tr th:only-of-type {\n",
              "        vertical-align: middle;\n",
              "    }\n",
              "\n",
              "    .dataframe tbody tr th {\n",
              "        vertical-align: top;\n",
              "    }\n",
              "\n",
              "    .dataframe thead th {\n",
              "        text-align: right;\n",
              "    }\n",
              "</style>\n",
              "<table border=\"1\" class=\"dataframe\">\n",
              "  <thead>\n",
              "    <tr style=\"text-align: right;\">\n",
              "      <th></th>\n",
              "      <th>date</th>\n",
              "      <th>sd</th>\n",
              "      <th>sgg</th>\n",
              "      <th>umd</th>\n",
              "      <th>1day</th>\n",
              "      <th>1day_yn</th>\n",
              "      <th>2day</th>\n",
              "      <th>2day_yn</th>\n",
              "    </tr>\n",
              "  </thead>\n",
              "  <tbody>\n",
              "    <tr>\n",
              "      <th>0</th>\n",
              "      <td>2020-06-10</td>\n",
              "      <td>경상남도</td>\n",
              "      <td>사천시</td>\n",
              "      <td>곤명면</td>\n",
              "      <td>2020-06-11</td>\n",
              "      <td>NaN</td>\n",
              "      <td>2020-06-12</td>\n",
              "      <td>NaN</td>\n",
              "    </tr>\n",
              "    <tr>\n",
              "      <th>1</th>\n",
              "      <td>2020-06-11</td>\n",
              "      <td>경상남도</td>\n",
              "      <td>사천시</td>\n",
              "      <td>곤명면</td>\n",
              "      <td>2020-06-12</td>\n",
              "      <td>NaN</td>\n",
              "      <td>2020-06-13</td>\n",
              "      <td>NaN</td>\n",
              "    </tr>\n",
              "    <tr>\n",
              "      <th>2</th>\n",
              "      <td>2020-06-12</td>\n",
              "      <td>경상남도</td>\n",
              "      <td>사천시</td>\n",
              "      <td>곤명면</td>\n",
              "      <td>2020-06-13</td>\n",
              "      <td>NaN</td>\n",
              "      <td>2020-06-14</td>\n",
              "      <td>NaN</td>\n",
              "    </tr>\n",
              "    <tr>\n",
              "      <th>3</th>\n",
              "      <td>2020-06-10</td>\n",
              "      <td>경상남도</td>\n",
              "      <td>사천시</td>\n",
              "      <td>곤양면</td>\n",
              "      <td>2020-06-11</td>\n",
              "      <td>NaN</td>\n",
              "      <td>2020-06-12</td>\n",
              "      <td>NaN</td>\n",
              "    </tr>\n",
              "    <tr>\n",
              "      <th>4</th>\n",
              "      <td>2020-06-11</td>\n",
              "      <td>경상남도</td>\n",
              "      <td>사천시</td>\n",
              "      <td>곤양면</td>\n",
              "      <td>2020-06-12</td>\n",
              "      <td>NaN</td>\n",
              "      <td>2020-06-13</td>\n",
              "      <td>NaN</td>\n",
              "    </tr>\n",
              "  </tbody>\n",
              "</table>\n",
              "</div>"
            ],
            "text/plain": [
              "         date    sd  sgg  umd        1day  1day_yn        2day  2day_yn\n",
              "0  2020-06-10  경상남도  사천시  곤명면  2020-06-11      NaN  2020-06-12      NaN\n",
              "1  2020-06-11  경상남도  사천시  곤명면  2020-06-12      NaN  2020-06-13      NaN\n",
              "2  2020-06-12  경상남도  사천시  곤명면  2020-06-13      NaN  2020-06-14      NaN\n",
              "3  2020-06-10  경상남도  사천시  곤양면  2020-06-11      NaN  2020-06-12      NaN\n",
              "4  2020-06-11  경상남도  사천시  곤양면  2020-06-12      NaN  2020-06-13      NaN"
            ]
          },
          "metadata": {
            "tags": []
          },
          "execution_count": 5
        }
      ]
    },
    {
      "cell_type": "code",
      "metadata": {
        "colab": {
          "base_uri": "https://localhost:8080/",
          "height": 35
        },
        "id": "b58yGVvOs9uK",
        "outputId": "22e030dd-1a9a-49be-a006-72a41e6b90a8"
      },
      "source": [
        "# searching data 찾아야 됨\n",
        "def search_data(sgg, umd, date):\n",
        "    # sgg 데이터와 umd 데이터, date를 통한 추출\n",
        "    text = sgg + ' ' + umd\n",
        "    # specific 자체가 학습 돌린 결과 참고해서 input으로 만들어야 됨\n",
        "    specific = Merged_2020[Merged_2020['umd2'].str.contains(text.rstrip()) & Merged_2020['tm'].str.contains(date)]\n",
        "    return specific\n",
        "\n",
        "'''\n",
        "input 예시\n",
        "input_date = '2020-06-11' # 날짜 단위\n",
        "input_sgg = '울릉군' # 시 단위\n",
        "input_umd = '울릉읍' # 읍면동 단위\n",
        "'''"
      ],
      "execution_count": 6,
      "outputs": [
        {
          "output_type": "execute_result",
          "data": {
            "application/vnd.google.colaboratory.intrinsic+json": {
              "type": "string"
            },
            "text/plain": [
              "\"\\ninput 예시\\ninput_date = '2020-06-11' # 날짜 단위\\ninput_sgg = '울릉군' # 시 단위\\ninput_umd = '울릉읍' # 읍면동 단위\\n\""
            ]
          },
          "metadata": {
            "tags": []
          },
          "execution_count": 6
        }
      ]
    },
    {
      "cell_type": "code",
      "metadata": {
        "id": "-w2o2FPZs9uK"
      },
      "source": [
        "import tensorflow as tf\n",
        "from tensorflow import keras\n",
        "\n",
        "import os\n",
        "import tempfile\n",
        "\n",
        "import matplotlib as mpl\n",
        "import matplotlib.pyplot as plt\n",
        "import numpy as np\n",
        "import pandas as pd\n",
        "import seaborn as sns\n",
        "from sklearn.externals import joblib\n",
        "\n",
        "import sklearn\n",
        "from sklearn.tree import DecisionTreeClassifier\n",
        "from sklearn.ensemble import RandomForestClassifier\n",
        "from sklearn.metrics import confusion_matrix\n",
        "from sklearn.model_selection import train_test_split\n",
        "from sklearn.preprocessing import StandardScaler\n",
        "from sklearn.model_selection import train_test_split, GridSearchCV\n",
        "from sklearn.metrics import make_scorer, accuracy_score, precision_score, recall_score, f1_score, roc_auc_score\n",
        "from sklearn.linear_model import LogisticRegression\n",
        "\n",
        "\n",
        "from xgboost import plot_importance\n",
        "from xgboost import XGBClassifier"
      ],
      "execution_count": 9,
      "outputs": []
    },
    {
      "cell_type": "code",
      "metadata": {
        "id": "V1G1RP9IMlx8"
      },
      "source": [
        "os.chdir('/content/drive/MyDrive/A2W/데이터/model')"
      ],
      "execution_count": 10,
      "outputs": []
    },
    {
      "cell_type": "code",
      "metadata": {
        "id": "gsM270Uoq50j"
      },
      "source": [
        "xgb1 = joblib.load('xgb_best_model_1day_yn.pkl') \n",
        "xgb2 = joblib.load('xgb_best_model_2day_yn.pkl')"
      ],
      "execution_count": 11,
      "outputs": []
    },
    {
      "cell_type": "code",
      "metadata": {
        "id": "iYkB4WDIgXSZ"
      },
      "source": [
        "xgb1_cols = xgb1.get_booster().feature_names\n",
        "xgb2_cols = xgb2.get_booster().feature_names"
      ],
      "execution_count": 26,
      "outputs": []
    },
    {
      "cell_type": "code",
      "metadata": {
        "id": "0Jc-vMinrHC2"
      },
      "source": [
        "# 훈련된 모델로 결과 도출 : day1 함수\n",
        "def day1_data_test(sgg, umd, date):    \n",
        "    # sgg 데이터와 umd 데이터, date를 통한 추출\n",
        "    text = sgg + ' ' + umd\n",
        "    # specific 자체가 학습 돌린 결과 참고해서 input으로 만들어야 됨\n",
        "    test_day1 = Merged_2020[Merged_2020['umd2'].str.contains(text.rstrip()) & Merged_2020['tm'].str.contains(date)]\n",
        "    test_specific_day1 = test_day1[['maxTa','minTa','avgTa','EIGHT_AGL','stnId','mi10MaxRn','hr1MaxRn','sumRnDur',\n",
        "                                    'sumRn','maxInsWs','maxWs','avgWs','minRhm','avgRhm','n99Rn','PRRCK_LARG',\n",
        "                                    'PRRCK_MDDL','LOCTN_ALTT','LOCTN_GRDN','CLZN_CD','TPGRP_TPCD','PRDN_FOM_C',\n",
        "                                    'SLDPT_TPCD','SLANT_TYP','SCSTX_CD','SLTP_CD','STORUNST','FROR_CD','FRTP_CD',\n",
        "                                    'KOFTR_GROU','DMCLS_CD','AGCLS_CD','HEIGHT']]\n",
        "    # fillna_test_specific_day1 = test_specific_day1.fillna(0)\n",
        "    # df = pd.DataFrame[fillna_test_specific_day1]\n",
        "    model_pred = xgb1.predict(test_specific_day1)\n",
        "    return model_pred"
      ],
      "execution_count": 97,
      "outputs": []
    },
    {
      "cell_type": "code",
      "metadata": {
        "id": "haGc_GRDo9si"
      },
      "source": [
        "test_day1 = Merged_2020.loc[100]\n",
        "test_specific_day1 = test_day1[['maxTa','minTa','avgTa','EIGHT_AGL','stnId','mi10MaxRn','hr1MaxRn','sumRnDur',\n",
        "                                    'sumRn','maxInsWs','maxWs','avgWs','minRhm','avgRhm','n99Rn','PRRCK_LARG',\n",
        "                                    'PRRCK_MDDL','LOCTN_ALTT','LOCTN_GRDN','CLZN_CD','TPGRP_TPCD','PRDN_FOM_C',\n",
        "                                    'SLDPT_TPCD','SLANT_TYP','SCSTX_CD','SLTP_CD','STORUNST','FROR_CD','FRTP_CD',\n",
        "                                    'KOFTR_GROU','DMCLS_CD','AGCLS_CD','HEIGHT']]"
      ],
      "execution_count": 93,
      "outputs": []
    },
    {
      "cell_type": "code",
      "metadata": {
        "colab": {
          "base_uri": "https://localhost:8080/",
          "height": 460
        },
        "id": "DQrCpmbvlzmv",
        "outputId": "4b691938-918d-4484-ff7d-3b2a1a4acc4b"
      },
      "source": [
        "length_test_input = len(test_input.index)\n",
        "\n",
        "# for index in range(1):\n",
        "input_date = test_input['date'][1]\n",
        "input_sgg = test_input['sgg'][1]\n",
        "input_umd = test_input['umd'][1]\n",
        "\n",
        "text = input_sgg + ' ' + input_umd\n",
        "\n",
        "test_day1 = Merged_2020[Merged_2020['umd2'].str.contains(text.rstrip()) & Merged_2020['tm'].str.contains(input_date)]\n",
        "test_specific_day1 = test_day1[['maxTa','minTa','avgTa','EIGHT_AGL','stnId','mi10MaxRn','hr1MaxRn','sumRnDur',\n",
        "                                    'sumRn','maxInsWs','maxWs','avgWs','minRhm','avgRhm','n99Rn','PRRCK_LARG',\n",
        "                                    'PRRCK_MDDL','LOCTN_ALTT','LOCTN_GRDN','CLZN_CD','TPGRP_TPCD','PRDN_FOM_C',\n",
        "                                    'SLDPT_TPCD','SLANT_TYP','SCSTX_CD','SLTP_CD','STORUNST','FROR_CD','FRTP_CD',\n",
        "                                    'KOFTR_GROU','DMCLS_CD','AGCLS_CD','HEIGHT']]\n",
        "\n",
        "# test_specific_day1 = test_specific_day1[xgb1.get_booster().feature_names]\n",
        "model_pred = xgb1.predict(test_specific_day1.values)\n",
        "\n",
        "test_input['1day_yn'][1] = model_pred"
      ],
      "execution_count": 120,
      "outputs": [
        {
          "output_type": "error",
          "ename": "ValueError",
          "evalue": "ignored",
          "traceback": [
            "\u001b[0;31m---------------------------------------------------------------------------\u001b[0m",
            "\u001b[0;31mValueError\u001b[0m                                Traceback (most recent call last)",
            "\u001b[0;32m<ipython-input-120-249db436fa20>\u001b[0m in \u001b[0;36m<module>\u001b[0;34m()\u001b[0m\n\u001b[1;32m     18\u001b[0m \u001b[0;34m\u001b[0m\u001b[0m\n\u001b[1;32m     19\u001b[0m \u001b[0;31m# test_specific_day1 = test_specific_day1[xgb1.get_booster().feature_names]\u001b[0m\u001b[0;34m\u001b[0m\u001b[0;34m\u001b[0m\u001b[0;34m\u001b[0m\u001b[0m\n\u001b[0;32m---> 20\u001b[0;31m \u001b[0mmodel_pred\u001b[0m \u001b[0;34m=\u001b[0m \u001b[0mxgb1\u001b[0m\u001b[0;34m.\u001b[0m\u001b[0mpredict\u001b[0m\u001b[0;34m(\u001b[0m\u001b[0mtest_specific_day1\u001b[0m\u001b[0;34m.\u001b[0m\u001b[0mvalues\u001b[0m\u001b[0;34m)\u001b[0m\u001b[0;34m\u001b[0m\u001b[0;34m\u001b[0m\u001b[0m\n\u001b[0m\u001b[1;32m     21\u001b[0m \u001b[0;34m\u001b[0m\u001b[0m\n\u001b[1;32m     22\u001b[0m \u001b[0mtest_input\u001b[0m\u001b[0;34m[\u001b[0m\u001b[0;34m'1day_yn'\u001b[0m\u001b[0;34m]\u001b[0m\u001b[0;34m[\u001b[0m\u001b[0;36m1\u001b[0m\u001b[0;34m]\u001b[0m \u001b[0;34m=\u001b[0m \u001b[0mmodel_pred\u001b[0m\u001b[0;34m\u001b[0m\u001b[0;34m\u001b[0m\u001b[0m\n",
            "\u001b[0;32m/usr/local/lib/python3.7/dist-packages/xgboost/sklearn.py\u001b[0m in \u001b[0;36mpredict\u001b[0;34m(self, data, output_margin, ntree_limit, validate_features)\u001b[0m\n\u001b[1;32m    789\u001b[0m                                                  \u001b[0moutput_margin\u001b[0m\u001b[0;34m=\u001b[0m\u001b[0moutput_margin\u001b[0m\u001b[0;34m,\u001b[0m\u001b[0;34m\u001b[0m\u001b[0;34m\u001b[0m\u001b[0m\n\u001b[1;32m    790\u001b[0m                                                  \u001b[0mntree_limit\u001b[0m\u001b[0;34m=\u001b[0m\u001b[0mntree_limit\u001b[0m\u001b[0;34m,\u001b[0m\u001b[0;34m\u001b[0m\u001b[0;34m\u001b[0m\u001b[0m\n\u001b[0;32m--> 791\u001b[0;31m                                                  validate_features=validate_features)\n\u001b[0m\u001b[1;32m    792\u001b[0m         \u001b[0;32mif\u001b[0m \u001b[0moutput_margin\u001b[0m\u001b[0;34m:\u001b[0m\u001b[0;34m\u001b[0m\u001b[0;34m\u001b[0m\u001b[0m\n\u001b[1;32m    793\u001b[0m             \u001b[0;31m# If output_margin is active, simply return the scores\u001b[0m\u001b[0;34m\u001b[0m\u001b[0;34m\u001b[0m\u001b[0;34m\u001b[0m\u001b[0m\n",
            "\u001b[0;32m/usr/local/lib/python3.7/dist-packages/xgboost/core.py\u001b[0m in \u001b[0;36mpredict\u001b[0;34m(self, data, output_margin, ntree_limit, pred_leaf, pred_contribs, approx_contribs, pred_interactions, validate_features)\u001b[0m\n\u001b[1;32m   1282\u001b[0m \u001b[0;34m\u001b[0m\u001b[0m\n\u001b[1;32m   1283\u001b[0m         \u001b[0;32mif\u001b[0m \u001b[0mvalidate_features\u001b[0m\u001b[0;34m:\u001b[0m\u001b[0;34m\u001b[0m\u001b[0;34m\u001b[0m\u001b[0m\n\u001b[0;32m-> 1284\u001b[0;31m             \u001b[0mself\u001b[0m\u001b[0;34m.\u001b[0m\u001b[0m_validate_features\u001b[0m\u001b[0;34m(\u001b[0m\u001b[0mdata\u001b[0m\u001b[0;34m)\u001b[0m\u001b[0;34m\u001b[0m\u001b[0;34m\u001b[0m\u001b[0m\n\u001b[0m\u001b[1;32m   1285\u001b[0m \u001b[0;34m\u001b[0m\u001b[0m\n\u001b[1;32m   1286\u001b[0m         \u001b[0mlength\u001b[0m \u001b[0;34m=\u001b[0m \u001b[0mc_bst_ulong\u001b[0m\u001b[0;34m(\u001b[0m\u001b[0;34m)\u001b[0m\u001b[0;34m\u001b[0m\u001b[0;34m\u001b[0m\u001b[0m\n",
            "\u001b[0;32m/usr/local/lib/python3.7/dist-packages/xgboost/core.py\u001b[0m in \u001b[0;36m_validate_features\u001b[0;34m(self, data)\u001b[0m\n\u001b[1;32m   1688\u001b[0m \u001b[0;34m\u001b[0m\u001b[0m\n\u001b[1;32m   1689\u001b[0m                 raise ValueError(msg.format(self.feature_names,\n\u001b[0;32m-> 1690\u001b[0;31m                                             data.feature_names))\n\u001b[0m\u001b[1;32m   1691\u001b[0m \u001b[0;34m\u001b[0m\u001b[0m\n\u001b[1;32m   1692\u001b[0m     \u001b[0;32mdef\u001b[0m \u001b[0mget_split_value_histogram\u001b[0m\u001b[0;34m(\u001b[0m\u001b[0mself\u001b[0m\u001b[0;34m,\u001b[0m \u001b[0mfeature\u001b[0m\u001b[0;34m,\u001b[0m \u001b[0mfmap\u001b[0m\u001b[0;34m=\u001b[0m\u001b[0;34m''\u001b[0m\u001b[0;34m,\u001b[0m \u001b[0mbins\u001b[0m\u001b[0;34m=\u001b[0m\u001b[0;32mNone\u001b[0m\u001b[0;34m,\u001b[0m \u001b[0mas_pandas\u001b[0m\u001b[0;34m=\u001b[0m\u001b[0;32mTrue\u001b[0m\u001b[0;34m)\u001b[0m\u001b[0;34m:\u001b[0m\u001b[0;34m\u001b[0m\u001b[0;34m\u001b[0m\u001b[0m\n",
            "\u001b[0;31mValueError\u001b[0m: feature_names mismatch: ['0 ', '1 ', '2 ', '3 ', '4 ', '5 ', '6 ', '7 ', '8 ', '9 ', '10', '11', '12', '13', '14', '15', '16', '17', '18', '19', '20', '21', '22', '23', '24', '25', '26', '27', '28', '29', '30', '31', '32'] ['f0', 'f1', 'f2', 'f3', 'f4', 'f5', 'f6', 'f7', 'f8', 'f9', 'f10', 'f11', 'f12', 'f13', 'f14', 'f15', 'f16', 'f17', 'f18', 'f19', 'f20', 'f21', 'f22', 'f23', 'f24', 'f25', 'f26', 'f27', 'f28', 'f29', 'f30', 'f31', 'f32']\nexpected 25, 15, 2 , 9 , 26, 5 , 8 , 31, 23, 17, 19, 0 , 21, 29, 7 , 20, 6 , 4 , 12, 16, 32, 10, 22, 28, 27, 13, 3 , 11, 1 , 18, 24, 30, 14 in input data\ntraining data did not have the following fields: f29, f15, f17, f22, f12, f10, f16, f28, f31, f1, f0, f2, f4, f32, f3, f9, f19, f30, f5, f26, f21, f7, f25, f23, f8, f18, f20, f24, f6, f14, f11, f13, f27"
          ]
        }
      ]
    },
    {
      "cell_type": "code",
      "metadata": {
        "colab": {
          "base_uri": "https://localhost:8080/",
          "height": 511
        },
        "id": "TWSpXcoQs9uP",
        "outputId": "1ff94530-d3cf-4c18-f921-66a55e588a66"
      },
      "source": [
        "length_test_input = len(test_input.index)\n",
        "\n",
        "# day_1 data\n",
        "for index in range(length_test_input):\n",
        "    if test_input['umd'][index] == \"삼거동\":\n",
        "        input_date = test_input['date'][index]\n",
        "        input_sgg = test_input['sgg'][index]\n",
        "        input_umd = \"상문동\"\n",
        "    elif test_input['umd'][index] == \"어곡동\":\n",
        "        input_date = test_input['date'][index]\n",
        "        input_sgg = test_input['sgg'][index]\n",
        "        input_umd = \"강서동\"\n",
        "    elif test_input['umd'][index] == \"주진동\":\n",
        "        input_date = test_input['date'][index]\n",
        "        input_sgg = test_input['sgg'][index]\n",
        "        input_umd = \"소주동\"\n",
        "    elif test_input['umd'][index] == \"시동\":\n",
        "        input_date = test_input['date'][index]\n",
        "        input_sgg = test_input['sgg'][index]\n",
        "        input_umd = \"불국동\"\n",
        "    elif test_input['umd'][index] == \"덕곡동\":\n",
        "        input_date = test_input['date'][index]\n",
        "        input_sgg = test_input['sgg'][index]\n",
        "        input_umd = \"지좌동\"\n",
        "    elif test_input['umd'][index] == \"조와동\":\n",
        "        input_date = test_input['date'][index]\n",
        "        input_sgg = test_input['sgg'][index]\n",
        "        input_umd = \"상망동\"\n",
        "    else:\n",
        "        input_date = test_input['date'][index]\n",
        "        input_sgg = test_input['sgg'][index]\n",
        "        input_umd = test_input['umd'][index]\n",
        "    test_input['1day_yn'][index] = day1_data_test(input_sgg, input_umd, input_date)\n",
        "        \n",
        "test_input.head()"
      ],
      "execution_count": 82,
      "outputs": [
        {
          "output_type": "error",
          "ename": "ValueError",
          "evalue": "ignored",
          "traceback": [
            "\u001b[0;31m---------------------------------------------------------------------------\u001b[0m",
            "\u001b[0;31mValueError\u001b[0m                                Traceback (most recent call last)",
            "\u001b[0;32m<ipython-input-82-4c8284799b5e>\u001b[0m in \u001b[0;36m<module>\u001b[0;34m()\u001b[0m\n\u001b[1;32m     31\u001b[0m         \u001b[0minput_sgg\u001b[0m \u001b[0;34m=\u001b[0m \u001b[0mtest_input\u001b[0m\u001b[0;34m[\u001b[0m\u001b[0;34m'sgg'\u001b[0m\u001b[0;34m]\u001b[0m\u001b[0;34m[\u001b[0m\u001b[0mindex\u001b[0m\u001b[0;34m]\u001b[0m\u001b[0;34m\u001b[0m\u001b[0;34m\u001b[0m\u001b[0m\n\u001b[1;32m     32\u001b[0m         \u001b[0minput_umd\u001b[0m \u001b[0;34m=\u001b[0m \u001b[0mtest_input\u001b[0m\u001b[0;34m[\u001b[0m\u001b[0;34m'umd'\u001b[0m\u001b[0;34m]\u001b[0m\u001b[0;34m[\u001b[0m\u001b[0mindex\u001b[0m\u001b[0;34m]\u001b[0m\u001b[0;34m\u001b[0m\u001b[0;34m\u001b[0m\u001b[0m\n\u001b[0;32m---> 33\u001b[0;31m     \u001b[0mtest_input\u001b[0m\u001b[0;34m[\u001b[0m\u001b[0;34m'1day_yn'\u001b[0m\u001b[0;34m]\u001b[0m\u001b[0;34m[\u001b[0m\u001b[0mindex\u001b[0m\u001b[0;34m]\u001b[0m \u001b[0;34m=\u001b[0m \u001b[0mday1_data_test\u001b[0m\u001b[0;34m(\u001b[0m\u001b[0minput_sgg\u001b[0m\u001b[0;34m,\u001b[0m \u001b[0minput_umd\u001b[0m\u001b[0;34m,\u001b[0m \u001b[0minput_date\u001b[0m\u001b[0;34m)\u001b[0m\u001b[0;34m\u001b[0m\u001b[0;34m\u001b[0m\u001b[0m\n\u001b[0m\u001b[1;32m     34\u001b[0m \u001b[0;34m\u001b[0m\u001b[0m\n\u001b[1;32m     35\u001b[0m \u001b[0mtest_input\u001b[0m\u001b[0;34m.\u001b[0m\u001b[0mhead\u001b[0m\u001b[0;34m(\u001b[0m\u001b[0;34m)\u001b[0m\u001b[0;34m\u001b[0m\u001b[0;34m\u001b[0m\u001b[0m\n",
            "\u001b[0;32m<ipython-input-81-81be2388d44c>\u001b[0m in \u001b[0;36mday1_data_test\u001b[0;34m(sgg, umd, date)\u001b[0m\n\u001b[1;32m     12\u001b[0m     \u001b[0mfillna_test_specific_day1\u001b[0m \u001b[0;34m=\u001b[0m \u001b[0mtest_specific_day1\u001b[0m\u001b[0;34m.\u001b[0m\u001b[0mfillna\u001b[0m\u001b[0;34m(\u001b[0m\u001b[0;36m0\u001b[0m\u001b[0;34m)\u001b[0m\u001b[0;34m\u001b[0m\u001b[0;34m\u001b[0m\u001b[0m\n\u001b[1;32m     13\u001b[0m     \u001b[0;31m# df = pd.DataFrame[fillna_test_specific_day1]\u001b[0m\u001b[0;34m\u001b[0m\u001b[0;34m\u001b[0m\u001b[0;34m\u001b[0m\u001b[0m\n\u001b[0;32m---> 14\u001b[0;31m     \u001b[0mmodel_pred\u001b[0m \u001b[0;34m=\u001b[0m \u001b[0mxgb1\u001b[0m\u001b[0;34m.\u001b[0m\u001b[0mpredict\u001b[0m\u001b[0;34m(\u001b[0m\u001b[0mfillna_test_specific_day1\u001b[0m\u001b[0;34m)\u001b[0m\u001b[0;34m\u001b[0m\u001b[0;34m\u001b[0m\u001b[0m\n\u001b[0m\u001b[1;32m     15\u001b[0m     \u001b[0;32mreturn\u001b[0m \u001b[0mmodel_pred\u001b[0m\u001b[0;34m\u001b[0m\u001b[0;34m\u001b[0m\u001b[0m\n",
            "\u001b[0;32m/usr/local/lib/python3.7/dist-packages/xgboost/sklearn.py\u001b[0m in \u001b[0;36mpredict\u001b[0;34m(self, data, output_margin, ntree_limit, validate_features)\u001b[0m\n\u001b[1;32m    789\u001b[0m                                                  \u001b[0moutput_margin\u001b[0m\u001b[0;34m=\u001b[0m\u001b[0moutput_margin\u001b[0m\u001b[0;34m,\u001b[0m\u001b[0;34m\u001b[0m\u001b[0;34m\u001b[0m\u001b[0m\n\u001b[1;32m    790\u001b[0m                                                  \u001b[0mntree_limit\u001b[0m\u001b[0;34m=\u001b[0m\u001b[0mntree_limit\u001b[0m\u001b[0;34m,\u001b[0m\u001b[0;34m\u001b[0m\u001b[0;34m\u001b[0m\u001b[0m\n\u001b[0;32m--> 791\u001b[0;31m                                                  validate_features=validate_features)\n\u001b[0m\u001b[1;32m    792\u001b[0m         \u001b[0;32mif\u001b[0m \u001b[0moutput_margin\u001b[0m\u001b[0;34m:\u001b[0m\u001b[0;34m\u001b[0m\u001b[0;34m\u001b[0m\u001b[0m\n\u001b[1;32m    793\u001b[0m             \u001b[0;31m# If output_margin is active, simply return the scores\u001b[0m\u001b[0;34m\u001b[0m\u001b[0;34m\u001b[0m\u001b[0;34m\u001b[0m\u001b[0m\n",
            "\u001b[0;32m/usr/local/lib/python3.7/dist-packages/xgboost/core.py\u001b[0m in \u001b[0;36mpredict\u001b[0;34m(self, data, output_margin, ntree_limit, pred_leaf, pred_contribs, approx_contribs, pred_interactions, validate_features)\u001b[0m\n\u001b[1;32m   1282\u001b[0m \u001b[0;34m\u001b[0m\u001b[0m\n\u001b[1;32m   1283\u001b[0m         \u001b[0;32mif\u001b[0m \u001b[0mvalidate_features\u001b[0m\u001b[0;34m:\u001b[0m\u001b[0;34m\u001b[0m\u001b[0;34m\u001b[0m\u001b[0m\n\u001b[0;32m-> 1284\u001b[0;31m             \u001b[0mself\u001b[0m\u001b[0;34m.\u001b[0m\u001b[0m_validate_features\u001b[0m\u001b[0;34m(\u001b[0m\u001b[0mdata\u001b[0m\u001b[0;34m)\u001b[0m\u001b[0;34m\u001b[0m\u001b[0;34m\u001b[0m\u001b[0m\n\u001b[0m\u001b[1;32m   1285\u001b[0m \u001b[0;34m\u001b[0m\u001b[0m\n\u001b[1;32m   1286\u001b[0m         \u001b[0mlength\u001b[0m \u001b[0;34m=\u001b[0m \u001b[0mc_bst_ulong\u001b[0m\u001b[0;34m(\u001b[0m\u001b[0;34m)\u001b[0m\u001b[0;34m\u001b[0m\u001b[0;34m\u001b[0m\u001b[0m\n",
            "\u001b[0;32m/usr/local/lib/python3.7/dist-packages/xgboost/core.py\u001b[0m in \u001b[0;36m_validate_features\u001b[0;34m(self, data)\u001b[0m\n\u001b[1;32m   1688\u001b[0m \u001b[0;34m\u001b[0m\u001b[0m\n\u001b[1;32m   1689\u001b[0m                 raise ValueError(msg.format(self.feature_names,\n\u001b[0;32m-> 1690\u001b[0;31m                                             data.feature_names))\n\u001b[0m\u001b[1;32m   1691\u001b[0m \u001b[0;34m\u001b[0m\u001b[0m\n\u001b[1;32m   1692\u001b[0m     \u001b[0;32mdef\u001b[0m \u001b[0mget_split_value_histogram\u001b[0m\u001b[0;34m(\u001b[0m\u001b[0mself\u001b[0m\u001b[0;34m,\u001b[0m \u001b[0mfeature\u001b[0m\u001b[0;34m,\u001b[0m \u001b[0mfmap\u001b[0m\u001b[0;34m=\u001b[0m\u001b[0;34m''\u001b[0m\u001b[0;34m,\u001b[0m \u001b[0mbins\u001b[0m\u001b[0;34m=\u001b[0m\u001b[0;32mNone\u001b[0m\u001b[0;34m,\u001b[0m \u001b[0mas_pandas\u001b[0m\u001b[0;34m=\u001b[0m\u001b[0;32mTrue\u001b[0m\u001b[0;34m)\u001b[0m\u001b[0;34m:\u001b[0m\u001b[0;34m\u001b[0m\u001b[0;34m\u001b[0m\u001b[0m\n",
            "\u001b[0;31mValueError\u001b[0m: feature_names mismatch: ['0 ', '1 ', '2 ', '3 ', '4 ', '5 ', '6 ', '7 ', '8 ', '9 ', '10', '11', '12', '13', '14', '15', '16', '17', '18', '19', '20', '21', '22', '23', '24', '25', '26', '27', '28', '29', '30', '31', '32'] ['maxTa', 'minTa', 'avgTa', 'EIGHT_AGL', 'stnId', 'mi10MaxRn', 'hr1MaxRn', 'sumRnDur', 'sumRn', 'maxInsWs', 'maxWs', 'avgWs', 'minRhm', 'avgRhm', 'n99Rn', 'PRRCK_LARG', 'PRRCK_MDDL', 'LOCTN_ALTT', 'LOCTN_GRDN', 'CLZN_CD', 'TPGRP_TPCD', 'PRDN_FOM_C', 'SLDPT_TPCD', 'SLANT_TYP', 'SCSTX_CD', 'SLTP_CD', 'STORUNST', 'FROR_CD', 'FRTP_CD', 'KOFTR_GROU', 'DMCLS_CD', 'AGCLS_CD', 'HEIGHT']\nexpected 25, 15, 2 , 9 , 26, 5 , 8 , 31, 23, 17, 19, 0 , 21, 29, 7 , 20, 6 , 4 , 12, 16, 32, 10, 22, 28, 27, 13, 3 , 11, 1 , 18, 24, 30, 14 in input data\ntraining data did not have the following fields: SLDPT_TPCD, LOCTN_GRDN, maxInsWs, CLZN_CD, STORUNST, AGCLS_CD, avgRhm, TPGRP_TPCD, hr1MaxRn, avgWs, FROR_CD, minTa, sumRnDur, KOFTR_GROU, mi10MaxRn, avgTa, sumRn, DMCLS_CD, stnId, maxTa, FRTP_CD, PRRCK_MDDL, PRDN_FOM_C, HEIGHT, EIGHT_AGL, PRRCK_LARG, LOCTN_ALTT, SLANT_TYP, SCSTX_CD, minRhm, maxWs, SLTP_CD, n99Rn"
          ]
        }
      ]
    },
    {
      "cell_type": "code",
      "metadata": {
        "id": "D1_aLbEHcSF-"
      },
      "source": [
        "# 훈련된 모델로 결과 도출 : day2 함수\n",
        "def day2_data_test(sgg, umd, date):    \n",
        "    # sgg 데이터와 umd 데이터, date를 통한 추출\n",
        "    text = sgg + ' ' + umd\n",
        "    # specific 자체가 학습 돌린 결과 참고해서 input으로 만들어야 됨\n",
        "    test_day2 = Merged_2020[Merged_2020['umd2'].str.contains(text.rstrip()) & Merged_2020['tm'].str.contains(date)]\n",
        "    test_specific_day2 = test_day2[['maxTa','minTa','avgTa','EIGHT_AGL','stnId','mi10MaxRn', 'hr1MaxRn', 'sumRnDur', \n",
        "                                    'sumRn', 'maxInsWs', 'maxWs', 'avgWs','minRhm','avgRhm','n99Rn', 'PRRCK_LARG', \n",
        "                                    'PRRCK_MDDL','LOCTN_ALTT','LOCTN_GRDN','CLZN_CD','TPGRP_TPCD','PRDN_FOM_C',\n",
        "                                    'SLDPT_TPCD','SLANT_TYP','SCSTX_CD','SLTP_CD','STORUNST','FROR_CD','FRTP_CD',\n",
        "                                    'KOFTR_GROU','DMCLS_CD','AGCLS_CD','HEIGHT']]\n",
        "    fillna_test_specific_day2 = test_specific_day2.fillna(0)\n",
        "    model_pred = xgb2.predict(fillna_test_specific_day2.values)\n",
        "    return model_pred"
      ],
      "execution_count": 45,
      "outputs": []
    },
    {
      "cell_type": "code",
      "metadata": {
        "id": "5W04dmr0cXiO"
      },
      "source": [
        "# day_2 data\n",
        "for index in range(length_test_input):\n",
        "    if test_input['umd'][index] == \"삼거동\":\n",
        "        input_date = test_input['date'][index]\n",
        "        input_sgg = test_input['sgg'][index]\n",
        "        input_umd = \"상문동\"\n",
        "    elif test_input['umd'][index] == \"어곡동\":\n",
        "        input_date = test_input['date'][index]\n",
        "        input_sgg = test_input['sgg'][index]\n",
        "        input_umd = \"강서동\"\n",
        "    elif test_input['umd'][index] == \"주진동\":\n",
        "        input_date = test_input['date'][index]\n",
        "        input_sgg = test_input['sgg'][index]\n",
        "        input_umd = \"소주동\"\n",
        "    elif test_input['umd'][index] == \"시동\":\n",
        "        input_date = test_input['date'][index]\n",
        "        input_sgg = test_input['sgg'][index]\n",
        "        input_umd = \"불국동\"\n",
        "    elif test_input['umd'][index] == \"덕곡동\":\n",
        "        input_date = test_input['date'][index]\n",
        "        input_sgg = test_input['sgg'][index]\n",
        "        input_umd = \"지좌동\"\n",
        "    elif test_input['umd'][index] == \"조와동\":\n",
        "        input_date = test_input['date'][index]\n",
        "        input_sgg = test_input['sgg'][index]\n",
        "        input_umd = \"상망동\"\n",
        "    else:\n",
        "        input_date = test_input['date'][index]\n",
        "        input_sgg = test_input['sgg'][index]\n",
        "        input_umd = test_input['umd'][index]\n",
        "    test_input['2day_yn'][index] = day2_data_test(input_sgg, input_umd, input_date)\n",
        "        \n",
        "# print(search_data(input_sgg, input_umd, input_date))"
      ],
      "execution_count": null,
      "outputs": []
    },
    {
      "cell_type": "code",
      "metadata": {
        "colab": {
          "base_uri": "https://localhost:8080/"
        },
        "id": "5nvWEVFdZbP2",
        "outputId": "785b7d03-d435-4a0e-ae1d-37c8dd69e43a"
      },
      "source": [
        "test_input[\"1day_yn\"].value_counts()"
      ],
      "execution_count": null,
      "outputs": [
        {
          "output_type": "execute_result",
          "data": {
            "text/plain": [
              "0.0    3380\n",
              "1.0      30\n",
              "Name: 1day_yn, dtype: int64"
            ]
          },
          "metadata": {
            "tags": []
          },
          "execution_count": 17
        }
      ]
    },
    {
      "cell_type": "code",
      "metadata": {
        "colab": {
          "base_uri": "https://localhost:8080/"
        },
        "id": "1DJBQanqZtZX",
        "outputId": "4c0fe051-3641-4abc-cb45-bd8db55b20d7"
      },
      "source": [
        "test_input[\"2day_yn\"].value_counts()"
      ],
      "execution_count": null,
      "outputs": [
        {
          "output_type": "execute_result",
          "data": {
            "text/plain": [
              "0.0    3410\n",
              "Name: 2day_yn, dtype: int64"
            ]
          },
          "metadata": {
            "tags": []
          },
          "execution_count": 18
        }
      ]
    },
    {
      "cell_type": "code",
      "metadata": {
        "id": "C4LFCkcgs9uQ"
      },
      "source": [
        "test_input.to_csv(\"xgb1_best_model.csv\", index=False, encoding='cp949')"
      ],
      "execution_count": null,
      "outputs": []
    },
    {
      "cell_type": "code",
      "metadata": {
        "id": "uWxlAmx0s9uQ"
      },
      "source": [
        ""
      ],
      "execution_count": null,
      "outputs": []
    }
  ]
}