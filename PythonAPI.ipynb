{
 "nbformat": 4,
 "nbformat_minor": 0,
 "metadata": {
  "colab": {
   "name": "PythonAPI.ipynb",
   "provenance": [],
   "collapsed_sections": [],
   "toc_visible": true
  },
  "kernelspec": {
   "name": "python3",
   "language": "python",
   "display_name": "Python 3"
  },
  "language_info": {
   "name": "python"
  }
 },
 "cells": [
  {
   "cell_type": "markdown",
   "metadata": {
    "id": "_xOg6wSE6z4i"
   },
   "source": [
    "# PythonAPI.ipynb"
   ]
  },
  {
   "cell_type": "code",
   "metadata": {
    "colab": {
     "base_uri": "https://localhost:8080/"
    },
    "id": "O_DCPQiv6-Lp",
    "outputId": "e68f1dd0-7ca3-4ade-aaf0-15e57e435a98"
   },
   "source": [
    "from google.colab import drive\n",
    "drive.mount('/content/drive')"
   ],
   "execution_count": null,
   "outputs": [
    {
     "output_type": "stream",
     "text": [
      "Mounted at /content/drive\n"
     ],
     "name": "stdout"
    }
   ]
  },
  {
   "cell_type": "code",
   "metadata": {
    "id": "hxAb9gEb7jns"
   },
   "source": [
    "# 기상청에서 데이터 크롤링\n",
    "from urllib.parse import urlencode, quote_plus\n",
    "\n",
    "url = 'http://apis.data.go.kr/1360000/AsosHourlyInfoService/getWthrDataList' # Decoder 인증 데이터 삽입\n",
    "queryParams = '?' + urlencode({\n",
    "    quote_plus('ServiceKey') : 'CAIBVqzvwcT56GH1ji8TrqWaQ6UTQ5NQFbigaXcQSMBZzMwerbOq437GPuVl0vfoc7+7F6MaoS2B0WOxZp2HXg==', # 인증키 삽입\n",
    "    quote_plus('pageNo') : '1', # 한 페이지 결과 수\n",
    "    quote_plus('numOfRows') : '999', # 페이지 번호, MAX = 999\n",
    "    quote_plus('dataType') : 'JSON', # 응답 자료 형식 XML or JSON\n",
    "    quote_plus('dataCd') : 'ASOS', # 자료 분류 코드\n",
    "    quote_plus('dateCd') : 'HR', # 날짜 분류 코드\n",
    "    quote_plus('startDt') : '20210101', # 조회 기간 시작일\n",
    "    quote_plus('startHh') : '01', # 조회 기간의 시작 시\n",
    "    quote_plus('endDt') : '20210501', # 조회 기간 종료일\n",
    "    quote_plus('endHh') : '01', # 조회 기간 종료시\n",
    "    quote_plus('stnIds') : '108' }) # 종관 기상 관측 지점 번호"
   ],
   "execution_count": 1,
   "outputs": []
  },
  {
   "cell_type": "code",
   "metadata": {
    "id": "6gF-4HGz9dSF",
    "colab": {
     "base_uri": "https://localhost:8080/"
    },
    "outputId": "81434255-1502-4b8b-dc98-084036f43d68"
   },
   "source": [
    "# 데이터프레임으로 타입 변경 과정\n",
    "import pandas as pd\n",
    "import requests\n",
    "\n",
    "result = requests.get(url + queryParams)\n",
    "js = json.loads(result.content)\n",
    "data = pd.DataFrame(js['response']['body']['items']['item'])\n",
    "print(data)"
   ],
   "execution_count": 3,
   "outputs": [
    {
     "ename": "ModuleNotFoundError",
     "evalue": "No module named 'pandas'",
     "output_type": "error",
     "traceback": [
      "\u001B[0;31m---------------------------------------------------------------------------\u001B[0m",
      "\u001B[0;31mModuleNotFoundError\u001B[0m                       Traceback (most recent call last)",
      "\u001B[0;32m<ipython-input-3-31874c858db3>\u001B[0m in \u001B[0;36m<module>\u001B[0;34m\u001B[0m\n\u001B[1;32m      1\u001B[0m \u001B[0;31m# 데이터프레임으로 타입 변경 과정\u001B[0m\u001B[0;34m\u001B[0m\u001B[0;34m\u001B[0m\u001B[0;34m\u001B[0m\u001B[0m\n\u001B[0;32m----> 2\u001B[0;31m \u001B[0;32mimport\u001B[0m \u001B[0mpandas\u001B[0m \u001B[0;32mas\u001B[0m \u001B[0mpd\u001B[0m\u001B[0;34m\u001B[0m\u001B[0;34m\u001B[0m\u001B[0m\n\u001B[0m\u001B[1;32m      3\u001B[0m \u001B[0;32mimport\u001B[0m \u001B[0mrequests\u001B[0m\u001B[0;34m\u001B[0m\u001B[0;34m\u001B[0m\u001B[0m\n\u001B[1;32m      4\u001B[0m \u001B[0;34m\u001B[0m\u001B[0m\n\u001B[1;32m      5\u001B[0m \u001B[0mresult\u001B[0m \u001B[0;34m=\u001B[0m \u001B[0mrequests\u001B[0m\u001B[0;34m.\u001B[0m\u001B[0mget\u001B[0m\u001B[0;34m(\u001B[0m\u001B[0murl\u001B[0m \u001B[0;34m+\u001B[0m \u001B[0mqueryParams\u001B[0m\u001B[0;34m)\u001B[0m\u001B[0;34m\u001B[0m\u001B[0;34m\u001B[0m\u001B[0m\n",
      "\u001B[0;31mModuleNotFoundError\u001B[0m: No module named 'pandas'"
     ]
    }
   ]
  },
  {
   "cell_type": "code",
   "metadata": {
    "id": "FyqKDV4wbZSS"
   },
   "source": [
    "# 본인 드라이브에 csv파일 가져오기\n",
    "data.to_csv(\"/content/drive/MyDrive/Meteorological_Agency_Bigdata_Contest/ASOS_weather.csv\",index=False )"
   ],
   "execution_count": null,
   "outputs": []
  },
  {
   "cell_type": "code",
   "metadata": {
    "id": "5M5XErlrp_zq"
   },
   "source": [
    ""
   ],
   "execution_count": null,
   "outputs": []
  }
 ]
}