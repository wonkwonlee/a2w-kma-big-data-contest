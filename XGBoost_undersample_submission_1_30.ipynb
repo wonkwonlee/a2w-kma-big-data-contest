{
  "nbformat": 4,
  "nbformat_minor": 0,
  "metadata": {
    "accelerator": "GPU",
    "colab": {
      "name": "XGBoost_undersample_submission_1:30.ipynb",
      "provenance": [],
      "collapsed_sections": [],
      "include_colab_link": true
    },
    "kernelspec": {
      "display_name": "Python 3",
      "language": "python",
      "name": "python3"
    },
    "language_info": {
      "codemirror_mode": {
        "name": "ipython",
        "version": 3
      },
      "file_extension": ".py",
      "mimetype": "text/x-python",
      "name": "python",
      "nbconvert_exporter": "python",
      "pygments_lexer": "ipython3",
      "version": "3.8.3"
    }
  },
  "cells": [
    {
      "cell_type": "markdown",
      "metadata": {
        "id": "view-in-github",
        "colab_type": "text"
      },
      "source": [
        "<a href=\"https://colab.research.google.com/github/wonkwonlee/a2w-kma-big-data-contest/blob/main/XGBoost_undersample_submission_1_30.ipynb\" target=\"_parent\"><img src=\"https://colab.research.google.com/assets/colab-badge.svg\" alt=\"Open In Colab\"/></a>"
      ]
    },
    {
      "cell_type": "code",
      "metadata": {
        "id": "KxMkgXIlOTLX"
      },
      "source": [
        "from google.colab import drive\n",
        "drive.mount('/content/drive')"
      ],
      "execution_count": null,
      "outputs": []
    },
    {
      "cell_type": "code",
      "metadata": {
        "id": "mdlc9MPLOPfb"
      },
      "source": [
        "import os\n",
        "os.chdir('/content/drive/MyDrive/Colab Notebooks')"
      ],
      "execution_count": null,
      "outputs": []
    },
    {
      "cell_type": "code",
      "metadata": {
        "id": "4eJg-iMzOPfb"
      },
      "source": [
        "import tensorflow as tf\n",
        "from tensorflow import keras\n",
        "\n",
        "import os\n",
        "import tempfile\n",
        "\n",
        "import matplotlib as mpl\n",
        "import matplotlib.pyplot as plt\n",
        "import numpy as np\n",
        "import pandas as pd\n",
        "import seaborn as sns\n",
        "\n",
        "import sklearn\n",
        "from sklearn.tree import DecisionTreeClassifier\n",
        "from sklearn.ensemble import RandomForestClassifier\n",
        "from sklearn.metrics import confusion_matrix\n",
        "from sklearn.model_selection import train_test_split\n",
        "from sklearn.preprocessing import StandardScaler\n",
        "from sklearn.model_selection import train_test_split, GridSearchCV\n",
        "from sklearn.metrics import make_scorer, accuracy_score, precision_score, recall_score, f1_score, roc_auc_score\n",
        "from sklearn.linear_model import LogisticRegression\n",
        "\n",
        "\n",
        "from xgboost import plot_importance\n",
        "from xgboost import XGBClassifier"
      ],
      "execution_count": null,
      "outputs": []
    },
    {
      "cell_type": "code",
      "metadata": {
        "id": "PVrolvhqOPfc"
      },
      "source": [
        "def metrics(y_test, pred):\n",
        "    accuracy = accuracy_score(y_test, pred)\n",
        "    precision = precision_score(y_test, pred)\n",
        "    recall = recall_score(y_test, pred)\n",
        "    f1 = f1_score(y_test, pred)\n",
        "    roc_score = roc_auc_score(y_test, pred)\n",
        "    print('정확도 : {0:.2f}, 정밀도 : {1:.2f}, 재현율 : {2:.2f}'.format(accuracy, precision, recall))\n",
        "    print('f1-score : {0:.2f}, auc : {1:.2f}'.format(f1, roc_score))"
      ],
      "execution_count": null,
      "outputs": []
    },
    {
      "cell_type": "markdown",
      "metadata": {
        "id": "2ubwLMH_OPfd"
      },
      "source": [
        "# 데이터 처리 및 탐색"
      ]
    },
    {
      "cell_type": "code",
      "metadata": {
        "id": "e_JXIStyOPfd"
      },
      "source": [
        "raw_df = pd.read_csv(\"../A2W/데이터/data_submission/merge_final_real.csv\", encoding='utf-8-sig')"
      ],
      "execution_count": null,
      "outputs": []
    },
    {
      "cell_type": "code",
      "metadata": {
        "id": "_cCORziJOPff"
      },
      "source": [
        "raw_df['1day_yn'] = 0.0\n",
        "raw_df['2day_yn'] = 0.0"
      ],
      "execution_count": null,
      "outputs": []
    },
    {
      "cell_type": "code",
      "metadata": {
        "colab": {
          "base_uri": "https://localhost:8080/"
        },
        "id": "7MrrPwSDOPff",
        "outputId": "b106e1c1-f766-4016-dd45-f36d75c80594"
      },
      "source": [
        "# 열을 밀어서 출력, 맨 첫날, 마지막 날의 경우 산사태가 발생하지 않음.\n",
        "raw_df['1day_yn'][1:-1] = raw_df['landslide'][0:-2]\n",
        "raw_df['2day_yn'][2:-1] = raw_df['landslide'][0:-3]"
      ],
      "execution_count": null,
      "outputs": [
        {
          "output_type": "stream",
          "text": [
            "/usr/local/lib/python3.7/dist-packages/ipykernel_launcher.py:2: SettingWithCopyWarning: \n",
            "A value is trying to be set on a copy of a slice from a DataFrame\n",
            "\n",
            "See the caveats in the documentation: https://pandas.pydata.org/pandas-docs/stable/user_guide/indexing.html#returning-a-view-versus-a-copy\n",
            "  \n",
            "/usr/local/lib/python3.7/dist-packages/ipykernel_launcher.py:3: SettingWithCopyWarning: \n",
            "A value is trying to be set on a copy of a slice from a DataFrame\n",
            "\n",
            "See the caveats in the documentation: https://pandas.pydata.org/pandas-docs/stable/user_guide/indexing.html#returning-a-view-versus-a-copy\n",
            "  This is separate from the ipykernel package so we can avoid doing imports until\n"
          ],
          "name": "stderr"
        }
      ]
    },
    {
      "cell_type": "code",
      "metadata": {
        "id": "CtgsDFA3OPfg"
      },
      "source": [
        "select_df = raw_df[['maxTa','minTa','avgTa','EIGHT_AGL','mi10MaxRn', 'hr1MaxRn', 'sumRnDur', 'sumRn', 'maxInsWs', 'maxWs', 'avgWs','minRhm','avgRhm','n99Rn', 'PRRCK_LARG', 'PRRCK_MDDL','LOCTN_ALTT','LOCTN_GRDN','CLZN_CD','TPGRP_TPCD','PRDN_FOM_C','SLDPT_TPCD','SLANT_TYP','SCSTX_CD','SLTP_CD','STORUNST','FROR_CD','FRTP_CD','KOFTR_GROU','DMCLS_CD','AGCLS_CD','HEIGHT','1day_yn']]\n",
        "cleaned_df_1 = select_df.fillna(0)"
      ],
      "execution_count": null,
      "outputs": []
    },
    {
      "cell_type": "markdown",
      "metadata": {
        "id": "ni-MoLNmOPfh"
      },
      "source": [
        "## 1일 후 예측"
      ]
    },
    {
      "cell_type": "code",
      "metadata": {
        "id": "T9CM8GNlOPfh"
      },
      "source": [
        "y = cleaned_df_1['1day_yn']\n",
        "X = cleaned_df_1.drop('1day_yn', axis =1)"
      ],
      "execution_count": null,
      "outputs": []
    },
    {
      "cell_type": "code",
      "metadata": {
        "colab": {
          "base_uri": "https://localhost:8080/"
        },
        "id": "hZvGMFS7uxrv",
        "outputId": "d44679e1-31c7-4cc7-d1aa-459b1b35134a"
      },
      "source": [
        "from imblearn.under_sampling import RandomUnderSampler\n",
        "\n",
        "# 1: 50 비율\n",
        "X_samp, y_samp = RandomUnderSampler(random_state=1024, ratio={1: 359, 0: 10770}).fit_sample(X, y)"
      ],
      "execution_count": null,
      "outputs": [
        {
          "output_type": "stream",
          "text": [
            "/usr/local/lib/python3.7/dist-packages/sklearn/utils/deprecation.py:87: FutureWarning: Function safe_indexing is deprecated; safe_indexing is deprecated in version 0.22 and will be removed in version 0.24.\n",
            "  warnings.warn(msg, category=FutureWarning)\n"
          ],
          "name": "stderr"
        }
      ]
    },
    {
      "cell_type": "code",
      "metadata": {
        "id": "MKM0x1xeHIFo"
      },
      "source": [
        "X_train, X_test, y_train, y_test = train_test_split(X_samp, y_samp, test_size=0.25, shuffle=True, stratify=y_samp, random_state=1024)"
      ],
      "execution_count": null,
      "outputs": []
    },
    {
      "cell_type": "markdown",
      "metadata": {
        "id": "Brn9trA6OPfi"
      },
      "source": [
        "### 하이퍼 파라미터 튜닝 후 예측"
      ]
    },
    {
      "cell_type": "code",
      "metadata": {
        "id": "_QmARUKQOPfj",
        "colab": {
          "base_uri": "https://localhost:8080/"
        },
        "outputId": "20b6f7fc-b7dd-43f9-acc9-ada53ea7a60b"
      },
      "source": [
        "xgb = XGBClassifier()\n",
        "\n",
        "xgb_param_grid = {\n",
        "    'n_estimators' : [100, 200, 400, 500, 600],\n",
        "    'learning_rate' : [0.01, 0.05, 0.1, 0.15, 0.2],\n",
        "    'max_depth' : [4, 6, 8, 10, 12],\n",
        "}\n",
        "# sklearn.metrics.SCORERS.keys()\n",
        "xgb_grid = GridSearchCV(xgb, param_grid = xgb_param_grid, scoring=\"roc_auc\", n_jobs= 1, verbose = 1)\n",
        "xgb_grid.fit(X_train, y_train)"
      ],
      "execution_count": null,
      "outputs": [
        {
          "output_type": "stream",
          "text": [
            "[Parallel(n_jobs=1)]: Using backend SequentialBackend with 1 concurrent workers.\n"
          ],
          "name": "stderr"
        },
        {
          "output_type": "stream",
          "text": [
            "Fitting 5 folds for each of 125 candidates, totalling 625 fits\n"
          ],
          "name": "stdout"
        }
      ]
    },
    {
      "cell_type": "code",
      "metadata": {
        "id": "PHy4E2UmOPfj"
      },
      "source": [
        "print(\"최고 평균 auc : {0:.4f}\".format(xgb_grid.best_score_))\n",
        "print(\"최고의 파라미터 : \", xgb_grid.best_params_)\n",
        "print(\"최고 점수를 낸 파라미터를 가진 모형 : \", xgb_grid.best_estimator_)"
      ],
      "execution_count": null,
      "outputs": []
    },
    {
      "cell_type": "code",
      "metadata": {
        "id": "CpuglcsWOPfj"
      },
      "source": [
        "result = pd.DataFrame(xgb_grid.cv_results_)\n",
        "result.sort_values(by=['rank_test_score'], inplace=True)"
      ],
      "execution_count": null,
      "outputs": []
    },
    {
      "cell_type": "code",
      "metadata": {
        "id": "BikUmykSOPfj"
      },
      "source": [
        "result[['params', 'mean_test_score', 'rank_test_score']].head(10)"
      ],
      "execution_count": null,
      "outputs": []
    },
    {
      "cell_type": "code",
      "metadata": {
        "id": "9WklsWvlzgf5"
      },
      "source": [
        "import joblib\n",
        "\n",
        "xgb1 = xgb_grid.best_estimator_\n",
        "xgb1.fit(X_train, y_train)\n",
        "joblib.dump(xgb1, './xgb_1v30_model_1day_yn.pkl')"
      ],
      "execution_count": null,
      "outputs": []
    },
    {
      "cell_type": "code",
      "metadata": {
        "id": "nghkOjSO4EbC"
      },
      "source": [
        "xgb1_pred = xgb1.predict(X_test)\n",
        "metrics(y_test, xgb1_pred)"
      ],
      "execution_count": null,
      "outputs": []
    },
    {
      "cell_type": "markdown",
      "metadata": {
        "id": "_NxRI3JtOPfk"
      },
      "source": [
        "## 2일 후 예측"
      ]
    },
    {
      "cell_type": "code",
      "metadata": {
        "id": "UT_CdgsnOPfk"
      },
      "source": [
        "#분석을 위해 음수 값을 가지는 칼럼들을 제외하고 결측치를 0으로 대체한다.\n",
        "select_df = raw_df[['maxTa','minTa','avgTa','EIGHT_AGL','mi10MaxRn', 'hr1MaxRn', 'sumRnDur', 'sumRn', 'maxInsWs', 'maxWs', 'avgWs','minRhm','avgRhm','n99Rn', 'PRRCK_LARG', 'PRRCK_MDDL','LOCTN_ALTT','LOCTN_GRDN','CLZN_CD','TPGRP_TPCD','PRDN_FOM_C','SLDPT_TPCD','SLANT_TYP','SCSTX_CD','SLTP_CD','STORUNST','FROR_CD','FRTP_CD','KOFTR_GROU','DMCLS_CD','AGCLS_CD','HEIGHT','2day_yn']]\n",
        "cleaned_df_2 = select_df.fillna(0)"
      ],
      "execution_count": null,
      "outputs": []
    },
    {
      "cell_type": "code",
      "metadata": {
        "id": "BBj_B6fP57VF"
      },
      "source": [
        "y = cleaned_df_2['2day_yn']\n",
        "X = cleaned_df_2.drop('2day_yn', axis =1)"
      ],
      "execution_count": null,
      "outputs": []
    },
    {
      "cell_type": "code",
      "metadata": {
        "id": "sYmHIBNS5ebn"
      },
      "source": [
        "# 1: 50 비율\n",
        "X_samp, y_samp = RandomUnderSampler(random_state=1024, ratio={1: 359, 0: 10770}).fit_sample(X, y)"
      ],
      "execution_count": null,
      "outputs": []
    },
    {
      "cell_type": "code",
      "metadata": {
        "id": "hh1w6B775lof"
      },
      "source": [
        "X_train, X_test, y_train, y_test = train_test_split(X_samp, y_samp, test_size=0.25, shuffle=True, stratify=y_samp, random_state=1024)\n",
        "\n",
        "print('X_train shape:', X_train.shape)\n",
        "print('X_test shape:', X_test.shape)\n",
        "print('y_train shape:', y_train.shape)\n",
        "print('y_test shape:', y_test.shape)"
      ],
      "execution_count": null,
      "outputs": []
    },
    {
      "cell_type": "code",
      "metadata": {
        "id": "6tvH-zErVdRi"
      },
      "source": [
        "xgb2 = XGBClassifier(n_estimators=200, learning_rate = 0.05, max_depth = 10)\n",
        "evals = [(X_test, y_test)]\n",
        "xgb2.fit(X_train, y_train, eval_metric = \"logloss\", eval_set = evals, verbose = 1)"
      ],
      "execution_count": null,
      "outputs": []
    },
    {
      "cell_type": "code",
      "metadata": {
        "id": "BhkzH76w-6h1"
      },
      "source": [
        "xgb = XGBClassifier()\n",
        "\n",
        "xgb_param_grid = {\n",
        "    'n_estimators' : [100, 200, 400, 500, 600],\n",
        "    'learning_rate' : [0.01, 0.05, 0.1, 0.15, 0.2],\n",
        "    'max_depth' : [4, 6, 8, 10, 12],\n",
        "}\n",
        "# sklearn.metrics.SCORERS.keys()\n",
        "xgb_grid = GridSearchCV(xgb, param_grid = xgb_param_grid, scoring=\"roc_auc\", n_jobs= 1, verbose = 1)\n",
        "xgb_grid.fit(X_train, y_train)"
      ],
      "execution_count": null,
      "outputs": []
    },
    {
      "cell_type": "code",
      "metadata": {
        "id": "3CuJHa-M_BIv"
      },
      "source": [
        "print(\"최고 평균 auc : {0:.4f}\".format(xgb_grid.best_score_))\n",
        "print(\"최고의 파라미터 : \", xgb_grid.best_params_)\n",
        "print(\"최고 점수를 낸 파라미터를 가진 모형 : \", xgb_grid.best_estimator_)"
      ],
      "execution_count": null,
      "outputs": []
    },
    {
      "cell_type": "code",
      "metadata": {
        "id": "8UKeVOhB_FFh"
      },
      "source": [
        "result = pd.DataFrame(xgb_grid.cv_results_)\n",
        "result.sort_values(by=['rank_test_score'], inplace=True)"
      ],
      "execution_count": null,
      "outputs": []
    },
    {
      "cell_type": "code",
      "metadata": {
        "id": "f4OZLWrJ_KHS"
      },
      "source": [
        "result[['params', 'mean_test_score', 'rank_test_score']].head(10)"
      ],
      "execution_count": null,
      "outputs": []
    },
    {
      "cell_type": "code",
      "metadata": {
        "id": "uKROyLL5_MKW"
      },
      "source": [
        "import joblib\n",
        "\n",
        "xgb2 = xgb_grid.best_estimator_\n",
        "xgb2.fit(X_train, y_train)\n",
        "joblib.dump(xgb2, './xgb_1v30_model_2day_yn.pkl')"
      ],
      "execution_count": null,
      "outputs": []
    },
    {
      "cell_type": "code",
      "metadata": {
        "colab": {
          "base_uri": "https://localhost:8080/"
        },
        "id": "7xqjvbZdMHoX",
        "outputId": "0b250a5a-16d0-435c-e9c4-3e53c6e376fb"
      },
      "source": [
        "xgb2_pred = xgb2.predict(X_test)\n",
        "metrics(y_test, xgb2_pred)"
      ],
      "execution_count": null,
      "outputs": [
        {
          "output_type": "stream",
          "text": [
            "정확도 : 0.94, 정밀도 : 0.92, 재현율 : 0.96\n",
            "f1-score : 0.94, auc : 0.94\n"
          ],
          "name": "stdout"
        }
      ]
    },
    {
      "cell_type": "markdown",
      "metadata": {
        "id": "KsIAcoQ8WbLl"
      },
      "source": [
        "# Submission 실행"
      ]
    },
    {
      "cell_type": "code",
      "metadata": {
        "id": "xb-kuYkAWeBK"
      },
      "source": [
        "# Merged_data_file\n",
        "Merged_2020 = pd.read_csv('../A2W/데이터/data_submission/merge_s_h_a20.csv')\n",
        "# Test 검증 데이터셋\n",
        "test_input = pd.read_csv('../A2W/데이터/data_submission/input.csv', encoding = 'cp949')"
      ],
      "execution_count": null,
      "outputs": []
    },
    {
      "cell_type": "code",
      "metadata": {
        "id": "Epg_Zmq5WkEm"
      },
      "source": [
        "# 훈련된 모델로 결과 도출 : day1 함수\n",
        "def day1_data_test(sgg, umd, date):    \n",
        "    # sgg 데이터와 umd 데이터, date를 통한 추출\n",
        "    text = sgg + ' ' + umd\n",
        "    # specific 자체가 학습 돌린 결과 참고해서 input으로 만들어야 됨\n",
        "    test_day1 = Merged_2020[Merged_2020['umd2'].str.contains(text.rstrip()) & Merged_2020['tm'].str.contains(date)]\n",
        "    test_specific_day1 = test_day1[['maxTa','minTa','avgTa','EIGHT_AGL','mi10MaxRn', 'hr1MaxRn', 'sumRnDur', 'sumRn', 'maxInsWs', \n",
        "                                    'maxWs', 'avgWs','minRhm','avgRhm','n99Rn', 'PRRCK_LARG', 'PRRCK_MDDL','LOCTN_ALTT','LOCTN_GRDN',\n",
        "                                    'CLZN_CD','TPGRP_TPCD','PRDN_FOM_C','SLDPT_TPCD','SLANT_TYP','SCSTX_CD','SLTP_CD','STORUNST','FROR_CD',\n",
        "                                    'FRTP_CD','KOFTR_GROU','DMCLS_CD','AGCLS_CD','HEIGHT']]\n",
        "    fillna_test_specific_day1 = test_specific_day1.fillna(0)\n",
        "    model_pred = xgb1.predict(fillna_test_specific_day1.to_numpy())\n",
        "    return model_pred\n",
        "\n",
        "# 훈련된 모델로 결과 도출 : day2 함수\n",
        "def day2_data_test(sgg, umd, date):    \n",
        "    # sgg 데이터와 umd 데이터, date를 통한 추출\n",
        "    text = sgg + ' ' + umd\n",
        "    # specific 자체가 학습 돌린 결과 참고해서 input으로 만들어야 됨\n",
        "    test_day2 = Merged_2020[Merged_2020['umd2'].str.contains(text.rstrip()) & Merged_2020['tm'].str.contains(date)]\n",
        "    test_specific_day2 = test_day2[['maxTa','minTa','avgTa','EIGHT_AGL','mi10MaxRn', 'hr1MaxRn', 'sumRnDur', 'sumRn', 'maxInsWs',\n",
        "                                    'maxWs', 'avgWs','minRhm','avgRhm','n99Rn', 'PRRCK_LARG', 'PRRCK_MDDL','LOCTN_ALTT','LOCTN_GRDN',\n",
        "                                    'CLZN_CD','TPGRP_TPCD','PRDN_FOM_C','SLDPT_TPCD','SLANT_TYP','SCSTX_CD','SLTP_CD','STORUNST','FROR_CD',\n",
        "                                    'FRTP_CD','KOFTR_GROU','DMCLS_CD','AGCLS_CD','HEIGHT']]\n",
        "    fillna_test_specific_day2 = test_specific_day2.fillna(0)\n",
        "    model_pred = xgb2.predict(fillna_test_specific_day2.to_numpy())\n",
        "    return model_pred"
      ],
      "execution_count": null,
      "outputs": []
    },
    {
      "cell_type": "code",
      "metadata": {
        "colab": {
          "base_uri": "https://localhost:8080/",
          "height": 340
        },
        "id": "Yx_h_cmAXbNE",
        "outputId": "f8e1dc80-99f1-447f-8bf9-b7fcae571ef3"
      },
      "source": [
        "length_test_input = len(test_input.index)\n",
        "\n",
        "#day_1 data\n",
        "for index in range(length_test_input):\n",
        "    if test_input['umd'][index] == \"삼거동\":\n",
        "        input_date = test_input['date'][index]\n",
        "        input_sgg = test_input['sgg'][index]\n",
        "        input_umd = \"상문동\"\n",
        "    elif test_input['umd'][index] == \"어곡동\":\n",
        "        input_date = test_input['date'][index]\n",
        "        input_sgg = test_input['sgg'][index]\n",
        "        input_umd = \"강서동\"\n",
        "    elif test_input['umd'][index] == \"주진동\":\n",
        "        input_date = test_input['date'][index]\n",
        "        input_sgg = test_input['sgg'][index]\n",
        "        input_umd = \"소주동\"\n",
        "    elif test_input['umd'][index] == \"시동\":\n",
        "        input_date = test_input['date'][index]\n",
        "        input_sgg = test_input['sgg'][index]\n",
        "        input_umd = \"불국동\"\n",
        "    elif test_input['umd'][index] == \"덕곡동\":\n",
        "        input_date = test_input['date'][index]\n",
        "        input_sgg = test_input['sgg'][index]\n",
        "        input_umd = \"지좌동\"\n",
        "    elif test_input['umd'][index] == \"조와동\":\n",
        "        input_date = test_input['date'][index]\n",
        "        input_sgg = test_input['sgg'][index]\n",
        "        input_umd = \"상망동\"\n",
        "    else:\n",
        "        input_date = test_input['date'][index]\n",
        "        input_sgg = test_input['sgg'][index]\n",
        "        input_umd = test_input['umd'][index]\n",
        "    test_input['1day_yn'][index] = day1_data_test(input_sgg, input_umd, input_date)\n",
        "        \n",
        "\n",
        "#day_2 data\n",
        "for index in range(length_test_input):\n",
        "    if test_input['umd'][index] == \"삼거동\":\n",
        "        input_date = test_input['date'][index]\n",
        "        input_sgg = test_input['sgg'][index]\n",
        "        input_umd = \"상문동\"\n",
        "    elif test_input['umd'][index] == \"어곡동\":\n",
        "        input_date = test_input['date'][index]\n",
        "        input_sgg = test_input['sgg'][index]\n",
        "        input_umd = \"강서동\"\n",
        "    elif test_input['umd'][index] == \"주진동\":\n",
        "        input_date = test_input['date'][index]\n",
        "        input_sgg = test_input['sgg'][index]\n",
        "        input_umd = \"소주동\"\n",
        "    elif test_input['umd'][index] == \"시동\":\n",
        "        input_date = test_input['date'][index]\n",
        "        input_sgg = test_input['sgg'][index]\n",
        "        input_umd = \"불국동\"\n",
        "    elif test_input['umd'][index] == \"덕곡동\":\n",
        "        input_date = test_input['date'][index]\n",
        "        input_sgg = test_input['sgg'][index]\n",
        "        input_umd = \"지좌동\"\n",
        "    elif test_input['umd'][index] == \"조와동\":\n",
        "        input_date = test_input['date'][index]\n",
        "        input_sgg = test_input['sgg'][index]\n",
        "        input_umd = \"상망동\"\n",
        "    else:\n",
        "        input_date = test_input['date'][index]\n",
        "        input_sgg = test_input['sgg'][index]\n",
        "        input_umd = test_input['umd'][index]\n",
        "    test_input['2day_yn'][index] = day2_data_test(input_sgg, input_umd, input_date)\n",
        "\n",
        "\n",
        "test_input.head()"
      ],
      "execution_count": null,
      "outputs": [
        {
          "output_type": "stream",
          "text": [
            "/usr/local/lib/python3.7/dist-packages/ipykernel_launcher.py:33: SettingWithCopyWarning: \n",
            "A value is trying to be set on a copy of a slice from a DataFrame\n",
            "\n",
            "See the caveats in the documentation: https://pandas.pydata.org/pandas-docs/stable/user_guide/indexing.html#returning-a-view-versus-a-copy\n",
            "/usr/local/lib/python3.7/dist-packages/ipykernel_launcher.py:66: SettingWithCopyWarning: \n",
            "A value is trying to be set on a copy of a slice from a DataFrame\n",
            "\n",
            "See the caveats in the documentation: https://pandas.pydata.org/pandas-docs/stable/user_guide/indexing.html#returning-a-view-versus-a-copy\n"
          ],
          "name": "stderr"
        },
        {
          "output_type": "execute_result",
          "data": {
            "text/html": [
              "<div>\n",
              "<style scoped>\n",
              "    .dataframe tbody tr th:only-of-type {\n",
              "        vertical-align: middle;\n",
              "    }\n",
              "\n",
              "    .dataframe tbody tr th {\n",
              "        vertical-align: top;\n",
              "    }\n",
              "\n",
              "    .dataframe thead th {\n",
              "        text-align: right;\n",
              "    }\n",
              "</style>\n",
              "<table border=\"1\" class=\"dataframe\">\n",
              "  <thead>\n",
              "    <tr style=\"text-align: right;\">\n",
              "      <th></th>\n",
              "      <th>date</th>\n",
              "      <th>sd</th>\n",
              "      <th>sgg</th>\n",
              "      <th>umd</th>\n",
              "      <th>1day</th>\n",
              "      <th>1day_yn</th>\n",
              "      <th>2day</th>\n",
              "      <th>2day_yn</th>\n",
              "    </tr>\n",
              "  </thead>\n",
              "  <tbody>\n",
              "    <tr>\n",
              "      <th>0</th>\n",
              "      <td>2020-06-10</td>\n",
              "      <td>경상남도</td>\n",
              "      <td>사천시</td>\n",
              "      <td>곤명면</td>\n",
              "      <td>2020-06-11</td>\n",
              "      <td>0.0</td>\n",
              "      <td>2020-06-12</td>\n",
              "      <td>0.0</td>\n",
              "    </tr>\n",
              "    <tr>\n",
              "      <th>1</th>\n",
              "      <td>2020-06-11</td>\n",
              "      <td>경상남도</td>\n",
              "      <td>사천시</td>\n",
              "      <td>곤명면</td>\n",
              "      <td>2020-06-12</td>\n",
              "      <td>0.0</td>\n",
              "      <td>2020-06-13</td>\n",
              "      <td>1.0</td>\n",
              "    </tr>\n",
              "    <tr>\n",
              "      <th>2</th>\n",
              "      <td>2020-06-12</td>\n",
              "      <td>경상남도</td>\n",
              "      <td>사천시</td>\n",
              "      <td>곤명면</td>\n",
              "      <td>2020-06-13</td>\n",
              "      <td>1.0</td>\n",
              "      <td>2020-06-14</td>\n",
              "      <td>1.0</td>\n",
              "    </tr>\n",
              "    <tr>\n",
              "      <th>3</th>\n",
              "      <td>2020-06-10</td>\n",
              "      <td>경상남도</td>\n",
              "      <td>사천시</td>\n",
              "      <td>곤양면</td>\n",
              "      <td>2020-06-11</td>\n",
              "      <td>0.0</td>\n",
              "      <td>2020-06-12</td>\n",
              "      <td>0.0</td>\n",
              "    </tr>\n",
              "    <tr>\n",
              "      <th>4</th>\n",
              "      <td>2020-06-11</td>\n",
              "      <td>경상남도</td>\n",
              "      <td>사천시</td>\n",
              "      <td>곤양면</td>\n",
              "      <td>2020-06-12</td>\n",
              "      <td>0.0</td>\n",
              "      <td>2020-06-13</td>\n",
              "      <td>1.0</td>\n",
              "    </tr>\n",
              "  </tbody>\n",
              "</table>\n",
              "</div>"
            ],
            "text/plain": [
              "         date    sd  sgg  umd        1day  1day_yn        2day  2day_yn\n",
              "0  2020-06-10  경상남도  사천시  곤명면  2020-06-11      0.0  2020-06-12      0.0\n",
              "1  2020-06-11  경상남도  사천시  곤명면  2020-06-12      0.0  2020-06-13      1.0\n",
              "2  2020-06-12  경상남도  사천시  곤명면  2020-06-13      1.0  2020-06-14      1.0\n",
              "3  2020-06-10  경상남도  사천시  곤양면  2020-06-11      0.0  2020-06-12      0.0\n",
              "4  2020-06-11  경상남도  사천시  곤양면  2020-06-12      0.0  2020-06-13      1.0"
            ]
          },
          "metadata": {
            "tags": []
          },
          "execution_count": 34
        }
      ]
    },
    {
      "cell_type": "code",
      "metadata": {
        "colab": {
          "base_uri": "https://localhost:8080/"
        },
        "id": "tGUPog5CXczN",
        "outputId": "a7741cae-b704-4a38-f9b4-a092c1ec9015"
      },
      "source": [
        "test_input[\"1day_yn\"].value_counts()"
      ],
      "execution_count": null,
      "outputs": [
        {
          "output_type": "execute_result",
          "data": {
            "text/plain": [
              "0.0    2231\n",
              "1.0    1179\n",
              "Name: 1day_yn, dtype: int64"
            ]
          },
          "metadata": {
            "tags": []
          },
          "execution_count": 35
        }
      ]
    },
    {
      "cell_type": "code",
      "metadata": {
        "colab": {
          "base_uri": "https://localhost:8080/"
        },
        "id": "dDVcmOseXeZI",
        "outputId": "da6c9413-4fa4-4244-f838-8d0568d46a91"
      },
      "source": [
        "test_input[\"2day_yn\"].value_counts()"
      ],
      "execution_count": null,
      "outputs": [
        {
          "output_type": "execute_result",
          "data": {
            "text/plain": [
              "0.0    2659\n",
              "1.0     751\n",
              "Name: 2day_yn, dtype: int64"
            ]
          },
          "metadata": {
            "tags": []
          },
          "execution_count": 36
        }
      ]
    },
    {
      "cell_type": "code",
      "metadata": {
        "id": "tSi6kCXSXfcl"
      },
      "source": [
        "test_input.to_csv(\"xgb_1v30_model.csv\", index=False, encoding='cp949')"
      ],
      "execution_count": null,
      "outputs": []
    }
  ]
}