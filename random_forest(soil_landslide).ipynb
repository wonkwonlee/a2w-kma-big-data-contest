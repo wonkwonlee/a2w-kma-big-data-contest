{
  "nbformat": 4,
  "nbformat_minor": 0,
  "metadata": {
    "colab": {
      "name": "random_forest(soil-landslide).ipynb",
      "provenance": [],
      "collapsed_sections": []
    },
    "kernelspec": {
      "name": "python3",
      "display_name": "Python 3"
    },
    "language_info": {
      "name": "python"
    }
  },
  "cells": [
    {
      "cell_type": "code",
      "metadata": {
        "colab": {
          "base_uri": "https://localhost:8080/"
        },
        "id": "PrtnVGv2lCwd",
        "outputId": "72dd792f-c75b-4360-e0d0-76a48fa5e3b8"
      },
      "source": [
        "from google.colab import drive\n",
        "drive.mount('/content/drive')"
      ],
      "execution_count": 1,
      "outputs": [
        {
          "output_type": "stream",
          "text": [
            "Mounted at /content/drive\n"
          ],
          "name": "stdout"
        }
      ]
    },
    {
      "cell_type": "code",
      "metadata": {
        "id": "1x5tByyQlU6E"
      },
      "source": [
        "# 경로 설정 \n",
        "import os\n",
        "os.chdir('/content/drive/MyDrive/A2W/데이터')"
      ],
      "execution_count": 7,
      "outputs": []
    },
    {
      "cell_type": "code",
      "metadata": {
        "id": "4tpHpAeck_yB"
      },
      "source": [
        "import numpy as np\n",
        "import pandas as pd\n",
        "import matplotlib.pyplot as plt\n",
        "import seaborn as sns\n",
        "%matplotlib inline\n",
        "\n",
        "\n",
        "from sklearn.feature_selection import mutual_info_classif\n",
        "from sklearn.preprocessing import OneHotEncoder\n",
        "from sklearn.ensemble import RandomForestClassifier, GradientBoostingClassifier, ExtraTreesClassifier\n",
        "from lightgbm import LGBMClassifier"
      ],
      "execution_count": 3,
      "outputs": []
    },
    {
      "cell_type": "code",
      "metadata": {
        "id": "pE5Az1dRlW5v"
      },
      "source": [
        "df = pd.read_csv(\"y_sum_hg_all.csv\")"
      ],
      "execution_count": 9,
      "outputs": []
    },
    {
      "cell_type": "code",
      "metadata": {
        "colab": {
          "base_uri": "https://localhost:8080/",
          "height": 958
        },
        "id": "Z_x1RhlpsCVL",
        "outputId": "fa989231-5a09-4ce0-e63b-0e54eef53618"
      },
      "source": [
        "df"
      ],
      "execution_count": 10,
      "outputs": [
        {
          "output_type": "execute_result",
          "data": {
            "text/html": [
              "<div>\n",
              "<style scoped>\n",
              "    .dataframe tbody tr th:only-of-type {\n",
              "        vertical-align: middle;\n",
              "    }\n",
              "\n",
              "    .dataframe tbody tr th {\n",
              "        vertical-align: top;\n",
              "    }\n",
              "\n",
              "    .dataframe thead th {\n",
              "        text-align: right;\n",
              "    }\n",
              "</style>\n",
              "<table border=\"1\" class=\"dataframe\">\n",
              "  <thead>\n",
              "    <tr style=\"text-align: right;\">\n",
              "      <th></th>\n",
              "      <th>Unnamed: 0</th>\n",
              "      <th>umd</th>\n",
              "      <th>sgg</th>\n",
              "      <th>umd2</th>\n",
              "      <th>sum_cnt</th>\n",
              "      <th>landslide</th>\n",
              "      <th>PRRCK_LARG</th>\n",
              "      <th>PRRCK_MDDL</th>\n",
              "      <th>LOCTN_ALTT</th>\n",
              "      <th>LOCTN_GRDN</th>\n",
              "      <th>EIGHT_AGL</th>\n",
              "      <th>CLZN_CD</th>\n",
              "      <th>TPGRP_TPCD</th>\n",
              "      <th>PRDN_FOM_C</th>\n",
              "      <th>SLANT_TYP</th>\n",
              "      <th>SLDPT_TPCD</th>\n",
              "      <th>SCSTX_CD</th>\n",
              "      <th>SLTP_CD</th>\n",
              "    </tr>\n",
              "  </thead>\n",
              "  <tbody>\n",
              "    <tr>\n",
              "      <th>0</th>\n",
              "      <td>0</td>\n",
              "      <td>개진면</td>\n",
              "      <td>고령군</td>\n",
              "      <td>고령군 개진면</td>\n",
              "      <td>0.0</td>\n",
              "      <td>0.0</td>\n",
              "      <td>2</td>\n",
              "      <td>24</td>\n",
              "      <td>306.1</td>\n",
              "      <td>18.7</td>\n",
              "      <td>158.6</td>\n",
              "      <td>3</td>\n",
              "      <td>12</td>\n",
              "      <td>1</td>\n",
              "      <td>1</td>\n",
              "      <td>20</td>\n",
              "      <td>2</td>\n",
              "      <td>1</td>\n",
              "    </tr>\n",
              "    <tr>\n",
              "      <th>1</th>\n",
              "      <td>1</td>\n",
              "      <td>성산면</td>\n",
              "      <td>고령군</td>\n",
              "      <td>고령군 성산면</td>\n",
              "      <td>0.0</td>\n",
              "      <td>0.0</td>\n",
              "      <td>2</td>\n",
              "      <td>26</td>\n",
              "      <td>103.2</td>\n",
              "      <td>13.4</td>\n",
              "      <td>244.5</td>\n",
              "      <td>3</td>\n",
              "      <td>12</td>\n",
              "      <td>1</td>\n",
              "      <td>1</td>\n",
              "      <td>10</td>\n",
              "      <td>2</td>\n",
              "      <td>1</td>\n",
              "    </tr>\n",
              "    <tr>\n",
              "      <th>2</th>\n",
              "      <td>2</td>\n",
              "      <td>우곡면</td>\n",
              "      <td>고령군</td>\n",
              "      <td>고령군 우곡면</td>\n",
              "      <td>1.0</td>\n",
              "      <td>1.0</td>\n",
              "      <td>2</td>\n",
              "      <td>24</td>\n",
              "      <td>64.1</td>\n",
              "      <td>17.7</td>\n",
              "      <td>285.2</td>\n",
              "      <td>3</td>\n",
              "      <td>7</td>\n",
              "      <td>1</td>\n",
              "      <td>1</td>\n",
              "      <td>10</td>\n",
              "      <td>3</td>\n",
              "      <td>13</td>\n",
              "    </tr>\n",
              "    <tr>\n",
              "      <th>3</th>\n",
              "      <td>3</td>\n",
              "      <td>각북면</td>\n",
              "      <td>청도군</td>\n",
              "      <td>청도군 각북면</td>\n",
              "      <td>0.0</td>\n",
              "      <td>0.0</td>\n",
              "      <td>1</td>\n",
              "      <td>12</td>\n",
              "      <td>573.4</td>\n",
              "      <td>22.5</td>\n",
              "      <td>15.5</td>\n",
              "      <td>3</td>\n",
              "      <td>12</td>\n",
              "      <td>1</td>\n",
              "      <td>1</td>\n",
              "      <td>10</td>\n",
              "      <td>2</td>\n",
              "      <td>1</td>\n",
              "    </tr>\n",
              "    <tr>\n",
              "      <th>4</th>\n",
              "      <td>4</td>\n",
              "      <td>이서면</td>\n",
              "      <td>청도군</td>\n",
              "      <td>청도군 이서면</td>\n",
              "      <td>0.0</td>\n",
              "      <td>0.0</td>\n",
              "      <td>2</td>\n",
              "      <td>26</td>\n",
              "      <td>249.5</td>\n",
              "      <td>15.1</td>\n",
              "      <td>86.6</td>\n",
              "      <td>3</td>\n",
              "      <td>12</td>\n",
              "      <td>1</td>\n",
              "      <td>1</td>\n",
              "      <td>10</td>\n",
              "      <td>2</td>\n",
              "      <td>1</td>\n",
              "    </tr>\n",
              "    <tr>\n",
              "      <th>...</th>\n",
              "      <td>...</td>\n",
              "      <td>...</td>\n",
              "      <td>...</td>\n",
              "      <td>...</td>\n",
              "      <td>...</td>\n",
              "      <td>...</td>\n",
              "      <td>...</td>\n",
              "      <td>...</td>\n",
              "      <td>...</td>\n",
              "      <td>...</td>\n",
              "      <td>...</td>\n",
              "      <td>...</td>\n",
              "      <td>...</td>\n",
              "      <td>...</td>\n",
              "      <td>...</td>\n",
              "      <td>...</td>\n",
              "      <td>...</td>\n",
              "      <td>...</td>\n",
              "    </tr>\n",
              "    <tr>\n",
              "      <th>632</th>\n",
              "      <td>632</td>\n",
              "      <td>신안동</td>\n",
              "      <td>진주시</td>\n",
              "      <td>진주시 신안동</td>\n",
              "      <td>0.0</td>\n",
              "      <td>0.0</td>\n",
              "      <td>0</td>\n",
              "      <td>0</td>\n",
              "      <td>0.0</td>\n",
              "      <td>0.0</td>\n",
              "      <td>0.0</td>\n",
              "      <td>0</td>\n",
              "      <td>0</td>\n",
              "      <td>0</td>\n",
              "      <td>0</td>\n",
              "      <td>0</td>\n",
              "      <td>0</td>\n",
              "      <td>0</td>\n",
              "    </tr>\n",
              "    <tr>\n",
              "      <th>633</th>\n",
              "      <td>633</td>\n",
              "      <td>충무공동</td>\n",
              "      <td>진주시</td>\n",
              "      <td>진주시 충무공동</td>\n",
              "      <td>0.0</td>\n",
              "      <td>0.0</td>\n",
              "      <td>0</td>\n",
              "      <td>0</td>\n",
              "      <td>0.0</td>\n",
              "      <td>0.0</td>\n",
              "      <td>0.0</td>\n",
              "      <td>0</td>\n",
              "      <td>0</td>\n",
              "      <td>0</td>\n",
              "      <td>0</td>\n",
              "      <td>0</td>\n",
              "      <td>0</td>\n",
              "      <td>0</td>\n",
              "    </tr>\n",
              "    <tr>\n",
              "      <th>634</th>\n",
              "      <td>634</td>\n",
              "      <td>욕지면</td>\n",
              "      <td>통영시</td>\n",
              "      <td>통영시 욕지면</td>\n",
              "      <td>0.0</td>\n",
              "      <td>0.0</td>\n",
              "      <td>0</td>\n",
              "      <td>0</td>\n",
              "      <td>0.0</td>\n",
              "      <td>0.0</td>\n",
              "      <td>0.0</td>\n",
              "      <td>0</td>\n",
              "      <td>0</td>\n",
              "      <td>0</td>\n",
              "      <td>0</td>\n",
              "      <td>0</td>\n",
              "      <td>0</td>\n",
              "      <td>0</td>\n",
              "    </tr>\n",
              "    <tr>\n",
              "      <th>635</th>\n",
              "      <td>635</td>\n",
              "      <td>사량면</td>\n",
              "      <td>통영시</td>\n",
              "      <td>통영시 사량면</td>\n",
              "      <td>0.0</td>\n",
              "      <td>0.0</td>\n",
              "      <td>0</td>\n",
              "      <td>0</td>\n",
              "      <td>0.0</td>\n",
              "      <td>0.0</td>\n",
              "      <td>0.0</td>\n",
              "      <td>0</td>\n",
              "      <td>0</td>\n",
              "      <td>0</td>\n",
              "      <td>0</td>\n",
              "      <td>0</td>\n",
              "      <td>0</td>\n",
              "      <td>0</td>\n",
              "    </tr>\n",
              "    <tr>\n",
              "      <th>636</th>\n",
              "      <td>636</td>\n",
              "      <td>양주동</td>\n",
              "      <td>양산시</td>\n",
              "      <td>양산시 양주동</td>\n",
              "      <td>0.0</td>\n",
              "      <td>0.0</td>\n",
              "      <td>0</td>\n",
              "      <td>0</td>\n",
              "      <td>0.0</td>\n",
              "      <td>0.0</td>\n",
              "      <td>0.0</td>\n",
              "      <td>0</td>\n",
              "      <td>0</td>\n",
              "      <td>0</td>\n",
              "      <td>0</td>\n",
              "      <td>0</td>\n",
              "      <td>0</td>\n",
              "      <td>0</td>\n",
              "    </tr>\n",
              "  </tbody>\n",
              "</table>\n",
              "<p>637 rows × 18 columns</p>\n",
              "</div>"
            ],
            "text/plain": [
              "     Unnamed: 0   umd  sgg      umd2  ...  SLANT_TYP  SLDPT_TPCD  SCSTX_CD  SLTP_CD\n",
              "0             0   개진면  고령군   고령군 개진면  ...          1          20         2        1\n",
              "1             1   성산면  고령군   고령군 성산면  ...          1          10         2        1\n",
              "2             2   우곡면  고령군   고령군 우곡면  ...          1          10         3       13\n",
              "3             3   각북면  청도군   청도군 각북면  ...          1          10         2        1\n",
              "4             4   이서면  청도군   청도군 이서면  ...          1          10         2        1\n",
              "..          ...   ...  ...       ...  ...        ...         ...       ...      ...\n",
              "632         632   신안동  진주시   진주시 신안동  ...          0           0         0        0\n",
              "633         633  충무공동  진주시  진주시 충무공동  ...          0           0         0        0\n",
              "634         634   욕지면  통영시   통영시 욕지면  ...          0           0         0        0\n",
              "635         635   사량면  통영시   통영시 사량면  ...          0           0         0        0\n",
              "636         636   양주동  양산시   양산시 양주동  ...          0           0         0        0\n",
              "\n",
              "[637 rows x 18 columns]"
            ]
          },
          "metadata": {
            "tags": []
          },
          "execution_count": 10
        }
      ]
    },
    {
      "cell_type": "code",
      "metadata": {
        "id": "0ckceyo_9Mkk"
      },
      "source": [
        "df_sample = df.drop([\"Unnamed: 0\", 'umd', \"sgg\", \"umd2\", \"sum_cnt\"], axis=1)"
      ],
      "execution_count": 23,
      "outputs": []
    },
    {
      "cell_type": "code",
      "metadata": {
        "colab": {
          "base_uri": "https://localhost:8080/"
        },
        "id": "q3jJpVMYn-oG",
        "outputId": "105f0aba-7fdd-46b3-be85-6df6f0a10f18"
      },
      "source": [
        "df_sample = df_sample.dropna()\n",
        "df_sample.info()"
      ],
      "execution_count": 24,
      "outputs": [
        {
          "output_type": "stream",
          "text": [
            "<class 'pandas.core.frame.DataFrame'>\n",
            "Int64Index: 637 entries, 0 to 636\n",
            "Data columns (total 13 columns):\n",
            " #   Column      Non-Null Count  Dtype  \n",
            "---  ------      --------------  -----  \n",
            " 0   landslide   637 non-null    float64\n",
            " 1   PRRCK_LARG  637 non-null    int64  \n",
            " 2   PRRCK_MDDL  637 non-null    int64  \n",
            " 3   LOCTN_ALTT  637 non-null    float64\n",
            " 4   LOCTN_GRDN  637 non-null    float64\n",
            " 5   EIGHT_AGL   637 non-null    float64\n",
            " 6   CLZN_CD     637 non-null    int64  \n",
            " 7   TPGRP_TPCD  637 non-null    int64  \n",
            " 8   PRDN_FOM_C  637 non-null    int64  \n",
            " 9   SLANT_TYP   637 non-null    int64  \n",
            " 10  SLDPT_TPCD  637 non-null    int64  \n",
            " 11  SCSTX_CD    637 non-null    int64  \n",
            " 12  SLTP_CD     637 non-null    int64  \n",
            "dtypes: float64(4), int64(9)\n",
            "memory usage: 69.7 KB\n"
          ],
          "name": "stdout"
        }
      ]
    },
    {
      "cell_type": "code",
      "metadata": {
        "colab": {
          "base_uri": "https://localhost:8080/"
        },
        "id": "Q0cD3lfwxBMt",
        "outputId": "4c918a82-b31f-4b40-9e07-1e37b073d1ec"
      },
      "source": [
        "df_sample.columns"
      ],
      "execution_count": 25,
      "outputs": [
        {
          "output_type": "execute_result",
          "data": {
            "text/plain": [
              "Index(['landslide', 'PRRCK_LARG', 'PRRCK_MDDL', 'LOCTN_ALTT', 'LOCTN_GRDN',\n",
              "       'EIGHT_AGL', 'CLZN_CD', 'TPGRP_TPCD', 'PRDN_FOM_C', 'SLANT_TYP',\n",
              "       'SLDPT_TPCD', 'SCSTX_CD', 'SLTP_CD'],\n",
              "      dtype='object')"
            ]
          },
          "metadata": {
            "tags": []
          },
          "execution_count": 25
        }
      ]
    },
    {
      "cell_type": "code",
      "metadata": {
        "colab": {
          "base_uri": "https://localhost:8080/"
        },
        "id": "Uh3_boPp9vAG",
        "outputId": "e04c680e-5e92-49a2-da01-3badac86b07f"
      },
      "source": [
        "df_sample.value_counts(\"landslide\")"
      ],
      "execution_count": 26,
      "outputs": [
        {
          "output_type": "execute_result",
          "data": {
            "text/plain": [
              "landslide\n",
              "0.0    397\n",
              "1.0    240\n",
              "dtype: int64"
            ]
          },
          "metadata": {
            "tags": []
          },
          "execution_count": 26
        }
      ]
    },
    {
      "cell_type": "code",
      "metadata": {
        "id": "IbX5h405mQTp"
      },
      "source": [
        "from sklearn.model_selection import train_test_split\n",
        "\n",
        "x_train, x_test, y_train, y_test = train_test_split(\n",
        "    df_sample[['PRRCK_LARG', 'PRRCK_MDDL', 'LOCTN_ALTT', 'LOCTN_GRDN',\n",
        "       'EIGHT_AGL', 'CLZN_CD', 'TPGRP_TPCD', 'PRDN_FOM_C', 'SLANT_TYP',\n",
        "       'SLDPT_TPCD', 'SCSTX_CD', 'SLTP_CD']], \n",
        "    df_sample['landslide'], \n",
        "    test_size=0.25, \n",
        "    stratify=df_sample['landslide'], \n",
        "    random_state=123456)"
      ],
      "execution_count": 28,
      "outputs": []
    },
    {
      "cell_type": "code",
      "metadata": {
        "colab": {
          "base_uri": "https://localhost:8080/",
          "height": 417
        },
        "id": "ZoqohIjxosRd",
        "outputId": "5dbbb91c-effc-4023-85c1-bd1b6914590b"
      },
      "source": [
        "x_train"
      ],
      "execution_count": 29,
      "outputs": [
        {
          "output_type": "execute_result",
          "data": {
            "text/html": [
              "<div>\n",
              "<style scoped>\n",
              "    .dataframe tbody tr th:only-of-type {\n",
              "        vertical-align: middle;\n",
              "    }\n",
              "\n",
              "    .dataframe tbody tr th {\n",
              "        vertical-align: top;\n",
              "    }\n",
              "\n",
              "    .dataframe thead th {\n",
              "        text-align: right;\n",
              "    }\n",
              "</style>\n",
              "<table border=\"1\" class=\"dataframe\">\n",
              "  <thead>\n",
              "    <tr style=\"text-align: right;\">\n",
              "      <th></th>\n",
              "      <th>PRRCK_LARG</th>\n",
              "      <th>PRRCK_MDDL</th>\n",
              "      <th>LOCTN_ALTT</th>\n",
              "      <th>LOCTN_GRDN</th>\n",
              "      <th>EIGHT_AGL</th>\n",
              "      <th>CLZN_CD</th>\n",
              "      <th>TPGRP_TPCD</th>\n",
              "      <th>PRDN_FOM_C</th>\n",
              "      <th>SLANT_TYP</th>\n",
              "      <th>SLDPT_TPCD</th>\n",
              "      <th>SCSTX_CD</th>\n",
              "      <th>SLTP_CD</th>\n",
              "    </tr>\n",
              "  </thead>\n",
              "  <tbody>\n",
              "    <tr>\n",
              "      <th>265</th>\n",
              "      <td>1</td>\n",
              "      <td>11</td>\n",
              "      <td>357.6</td>\n",
              "      <td>16.1</td>\n",
              "      <td>164.1</td>\n",
              "      <td>2</td>\n",
              "      <td>3</td>\n",
              "      <td>3</td>\n",
              "      <td>2</td>\n",
              "      <td>2</td>\n",
              "      <td>1</td>\n",
              "      <td>2</td>\n",
              "    </tr>\n",
              "    <tr>\n",
              "      <th>595</th>\n",
              "      <td>1</td>\n",
              "      <td>11</td>\n",
              "      <td>429.3</td>\n",
              "      <td>34.6</td>\n",
              "      <td>215.8</td>\n",
              "      <td>1</td>\n",
              "      <td>12</td>\n",
              "      <td>6</td>\n",
              "      <td>3</td>\n",
              "      <td>20</td>\n",
              "      <td>1</td>\n",
              "      <td>2</td>\n",
              "    </tr>\n",
              "    <tr>\n",
              "      <th>175</th>\n",
              "      <td>2</td>\n",
              "      <td>22</td>\n",
              "      <td>580.0</td>\n",
              "      <td>10.1</td>\n",
              "      <td>151.3</td>\n",
              "      <td>2</td>\n",
              "      <td>12</td>\n",
              "      <td>1</td>\n",
              "      <td>1</td>\n",
              "      <td>10</td>\n",
              "      <td>3</td>\n",
              "      <td>15</td>\n",
              "    </tr>\n",
              "    <tr>\n",
              "      <th>181</th>\n",
              "      <td>2</td>\n",
              "      <td>22</td>\n",
              "      <td>211.0</td>\n",
              "      <td>18.6</td>\n",
              "      <td>174.1</td>\n",
              "      <td>2</td>\n",
              "      <td>12</td>\n",
              "      <td>1</td>\n",
              "      <td>1</td>\n",
              "      <td>10</td>\n",
              "      <td>3</td>\n",
              "      <td>15</td>\n",
              "    </tr>\n",
              "    <tr>\n",
              "      <th>274</th>\n",
              "      <td>2</td>\n",
              "      <td>24</td>\n",
              "      <td>226.2</td>\n",
              "      <td>13.7</td>\n",
              "      <td>226.7</td>\n",
              "      <td>2</td>\n",
              "      <td>12</td>\n",
              "      <td>1</td>\n",
              "      <td>1</td>\n",
              "      <td>10</td>\n",
              "      <td>3</td>\n",
              "      <td>13</td>\n",
              "    </tr>\n",
              "    <tr>\n",
              "      <th>...</th>\n",
              "      <td>...</td>\n",
              "      <td>...</td>\n",
              "      <td>...</td>\n",
              "      <td>...</td>\n",
              "      <td>...</td>\n",
              "      <td>...</td>\n",
              "      <td>...</td>\n",
              "      <td>...</td>\n",
              "      <td>...</td>\n",
              "      <td>...</td>\n",
              "      <td>...</td>\n",
              "      <td>...</td>\n",
              "    </tr>\n",
              "    <tr>\n",
              "      <th>498</th>\n",
              "      <td>1</td>\n",
              "      <td>11</td>\n",
              "      <td>136.3</td>\n",
              "      <td>30.5</td>\n",
              "      <td>59.8</td>\n",
              "      <td>4</td>\n",
              "      <td>12</td>\n",
              "      <td>6</td>\n",
              "      <td>3</td>\n",
              "      <td>30</td>\n",
              "      <td>3</td>\n",
              "      <td>2</td>\n",
              "    </tr>\n",
              "    <tr>\n",
              "      <th>563</th>\n",
              "      <td>1</td>\n",
              "      <td>11</td>\n",
              "      <td>19.0</td>\n",
              "      <td>0.7</td>\n",
              "      <td>160.6</td>\n",
              "      <td>4</td>\n",
              "      <td>7</td>\n",
              "      <td>5</td>\n",
              "      <td>2</td>\n",
              "      <td>10</td>\n",
              "      <td>1</td>\n",
              "      <td>26</td>\n",
              "    </tr>\n",
              "    <tr>\n",
              "      <th>242</th>\n",
              "      <td>2</td>\n",
              "      <td>24</td>\n",
              "      <td>121.4</td>\n",
              "      <td>10.5</td>\n",
              "      <td>208.7</td>\n",
              "      <td>2</td>\n",
              "      <td>7</td>\n",
              "      <td>1</td>\n",
              "      <td>1</td>\n",
              "      <td>10</td>\n",
              "      <td>2</td>\n",
              "      <td>1</td>\n",
              "    </tr>\n",
              "    <tr>\n",
              "      <th>426</th>\n",
              "      <td>2</td>\n",
              "      <td>22</td>\n",
              "      <td>65.9</td>\n",
              "      <td>11.4</td>\n",
              "      <td>195.7</td>\n",
              "      <td>4</td>\n",
              "      <td>7</td>\n",
              "      <td>1</td>\n",
              "      <td>1</td>\n",
              "      <td>10</td>\n",
              "      <td>2</td>\n",
              "      <td>1</td>\n",
              "    </tr>\n",
              "    <tr>\n",
              "      <th>26</th>\n",
              "      <td>2</td>\n",
              "      <td>24</td>\n",
              "      <td>430.9</td>\n",
              "      <td>28.4</td>\n",
              "      <td>58.9</td>\n",
              "      <td>3</td>\n",
              "      <td>12</td>\n",
              "      <td>1</td>\n",
              "      <td>1</td>\n",
              "      <td>10</td>\n",
              "      <td>2</td>\n",
              "      <td>1</td>\n",
              "    </tr>\n",
              "  </tbody>\n",
              "</table>\n",
              "<p>477 rows × 12 columns</p>\n",
              "</div>"
            ],
            "text/plain": [
              "     PRRCK_LARG  PRRCK_MDDL  LOCTN_ALTT  ...  SLDPT_TPCD  SCSTX_CD  SLTP_CD\n",
              "265           1          11       357.6  ...           2         1        2\n",
              "595           1          11       429.3  ...          20         1        2\n",
              "175           2          22       580.0  ...          10         3       15\n",
              "181           2          22       211.0  ...          10         3       15\n",
              "274           2          24       226.2  ...          10         3       13\n",
              "..          ...         ...         ...  ...         ...       ...      ...\n",
              "498           1          11       136.3  ...          30         3        2\n",
              "563           1          11        19.0  ...          10         1       26\n",
              "242           2          24       121.4  ...          10         2        1\n",
              "426           2          22        65.9  ...          10         2        1\n",
              "26            2          24       430.9  ...          10         2        1\n",
              "\n",
              "[477 rows x 12 columns]"
            ]
          },
          "metadata": {
            "tags": []
          },
          "execution_count": 29
        }
      ]
    },
    {
      "cell_type": "code",
      "metadata": {
        "colab": {
          "base_uri": "https://localhost:8080/"
        },
        "id": "gK3JsQeDogAp",
        "outputId": "866ab36a-55d6-4971-d6ec-5a6fcefdfa00"
      },
      "source": [
        "rf = RandomForestClassifier(n_estimators=100, oob_score=True, random_state=123456)\n",
        "rf.fit(x_train, y_train)"
      ],
      "execution_count": 30,
      "outputs": [
        {
          "output_type": "execute_result",
          "data": {
            "text/plain": [
              "RandomForestClassifier(bootstrap=True, ccp_alpha=0.0, class_weight=None,\n",
              "                       criterion='gini', max_depth=None, max_features='auto',\n",
              "                       max_leaf_nodes=None, max_samples=None,\n",
              "                       min_impurity_decrease=0.0, min_impurity_split=None,\n",
              "                       min_samples_leaf=1, min_samples_split=2,\n",
              "                       min_weight_fraction_leaf=0.0, n_estimators=100,\n",
              "                       n_jobs=None, oob_score=True, random_state=123456,\n",
              "                       verbose=0, warm_start=False)"
            ]
          },
          "metadata": {
            "tags": []
          },
          "execution_count": 30
        }
      ]
    },
    {
      "cell_type": "code",
      "metadata": {
        "colab": {
          "base_uri": "https://localhost:8080/"
        },
        "id": "yInBrI33utLd",
        "outputId": "39c18f55-65d5-4dd4-fb62-e7b0f6c9a767"
      },
      "source": [
        "from sklearn.metrics import accuracy_score\n",
        "\n",
        "predicted = rf.predict(x_test)\n",
        "accuracy = accuracy_score(y_test, predicted)\n",
        "\n",
        "print(f'Out-of-bag score estimate: {rf.oob_score_:.3}')\n",
        "print(f'Mean accuracy score: {accuracy:.3}')"
      ],
      "execution_count": 31,
      "outputs": [
        {
          "output_type": "stream",
          "text": [
            "Out-of-bag score estimate: 0.727\n",
            "Mean accuracy score: 0.694\n"
          ],
          "name": "stdout"
        }
      ]
    },
    {
      "cell_type": "code",
      "metadata": {
        "colab": {
          "base_uri": "https://localhost:8080/"
        },
        "id": "0KlmUukzvWFP",
        "outputId": "cb9dc113-c9ad-49ca-9dcc-0ceb2ef5fa23"
      },
      "source": [
        "predicted"
      ],
      "execution_count": 32,
      "outputs": [
        {
          "output_type": "execute_result",
          "data": {
            "text/plain": [
              "array([0., 0., 1., 0., 0., 1., 1., 1., 0., 0., 0., 0., 1., 0., 0., 1., 0.,\n",
              "       1., 1., 0., 1., 1., 1., 1., 0., 0., 0., 0., 0., 0., 0., 0., 1., 1.,\n",
              "       0., 1., 0., 0., 0., 1., 0., 0., 0., 0., 0., 1., 1., 1., 1., 0., 0.,\n",
              "       1., 0., 0., 0., 1., 0., 1., 1., 0., 0., 0., 0., 0., 0., 0., 0., 0.,\n",
              "       0., 1., 1., 0., 1., 0., 0., 0., 0., 0., 0., 0., 0., 1., 0., 0., 0.,\n",
              "       1., 0., 0., 1., 1., 0., 0., 1., 1., 0., 0., 0., 0., 0., 0., 0., 1.,\n",
              "       1., 0., 0., 1., 0., 0., 0., 0., 0., 1., 0., 1., 1., 0., 1., 0., 0.,\n",
              "       1., 1., 0., 0., 1., 0., 0., 0., 0., 0., 1., 0., 0., 1., 0., 0., 0.,\n",
              "       0., 0., 0., 0., 1., 0., 0., 0., 1., 0., 0., 0., 0., 1., 1., 0., 0.,\n",
              "       0., 0., 1., 0., 1., 1., 1.])"
            ]
          },
          "metadata": {
            "tags": []
          },
          "execution_count": 32
        }
      ]
    },
    {
      "cell_type": "code",
      "metadata": {
        "id": "XgbDQkWOu30c",
        "colab": {
          "base_uri": "https://localhost:8080/",
          "height": 282
        },
        "outputId": "089d3785-8e87-445d-c2b6-e2487d291b3d"
      },
      "source": [
        "from sklearn.metrics import confusion_matrix\n",
        "\n",
        "cm = pd.DataFrame(confusion_matrix(y_test, predicted))\n",
        "sns.heatmap(cm, annot=True)"
      ],
      "execution_count": 33,
      "outputs": [
        {
          "output_type": "execute_result",
          "data": {
            "text/plain": [
              "<matplotlib.axes._subplots.AxesSubplot at 0x7fdd7722e8d0>"
            ]
          },
          "metadata": {
            "tags": []
          },
          "execution_count": 33
        },
        {
          "output_type": "display_data",
          "data": {
            "image/png": "[encoded data removed]",
            "text/plain": [
              "<Figure size 432x288 with 2 Axes>"
            ]
          },
          "metadata": {
            "tags": [],
            "needs_background": "light"
          }
        }
      ]
    }
  ]
}