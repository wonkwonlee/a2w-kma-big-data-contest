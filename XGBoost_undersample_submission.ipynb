{
  "nbformat": 4,
  "nbformat_minor": 0,
  "metadata": {
    "accelerator": "GPU",
    "colab": {
      "name": "XGBoost_undersample_submission.ipynb",
      "provenance": [],
      "collapsed_sections": [],
      "include_colab_link": true
    },
    "kernelspec": {
      "display_name": "Python 3",
      "language": "python",
      "name": "python3"
    },
    "language_info": {
      "codemirror_mode": {
        "name": "ipython",
        "version": 3
      },
      "file_extension": ".py",
      "mimetype": "text/x-python",
      "name": "python",
      "nbconvert_exporter": "python",
      "pygments_lexer": "ipython3",
      "version": "3.8.3"
    }
  },
  "cells": [
    {
      "cell_type": "markdown",
      "metadata": {
        "id": "view-in-github",
        "colab_type": "text"
      },
      "source": [
        "<a href=\"https://colab.research.google.com/github/wonkwonlee/a2w-kma-big-data-contest/blob/main/XGBoost_undersample_submission.ipynb\" target=\"_parent\"><img src=\"https://colab.research.google.com/assets/colab-badge.svg\" alt=\"Open In Colab\"/></a>"
      ]
    },
    {
      "cell_type": "code",
      "metadata": {
        "id": "KxMkgXIlOTLX",
        "colab": {
          "base_uri": "https://localhost:8080/"
        },
        "outputId": "a856009a-d1e4-493c-c145-9bae7dab7476"
      },
      "source": [
        "from google.colab import drive\n",
        "drive.mount('/content/drive')"
      ],
      "execution_count": null,
      "outputs": [
        {
          "output_type": "stream",
          "text": [
            "Mounted at /content/drive\n"
          ],
          "name": "stdout"
        }
      ]
    },
    {
      "cell_type": "code",
      "metadata": {
        "id": "mdlc9MPLOPfb"
      },
      "source": [
        "import os\n",
        "os.chdir('/content/drive/MyDrive/Colab Notebooks')"
      ],
      "execution_count": null,
      "outputs": []
    },
    {
      "cell_type": "code",
      "metadata": {
        "id": "4eJg-iMzOPfb"
      },
      "source": [
        "import tensorflow as tf\n",
        "from tensorflow import keras\n",
        "\n",
        "import os\n",
        "import tempfile\n",
        "\n",
        "import matplotlib as mpl\n",
        "import matplotlib.pyplot as plt\n",
        "import numpy as np\n",
        "import pandas as pd\n",
        "import seaborn as sns\n",
        "\n",
        "import sklearn\n",
        "from sklearn.tree import DecisionTreeClassifier\n",
        "from sklearn.ensemble import RandomForestClassifier\n",
        "from sklearn.metrics import confusion_matrix\n",
        "from sklearn.model_selection import train_test_split\n",
        "from sklearn.preprocessing import StandardScaler\n",
        "from sklearn.model_selection import train_test_split, GridSearchCV\n",
        "from sklearn.metrics import make_scorer, accuracy_score, precision_score, recall_score, f1_score, roc_auc_score\n",
        "from sklearn.linear_model import LogisticRegression\n",
        "\n",
        "\n",
        "from xgboost import plot_importance\n",
        "from xgboost import XGBClassifier"
      ],
      "execution_count": null,
      "outputs": []
    },
    {
      "cell_type": "code",
      "metadata": {
        "id": "PVrolvhqOPfc"
      },
      "source": [
        "def metrics(y_test, pred):\n",
        "    accuracy = accuracy_score(y_test, pred)\n",
        "    precision = precision_score(y_test, pred)\n",
        "    recall = recall_score(y_test, pred)\n",
        "    f1 = f1_score(y_test, pred)\n",
        "    roc_score = roc_auc_score(y_test, pred)\n",
        "    print('정확도 : {0:.2f}, 정밀도 : {1:.2f}, 재현율 : {2:.2f}'.format(accuracy, precision, recall))\n",
        "    print('f1-score : {0:.2f}, auc : {1:.2f}'.format(f1, roc_score))"
      ],
      "execution_count": null,
      "outputs": []
    },
    {
      "cell_type": "markdown",
      "metadata": {
        "id": "2ubwLMH_OPfd"
      },
      "source": [
        "# 데이터 처리 및 탐색"
      ]
    },
    {
      "cell_type": "code",
      "metadata": {
        "id": "e_JXIStyOPfd"
      },
      "source": [
        "raw_df = pd.read_csv(\"../A2W/데이터/data_submission/merge_final_real.csv\", encoding='utf-8-sig')"
      ],
      "execution_count": null,
      "outputs": []
    },
    {
      "cell_type": "code",
      "metadata": {
        "id": "_cCORziJOPff"
      },
      "source": [
        "raw_df['1day_yn'] = 0.0\n",
        "raw_df['2day_yn'] = 0.0"
      ],
      "execution_count": null,
      "outputs": []
    },
    {
      "cell_type": "code",
      "metadata": {
        "colab": {
          "base_uri": "https://localhost:8080/"
        },
        "id": "7MrrPwSDOPff",
        "outputId": "5a255034-4efc-43c3-ad78-ced13d6506a1"
      },
      "source": [
        "# 열을 밀어서 출력, 맨 첫날, 마지막 날의 경우 산사태가 발생하지 않음.\n",
        "raw_df['1day_yn'][1:-1] = raw_df['landslide'][0:-2]\n",
        "raw_df['2day_yn'][2:-1] = raw_df['landslide'][0:-3]"
      ],
      "execution_count": null,
      "outputs": [
        {
          "output_type": "stream",
          "text": [
            "/usr/local/lib/python3.7/dist-packages/ipykernel_launcher.py:2: SettingWithCopyWarning: \n",
            "A value is trying to be set on a copy of a slice from a DataFrame\n",
            "\n",
            "See the caveats in the documentation: https://pandas.pydata.org/pandas-docs/stable/user_guide/indexing.html#returning-a-view-versus-a-copy\n",
            "  \n",
            "/usr/local/lib/python3.7/dist-packages/ipykernel_launcher.py:3: SettingWithCopyWarning: \n",
            "A value is trying to be set on a copy of a slice from a DataFrame\n",
            "\n",
            "See the caveats in the documentation: https://pandas.pydata.org/pandas-docs/stable/user_guide/indexing.html#returning-a-view-versus-a-copy\n",
            "  This is separate from the ipykernel package so we can avoid doing imports until\n"
          ],
          "name": "stderr"
        }
      ]
    },
    {
      "cell_type": "code",
      "metadata": {
        "colab": {
          "base_uri": "https://localhost:8080/",
          "height": 921
        },
        "id": "CtgsDFA3OPfg",
        "outputId": "6c8e4048-7828-4ecc-d78e-e6721d7333d0"
      },
      "source": [
        "select_df = raw_df[['maxTa','minTa','avgTa','EIGHT_AGL','stnId','mi10MaxRn', 'hr1MaxRn', 'sumRnDur', 'sumRn', 'maxInsWs', 'maxWs', 'avgWs','minRhm','avgRhm','n99Rn', 'PRRCK_LARG', 'PRRCK_MDDL','LOCTN_ALTT','LOCTN_GRDN','CLZN_CD','TPGRP_TPCD','PRDN_FOM_C','SLDPT_TPCD','SLANT_TYP','SCSTX_CD','SLTP_CD','STORUNST','FROR_CD','FRTP_CD','KOFTR_GROU','DMCLS_CD','AGCLS_CD','HEIGHT','1day_yn']]\n",
        "cleaned_df_1 = select_df.fillna(0)\n",
        "cleaned_df_1.info()\n",
        "cleaned_df_1.head()"
      ],
      "execution_count": null,
      "outputs": [
        {
          "output_type": "stream",
          "text": [
            "<class 'pandas.core.frame.DataFrame'>\n",
            "RangeIndex: 2093790 entries, 0 to 2093789\n",
            "Data columns (total 34 columns):\n",
            " #   Column      Dtype  \n",
            "---  ------      -----  \n",
            " 0   maxTa       float64\n",
            " 1   minTa       float64\n",
            " 2   avgTa       float64\n",
            " 3   EIGHT_AGL   float64\n",
            " 4   stnId       int64  \n",
            " 5   mi10MaxRn   float64\n",
            " 6   hr1MaxRn    float64\n",
            " 7   sumRnDur    float64\n",
            " 8   sumRn       float64\n",
            " 9   maxInsWs    float64\n",
            " 10  maxWs       float64\n",
            " 11  avgWs       float64\n",
            " 12  minRhm      float64\n",
            " 13  avgRhm      float64\n",
            " 14  n99Rn       float64\n",
            " 15  PRRCK_LARG  int64  \n",
            " 16  PRRCK_MDDL  int64  \n",
            " 17  LOCTN_ALTT  float64\n",
            " 18  LOCTN_GRDN  float64\n",
            " 19  CLZN_CD     int64  \n",
            " 20  TPGRP_TPCD  int64  \n",
            " 21  PRDN_FOM_C  int64  \n",
            " 22  SLDPT_TPCD  int64  \n",
            " 23  SLANT_TYP   int64  \n",
            " 24  SCSTX_CD    int64  \n",
            " 25  SLTP_CD     int64  \n",
            " 26  STORUNST    float64\n",
            " 27  FROR_CD     float64\n",
            " 28  FRTP_CD     float64\n",
            " 29  KOFTR_GROU  float64\n",
            " 30  DMCLS_CD    float64\n",
            " 31  AGCLS_CD    float64\n",
            " 32  HEIGHT      float64\n",
            " 33  1day_yn     float64\n",
            "dtypes: float64(24), int64(10)\n",
            "memory usage: 543.1 MB\n"
          ],
          "name": "stdout"
        },
        {
          "output_type": "execute_result",
          "data": {
            "text/html": [
              "<div>\n",
              "<style scoped>\n",
              "    .dataframe tbody tr th:only-of-type {\n",
              "        vertical-align: middle;\n",
              "    }\n",
              "\n",
              "    .dataframe tbody tr th {\n",
              "        vertical-align: top;\n",
              "    }\n",
              "\n",
              "    .dataframe thead th {\n",
              "        text-align: right;\n",
              "    }\n",
              "</style>\n",
              "<table border=\"1\" class=\"dataframe\">\n",
              "  <thead>\n",
              "    <tr style=\"text-align: right;\">\n",
              "      <th></th>\n",
              "      <th>maxTa</th>\n",
              "      <th>minTa</th>\n",
              "      <th>avgTa</th>\n",
              "      <th>EIGHT_AGL</th>\n",
              "      <th>stnId</th>\n",
              "      <th>mi10MaxRn</th>\n",
              "      <th>hr1MaxRn</th>\n",
              "      <th>sumRnDur</th>\n",
              "      <th>sumRn</th>\n",
              "      <th>maxInsWs</th>\n",
              "      <th>maxWs</th>\n",
              "      <th>avgWs</th>\n",
              "      <th>minRhm</th>\n",
              "      <th>avgRhm</th>\n",
              "      <th>n99Rn</th>\n",
              "      <th>PRRCK_LARG</th>\n",
              "      <th>PRRCK_MDDL</th>\n",
              "      <th>LOCTN_ALTT</th>\n",
              "      <th>LOCTN_GRDN</th>\n",
              "      <th>CLZN_CD</th>\n",
              "      <th>TPGRP_TPCD</th>\n",
              "      <th>PRDN_FOM_C</th>\n",
              "      <th>SLDPT_TPCD</th>\n",
              "      <th>SLANT_TYP</th>\n",
              "      <th>SCSTX_CD</th>\n",
              "      <th>SLTP_CD</th>\n",
              "      <th>STORUNST</th>\n",
              "      <th>FROR_CD</th>\n",
              "      <th>FRTP_CD</th>\n",
              "      <th>KOFTR_GROU</th>\n",
              "      <th>DMCLS_CD</th>\n",
              "      <th>AGCLS_CD</th>\n",
              "      <th>HEIGHT</th>\n",
              "      <th>1day_yn</th>\n",
              "    </tr>\n",
              "  </thead>\n",
              "  <tbody>\n",
              "    <tr>\n",
              "      <th>0</th>\n",
              "      <td>2.1</td>\n",
              "      <td>-1.1</td>\n",
              "      <td>0.8</td>\n",
              "      <td>0.0</td>\n",
              "      <td>115</td>\n",
              "      <td>0.0</td>\n",
              "      <td>0.0</td>\n",
              "      <td>19.33</td>\n",
              "      <td>28.0</td>\n",
              "      <td>29.4</td>\n",
              "      <td>19.0</td>\n",
              "      <td>11.1</td>\n",
              "      <td>65.0</td>\n",
              "      <td>82.5</td>\n",
              "      <td>5.8</td>\n",
              "      <td>0</td>\n",
              "      <td>0</td>\n",
              "      <td>0.0</td>\n",
              "      <td>0.0</td>\n",
              "      <td>0</td>\n",
              "      <td>0</td>\n",
              "      <td>0</td>\n",
              "      <td>0</td>\n",
              "      <td>0</td>\n",
              "      <td>0</td>\n",
              "      <td>0</td>\n",
              "      <td>1.0</td>\n",
              "      <td>2.0</td>\n",
              "      <td>2.0</td>\n",
              "      <td>30.0</td>\n",
              "      <td>1.0</td>\n",
              "      <td>5.0</td>\n",
              "      <td>16.0</td>\n",
              "      <td>0.0</td>\n",
              "    </tr>\n",
              "    <tr>\n",
              "      <th>1</th>\n",
              "      <td>1.3</td>\n",
              "      <td>-0.9</td>\n",
              "      <td>0.1</td>\n",
              "      <td>0.0</td>\n",
              "      <td>115</td>\n",
              "      <td>0.0</td>\n",
              "      <td>0.0</td>\n",
              "      <td>22.83</td>\n",
              "      <td>24.8</td>\n",
              "      <td>14.5</td>\n",
              "      <td>8.5</td>\n",
              "      <td>6.0</td>\n",
              "      <td>65.0</td>\n",
              "      <td>91.5</td>\n",
              "      <td>29.7</td>\n",
              "      <td>0</td>\n",
              "      <td>0</td>\n",
              "      <td>0.0</td>\n",
              "      <td>0.0</td>\n",
              "      <td>0</td>\n",
              "      <td>0</td>\n",
              "      <td>0</td>\n",
              "      <td>0</td>\n",
              "      <td>0</td>\n",
              "      <td>0</td>\n",
              "      <td>0</td>\n",
              "      <td>1.0</td>\n",
              "      <td>2.0</td>\n",
              "      <td>2.0</td>\n",
              "      <td>30.0</td>\n",
              "      <td>1.0</td>\n",
              "      <td>5.0</td>\n",
              "      <td>16.0</td>\n",
              "      <td>0.0</td>\n",
              "    </tr>\n",
              "    <tr>\n",
              "      <th>2</th>\n",
              "      <td>0.8</td>\n",
              "      <td>-1.4</td>\n",
              "      <td>-0.3</td>\n",
              "      <td>0.0</td>\n",
              "      <td>115</td>\n",
              "      <td>0.0</td>\n",
              "      <td>0.0</td>\n",
              "      <td>12.83</td>\n",
              "      <td>7.5</td>\n",
              "      <td>15.9</td>\n",
              "      <td>10.2</td>\n",
              "      <td>6.5</td>\n",
              "      <td>61.0</td>\n",
              "      <td>80.3</td>\n",
              "      <td>0.3</td>\n",
              "      <td>0</td>\n",
              "      <td>0</td>\n",
              "      <td>0.0</td>\n",
              "      <td>0.0</td>\n",
              "      <td>0</td>\n",
              "      <td>0</td>\n",
              "      <td>0</td>\n",
              "      <td>0</td>\n",
              "      <td>0</td>\n",
              "      <td>0</td>\n",
              "      <td>0</td>\n",
              "      <td>1.0</td>\n",
              "      <td>2.0</td>\n",
              "      <td>2.0</td>\n",
              "      <td>30.0</td>\n",
              "      <td>1.0</td>\n",
              "      <td>5.0</td>\n",
              "      <td>16.0</td>\n",
              "      <td>0.0</td>\n",
              "    </tr>\n",
              "    <tr>\n",
              "      <th>3</th>\n",
              "      <td>3.9</td>\n",
              "      <td>0.4</td>\n",
              "      <td>1.7</td>\n",
              "      <td>0.0</td>\n",
              "      <td>115</td>\n",
              "      <td>0.0</td>\n",
              "      <td>0.0</td>\n",
              "      <td>0.00</td>\n",
              "      <td>0.0</td>\n",
              "      <td>11.2</td>\n",
              "      <td>6.8</td>\n",
              "      <td>3.1</td>\n",
              "      <td>53.0</td>\n",
              "      <td>63.1</td>\n",
              "      <td>0.0</td>\n",
              "      <td>0</td>\n",
              "      <td>0</td>\n",
              "      <td>0.0</td>\n",
              "      <td>0.0</td>\n",
              "      <td>0</td>\n",
              "      <td>0</td>\n",
              "      <td>0</td>\n",
              "      <td>0</td>\n",
              "      <td>0</td>\n",
              "      <td>0</td>\n",
              "      <td>0</td>\n",
              "      <td>1.0</td>\n",
              "      <td>2.0</td>\n",
              "      <td>2.0</td>\n",
              "      <td>30.0</td>\n",
              "      <td>1.0</td>\n",
              "      <td>5.0</td>\n",
              "      <td>16.0</td>\n",
              "      <td>0.0</td>\n",
              "    </tr>\n",
              "    <tr>\n",
              "      <th>4</th>\n",
              "      <td>2.6</td>\n",
              "      <td>-1.2</td>\n",
              "      <td>1.2</td>\n",
              "      <td>0.0</td>\n",
              "      <td>115</td>\n",
              "      <td>0.0</td>\n",
              "      <td>0.0</td>\n",
              "      <td>7.25</td>\n",
              "      <td>1.8</td>\n",
              "      <td>13.9</td>\n",
              "      <td>6.9</td>\n",
              "      <td>4.1</td>\n",
              "      <td>42.0</td>\n",
              "      <td>61.5</td>\n",
              "      <td>12.3</td>\n",
              "      <td>0</td>\n",
              "      <td>0</td>\n",
              "      <td>0.0</td>\n",
              "      <td>0.0</td>\n",
              "      <td>0</td>\n",
              "      <td>0</td>\n",
              "      <td>0</td>\n",
              "      <td>0</td>\n",
              "      <td>0</td>\n",
              "      <td>0</td>\n",
              "      <td>0</td>\n",
              "      <td>1.0</td>\n",
              "      <td>2.0</td>\n",
              "      <td>2.0</td>\n",
              "      <td>30.0</td>\n",
              "      <td>1.0</td>\n",
              "      <td>5.0</td>\n",
              "      <td>16.0</td>\n",
              "      <td>0.0</td>\n",
              "    </tr>\n",
              "  </tbody>\n",
              "</table>\n",
              "</div>"
            ],
            "text/plain": [
              "   maxTa  minTa  avgTa  EIGHT_AGL  ...  DMCLS_CD  AGCLS_CD  HEIGHT  1day_yn\n",
              "0    2.1   -1.1    0.8        0.0  ...       1.0       5.0    16.0      0.0\n",
              "1    1.3   -0.9    0.1        0.0  ...       1.0       5.0    16.0      0.0\n",
              "2    0.8   -1.4   -0.3        0.0  ...       1.0       5.0    16.0      0.0\n",
              "3    3.9    0.4    1.7        0.0  ...       1.0       5.0    16.0      0.0\n",
              "4    2.6   -1.2    1.2        0.0  ...       1.0       5.0    16.0      0.0\n",
              "\n",
              "[5 rows x 34 columns]"
            ]
          },
          "metadata": {
            "tags": []
          },
          "execution_count": 8
        }
      ]
    },
    {
      "cell_type": "markdown",
      "metadata": {
        "id": "ni-MoLNmOPfh"
      },
      "source": [
        "## 1일 후 예측"
      ]
    },
    {
      "cell_type": "code",
      "metadata": {
        "id": "T9CM8GNlOPfh"
      },
      "source": [
        "y = cleaned_df_1['1day_yn']\n",
        "X = cleaned_df_1.drop('1day_yn', axis =1)"
      ],
      "execution_count": null,
      "outputs": []
    },
    {
      "cell_type": "code",
      "metadata": {
        "colab": {
          "base_uri": "https://localhost:8080/"
        },
        "id": "hZvGMFS7uxrv",
        "outputId": "0b7e47e6-cddf-45c4-a759-d7337f7cd8f1"
      },
      "source": [
        "from imblearn.under_sampling import RandomUnderSampler\n",
        "\n",
        "# 1: 50 비율\n",
        "X_samp, y_samp = RandomUnderSampler(random_state=1024, ratio={1: 359, 0: 17950}).fit_sample(X, y)"
      ],
      "execution_count": null,
      "outputs": [
        {
          "output_type": "stream",
          "text": [
            "/usr/local/lib/python3.7/dist-packages/sklearn/externals/six.py:31: FutureWarning: The module is deprecated in version 0.21 and will be removed in version 0.23 since we've dropped support for Python 2.7. Please rely on the official version of six (https://pypi.org/project/six/).\n",
            "  \"(https://pypi.org/project/six/).\", FutureWarning)\n",
            "/usr/local/lib/python3.7/dist-packages/sklearn/utils/deprecation.py:144: FutureWarning: The sklearn.neighbors.base module is  deprecated in version 0.22 and will be removed in version 0.24. The corresponding classes / functions should instead be imported from sklearn.neighbors. Anything that cannot be imported from sklearn.neighbors is now part of the private API.\n",
            "  warnings.warn(message, FutureWarning)\n",
            "/usr/local/lib/python3.7/dist-packages/sklearn/utils/deprecation.py:87: FutureWarning: Function safe_indexing is deprecated; safe_indexing is deprecated in version 0.22 and will be removed in version 0.24.\n",
            "  warnings.warn(msg, category=FutureWarning)\n"
          ],
          "name": "stderr"
        }
      ]
    },
    {
      "cell_type": "code",
      "metadata": {
        "id": "MKM0x1xeHIFo"
      },
      "source": [
        "X_train, X_test, y_train, y_test = train_test_split(X_samp, y_samp, test_size=0.25, shuffle=True, stratify=y_samp, random_state=1024)"
      ],
      "execution_count": null,
      "outputs": []
    },
    {
      "cell_type": "code",
      "metadata": {
        "colab": {
          "base_uri": "https://localhost:8080/"
        },
        "id": "s5ASinY6HPuY",
        "outputId": "fe6f1dd2-490c-4e6f-f462-cb58627ee692"
      },
      "source": [
        "X_train"
      ],
      "execution_count": null,
      "outputs": [
        {
          "output_type": "execute_result",
          "data": {
            "text/plain": [
              "array([[24.8, 11. , 19. , ...,  2. ,  4. , 12. ],\n",
              "       [ 8.6, -0.4,  3.4, ...,  1. ,  4. , 10. ],\n",
              "       [13.3, -5.7,  4. , ...,  2. ,  5. , 12. ],\n",
              "       ...,\n",
              "       [20.7, 11.1, 14.7, ...,  2. ,  4. , 12. ],\n",
              "       [24.9, 16.7, 20.8, ...,  2. ,  5. , 14. ],\n",
              "       [ 8.4, -1. ,  2.1, ...,  2. ,  5. , 16. ]])"
            ]
          },
          "metadata": {
            "tags": []
          },
          "execution_count": 14
        }
      ]
    },
    {
      "cell_type": "markdown",
      "metadata": {
        "id": "Brn9trA6OPfi"
      },
      "source": [
        "### 하이퍼 파라미터 튜닝 후 예측"
      ]
    },
    {
      "cell_type": "code",
      "metadata": {
        "id": "_QmARUKQOPfj"
      },
      "source": [
        "xgb = XGBClassifier()\n",
        "\n",
        "xgb_param_grid = {\n",
        "    'n_estimators' : [100, 200, 400, 500, 600],\n",
        "    'learning_rate' : [0.01, 0.05, 0.1, 0.15, 0.2],\n",
        "    'max_depth' : [4, 6, 8, 10, 12],\n",
        "}\n",
        "# sklearn.metrics.SCORERS.keys()\n",
        "xgb_grid = GridSearchCV(xgb, param_grid = xgb_param_grid, scoring=\"roc_auc\", n_jobs= 1, verbose = 1)\n",
        "xgb_grid.fit(X_train, y_train.values.ravel())"
      ],
      "execution_count": null,
      "outputs": []
    },
    {
      "cell_type": "code",
      "metadata": {
        "id": "PHy4E2UmOPfj"
      },
      "source": [
        "print(\"최고 평균 auc : {0:.4f}\".format(xgb_grid.best_score_))\n",
        "print(\"최고의 파라미터 : \", xgb_grid.best_params_)\n",
        "print(\"최고 점수를 낸 파라미터를 가진 모형 : \", xgb_grid.best_estimator_)"
      ],
      "execution_count": null,
      "outputs": []
    },
    {
      "cell_type": "code",
      "metadata": {
        "id": "CpuglcsWOPfj"
      },
      "source": [
        "result = pd.DataFrame(xgb_grid.cv_results_)\n",
        "result.sort_values(by=['rank_test_score'], inplace=True)"
      ],
      "execution_count": null,
      "outputs": []
    },
    {
      "cell_type": "code",
      "metadata": {
        "id": "BikUmykSOPfj"
      },
      "source": [
        "result[['params', 'mean_test_score', 'rank_test_score']].head(10)"
      ],
      "execution_count": null,
      "outputs": []
    },
    {
      "cell_type": "code",
      "metadata": {
        "colab": {
          "base_uri": "https://localhost:8080/"
        },
        "id": "9WklsWvlzgf5",
        "outputId": "df4e40fc-e95b-41cb-fc37-8906964288b6"
      },
      "source": [
        "import joblib\n",
        "\n",
        "xgb1 = xgb_grid.best_estimator_\n",
        "xgb1.fit(X_train, y_train.values.ravel())\n",
        "joblib.dump(xgb1, './xgb_0623_model_1day_yn.pkl')"
      ],
      "execution_count": null,
      "outputs": [
        {
          "output_type": "execute_result",
          "data": {
            "text/plain": [
              "['./xgb_0623_model_1day_yn.pkl']"
            ]
          },
          "metadata": {
            "tags": []
          },
          "execution_count": 25
        }
      ]
    },
    {
      "cell_type": "code",
      "metadata": {
        "id": "6Em2IA45HUUW"
      },
      "source": [
        "xgb1 = XGBClassifier(n_estimators=200, learning_rate = 0.05, max_depth = 10)\n",
        "evals = [(X_test, y_test)]\n",
        "xgb1.fit(X_train, y_train, eval_metric = \"logloss\", eval_set = evals, verbose = 1)"
      ],
      "execution_count": null,
      "outputs": []
    },
    {
      "cell_type": "code",
      "metadata": {
        "colab": {
          "base_uri": "https://localhost:8080/"
        },
        "id": "nghkOjSO4EbC",
        "outputId": "139837c1-c4f2-4d99-f451-0f7dbd87f516"
      },
      "source": [
        "xgb1_pred = xgb1.predict(X_test)\n",
        "metrics(y_test, xgb1_pred)"
      ],
      "execution_count": null,
      "outputs": [
        {
          "output_type": "stream",
          "text": [
            "정확도 : 0.98, 정밀도 : 0.00, 재현율 : 0.00\n",
            "f1-score : 0.00, auc : 0.50\n"
          ],
          "name": "stdout"
        }
      ]
    },
    {
      "cell_type": "code",
      "metadata": {
        "id": "Ex5VCTNsObUe"
      },
      "source": [
        "import pickle\n",
        "\n",
        "with open('xgb1_model.pkl', 'wb') as model_file:\n",
        "  pickle.dump(xgb1, model_file)"
      ],
      "execution_count": null,
      "outputs": []
    },
    {
      "cell_type": "code",
      "metadata": {
        "id": "WQt1Nxgo14Nh"
      },
      "source": [
        "# Merged_data_file\n",
        "Merged_2020 = pd.read_csv('../A2W/데이터/data_submission/merge_s_h_a20.csv')\n",
        "# Test 검증 데이터셋\n",
        "test_input = pd.read_csv('../A2W/데이터/data_submission/input.csv', encoding = 'cp949')"
      ],
      "execution_count": null,
      "outputs": []
    },
    {
      "cell_type": "code",
      "metadata": {
        "colab": {
          "base_uri": "https://localhost:8080/"
        },
        "id": "DQrCpmbvlzmv",
        "outputId": "855c4bbc-f5e8-44a3-f484-f425f13c1b60"
      },
      "source": [
        "length_test_input = len(test_input.index)\n",
        "\n",
        "# for index in range(1):\n",
        "input_date = test_input['date'][1]\n",
        "input_sgg = test_input['sgg'][1]\n",
        "input_umd = test_input['umd'][1]\n",
        "\n",
        "text = input_sgg + ' ' + input_umd\n",
        "# Merged_2020 = Merged_2020.to_numpy()\n",
        "\n",
        "test_day1 = Merged_2020[Merged_2020['umd2'].str.contains(text.rstrip()) & Merged_2020['tm'].str.contains(input_date)]\n",
        "test_specific_day1 = test_day1[['maxTa','minTa','avgTa','EIGHT_AGL','stnId','mi10MaxRn','hr1MaxRn','sumRnDur',\n",
        "                                    'sumRn','maxInsWs','maxWs','avgWs','minRhm','avgRhm','n99Rn','PRRCK_LARG',\n",
        "                                    'PRRCK_MDDL','LOCTN_ALTT','LOCTN_GRDN','CLZN_CD','TPGRP_TPCD','PRDN_FOM_C',\n",
        "                                    'SLDPT_TPCD','SLANT_TYP','SCSTX_CD','SLTP_CD','STORUNST','FROR_CD','FRTP_CD',\n",
        "                                    'KOFTR_GROU','DMCLS_CD','AGCLS_CD','HEIGHT']]\n",
        "\n",
        "# test_vector = test_specific_day1[['PRDN_FOM_C','maxInsWs','maxTa','TPGRP_TPCD','hr1MaxRn','minRhm','SLANT_TYP',\n",
        "#                                   'PRRCK_MDDL','maxWs','FRTP_CD','sumRnDur','SLDPT_TPCD','DMCLS_CD','n99Rn',\n",
        "#                                   'LOCTN_GRDN','avgRhm','STORUNST','sumRn','EIGHT_AGL','FROR_CD','KOFTR_GROU',\n",
        "#                                   'CLZN_CD','stnId','HEIGHT','avgTa','SCSTX_CD','SLTP_CD','minTa','PRRCK_LARG', \n",
        "#                                   'LOCTN_ALTT','avgWs','mi10MaxRn','AGCLS_CD']]\n",
        "\n",
        "# dic = {'PRDN_FOM_C':'27','maxInsWs':'14','maxTa':'20','TPGRP_TPCD':'4 ','hr1MaxRn':'1 ','minRhm':'23','SLANT_TYP':'10',\n",
        "#        'PRRCK_MDDL':'24','maxWs':'9 ','FRTP_CD':'11','sumRnDur':'8 ','SLDPT_TPCD':'5 ','DMCLS_CD':'15','n99Rn':'21',\n",
        "#        'LOCTN_GRDN':'13','avgRhm':'2 ','STORUNST':'19','sumRn':'29','EIGHT_AGL':'3 ','FROR_CD':'32','KOFTR_GROU':'22',\n",
        "#        'CLZN_CD':'12','stnId':'30','HEIGHT':'31','avgTa':'17','SCSTX_CD':'6 ','SLTP_CD':'26','minTa':'16','PRRCK_LARG':'25', \n",
        "#        'LOCTN_ALTT':'7 ','avgWs':'18','mi10MaxRn':'0 ','AGCLS_CD':'28'}\n",
        "\n",
        "# test_vector = test_vector.rename(columns=dic)\n",
        "\n",
        "# test_vector\n",
        "# test_specific_day1 = test_specific_day1[xgb1.get_booster().feature_names]\n",
        "model_pred = xgb1.predict(test_specific_day1.to_numpy())\n",
        "model_pred\n",
        "# test_input['1day_yn'][1] = model_pred"
      ],
      "execution_count": null,
      "outputs": [
        {
          "output_type": "execute_result",
          "data": {
            "text/plain": [
              "array([0.])"
            ]
          },
          "metadata": {
            "tags": []
          },
          "execution_count": 22
        }
      ]
    },
    {
      "cell_type": "code",
      "metadata": {
        "id": "qxuPzOBpzgLZ"
      },
      "source": [
        "# 훈련된 모델로 결과 도출 : day1 함수\n",
        "def day1_data_test(sgg, umd, date):    \n",
        "    # sgg 데이터와 umd 데이터, date를 통한 추출\n",
        "    text = sgg + ' ' + umd\n",
        "    # specific 자체가 학습 돌린 결과 참고해서 input으로 만들어야 됨\n",
        "    test_day1 = Merged_2020[Merged_2020['umd2'].str.contains(text.rstrip()) & Merged_2020['tm'].str.contains(date)]\n",
        "    test_specific_day1 = test_day1[['maxTa','minTa','avgTa','EIGHT_AGL','stnId','mi10MaxRn', 'hr1MaxRn', 'sumRnDur', 'sumRn', 'maxInsWs', \n",
        "                                    'maxWs', 'avgWs','minRhm','avgRhm','n99Rn', 'PRRCK_LARG', 'PRRCK_MDDL','LOCTN_ALTT','LOCTN_GRDN',\n",
        "                                    'CLZN_CD','TPGRP_TPCD','PRDN_FOM_C','SLDPT_TPCD','SLANT_TYP','SCSTX_CD','SLTP_CD','STORUNST','FROR_CD',\n",
        "                                    'FRTP_CD','KOFTR_GROU','DMCLS_CD','AGCLS_CD','HEIGHT']]\n",
        "    fillna_test_specific_day1 = test_specific_day1.fillna(0)\n",
        "    model_pred = xgb1.predict(fillna_test_specific_day1.to_numpy())\n",
        "    return model_pred"
      ],
      "execution_count": null,
      "outputs": []
    },
    {
      "cell_type": "code",
      "metadata": {
        "colab": {
          "base_uri": "https://localhost:8080/",
          "height": 272
        },
        "id": "IC-jVVJfzjSe",
        "outputId": "fecb9be4-993e-48ab-948c-3fecdcc9c2e8"
      },
      "source": [
        "length_test_input = len(test_input.index)\n",
        "\n",
        "#day_1 data\n",
        "for index in range(length_test_input):\n",
        "    if test_input['umd'][index] == \"삼거동\":\n",
        "        input_date = test_input['date'][index]\n",
        "        input_sgg = test_input['sgg'][index]\n",
        "        input_umd = \"상문동\"\n",
        "    elif test_input['umd'][index] == \"어곡동\":\n",
        "        input_date = test_input['date'][index]\n",
        "        input_sgg = test_input['sgg'][index]\n",
        "        input_umd = \"강서동\"\n",
        "    elif test_input['umd'][index] == \"주진동\":\n",
        "        input_date = test_input['date'][index]\n",
        "        input_sgg = test_input['sgg'][index]\n",
        "        input_umd = \"소주동\"\n",
        "    elif test_input['umd'][index] == \"시동\":\n",
        "        input_date = test_input['date'][index]\n",
        "        input_sgg = test_input['sgg'][index]\n",
        "        input_umd = \"불국동\"\n",
        "    elif test_input['umd'][index] == \"덕곡동\":\n",
        "        input_date = test_input['date'][index]\n",
        "        input_sgg = test_input['sgg'][index]\n",
        "        input_umd = \"지좌동\"\n",
        "    elif test_input['umd'][index] == \"조와동\":\n",
        "        input_date = test_input['date'][index]\n",
        "        input_sgg = test_input['sgg'][index]\n",
        "        input_umd = \"상망동\"\n",
        "    else:\n",
        "        input_date = test_input['date'][index]\n",
        "        input_sgg = test_input['sgg'][index]\n",
        "        input_umd = test_input['umd'][index]\n",
        "    test_input['1day_yn'][index] = day1_data_test(input_sgg, input_umd, input_date)\n",
        "\n",
        "\n",
        "test_input.head()"
      ],
      "execution_count": null,
      "outputs": [
        {
          "output_type": "stream",
          "text": [
            "/usr/local/lib/python3.7/dist-packages/ipykernel_launcher.py:33: SettingWithCopyWarning: \n",
            "A value is trying to be set on a copy of a slice from a DataFrame\n",
            "\n",
            "See the caveats in the documentation: https://pandas.pydata.org/pandas-docs/stable/user_guide/indexing.html#returning-a-view-versus-a-copy\n"
          ],
          "name": "stderr"
        },
        {
          "output_type": "execute_result",
          "data": {
            "text/html": [
              "<div>\n",
              "<style scoped>\n",
              "    .dataframe tbody tr th:only-of-type {\n",
              "        vertical-align: middle;\n",
              "    }\n",
              "\n",
              "    .dataframe tbody tr th {\n",
              "        vertical-align: top;\n",
              "    }\n",
              "\n",
              "    .dataframe thead th {\n",
              "        text-align: right;\n",
              "    }\n",
              "</style>\n",
              "<table border=\"1\" class=\"dataframe\">\n",
              "  <thead>\n",
              "    <tr style=\"text-align: right;\">\n",
              "      <th></th>\n",
              "      <th>date</th>\n",
              "      <th>sd</th>\n",
              "      <th>sgg</th>\n",
              "      <th>umd</th>\n",
              "      <th>1day</th>\n",
              "      <th>1day_yn</th>\n",
              "      <th>2day</th>\n",
              "      <th>2day_yn</th>\n",
              "    </tr>\n",
              "  </thead>\n",
              "  <tbody>\n",
              "    <tr>\n",
              "      <th>0</th>\n",
              "      <td>2020-06-10</td>\n",
              "      <td>경상남도</td>\n",
              "      <td>사천시</td>\n",
              "      <td>곤명면</td>\n",
              "      <td>2020-06-11</td>\n",
              "      <td>0.0</td>\n",
              "      <td>2020-06-12</td>\n",
              "      <td>NaN</td>\n",
              "    </tr>\n",
              "    <tr>\n",
              "      <th>1</th>\n",
              "      <td>2020-06-11</td>\n",
              "      <td>경상남도</td>\n",
              "      <td>사천시</td>\n",
              "      <td>곤명면</td>\n",
              "      <td>2020-06-12</td>\n",
              "      <td>0.0</td>\n",
              "      <td>2020-06-13</td>\n",
              "      <td>NaN</td>\n",
              "    </tr>\n",
              "    <tr>\n",
              "      <th>2</th>\n",
              "      <td>2020-06-12</td>\n",
              "      <td>경상남도</td>\n",
              "      <td>사천시</td>\n",
              "      <td>곤명면</td>\n",
              "      <td>2020-06-13</td>\n",
              "      <td>0.0</td>\n",
              "      <td>2020-06-14</td>\n",
              "      <td>NaN</td>\n",
              "    </tr>\n",
              "    <tr>\n",
              "      <th>3</th>\n",
              "      <td>2020-06-10</td>\n",
              "      <td>경상남도</td>\n",
              "      <td>사천시</td>\n",
              "      <td>곤양면</td>\n",
              "      <td>2020-06-11</td>\n",
              "      <td>0.0</td>\n",
              "      <td>2020-06-12</td>\n",
              "      <td>NaN</td>\n",
              "    </tr>\n",
              "    <tr>\n",
              "      <th>4</th>\n",
              "      <td>2020-06-11</td>\n",
              "      <td>경상남도</td>\n",
              "      <td>사천시</td>\n",
              "      <td>곤양면</td>\n",
              "      <td>2020-06-12</td>\n",
              "      <td>0.0</td>\n",
              "      <td>2020-06-13</td>\n",
              "      <td>NaN</td>\n",
              "    </tr>\n",
              "  </tbody>\n",
              "</table>\n",
              "</div>"
            ],
            "text/plain": [
              "         date    sd  sgg  umd        1day  1day_yn        2day  2day_yn\n",
              "0  2020-06-10  경상남도  사천시  곤명면  2020-06-11      0.0  2020-06-12      NaN\n",
              "1  2020-06-11  경상남도  사천시  곤명면  2020-06-12      0.0  2020-06-13      NaN\n",
              "2  2020-06-12  경상남도  사천시  곤명면  2020-06-13      0.0  2020-06-14      NaN\n",
              "3  2020-06-10  경상남도  사천시  곤양면  2020-06-11      0.0  2020-06-12      NaN\n",
              "4  2020-06-11  경상남도  사천시  곤양면  2020-06-12      0.0  2020-06-13      NaN"
            ]
          },
          "metadata": {
            "tags": []
          },
          "execution_count": 26
        }
      ]
    },
    {
      "cell_type": "code",
      "metadata": {
        "colab": {
          "base_uri": "https://localhost:8080/"
        },
        "id": "9HgL2xcjJ4vV",
        "outputId": "399169f3-b722-429f-fd79-fdbca6c4c978"
      },
      "source": [
        "test_input['1day_yn'].value_counts()"
      ],
      "execution_count": null,
      "outputs": [
        {
          "output_type": "execute_result",
          "data": {
            "text/plain": [
              "0.0    3384\n",
              "1.0      26\n",
              "Name: 1day_yn, dtype: int64"
            ]
          },
          "metadata": {
            "tags": []
          },
          "execution_count": 31
        }
      ]
    },
    {
      "cell_type": "markdown",
      "metadata": {
        "id": "_NxRI3JtOPfk"
      },
      "source": [
        "## 2일 후 예측"
      ]
    },
    {
      "cell_type": "code",
      "metadata": {
        "id": "UT_CdgsnOPfk"
      },
      "source": [
        "#분석을 위해 음수 값을 가지는 칼럼들을 제외하고 결측치를 0으로 대체한다.\n",
        "select_df = raw_df[['maxTa','minTa','avgTa','EIGHT_AGL','stnId','mi10MaxRn', 'hr1MaxRn', 'sumRnDur', 'sumRn', 'maxInsWs', 'maxWs', 'avgWs','minRhm','avgRhm','n99Rn', 'PRRCK_LARG', 'PRRCK_MDDL','LOCTN_ALTT','LOCTN_GRDN','CLZN_CD','TPGRP_TPCD','PRDN_FOM_C','SLDPT_TPCD','SLANT_TYP','SCSTX_CD','SLTP_CD','STORUNST','FROR_CD','FRTP_CD','KOFTR_GROU','DMCLS_CD','AGCLS_CD','HEIGHT','2day_yn']]\n",
        "cleaned_df_2 = select_df.fillna(0)"
      ],
      "execution_count": null,
      "outputs": []
    },
    {
      "cell_type": "code",
      "metadata": {
        "id": "BBj_B6fP57VF"
      },
      "source": [
        "y = cleaned_df_2['2day_yn']\n",
        "X = cleaned_df_2.drop('2day_yn', axis =1)"
      ],
      "execution_count": null,
      "outputs": []
    },
    {
      "cell_type": "code",
      "metadata": {
        "colab": {
          "base_uri": "https://localhost:8080/"
        },
        "id": "sYmHIBNS5ebn",
        "outputId": "b89849a8-c844-4787-99a4-d62cc52e048a"
      },
      "source": [
        "# 1: 50 비율\n",
        "X_samp, y_samp = RandomUnderSampler(random_state=1024, ratio={1: 359, 0: 17950}).fit_sample(X, y)"
      ],
      "execution_count": null,
      "outputs": [
        {
          "output_type": "stream",
          "text": [
            "/usr/local/lib/python3.7/dist-packages/sklearn/utils/deprecation.py:87: FutureWarning: Function safe_indexing is deprecated; safe_indexing is deprecated in version 0.22 and will be removed in version 0.24.\n",
            "  warnings.warn(msg, category=FutureWarning)\n"
          ],
          "name": "stderr"
        }
      ]
    },
    {
      "cell_type": "code",
      "metadata": {
        "colab": {
          "base_uri": "https://localhost:8080/"
        },
        "id": "hh1w6B775lof",
        "outputId": "364cba04-fdd4-4bef-9b24-b248af9dc483"
      },
      "source": [
        "X_train, X_test, y_train, y_test = train_test_split(X_samp, y_samp, test_size=0.25, shuffle=True, stratify=y_samp, random_state=1024)\n",
        "\n",
        "print('X_train shape:', X_train.shape)\n",
        "print('X_test shape:', X_test.shape)\n",
        "print('y_train shape:', y_train.shape)\n",
        "print('y_test shape:', y_test.shape)"
      ],
      "execution_count": null,
      "outputs": [
        {
          "output_type": "stream",
          "text": [
            "X_train shape: (13731, 33)\n",
            "X_test shape: (4578, 33)\n",
            "y_train shape: (13731,)\n",
            "y_test shape: (4578,)\n"
          ],
          "name": "stdout"
        }
      ]
    },
    {
      "cell_type": "code",
      "metadata": {
        "id": "BhkzH76w-6h1"
      },
      "source": [
        "xgb = XGBClassifier()\n",
        "\n",
        "xgb_param_grid = {\n",
        "    'n_estimators' : [100, 200, 400, 500, 600],\n",
        "    'learning_rate' : [0.01, 0.05, 0.1, 0.15, 0.2],\n",
        "    'max_depth' : [4, 6, 8, 10, 12],\n",
        "}\n",
        "# sklearn.metrics.SCORERS.keys()\n",
        "xgb_grid = GridSearchCV(xgb, param_grid = xgb_param_grid, scoring=\"roc_auc\", n_jobs= 1, verbose = 1)\n",
        "xgb_grid.fit(X_train, y_train.values.ravel())"
      ],
      "execution_count": null,
      "outputs": []
    },
    {
      "cell_type": "code",
      "metadata": {
        "id": "3CuJHa-M_BIv"
      },
      "source": [
        "print(\"최고 평균 auc : {0:.4f}\".format(xgb_grid.best_score_))\n",
        "print(\"최고의 파라미터 : \", xgb_grid.best_params_)\n",
        "print(\"최고 점수를 낸 파라미터를 가진 모형 : \", xgb_grid.best_estimator_)"
      ],
      "execution_count": null,
      "outputs": []
    },
    {
      "cell_type": "code",
      "metadata": {
        "id": "8UKeVOhB_FFh"
      },
      "source": [
        "result = pd.DataFrame(xgb_grid.cv_results_)\n",
        "result.sort_values(by=['rank_test_score'], inplace=True)"
      ],
      "execution_count": null,
      "outputs": []
    },
    {
      "cell_type": "code",
      "metadata": {
        "id": "f4OZLWrJ_KHS"
      },
      "source": [
        "result[['params', 'mean_test_score', 'rank_test_score']].head(10)"
      ],
      "execution_count": null,
      "outputs": []
    },
    {
      "cell_type": "code",
      "metadata": {
        "id": "uKROyLL5_MKW"
      },
      "source": [
        "import joblib\n",
        "\n",
        "xgb2 = xgb_grid.best_estimator_\n",
        "xgb2.fit(X_train, y_train)\n",
        "joblib.dump(xgb2, './xgb_0623_model_2day_yn.pkl')"
      ],
      "execution_count": null,
      "outputs": []
    },
    {
      "cell_type": "code",
      "metadata": {
        "id": "b2O-uTcX_PtI"
      },
      "source": [
        "xgb2_pred = xgb2.predict(X_test)\n",
        "metrics(y_test, xgb2_pred)"
      ],
      "execution_count": null,
      "outputs": []
    },
    {
      "cell_type": "code",
      "metadata": {
        "colab": {
          "base_uri": "https://localhost:8080/"
        },
        "id": "dY4eVmx4LzOj",
        "outputId": "4d13d76e-317e-43c8-e458-771d201880fe"
      },
      "source": [
        "xgb2 = XGBClassifier(n_estimators=400, learning_rate = 0.05, max_depth = 10)\n",
        "evals = [(X_test, y_test)]\n",
        "xgb2.fit(X_train, y_train, early_stopping_rounds = 100, eval_metric = \"logloss\", eval_set = evals, verbose = 1)"
      ],
      "execution_count": null,
      "outputs": [
        {
          "output_type": "stream",
          "text": [
            "[0]\tvalidation_0-logloss:0.646338\n",
            "Will train until validation_0-logloss hasn't improved in 100 rounds.\n",
            "[1]\tvalidation_0-logloss:0.604198\n",
            "[2]\tvalidation_0-logloss:0.565844\n",
            "[3]\tvalidation_0-logloss:0.530598\n",
            "[4]\tvalidation_0-logloss:0.498472\n",
            "[5]\tvalidation_0-logloss:0.468688\n",
            "[6]\tvalidation_0-logloss:0.441466\n",
            "[7]\tvalidation_0-logloss:0.416138\n",
            "[8]\tvalidation_0-logloss:0.392789\n",
            "[9]\tvalidation_0-logloss:0.371071\n",
            "[10]\tvalidation_0-logloss:0.350803\n",
            "[11]\tvalidation_0-logloss:0.33199\n",
            "[12]\tvalidation_0-logloss:0.314395\n",
            "[13]\tvalidation_0-logloss:0.297966\n",
            "[14]\tvalidation_0-logloss:0.282751\n",
            "[15]\tvalidation_0-logloss:0.268444\n",
            "[16]\tvalidation_0-logloss:0.254991\n",
            "[17]\tvalidation_0-logloss:0.24215\n",
            "[18]\tvalidation_0-logloss:0.230079\n",
            "[19]\tvalidation_0-logloss:0.21899\n",
            "[20]\tvalidation_0-logloss:0.208608\n",
            "[21]\tvalidation_0-logloss:0.198886\n",
            "[22]\tvalidation_0-logloss:0.189501\n",
            "[23]\tvalidation_0-logloss:0.18077\n",
            "[24]\tvalidation_0-logloss:0.172639\n",
            "[25]\tvalidation_0-logloss:0.165007\n",
            "[26]\tvalidation_0-logloss:0.157604\n",
            "[27]\tvalidation_0-logloss:0.150835\n",
            "[28]\tvalidation_0-logloss:0.144437\n",
            "[29]\tvalidation_0-logloss:0.138145\n",
            "[30]\tvalidation_0-logloss:0.132423\n",
            "[31]\tvalidation_0-logloss:0.126979\n",
            "[32]\tvalidation_0-logloss:0.121555\n",
            "[33]\tvalidation_0-logloss:0.11647\n",
            "[34]\tvalidation_0-logloss:0.111871\n",
            "[35]\tvalidation_0-logloss:0.107424\n",
            "[36]\tvalidation_0-logloss:0.103243\n",
            "[37]\tvalidation_0-logloss:0.099044\n",
            "[38]\tvalidation_0-logloss:0.095203\n",
            "[39]\tvalidation_0-logloss:0.091445\n",
            "[40]\tvalidation_0-logloss:0.088103\n",
            "[41]\tvalidation_0-logloss:0.084756\n",
            "[42]\tvalidation_0-logloss:0.081767\n",
            "[43]\tvalidation_0-logloss:0.078873\n",
            "[44]\tvalidation_0-logloss:0.07611\n",
            "[45]\tvalidation_0-logloss:0.073495\n",
            "[46]\tvalidation_0-logloss:0.071003\n",
            "[47]\tvalidation_0-logloss:0.068681\n",
            "[48]\tvalidation_0-logloss:0.066376\n",
            "[49]\tvalidation_0-logloss:0.064186\n",
            "[50]\tvalidation_0-logloss:0.062142\n",
            "[51]\tvalidation_0-logloss:0.060206\n",
            "[52]\tvalidation_0-logloss:0.058396\n",
            "[53]\tvalidation_0-logloss:0.056442\n",
            "[54]\tvalidation_0-logloss:0.054819\n",
            "[55]\tvalidation_0-logloss:0.053169\n",
            "[56]\tvalidation_0-logloss:0.051712\n",
            "[57]\tvalidation_0-logloss:0.050154\n",
            "[58]\tvalidation_0-logloss:0.048637\n",
            "[59]\tvalidation_0-logloss:0.047338\n",
            "[60]\tvalidation_0-logloss:0.046057\n",
            "[61]\tvalidation_0-logloss:0.04482\n",
            "[62]\tvalidation_0-logloss:0.043667\n",
            "[63]\tvalidation_0-logloss:0.042594\n",
            "[64]\tvalidation_0-logloss:0.041563\n",
            "[65]\tvalidation_0-logloss:0.040595\n",
            "[66]\tvalidation_0-logloss:0.039684\n",
            "[67]\tvalidation_0-logloss:0.038812\n",
            "[68]\tvalidation_0-logloss:0.037942\n",
            "[69]\tvalidation_0-logloss:0.037158\n",
            "[70]\tvalidation_0-logloss:0.036435\n",
            "[71]\tvalidation_0-logloss:0.035714\n",
            "[72]\tvalidation_0-logloss:0.035032\n",
            "[73]\tvalidation_0-logloss:0.034436\n",
            "[74]\tvalidation_0-logloss:0.033873\n",
            "[75]\tvalidation_0-logloss:0.033307\n",
            "[76]\tvalidation_0-logloss:0.032779\n",
            "[77]\tvalidation_0-logloss:0.032301\n",
            "[78]\tvalidation_0-logloss:0.031816\n",
            "[79]\tvalidation_0-logloss:0.031333\n",
            "[80]\tvalidation_0-logloss:0.030874\n",
            "[81]\tvalidation_0-logloss:0.030455\n",
            "[82]\tvalidation_0-logloss:0.030014\n",
            "[83]\tvalidation_0-logloss:0.029496\n",
            "[84]\tvalidation_0-logloss:0.029146\n",
            "[85]\tvalidation_0-logloss:0.028659\n",
            "[86]\tvalidation_0-logloss:0.028373\n",
            "[87]\tvalidation_0-logloss:0.02791\n",
            "[88]\tvalidation_0-logloss:0.027577\n",
            "[89]\tvalidation_0-logloss:0.027164\n",
            "[90]\tvalidation_0-logloss:0.026909\n",
            "[91]\tvalidation_0-logloss:0.026583\n",
            "[92]\tvalidation_0-logloss:0.026313\n",
            "[93]\tvalidation_0-logloss:0.025983\n",
            "[94]\tvalidation_0-logloss:0.025689\n",
            "[95]\tvalidation_0-logloss:0.025384\n",
            "[96]\tvalidation_0-logloss:0.025159\n",
            "[97]\tvalidation_0-logloss:0.024914\n",
            "[98]\tvalidation_0-logloss:0.024678\n",
            "[99]\tvalidation_0-logloss:0.024468\n",
            "[100]\tvalidation_0-logloss:0.024252\n",
            "[101]\tvalidation_0-logloss:0.02406\n",
            "[102]\tvalidation_0-logloss:0.023902\n",
            "[103]\tvalidation_0-logloss:0.023824\n",
            "[104]\tvalidation_0-logloss:0.023589\n",
            "[105]\tvalidation_0-logloss:0.023524\n",
            "[106]\tvalidation_0-logloss:0.023366\n",
            "[107]\tvalidation_0-logloss:0.023229\n",
            "[108]\tvalidation_0-logloss:0.023077\n",
            "[109]\tvalidation_0-logloss:0.022963\n",
            "[110]\tvalidation_0-logloss:0.022827\n",
            "[111]\tvalidation_0-logloss:0.022801\n",
            "[112]\tvalidation_0-logloss:0.022753\n",
            "[113]\tvalidation_0-logloss:0.022599\n",
            "[114]\tvalidation_0-logloss:0.022532\n",
            "[115]\tvalidation_0-logloss:0.022455\n",
            "[116]\tvalidation_0-logloss:0.022414\n",
            "[117]\tvalidation_0-logloss:0.02241\n",
            "[118]\tvalidation_0-logloss:0.022277\n",
            "[119]\tvalidation_0-logloss:0.022251\n",
            "[120]\tvalidation_0-logloss:0.022223\n",
            "[121]\tvalidation_0-logloss:0.022142\n",
            "[122]\tvalidation_0-logloss:0.022155\n",
            "[123]\tvalidation_0-logloss:0.022106\n",
            "[124]\tvalidation_0-logloss:0.021947\n",
            "[125]\tvalidation_0-logloss:0.021909\n",
            "[126]\tvalidation_0-logloss:0.021841\n",
            "[127]\tvalidation_0-logloss:0.021819\n",
            "[128]\tvalidation_0-logloss:0.02178\n",
            "[129]\tvalidation_0-logloss:0.021678\n",
            "[130]\tvalidation_0-logloss:0.021607\n",
            "[131]\tvalidation_0-logloss:0.021628\n",
            "[132]\tvalidation_0-logloss:0.021565\n",
            "[133]\tvalidation_0-logloss:0.021577\n",
            "[134]\tvalidation_0-logloss:0.021557\n",
            "[135]\tvalidation_0-logloss:0.021542\n",
            "[136]\tvalidation_0-logloss:0.02149\n",
            "[137]\tvalidation_0-logloss:0.021424\n",
            "[138]\tvalidation_0-logloss:0.021333\n",
            "[139]\tvalidation_0-logloss:0.021334\n",
            "[140]\tvalidation_0-logloss:0.021269\n",
            "[141]\tvalidation_0-logloss:0.021294\n",
            "[142]\tvalidation_0-logloss:0.021314\n",
            "[143]\tvalidation_0-logloss:0.021268\n",
            "[144]\tvalidation_0-logloss:0.021236\n",
            "[145]\tvalidation_0-logloss:0.021186\n",
            "[146]\tvalidation_0-logloss:0.021203\n",
            "[147]\tvalidation_0-logloss:0.021155\n",
            "[148]\tvalidation_0-logloss:0.021101\n",
            "[149]\tvalidation_0-logloss:0.021055\n",
            "[150]\tvalidation_0-logloss:0.02096\n",
            "[151]\tvalidation_0-logloss:0.020908\n",
            "[152]\tvalidation_0-logloss:0.02092\n",
            "[153]\tvalidation_0-logloss:0.020902\n",
            "[154]\tvalidation_0-logloss:0.020904\n",
            "[155]\tvalidation_0-logloss:0.020818\n",
            "[156]\tvalidation_0-logloss:0.020743\n",
            "[157]\tvalidation_0-logloss:0.020762\n",
            "[158]\tvalidation_0-logloss:0.020729\n",
            "[159]\tvalidation_0-logloss:0.020665\n",
            "[160]\tvalidation_0-logloss:0.020638\n",
            "[161]\tvalidation_0-logloss:0.020623\n",
            "[162]\tvalidation_0-logloss:0.020616\n",
            "[163]\tvalidation_0-logloss:0.020598\n",
            "[164]\tvalidation_0-logloss:0.02065\n",
            "[165]\tvalidation_0-logloss:0.02059\n",
            "[166]\tvalidation_0-logloss:0.02058\n",
            "[167]\tvalidation_0-logloss:0.020573\n",
            "[168]\tvalidation_0-logloss:0.020547\n",
            "[169]\tvalidation_0-logloss:0.020527\n",
            "[170]\tvalidation_0-logloss:0.020548\n",
            "[171]\tvalidation_0-logloss:0.020517\n",
            "[172]\tvalidation_0-logloss:0.020504\n",
            "[173]\tvalidation_0-logloss:0.020522\n",
            "[174]\tvalidation_0-logloss:0.020557\n",
            "[175]\tvalidation_0-logloss:0.020584\n",
            "[176]\tvalidation_0-logloss:0.020578\n",
            "[177]\tvalidation_0-logloss:0.020601\n",
            "[178]\tvalidation_0-logloss:0.020556\n",
            "[179]\tvalidation_0-logloss:0.020537\n",
            "[180]\tvalidation_0-logloss:0.020559\n",
            "[181]\tvalidation_0-logloss:0.020555\n",
            "[182]\tvalidation_0-logloss:0.020545\n",
            "[183]\tvalidation_0-logloss:0.020546\n",
            "[184]\tvalidation_0-logloss:0.020576\n",
            "[185]\tvalidation_0-logloss:0.020539\n",
            "[186]\tvalidation_0-logloss:0.020563\n",
            "[187]\tvalidation_0-logloss:0.020528\n",
            "[188]\tvalidation_0-logloss:0.020489\n",
            "[189]\tvalidation_0-logloss:0.020426\n",
            "[190]\tvalidation_0-logloss:0.020384\n",
            "[191]\tvalidation_0-logloss:0.020391\n",
            "[192]\tvalidation_0-logloss:0.020335\n",
            "[193]\tvalidation_0-logloss:0.020344\n",
            "[194]\tvalidation_0-logloss:0.020305\n",
            "[195]\tvalidation_0-logloss:0.020278\n",
            "[196]\tvalidation_0-logloss:0.020258\n",
            "[197]\tvalidation_0-logloss:0.020276\n",
            "[198]\tvalidation_0-logloss:0.020245\n",
            "[199]\tvalidation_0-logloss:0.020241\n",
            "[200]\tvalidation_0-logloss:0.020247\n",
            "[201]\tvalidation_0-logloss:0.020242\n",
            "[202]\tvalidation_0-logloss:0.020234\n",
            "[203]\tvalidation_0-logloss:0.020235\n",
            "[204]\tvalidation_0-logloss:0.020226\n",
            "[205]\tvalidation_0-logloss:0.020258\n",
            "[206]\tvalidation_0-logloss:0.02024\n",
            "[207]\tvalidation_0-logloss:0.020238\n",
            "[208]\tvalidation_0-logloss:0.020257\n",
            "[209]\tvalidation_0-logloss:0.020229\n",
            "[210]\tvalidation_0-logloss:0.020228\n",
            "[211]\tvalidation_0-logloss:0.020227\n",
            "[212]\tvalidation_0-logloss:0.020195\n",
            "[213]\tvalidation_0-logloss:0.020215\n",
            "[214]\tvalidation_0-logloss:0.020222\n",
            "[215]\tvalidation_0-logloss:0.020227\n",
            "[216]\tvalidation_0-logloss:0.020227\n",
            "[217]\tvalidation_0-logloss:0.020226\n",
            "[218]\tvalidation_0-logloss:0.020221\n",
            "[219]\tvalidation_0-logloss:0.020225\n",
            "[220]\tvalidation_0-logloss:0.020249\n",
            "[221]\tvalidation_0-logloss:0.020239\n",
            "[222]\tvalidation_0-logloss:0.020247\n",
            "[223]\tvalidation_0-logloss:0.020248\n",
            "[224]\tvalidation_0-logloss:0.020231\n",
            "[225]\tvalidation_0-logloss:0.020242\n",
            "[226]\tvalidation_0-logloss:0.020245\n",
            "[227]\tvalidation_0-logloss:0.020246\n",
            "[228]\tvalidation_0-logloss:0.020265\n",
            "[229]\tvalidation_0-logloss:0.020273\n",
            "[230]\tvalidation_0-logloss:0.020264\n",
            "[231]\tvalidation_0-logloss:0.02025\n",
            "[232]\tvalidation_0-logloss:0.020269\n",
            "[233]\tvalidation_0-logloss:0.020278\n",
            "[234]\tvalidation_0-logloss:0.020246\n",
            "[235]\tvalidation_0-logloss:0.020291\n",
            "[236]\tvalidation_0-logloss:0.02031\n",
            "[237]\tvalidation_0-logloss:0.020331\n",
            "[238]\tvalidation_0-logloss:0.020305\n",
            "[239]\tvalidation_0-logloss:0.020311\n",
            "[240]\tvalidation_0-logloss:0.020312\n",
            "[241]\tvalidation_0-logloss:0.020307\n",
            "[242]\tvalidation_0-logloss:0.020305\n",
            "[243]\tvalidation_0-logloss:0.020315\n",
            "[244]\tvalidation_0-logloss:0.020331\n",
            "[245]\tvalidation_0-logloss:0.020338\n",
            "[246]\tvalidation_0-logloss:0.020352\n",
            "[247]\tvalidation_0-logloss:0.020336\n",
            "[248]\tvalidation_0-logloss:0.020344\n",
            "[249]\tvalidation_0-logloss:0.020352\n",
            "[250]\tvalidation_0-logloss:0.020375\n",
            "[251]\tvalidation_0-logloss:0.020388\n",
            "[252]\tvalidation_0-logloss:0.020367\n",
            "[253]\tvalidation_0-logloss:0.02035\n",
            "[254]\tvalidation_0-logloss:0.020375\n",
            "[255]\tvalidation_0-logloss:0.0204\n",
            "[256]\tvalidation_0-logloss:0.020373\n",
            "[257]\tvalidation_0-logloss:0.020401\n",
            "[258]\tvalidation_0-logloss:0.020398\n",
            "[259]\tvalidation_0-logloss:0.020405\n",
            "[260]\tvalidation_0-logloss:0.02043\n",
            "[261]\tvalidation_0-logloss:0.020416\n",
            "[262]\tvalidation_0-logloss:0.020423\n",
            "[263]\tvalidation_0-logloss:0.020423\n",
            "[264]\tvalidation_0-logloss:0.020446\n",
            "[265]\tvalidation_0-logloss:0.020449\n",
            "[266]\tvalidation_0-logloss:0.020474\n",
            "[267]\tvalidation_0-logloss:0.020479\n",
            "[268]\tvalidation_0-logloss:0.020472\n",
            "[269]\tvalidation_0-logloss:0.020452\n",
            "[270]\tvalidation_0-logloss:0.020456\n",
            "[271]\tvalidation_0-logloss:0.020442\n",
            "[272]\tvalidation_0-logloss:0.02043\n",
            "[273]\tvalidation_0-logloss:0.020394\n",
            "[274]\tvalidation_0-logloss:0.020411\n",
            "[275]\tvalidation_0-logloss:0.020405\n",
            "[276]\tvalidation_0-logloss:0.020376\n",
            "[277]\tvalidation_0-logloss:0.020373\n",
            "[278]\tvalidation_0-logloss:0.020395\n",
            "[279]\tvalidation_0-logloss:0.020399\n",
            "[280]\tvalidation_0-logloss:0.020424\n",
            "[281]\tvalidation_0-logloss:0.020424\n",
            "[282]\tvalidation_0-logloss:0.020441\n",
            "[283]\tvalidation_0-logloss:0.02043\n",
            "[284]\tvalidation_0-logloss:0.020427\n",
            "[285]\tvalidation_0-logloss:0.020435\n",
            "[286]\tvalidation_0-logloss:0.020426\n",
            "[287]\tvalidation_0-logloss:0.020429\n",
            "[288]\tvalidation_0-logloss:0.020442\n",
            "[289]\tvalidation_0-logloss:0.020463\n",
            "[290]\tvalidation_0-logloss:0.020491\n",
            "[291]\tvalidation_0-logloss:0.020509\n",
            "[292]\tvalidation_0-logloss:0.020508\n",
            "[293]\tvalidation_0-logloss:0.020507\n",
            "[294]\tvalidation_0-logloss:0.020529\n",
            "[295]\tvalidation_0-logloss:0.020545\n",
            "[296]\tvalidation_0-logloss:0.020529\n",
            "[297]\tvalidation_0-logloss:0.020545\n",
            "[298]\tvalidation_0-logloss:0.020526\n",
            "[299]\tvalidation_0-logloss:0.020547\n",
            "[300]\tvalidation_0-logloss:0.020558\n",
            "[301]\tvalidation_0-logloss:0.020543\n",
            "[302]\tvalidation_0-logloss:0.02056\n",
            "[303]\tvalidation_0-logloss:0.020571\n",
            "[304]\tvalidation_0-logloss:0.020562\n",
            "[305]\tvalidation_0-logloss:0.020552\n",
            "[306]\tvalidation_0-logloss:0.020551\n",
            "[307]\tvalidation_0-logloss:0.020553\n",
            "[308]\tvalidation_0-logloss:0.020546\n",
            "[309]\tvalidation_0-logloss:0.020557\n",
            "[310]\tvalidation_0-logloss:0.020573\n",
            "[311]\tvalidation_0-logloss:0.020592\n",
            "[312]\tvalidation_0-logloss:0.02061\n",
            "Stopping. Best iteration:\n",
            "[212]\tvalidation_0-logloss:0.020195\n",
            "\n"
          ],
          "name": "stdout"
        },
        {
          "output_type": "execute_result",
          "data": {
            "text/plain": [
              "XGBClassifier(base_score=0.5, booster='gbtree', colsample_bylevel=1,\n",
              "              colsample_bynode=1, colsample_bytree=1, gamma=0,\n",
              "              learning_rate=0.05, max_delta_step=0, max_depth=10,\n",
              "              min_child_weight=1, missing=None, n_estimators=400, n_jobs=1,\n",
              "              nthread=None, objective='binary:logistic', random_state=0,\n",
              "              reg_alpha=0, reg_lambda=1, scale_pos_weight=1, seed=None,\n",
              "              silent=None, subsample=1, verbosity=1)"
            ]
          },
          "metadata": {
            "tags": []
          },
          "execution_count": 40
        }
      ]
    },
    {
      "cell_type": "code",
      "metadata": {
        "colab": {
          "base_uri": "https://localhost:8080/"
        },
        "id": "7xqjvbZdMHoX",
        "outputId": "8ce73b3b-ff0b-4d86-d98f-8756b3616581"
      },
      "source": [
        "xgb2_pred = xgb2.predict(X_test)\n",
        "metrics(y_test, xgb2_pred)"
      ],
      "execution_count": null,
      "outputs": [
        {
          "output_type": "stream",
          "text": [
            "정확도 : 1.00, 정밀도 : 0.97, 재현율 : 0.78\n",
            "f1-score : 0.86, auc : 0.89\n"
          ],
          "name": "stdout"
        }
      ]
    },
    {
      "cell_type": "markdown",
      "metadata": {
        "id": "KsIAcoQ8WbLl"
      },
      "source": [
        "# Submission 실행"
      ]
    },
    {
      "cell_type": "code",
      "metadata": {
        "id": "xb-kuYkAWeBK"
      },
      "source": [
        "# Merged_data_file\n",
        "Merged_2020 = pd.read_csv('../A2W/데이터/data_submission/merge_s_h_a20.csv')\n",
        "# Test 검증 데이터셋\n",
        "test_input = pd.read_csv('../A2W/데이터/data_submission/input.csv', encoding = 'cp949')"
      ],
      "execution_count": null,
      "outputs": []
    },
    {
      "cell_type": "code",
      "metadata": {
        "id": "Epg_Zmq5WkEm"
      },
      "source": [
        "# 훈련된 모델로 결과 도출 : day1 함수\n",
        "def day1_data_test(sgg, umd, date):    \n",
        "    # sgg 데이터와 umd 데이터, date를 통한 추출\n",
        "    text = sgg + ' ' + umd\n",
        "    # specific 자체가 학습 돌린 결과 참고해서 input으로 만들어야 됨\n",
        "    test_day1 = Merged_2020[Merged_2020['umd2'].str.contains(text.rstrip()) & Merged_2020['tm'].str.contains(date)]\n",
        "    test_specific_day1 = test_day1[['maxTa','minTa','avgTa','EIGHT_AGL','stnId','mi10MaxRn', 'hr1MaxRn', 'sumRnDur', 'sumRn', 'maxInsWs', \n",
        "                                    'maxWs', 'avgWs','minRhm','avgRhm','n99Rn', 'PRRCK_LARG', 'PRRCK_MDDL','LOCTN_ALTT','LOCTN_GRDN',\n",
        "                                    'CLZN_CD','TPGRP_TPCD','PRDN_FOM_C','SLDPT_TPCD','SLANT_TYP','SCSTX_CD','SLTP_CD','STORUNST','FROR_CD',\n",
        "                                    'FRTP_CD','KOFTR_GROU','DMCLS_CD','AGCLS_CD','HEIGHT']]\n",
        "    fillna_test_specific_day1 = test_specific_day1.fillna(0)\n",
        "    model_pred = xgb1.predict(fillna_test_specific_day1.to_numpy())\n",
        "    return model_pred\n",
        "\n",
        "# 훈련된 모델로 결과 도출 : day2 함수\n",
        "def day2_data_test(sgg, umd, date):    \n",
        "    # sgg 데이터와 umd 데이터, date를 통한 추출\n",
        "    text = sgg + ' ' + umd\n",
        "    # specific 자체가 학습 돌린 결과 참고해서 input으로 만들어야 됨\n",
        "    test_day2 = Merged_2020[Merged_2020['umd2'].str.contains(text.rstrip()) & Merged_2020['tm'].str.contains(date)]\n",
        "    test_specific_day2 = test_day2[['maxTa','minTa','avgTa','EIGHT_AGL','stnId','mi10MaxRn', 'hr1MaxRn', 'sumRnDur', 'sumRn', 'maxInsWs',\n",
        "                                    'maxWs', 'avgWs','minRhm','avgRhm','n99Rn', 'PRRCK_LARG', 'PRRCK_MDDL','LOCTN_ALTT','LOCTN_GRDN',\n",
        "                                    'CLZN_CD','TPGRP_TPCD','PRDN_FOM_C','SLDPT_TPCD','SLANT_TYP','SCSTX_CD','SLTP_CD','STORUNST','FROR_CD',\n",
        "                                    'FRTP_CD','KOFTR_GROU','DMCLS_CD','AGCLS_CD','HEIGHT']]\n",
        "    fillna_test_specific_day2 = test_specific_day2.fillna(0)\n",
        "    model_pred = xgb2.predict(fillna_test_specific_day2.to_numpy())\n",
        "    return model_pred"
      ],
      "execution_count": null,
      "outputs": []
    },
    {
      "cell_type": "code",
      "metadata": {
        "colab": {
          "base_uri": "https://localhost:8080/",
          "height": 272
        },
        "id": "Yx_h_cmAXbNE",
        "outputId": "9fa7afa0-9eb2-448e-c485-0918e44c32ea"
      },
      "source": [
        "length_test_input = len(test_input.index)\n",
        "\n",
        "# #day_1 data\n",
        "# for index in range(length_test_input):\n",
        "#     if test_input['umd'][index] == \"삼거동\":\n",
        "#         input_date = test_input['date'][index]\n",
        "#         input_sgg = test_input['sgg'][index]\n",
        "#         input_umd = \"상문동\"\n",
        "#     elif test_input['umd'][index] == \"어곡동\":\n",
        "#         input_date = test_input['date'][index]\n",
        "#         input_sgg = test_input['sgg'][index]\n",
        "#         input_umd = \"강서동\"\n",
        "#     elif test_input['umd'][index] == \"주진동\":\n",
        "#         input_date = test_input['date'][index]\n",
        "#         input_sgg = test_input['sgg'][index]\n",
        "#         input_umd = \"소주동\"\n",
        "#     elif test_input['umd'][index] == \"시동\":\n",
        "#         input_date = test_input['date'][index]\n",
        "#         input_sgg = test_input['sgg'][index]\n",
        "#         input_umd = \"불국동\"\n",
        "#     elif test_input['umd'][index] == \"덕곡동\":\n",
        "#         input_date = test_input['date'][index]\n",
        "#         input_sgg = test_input['sgg'][index]\n",
        "#         input_umd = \"지좌동\"\n",
        "#     elif test_input['umd'][index] == \"조와동\":\n",
        "#         input_date = test_input['date'][index]\n",
        "#         input_sgg = test_input['sgg'][index]\n",
        "#         input_umd = \"상망동\"\n",
        "#     else:\n",
        "#         input_date = test_input['date'][index]\n",
        "#         input_sgg = test_input['sgg'][index]\n",
        "#         input_umd = test_input['umd'][index]\n",
        "#     test_input['1day_yn'][index] = day1_data_test(input_sgg, input_umd, input_date)\n",
        "        \n",
        "\n",
        "#day_2 data\n",
        "for index in range(length_test_input):\n",
        "    if test_input['umd'][index] == \"삼거동\":\n",
        "        input_date = test_input['date'][index]\n",
        "        input_sgg = test_input['sgg'][index]\n",
        "        input_umd = \"상문동\"\n",
        "    elif test_input['umd'][index] == \"어곡동\":\n",
        "        input_date = test_input['date'][index]\n",
        "        input_sgg = test_input['sgg'][index]\n",
        "        input_umd = \"강서동\"\n",
        "    elif test_input['umd'][index] == \"주진동\":\n",
        "        input_date = test_input['date'][index]\n",
        "        input_sgg = test_input['sgg'][index]\n",
        "        input_umd = \"소주동\"\n",
        "    elif test_input['umd'][index] == \"시동\":\n",
        "        input_date = test_input['date'][index]\n",
        "        input_sgg = test_input['sgg'][index]\n",
        "        input_umd = \"불국동\"\n",
        "    elif test_input['umd'][index] == \"덕곡동\":\n",
        "        input_date = test_input['date'][index]\n",
        "        input_sgg = test_input['sgg'][index]\n",
        "        input_umd = \"지좌동\"\n",
        "    elif test_input['umd'][index] == \"조와동\":\n",
        "        input_date = test_input['date'][index]\n",
        "        input_sgg = test_input['sgg'][index]\n",
        "        input_umd = \"상망동\"\n",
        "    else:\n",
        "        input_date = test_input['date'][index]\n",
        "        input_sgg = test_input['sgg'][index]\n",
        "        input_umd = test_input['umd'][index]\n",
        "    test_input['2day_yn'][index] = day2_data_test(input_sgg, input_umd, input_date)\n",
        "        \n",
        "# print(search_data(input_sgg, input_umd, input_date))\n",
        "\n",
        "\n",
        "test_input.head()"
      ],
      "execution_count": null,
      "outputs": [
        {
          "output_type": "stream",
          "text": [
            "/usr/local/lib/python3.7/dist-packages/ipykernel_launcher.py:66: SettingWithCopyWarning: \n",
            "A value is trying to be set on a copy of a slice from a DataFrame\n",
            "\n",
            "See the caveats in the documentation: https://pandas.pydata.org/pandas-docs/stable/user_guide/indexing.html#returning-a-view-versus-a-copy\n"
          ],
          "name": "stderr"
        },
        {
          "output_type": "execute_result",
          "data": {
            "text/html": [
              "<div>\n",
              "<style scoped>\n",
              "    .dataframe tbody tr th:only-of-type {\n",
              "        vertical-align: middle;\n",
              "    }\n",
              "\n",
              "    .dataframe tbody tr th {\n",
              "        vertical-align: top;\n",
              "    }\n",
              "\n",
              "    .dataframe thead th {\n",
              "        text-align: right;\n",
              "    }\n",
              "</style>\n",
              "<table border=\"1\" class=\"dataframe\">\n",
              "  <thead>\n",
              "    <tr style=\"text-align: right;\">\n",
              "      <th></th>\n",
              "      <th>date</th>\n",
              "      <th>sd</th>\n",
              "      <th>sgg</th>\n",
              "      <th>umd</th>\n",
              "      <th>1day</th>\n",
              "      <th>1day_yn</th>\n",
              "      <th>2day</th>\n",
              "      <th>2day_yn</th>\n",
              "    </tr>\n",
              "  </thead>\n",
              "  <tbody>\n",
              "    <tr>\n",
              "      <th>0</th>\n",
              "      <td>2020-06-10</td>\n",
              "      <td>경상남도</td>\n",
              "      <td>사천시</td>\n",
              "      <td>곤명면</td>\n",
              "      <td>2020-06-11</td>\n",
              "      <td>0.0</td>\n",
              "      <td>2020-06-12</td>\n",
              "      <td>0.0</td>\n",
              "    </tr>\n",
              "    <tr>\n",
              "      <th>1</th>\n",
              "      <td>2020-06-11</td>\n",
              "      <td>경상남도</td>\n",
              "      <td>사천시</td>\n",
              "      <td>곤명면</td>\n",
              "      <td>2020-06-12</td>\n",
              "      <td>0.0</td>\n",
              "      <td>2020-06-13</td>\n",
              "      <td>0.0</td>\n",
              "    </tr>\n",
              "    <tr>\n",
              "      <th>2</th>\n",
              "      <td>2020-06-12</td>\n",
              "      <td>경상남도</td>\n",
              "      <td>사천시</td>\n",
              "      <td>곤명면</td>\n",
              "      <td>2020-06-13</td>\n",
              "      <td>0.0</td>\n",
              "      <td>2020-06-14</td>\n",
              "      <td>0.0</td>\n",
              "    </tr>\n",
              "    <tr>\n",
              "      <th>3</th>\n",
              "      <td>2020-06-10</td>\n",
              "      <td>경상남도</td>\n",
              "      <td>사천시</td>\n",
              "      <td>곤양면</td>\n",
              "      <td>2020-06-11</td>\n",
              "      <td>0.0</td>\n",
              "      <td>2020-06-12</td>\n",
              "      <td>0.0</td>\n",
              "    </tr>\n",
              "    <tr>\n",
              "      <th>4</th>\n",
              "      <td>2020-06-11</td>\n",
              "      <td>경상남도</td>\n",
              "      <td>사천시</td>\n",
              "      <td>곤양면</td>\n",
              "      <td>2020-06-12</td>\n",
              "      <td>0.0</td>\n",
              "      <td>2020-06-13</td>\n",
              "      <td>0.0</td>\n",
              "    </tr>\n",
              "  </tbody>\n",
              "</table>\n",
              "</div>"
            ],
            "text/plain": [
              "         date    sd  sgg  umd        1day  1day_yn        2day  2day_yn\n",
              "0  2020-06-10  경상남도  사천시  곤명면  2020-06-11      0.0  2020-06-12      0.0\n",
              "1  2020-06-11  경상남도  사천시  곤명면  2020-06-12      0.0  2020-06-13      0.0\n",
              "2  2020-06-12  경상남도  사천시  곤명면  2020-06-13      0.0  2020-06-14      0.0\n",
              "3  2020-06-10  경상남도  사천시  곤양면  2020-06-11      0.0  2020-06-12      0.0\n",
              "4  2020-06-11  경상남도  사천시  곤양면  2020-06-12      0.0  2020-06-13      0.0"
            ]
          },
          "metadata": {
            "tags": []
          },
          "execution_count": 53
        }
      ]
    },
    {
      "cell_type": "code",
      "metadata": {
        "colab": {
          "base_uri": "https://localhost:8080/"
        },
        "id": "tGUPog5CXczN",
        "outputId": "df0d5be1-cecc-4306-e08f-06f9594ce2b5"
      },
      "source": [
        "test_input[\"1day_yn\"].value_counts()"
      ],
      "execution_count": null,
      "outputs": [
        {
          "output_type": "execute_result",
          "data": {
            "text/plain": [
              "0.0    3384\n",
              "1.0      26\n",
              "Name: 1day_yn, dtype: int64"
            ]
          },
          "metadata": {
            "tags": []
          },
          "execution_count": 54
        }
      ]
    },
    {
      "cell_type": "code",
      "metadata": {
        "colab": {
          "base_uri": "https://localhost:8080/"
        },
        "id": "dDVcmOseXeZI",
        "outputId": "5a84ea94-f316-48f5-f424-a6c340b5e491"
      },
      "source": [
        "test_input[\"2day_yn\"].value_counts()"
      ],
      "execution_count": null,
      "outputs": [
        {
          "output_type": "execute_result",
          "data": {
            "text/plain": [
              "0.0    3410\n",
              "Name: 2day_yn, dtype: int64"
            ]
          },
          "metadata": {
            "tags": []
          },
          "execution_count": 57
        }
      ]
    },
    {
      "cell_type": "code",
      "metadata": {
        "id": "tSi6kCXSXfcl"
      },
      "source": [
        "test_input.to_csv(\"xgb_test_model.csv\", index=False, encoding='cp949')"
      ],
      "execution_count": null,
      "outputs": []
    }
  ]
}