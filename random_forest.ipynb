{
  "nbformat": 4,
  "nbformat_minor": 0,
  "metadata": {
    "colab": {
      "name": "random_forest.ipynb",
      "provenance": [],
      "collapsed_sections": [],
      "authorship_tag": "ABX9TyMWfnsAs/gv4grprakllBmV",
      "include_colab_link": true
    },
    "kernelspec": {
      "name": "python3",
      "display_name": "Python 3"
    },
    "language_info": {
      "name": "python"
    }
  },
  "cells": [
    {
      "cell_type": "markdown",
      "metadata": {
        "id": "view-in-github",
        "colab_type": "text"
      },
      "source": [
        "<a href=\"https://colab.research.google.com/github/wonkwonlee/a2w-kma-big-data-contest/blob/main/random_forest.ipynb\" target=\"_parent\"><img src=\"https://colab.research.google.com/assets/colab-badge.svg\" alt=\"Open In Colab\"/></a>"
      ]
    },
    {
      "cell_type": "code",
      "metadata": {
        "colab": {
          "base_uri": "https://localhost:8080/"
        },
        "id": "PrtnVGv2lCwd",
        "outputId": "2762cf59-4742-4619-c15c-199db27b4fa6"
      },
      "source": [
        "from google.colab import drive\n",
        "drive.mount('/content/drive')"
      ],
      "execution_count": 1,
      "outputs": [
        {
          "output_type": "stream",
          "text": [
            "Mounted at /content/drive\n"
          ],
          "name": "stdout"
        }
      ]
    },
    {
      "cell_type": "code",
      "metadata": {
        "id": "1x5tByyQlU6E"
      },
      "source": [
        "# 경로 설정 \n",
        "import os\n",
        "os.chdir('/content/drive/MyDrive/Colab Notebooks')"
      ],
      "execution_count": 2,
      "outputs": []
    },
    {
      "cell_type": "code",
      "metadata": {
        "id": "4tpHpAeck_yB"
      },
      "source": [
        "import numpy as np\n",
        "import pandas as pd\n",
        "import matplotlib.pyplot as plt\n",
        "import seaborn as sns\n",
        "%matplotlib inline\n",
        "\n",
        "\n",
        "from sklearn.feature_selection import mutual_info_classif\n",
        "from sklearn.preprocessing import OneHotEncoder\n",
        "from sklearn.ensemble import RandomForestClassifier, GradientBoostingClassifier, ExtraTreesClassifier\n",
        "from lightgbm import LGBMClassifier"
      ],
      "execution_count": 8,
      "outputs": []
    },
    {
      "cell_type": "code",
      "metadata": {
        "id": "pE5Az1dRlW5v"
      },
      "source": [
        "df = pd.read_csv(\"landslide_asos_merged_final.csv\")"
      ],
      "execution_count": 66,
      "outputs": []
    },
    {
      "cell_type": "code",
      "metadata": {
        "colab": {
          "base_uri": "https://localhost:8080/",
          "height": 419
        },
        "id": "Z_x1RhlpsCVL",
        "outputId": "30563f0e-c5db-4883-df7e-8ab56797ba9b"
      },
      "source": [
        "df_sample = df.drop(['sd','sgg','umd','location','sum_cnt','sum_hpa'], axis=1)\n",
        "df_sample"
      ],
      "execution_count": 68,
      "outputs": [
        {
          "output_type": "execute_result",
          "data": {
            "text/html": [
              "<div>\n",
              "<style scoped>\n",
              "    .dataframe tbody tr th:only-of-type {\n",
              "        vertical-align: middle;\n",
              "    }\n",
              "\n",
              "    .dataframe tbody tr th {\n",
              "        vertical-align: top;\n",
              "    }\n",
              "\n",
              "    .dataframe thead th {\n",
              "        text-align: right;\n",
              "    }\n",
              "</style>\n",
              "<table border=\"1\" class=\"dataframe\">\n",
              "  <thead>\n",
              "    <tr style=\"text-align: right;\">\n",
              "      <th></th>\n",
              "      <th>stnId</th>\n",
              "      <th>stnNm</th>\n",
              "      <th>tm</th>\n",
              "      <th>avgTa</th>\n",
              "      <th>minTa</th>\n",
              "      <th>maxTa</th>\n",
              "      <th>mi10MaxRn</th>\n",
              "      <th>hr1MaxRn</th>\n",
              "      <th>sumRnDur</th>\n",
              "      <th>sumRn</th>\n",
              "      <th>maxInsWs</th>\n",
              "      <th>maxWs</th>\n",
              "      <th>avgWs</th>\n",
              "      <th>minRhm</th>\n",
              "      <th>avgRhm</th>\n",
              "      <th>n99Rn</th>\n",
              "      <th>landslide</th>\n",
              "    </tr>\n",
              "  </thead>\n",
              "  <tbody>\n",
              "    <tr>\n",
              "      <th>0</th>\n",
              "      <td>115</td>\n",
              "      <td>울릉도</td>\n",
              "      <td>2011-01-01</td>\n",
              "      <td>0.8</td>\n",
              "      <td>-1.1</td>\n",
              "      <td>2.1</td>\n",
              "      <td>0.0</td>\n",
              "      <td>0.0</td>\n",
              "      <td>19.33</td>\n",
              "      <td>28.0</td>\n",
              "      <td>29.4</td>\n",
              "      <td>19.0</td>\n",
              "      <td>11.1</td>\n",
              "      <td>65.0</td>\n",
              "      <td>82.5</td>\n",
              "      <td>5.8</td>\n",
              "      <td>0.0</td>\n",
              "    </tr>\n",
              "    <tr>\n",
              "      <th>1</th>\n",
              "      <td>130</td>\n",
              "      <td>울진</td>\n",
              "      <td>2011-01-01</td>\n",
              "      <td>-1.0</td>\n",
              "      <td>-7.0</td>\n",
              "      <td>2.3</td>\n",
              "      <td>0.0</td>\n",
              "      <td>0.0</td>\n",
              "      <td>15.25</td>\n",
              "      <td>8.5</td>\n",
              "      <td>20.2</td>\n",
              "      <td>12.3</td>\n",
              "      <td>6.0</td>\n",
              "      <td>40.0</td>\n",
              "      <td>79.0</td>\n",
              "      <td>0.0</td>\n",
              "      <td>0.0</td>\n",
              "    </tr>\n",
              "    <tr>\n",
              "      <th>2</th>\n",
              "      <td>136</td>\n",
              "      <td>안동</td>\n",
              "      <td>2011-01-01</td>\n",
              "      <td>-4.5</td>\n",
              "      <td>-11.0</td>\n",
              "      <td>2.9</td>\n",
              "      <td>0.0</td>\n",
              "      <td>0.0</td>\n",
              "      <td>0.00</td>\n",
              "      <td>0.0</td>\n",
              "      <td>7.4</td>\n",
              "      <td>4.4</td>\n",
              "      <td>2.1</td>\n",
              "      <td>41.0</td>\n",
              "      <td>58.8</td>\n",
              "      <td>0.0</td>\n",
              "      <td>0.0</td>\n",
              "    </tr>\n",
              "    <tr>\n",
              "      <th>3</th>\n",
              "      <td>137</td>\n",
              "      <td>상주</td>\n",
              "      <td>2011-01-01</td>\n",
              "      <td>-5.2</td>\n",
              "      <td>-9.9</td>\n",
              "      <td>0.5</td>\n",
              "      <td>0.0</td>\n",
              "      <td>0.0</td>\n",
              "      <td>0.00</td>\n",
              "      <td>0.0</td>\n",
              "      <td>9.8</td>\n",
              "      <td>5.3</td>\n",
              "      <td>3.3</td>\n",
              "      <td>36.0</td>\n",
              "      <td>50.0</td>\n",
              "      <td>0.0</td>\n",
              "      <td>0.0</td>\n",
              "    </tr>\n",
              "    <tr>\n",
              "      <th>4</th>\n",
              "      <td>138</td>\n",
              "      <td>포항</td>\n",
              "      <td>2011-01-01</td>\n",
              "      <td>-0.6</td>\n",
              "      <td>-6.2</td>\n",
              "      <td>5.2</td>\n",
              "      <td>0.0</td>\n",
              "      <td>0.0</td>\n",
              "      <td>0.00</td>\n",
              "      <td>0.0</td>\n",
              "      <td>11.1</td>\n",
              "      <td>4.7</td>\n",
              "      <td>2.8</td>\n",
              "      <td>39.0</td>\n",
              "      <td>48.1</td>\n",
              "      <td>0.0</td>\n",
              "      <td>0.0</td>\n",
              "    </tr>\n",
              "    <tr>\n",
              "      <th>...</th>\n",
              "      <td>...</td>\n",
              "      <td>...</td>\n",
              "      <td>...</td>\n",
              "      <td>...</td>\n",
              "      <td>...</td>\n",
              "      <td>...</td>\n",
              "      <td>...</td>\n",
              "      <td>...</td>\n",
              "      <td>...</td>\n",
              "      <td>...</td>\n",
              "      <td>...</td>\n",
              "      <td>...</td>\n",
              "      <td>...</td>\n",
              "      <td>...</td>\n",
              "      <td>...</td>\n",
              "      <td>...</td>\n",
              "      <td>...</td>\n",
              "    </tr>\n",
              "    <tr>\n",
              "      <th>102182</th>\n",
              "      <td>285</td>\n",
              "      <td>합천</td>\n",
              "      <td>2019-12-31</td>\n",
              "      <td>-1.5</td>\n",
              "      <td>-6.9</td>\n",
              "      <td>2.9</td>\n",
              "      <td>0.0</td>\n",
              "      <td>0.0</td>\n",
              "      <td>0.00</td>\n",
              "      <td>0.0</td>\n",
              "      <td>10.2</td>\n",
              "      <td>4.6</td>\n",
              "      <td>1.8</td>\n",
              "      <td>18.0</td>\n",
              "      <td>40.6</td>\n",
              "      <td>0.0</td>\n",
              "      <td>0.0</td>\n",
              "    </tr>\n",
              "    <tr>\n",
              "      <th>102183</th>\n",
              "      <td>288</td>\n",
              "      <td>밀양</td>\n",
              "      <td>2019-12-31</td>\n",
              "      <td>-1.1</td>\n",
              "      <td>-4.5</td>\n",
              "      <td>4.6</td>\n",
              "      <td>0.0</td>\n",
              "      <td>0.0</td>\n",
              "      <td>0.00</td>\n",
              "      <td>0.0</td>\n",
              "      <td>11.7</td>\n",
              "      <td>7.0</td>\n",
              "      <td>2.9</td>\n",
              "      <td>14.0</td>\n",
              "      <td>26.4</td>\n",
              "      <td>0.0</td>\n",
              "      <td>0.0</td>\n",
              "    </tr>\n",
              "    <tr>\n",
              "      <th>102184</th>\n",
              "      <td>289</td>\n",
              "      <td>산청</td>\n",
              "      <td>2019-12-31</td>\n",
              "      <td>-2.5</td>\n",
              "      <td>-5.1</td>\n",
              "      <td>1.2</td>\n",
              "      <td>0.0</td>\n",
              "      <td>0.0</td>\n",
              "      <td>0.00</td>\n",
              "      <td>0.0</td>\n",
              "      <td>21.0</td>\n",
              "      <td>10.4</td>\n",
              "      <td>5.8</td>\n",
              "      <td>22.0</td>\n",
              "      <td>34.9</td>\n",
              "      <td>0.0</td>\n",
              "      <td>0.0</td>\n",
              "    </tr>\n",
              "    <tr>\n",
              "      <th>102185</th>\n",
              "      <td>294</td>\n",
              "      <td>거제</td>\n",
              "      <td>2019-12-31</td>\n",
              "      <td>0.7</td>\n",
              "      <td>-1.5</td>\n",
              "      <td>6.7</td>\n",
              "      <td>0.0</td>\n",
              "      <td>0.0</td>\n",
              "      <td>0.00</td>\n",
              "      <td>0.0</td>\n",
              "      <td>10.3</td>\n",
              "      <td>4.7</td>\n",
              "      <td>2.4</td>\n",
              "      <td>25.0</td>\n",
              "      <td>40.1</td>\n",
              "      <td>0.0</td>\n",
              "      <td>0.0</td>\n",
              "    </tr>\n",
              "    <tr>\n",
              "      <th>102186</th>\n",
              "      <td>295</td>\n",
              "      <td>남해</td>\n",
              "      <td>2019-12-31</td>\n",
              "      <td>-0.6</td>\n",
              "      <td>-4.7</td>\n",
              "      <td>3.5</td>\n",
              "      <td>0.0</td>\n",
              "      <td>0.0</td>\n",
              "      <td>0.00</td>\n",
              "      <td>0.0</td>\n",
              "      <td>6.8</td>\n",
              "      <td>3.4</td>\n",
              "      <td>1.3</td>\n",
              "      <td>26.0</td>\n",
              "      <td>44.6</td>\n",
              "      <td>0.0</td>\n",
              "      <td>0.0</td>\n",
              "    </tr>\n",
              "  </tbody>\n",
              "</table>\n",
              "<p>102187 rows × 17 columns</p>\n",
              "</div>"
            ],
            "text/plain": [
              "        stnId stnNm          tm  avgTa  ...  minRhm  avgRhm  n99Rn  landslide\n",
              "0         115   울릉도  2011-01-01    0.8  ...    65.0    82.5    5.8        0.0\n",
              "1         130    울진  2011-01-01   -1.0  ...    40.0    79.0    0.0        0.0\n",
              "2         136    안동  2011-01-01   -4.5  ...    41.0    58.8    0.0        0.0\n",
              "3         137    상주  2011-01-01   -5.2  ...    36.0    50.0    0.0        0.0\n",
              "4         138    포항  2011-01-01   -0.6  ...    39.0    48.1    0.0        0.0\n",
              "...       ...   ...         ...    ...  ...     ...     ...    ...        ...\n",
              "102182    285    합천  2019-12-31   -1.5  ...    18.0    40.6    0.0        0.0\n",
              "102183    288    밀양  2019-12-31   -1.1  ...    14.0    26.4    0.0        0.0\n",
              "102184    289    산청  2019-12-31   -2.5  ...    22.0    34.9    0.0        0.0\n",
              "102185    294    거제  2019-12-31    0.7  ...    25.0    40.1    0.0        0.0\n",
              "102186    295    남해  2019-12-31   -0.6  ...    26.0    44.6    0.0        0.0\n",
              "\n",
              "[102187 rows x 17 columns]"
            ]
          },
          "metadata": {
            "tags": []
          },
          "execution_count": 68
        }
      ]
    },
    {
      "cell_type": "code",
      "metadata": {
        "colab": {
          "base_uri": "https://localhost:8080/"
        },
        "id": "q3jJpVMYn-oG",
        "outputId": "88335c05-15c9-4e1f-9011-3983c7553787"
      },
      "source": [
        "df_sample = df_sample.dropna()\n",
        "df_sample.info()"
      ],
      "execution_count": 71,
      "outputs": [
        {
          "output_type": "stream",
          "text": [
            "<class 'pandas.core.frame.DataFrame'>\n",
            "Int64Index: 101946 entries, 0 to 102186\n",
            "Data columns (total 17 columns):\n",
            " #   Column     Non-Null Count   Dtype  \n",
            "---  ------     --------------   -----  \n",
            " 0   stnId      101946 non-null  int64  \n",
            " 1   stnNm      101946 non-null  object \n",
            " 2   tm         101946 non-null  object \n",
            " 3   avgTa      101946 non-null  float64\n",
            " 4   minTa      101946 non-null  float64\n",
            " 5   maxTa      101946 non-null  float64\n",
            " 6   mi10MaxRn  101946 non-null  float64\n",
            " 7   hr1MaxRn   101946 non-null  float64\n",
            " 8   sumRnDur   101946 non-null  float64\n",
            " 9   sumRn      101946 non-null  float64\n",
            " 10  maxInsWs   101946 non-null  float64\n",
            " 11  maxWs      101946 non-null  float64\n",
            " 12  avgWs      101946 non-null  float64\n",
            " 13  minRhm     101946 non-null  float64\n",
            " 14  avgRhm     101946 non-null  float64\n",
            " 15  n99Rn      101946 non-null  float64\n",
            " 16  landslide  101946 non-null  float64\n",
            "dtypes: float64(14), int64(1), object(2)\n",
            "memory usage: 14.0+ MB\n"
          ],
          "name": "stdout"
        }
      ]
    },
    {
      "cell_type": "code",
      "metadata": {
        "colab": {
          "base_uri": "https://localhost:8080/"
        },
        "id": "Q0cD3lfwxBMt",
        "outputId": "790f3e27-5187-4787-96a0-0fd23b7ce5a5"
      },
      "source": [
        "df_sample.columns"
      ],
      "execution_count": 72,
      "outputs": [
        {
          "output_type": "execute_result",
          "data": {
            "text/plain": [
              "Index(['stnId', 'stnNm', 'tm', 'avgTa', 'minTa', 'maxTa', 'mi10MaxRn',\n",
              "       'hr1MaxRn', 'sumRnDur', 'sumRn', 'maxInsWs', 'maxWs', 'avgWs', 'minRhm',\n",
              "       'avgRhm', 'n99Rn', 'landslide'],\n",
              "      dtype='object')"
            ]
          },
          "metadata": {
            "tags": []
          },
          "execution_count": 72
        }
      ]
    },
    {
      "cell_type": "code",
      "metadata": {
        "id": "IbX5h405mQTp"
      },
      "source": [
        "from sklearn.model_selection import train_test_split\n",
        "\n",
        "x_train, x_test, y_train, y_test = train_test_split(\n",
        "    df_sample[['avgTa', 'minTa', 'maxTa', 'mi10MaxRn','hr1MaxRn', 'sumRnDur', 'sumRn', \n",
        "       'maxInsWs', 'maxWs', 'avgWs', 'minRhm','avgRhm', 'n99Rn']], \n",
        "    df_sample['landslide'], \n",
        "    test_size=0.25, \n",
        "    stratify=df_sample['landslide'], \n",
        "    random_state=123456)"
      ],
      "execution_count": 73,
      "outputs": []
    },
    {
      "cell_type": "code",
      "metadata": {
        "colab": {
          "base_uri": "https://localhost:8080/",
          "height": 419
        },
        "id": "ZoqohIjxosRd",
        "outputId": "b87a2274-0193-42c3-bb5e-df63b7bfdff9"
      },
      "source": [
        "x_train"
      ],
      "execution_count": 74,
      "outputs": [
        {
          "output_type": "execute_result",
          "data": {
            "text/html": [
              "<div>\n",
              "<style scoped>\n",
              "    .dataframe tbody tr th:only-of-type {\n",
              "        vertical-align: middle;\n",
              "    }\n",
              "\n",
              "    .dataframe tbody tr th {\n",
              "        vertical-align: top;\n",
              "    }\n",
              "\n",
              "    .dataframe thead th {\n",
              "        text-align: right;\n",
              "    }\n",
              "</style>\n",
              "<table border=\"1\" class=\"dataframe\">\n",
              "  <thead>\n",
              "    <tr style=\"text-align: right;\">\n",
              "      <th></th>\n",
              "      <th>avgTa</th>\n",
              "      <th>minTa</th>\n",
              "      <th>maxTa</th>\n",
              "      <th>mi10MaxRn</th>\n",
              "      <th>hr1MaxRn</th>\n",
              "      <th>sumRnDur</th>\n",
              "      <th>sumRn</th>\n",
              "      <th>maxInsWs</th>\n",
              "      <th>maxWs</th>\n",
              "      <th>avgWs</th>\n",
              "      <th>minRhm</th>\n",
              "      <th>avgRhm</th>\n",
              "      <th>n99Rn</th>\n",
              "    </tr>\n",
              "  </thead>\n",
              "  <tbody>\n",
              "    <tr>\n",
              "      <th>98030</th>\n",
              "      <td>26.7</td>\n",
              "      <td>23.8</td>\n",
              "      <td>31.7</td>\n",
              "      <td>2.0</td>\n",
              "      <td>7.9</td>\n",
              "      <td>0.00</td>\n",
              "      <td>29.8</td>\n",
              "      <td>7.7</td>\n",
              "      <td>2.6</td>\n",
              "      <td>1.0</td>\n",
              "      <td>64.0</td>\n",
              "      <td>87.0</td>\n",
              "      <td>6.4</td>\n",
              "    </tr>\n",
              "    <tr>\n",
              "      <th>48656</th>\n",
              "      <td>10.0</td>\n",
              "      <td>8.5</td>\n",
              "      <td>11.4</td>\n",
              "      <td>1.0</td>\n",
              "      <td>6.0</td>\n",
              "      <td>0.00</td>\n",
              "      <td>15.5</td>\n",
              "      <td>11.9</td>\n",
              "      <td>7.0</td>\n",
              "      <td>2.4</td>\n",
              "      <td>70.0</td>\n",
              "      <td>84.3</td>\n",
              "      <td>0.0</td>\n",
              "    </tr>\n",
              "    <tr>\n",
              "      <th>10543</th>\n",
              "      <td>3.6</td>\n",
              "      <td>-1.6</td>\n",
              "      <td>9.2</td>\n",
              "      <td>0.0</td>\n",
              "      <td>0.0</td>\n",
              "      <td>0.00</td>\n",
              "      <td>0.0</td>\n",
              "      <td>6.0</td>\n",
              "      <td>3.6</td>\n",
              "      <td>2.1</td>\n",
              "      <td>30.0</td>\n",
              "      <td>65.6</td>\n",
              "      <td>0.0</td>\n",
              "    </tr>\n",
              "    <tr>\n",
              "      <th>73877</th>\n",
              "      <td>25.4</td>\n",
              "      <td>22.1</td>\n",
              "      <td>32.0</td>\n",
              "      <td>3.0</td>\n",
              "      <td>5.0</td>\n",
              "      <td>0.00</td>\n",
              "      <td>6.0</td>\n",
              "      <td>6.0</td>\n",
              "      <td>3.0</td>\n",
              "      <td>1.1</td>\n",
              "      <td>51.0</td>\n",
              "      <td>87.3</td>\n",
              "      <td>0.0</td>\n",
              "    </tr>\n",
              "    <tr>\n",
              "      <th>76691</th>\n",
              "      <td>16.1</td>\n",
              "      <td>14.2</td>\n",
              "      <td>20.5</td>\n",
              "      <td>0.0</td>\n",
              "      <td>0.0</td>\n",
              "      <td>0.00</td>\n",
              "      <td>0.0</td>\n",
              "      <td>4.9</td>\n",
              "      <td>3.6</td>\n",
              "      <td>0.9</td>\n",
              "      <td>62.0</td>\n",
              "      <td>84.4</td>\n",
              "      <td>0.0</td>\n",
              "    </tr>\n",
              "    <tr>\n",
              "      <th>...</th>\n",
              "      <td>...</td>\n",
              "      <td>...</td>\n",
              "      <td>...</td>\n",
              "      <td>...</td>\n",
              "      <td>...</td>\n",
              "      <td>...</td>\n",
              "      <td>...</td>\n",
              "      <td>...</td>\n",
              "      <td>...</td>\n",
              "      <td>...</td>\n",
              "      <td>...</td>\n",
              "      <td>...</td>\n",
              "      <td>...</td>\n",
              "    </tr>\n",
              "    <tr>\n",
              "      <th>23927</th>\n",
              "      <td>0.9</td>\n",
              "      <td>-2.2</td>\n",
              "      <td>3.9</td>\n",
              "      <td>0.0</td>\n",
              "      <td>0.0</td>\n",
              "      <td>0.00</td>\n",
              "      <td>2.0</td>\n",
              "      <td>1.9</td>\n",
              "      <td>1.1</td>\n",
              "      <td>0.4</td>\n",
              "      <td>62.0</td>\n",
              "      <td>82.9</td>\n",
              "      <td>0.0</td>\n",
              "    </tr>\n",
              "    <tr>\n",
              "      <th>2809</th>\n",
              "      <td>10.3</td>\n",
              "      <td>-2.7</td>\n",
              "      <td>20.3</td>\n",
              "      <td>0.0</td>\n",
              "      <td>0.0</td>\n",
              "      <td>0.00</td>\n",
              "      <td>0.0</td>\n",
              "      <td>10.5</td>\n",
              "      <td>5.7</td>\n",
              "      <td>2.2</td>\n",
              "      <td>6.0</td>\n",
              "      <td>37.1</td>\n",
              "      <td>0.0</td>\n",
              "    </tr>\n",
              "    <tr>\n",
              "      <th>96061</th>\n",
              "      <td>23.2</td>\n",
              "      <td>17.1</td>\n",
              "      <td>30.1</td>\n",
              "      <td>0.0</td>\n",
              "      <td>0.0</td>\n",
              "      <td>0.00</td>\n",
              "      <td>0.0</td>\n",
              "      <td>6.6</td>\n",
              "      <td>3.7</td>\n",
              "      <td>1.2</td>\n",
              "      <td>43.0</td>\n",
              "      <td>69.0</td>\n",
              "      <td>0.0</td>\n",
              "    </tr>\n",
              "    <tr>\n",
              "      <th>7481</th>\n",
              "      <td>25.8</td>\n",
              "      <td>23.0</td>\n",
              "      <td>29.9</td>\n",
              "      <td>0.0</td>\n",
              "      <td>0.0</td>\n",
              "      <td>0.00</td>\n",
              "      <td>0.0</td>\n",
              "      <td>8.1</td>\n",
              "      <td>5.1</td>\n",
              "      <td>2.9</td>\n",
              "      <td>59.0</td>\n",
              "      <td>71.9</td>\n",
              "      <td>0.0</td>\n",
              "    </tr>\n",
              "    <tr>\n",
              "      <th>25054</th>\n",
              "      <td>4.1</td>\n",
              "      <td>1.5</td>\n",
              "      <td>7.0</td>\n",
              "      <td>0.0</td>\n",
              "      <td>0.0</td>\n",
              "      <td>2.08</td>\n",
              "      <td>0.0</td>\n",
              "      <td>7.0</td>\n",
              "      <td>4.6</td>\n",
              "      <td>1.9</td>\n",
              "      <td>52.0</td>\n",
              "      <td>65.8</td>\n",
              "      <td>0.0</td>\n",
              "    </tr>\n",
              "  </tbody>\n",
              "</table>\n",
              "<p>76459 rows × 13 columns</p>\n",
              "</div>"
            ],
            "text/plain": [
              "       avgTa  minTa  maxTa  mi10MaxRn  ...  avgWs  minRhm  avgRhm  n99Rn\n",
              "98030   26.7   23.8   31.7        2.0  ...    1.0    64.0    87.0    6.4\n",
              "48656   10.0    8.5   11.4        1.0  ...    2.4    70.0    84.3    0.0\n",
              "10543    3.6   -1.6    9.2        0.0  ...    2.1    30.0    65.6    0.0\n",
              "73877   25.4   22.1   32.0        3.0  ...    1.1    51.0    87.3    0.0\n",
              "76691   16.1   14.2   20.5        0.0  ...    0.9    62.0    84.4    0.0\n",
              "...      ...    ...    ...        ...  ...    ...     ...     ...    ...\n",
              "23927    0.9   -2.2    3.9        0.0  ...    0.4    62.0    82.9    0.0\n",
              "2809    10.3   -2.7   20.3        0.0  ...    2.2     6.0    37.1    0.0\n",
              "96061   23.2   17.1   30.1        0.0  ...    1.2    43.0    69.0    0.0\n",
              "7481    25.8   23.0   29.9        0.0  ...    2.9    59.0    71.9    0.0\n",
              "25054    4.1    1.5    7.0        0.0  ...    1.9    52.0    65.8    0.0\n",
              "\n",
              "[76459 rows x 13 columns]"
            ]
          },
          "metadata": {
            "tags": []
          },
          "execution_count": 74
        }
      ]
    },
    {
      "cell_type": "code",
      "metadata": {
        "colab": {
          "base_uri": "https://localhost:8080/"
        },
        "id": "gK3JsQeDogAp",
        "outputId": "798fbe52-9b3a-4070-ea54-d31460f317e7"
      },
      "source": [
        "rf = RandomForestClassifier(n_estimators=100, oob_score=True, random_state=123456)\n",
        "rf.fit(x_train, y_train)"
      ],
      "execution_count": 75,
      "outputs": [
        {
          "output_type": "execute_result",
          "data": {
            "text/plain": [
              "RandomForestClassifier(bootstrap=True, ccp_alpha=0.0, class_weight=None,\n",
              "                       criterion='gini', max_depth=None, max_features='auto',\n",
              "                       max_leaf_nodes=None, max_samples=None,\n",
              "                       min_impurity_decrease=0.0, min_impurity_split=None,\n",
              "                       min_samples_leaf=1, min_samples_split=2,\n",
              "                       min_weight_fraction_leaf=0.0, n_estimators=100,\n",
              "                       n_jobs=None, oob_score=True, random_state=123456,\n",
              "                       verbose=0, warm_start=False)"
            ]
          },
          "metadata": {
            "tags": []
          },
          "execution_count": 75
        }
      ]
    },
    {
      "cell_type": "code",
      "metadata": {
        "colab": {
          "base_uri": "https://localhost:8080/"
        },
        "id": "yInBrI33utLd",
        "outputId": "baf74f66-fdba-4187-badb-eeffc9ef8aac"
      },
      "source": [
        "from sklearn.metrics import accuracy_score\n",
        "\n",
        "predicted = rf.predict(x_test)\n",
        "accuracy = accuracy_score(y_test, predicted)\n",
        "\n",
        "print(f'Out-of-bag score estimate: {rf.oob_score_:.3}')\n",
        "print(f'Mean accuracy score: {accuracy:.3}')"
      ],
      "execution_count": 76,
      "outputs": [
        {
          "output_type": "stream",
          "text": [
            "Out-of-bag score estimate: 1.0\n",
            "Mean accuracy score: 1.0\n"
          ],
          "name": "stdout"
        }
      ]
    },
    {
      "cell_type": "code",
      "metadata": {
        "colab": {
          "base_uri": "https://localhost:8080/"
        },
        "id": "0KlmUukzvWFP",
        "outputId": "8f88a505-e28a-4b76-ddb0-12f45b7e4433"
      },
      "source": [
        "predicted"
      ],
      "execution_count": 59,
      "outputs": [
        {
          "output_type": "execute_result",
          "data": {
            "text/plain": [
              "array([0., 0., 0., ..., 0., 0., 0.])"
            ]
          },
          "metadata": {
            "tags": []
          },
          "execution_count": 59
        }
      ]
    },
    {
      "cell_type": "code",
      "metadata": {
        "id": "XgbDQkWOu30c"
      },
      "source": [
        "from sklearn.metrics import confusion_matrix\n",
        "\n",
        "cm = pd.DataFrame(confusion_matrix(y_test, predicted))\n",
        "sns.heatmap(cm, annot=True)"
      ],
      "execution_count": null,
      "outputs": []
    }
  ]
}