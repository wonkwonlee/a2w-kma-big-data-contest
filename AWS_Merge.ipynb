{
  "nbformat": 4,
  "nbformat_minor": 0,
  "metadata": {
    "colab": {
      "name": "AWS_Merge.ipynb",
      "provenance": [],
      "authorship_tag": "ABX9TyMTPYksKjtP1hBoD7xcJ+Um",
      "include_colab_link": true
    },
    "kernelspec": {
      "name": "python3",
      "display_name": "Python 3"
    },
    "language_info": {
      "name": "python"
    }
  },
  "cells": [
    {
      "cell_type": "markdown",
      "metadata": {
        "id": "view-in-github",
        "colab_type": "text"
      },
      "source": [
        "<a href=\"https://colab.research.google.com/github/wonkwonlee/a2w-kma-big-data-contest/blob/main/AWS_Merge.ipynb\" target=\"_parent\"><img src=\"https://colab.research.google.com/assets/colab-badge.svg\" alt=\"Open In Colab\"/></a>"
      ]
    },
    {
      "cell_type": "code",
      "metadata": {
        "colab": {
          "base_uri": "https://localhost:8080/"
        },
        "id": "td95U2WvYOEO",
        "outputId": "68808860-0090-4f55-acb2-38995d607635"
      },
      "source": [
        "from google.colab import drive\n",
        "drive.mount('/content/drive')"
      ],
      "execution_count": 1,
      "outputs": [
        {
          "output_type": "stream",
          "text": [
            "Mounted at /content/drive\n"
          ],
          "name": "stdout"
        }
      ]
    },
    {
      "cell_type": "code",
      "metadata": {
        "id": "ExoZ6pKzaT0c"
      },
      "source": [
        "# 경로 설정 \n",
        "import os\n",
        "os.chdir('/content/drive/MyDrive/Colab Notebooks')"
      ],
      "execution_count": 2,
      "outputs": []
    },
    {
      "cell_type": "code",
      "metadata": {
        "id": "eR3bwa2IaVXd"
      },
      "source": [
        "import pandas as pd\n",
        "import seaborn as sns\n",
        "import matplotlib.pyplot as plt\n",
        "import csv\n",
        "import glob\n",
        "import sys"
      ],
      "execution_count": 3,
      "outputs": []
    },
    {
      "cell_type": "code",
      "metadata": {
        "id": "qGE3Ad8ZcecI"
      },
      "source": [
        "area_code = [96,311,312,313,319,530,673,686,800,801,802,803,804,805,806,807,808,809,810,811,812,813,814,815,\n",
        "             816,817,818,819,820,821,822,823,824,825,826,827,829,830,831,832,833,834,835,836,837,838,839,840,\n",
        "             841,842,843,844,847,848,849,850,851,852,853,859,872,902,903,905,906,907,908,909,911,912,913,\n",
        "             914,915,916,917,918,919,920,922,925,926,927,928,929,930,931,932,933,934,935,936,944,945,946,947,948,953,974]\n",
        "\n",
        "      \n",
        "area_name = ['독도','가야산','주왕산','양지암','천부','태하','진영','대곡','평해','영양','온정','옥산','청하','죽장','선산','의흥',\n",
        "             '호미곶','대덕','성주','황성','고령','청도','부석','예천','구룡포','수비','마성','예안','하회','공성','김천','군위',\n",
        "             '가산','칠곡','신녕','경산','외동','기계','석포','단북','은척','화서','봉화읍','현서','이산','동로','길안','하양','화북',\n",
        "             '산내','금강송','영덕읍','소보','청도금천','지보','감포','소곡','죽변','팔공산','토함산','지리산','시천','도천',\n",
        "             '양산상북','화개','삼천포','진해','서이말','매물도','백천','상주면','서하','삼가','단성','사천','고성','창녕','함안',\n",
        "             '단장','생림','진북','송백','웅상','개천','사량도','욕지도','하동','금남','수곡','청덕','신포','길곡','대병','북상','명사',\n",
        "             '삼장','장목','대곡']"
      ],
      "execution_count": 26,
      "outputs": []
    },
    {
      "cell_type": "code",
      "metadata": {
        "id": "WJ7BVAwRaWsQ"
      },
      "source": [
        "# 연도별 지역별로 csv 병합\n",
        "\n",
        "input_path = \"../A2W/데이터/AWS/\"\n",
        "\n",
        "# 연도별 CSV 병합시키는 함수\n",
        "def combine(num):\n",
        "  # SURFACE_AWS_로 시작하는 연도별 모든 지역 csv 파일\n",
        "  all_files = glob.glob(os.path.join(input_path,'SURFACE_AWS_' + num + '_*'))\n",
        "  \n",
        "  all_data_frames = []\n",
        "  # 각 파일 별 데이터프레임을 all_data_frames에 저장\n",
        "  for file in all_files:\n",
        "    data_frame = pd.read_csv(file, index_col=None, encoding='cp949')\n",
        "    all_data_frames.append(data_frame)\n",
        "  # concat을 이용해 세로로 결합\n",
        "  data_frame_concat = pd.concat(all_data_frames, axis=0, ignore_index=True)\n",
        "  # CSV output 저장 \n",
        "  data_frame_concat.to_csv(\"data/AWS/AWS_\" + num + \".csv\", index=False, encoding='utf-8-sig')"
      ],
      "execution_count": 16,
      "outputs": []
    },
    {
      "cell_type": "code",
      "metadata": {
        "colab": {
          "base_uri": "https://localhost:8080/",
          "height": 358
        },
        "id": "zVpsokyxhFo4",
        "outputId": "371cdec9-15ec-427d-bdf0-a608fbd8b085"
      },
      "source": [
        "# 974번 대곡 (구 진주) Missing\n",
        "\n",
        "for num in area_code:\n",
        "  combine(str(num))"
      ],
      "execution_count": 27,
      "outputs": [
        {
          "output_type": "error",
          "ename": "ValueError",
          "evalue": "ignored",
          "traceback": [
            "\u001b[0;31m---------------------------------------------------------------------------\u001b[0m",
            "\u001b[0;31mValueError\u001b[0m                                Traceback (most recent call last)",
            "\u001b[0;32m<ipython-input-27-068c73126038>\u001b[0m in \u001b[0;36m<module>\u001b[0;34m()\u001b[0m\n\u001b[1;32m      2\u001b[0m \u001b[0;34m\u001b[0m\u001b[0m\n\u001b[1;32m      3\u001b[0m \u001b[0;32mfor\u001b[0m \u001b[0mnum\u001b[0m \u001b[0;32min\u001b[0m \u001b[0marea_code\u001b[0m\u001b[0;34m:\u001b[0m\u001b[0;34m\u001b[0m\u001b[0;34m\u001b[0m\u001b[0m\n\u001b[0;32m----> 4\u001b[0;31m   \u001b[0mcombine\u001b[0m\u001b[0;34m(\u001b[0m\u001b[0mstr\u001b[0m\u001b[0;34m(\u001b[0m\u001b[0mnum\u001b[0m\u001b[0;34m)\u001b[0m\u001b[0;34m)\u001b[0m\u001b[0;34m\u001b[0m\u001b[0;34m\u001b[0m\u001b[0m\n\u001b[0m",
            "\u001b[0;32m<ipython-input-16-8076f8bad9ba>\u001b[0m in \u001b[0;36mcombine\u001b[0;34m(num)\u001b[0m\n\u001b[1;32m     14\u001b[0m     \u001b[0mall_data_frames\u001b[0m\u001b[0;34m.\u001b[0m\u001b[0mappend\u001b[0m\u001b[0;34m(\u001b[0m\u001b[0mdata_frame\u001b[0m\u001b[0;34m)\u001b[0m\u001b[0;34m\u001b[0m\u001b[0;34m\u001b[0m\u001b[0m\n\u001b[1;32m     15\u001b[0m   \u001b[0;31m# concat을 이용해 세로로 결합\u001b[0m\u001b[0;34m\u001b[0m\u001b[0;34m\u001b[0m\u001b[0;34m\u001b[0m\u001b[0m\n\u001b[0;32m---> 16\u001b[0;31m   \u001b[0mdata_frame_concat\u001b[0m \u001b[0;34m=\u001b[0m \u001b[0mpd\u001b[0m\u001b[0;34m.\u001b[0m\u001b[0mconcat\u001b[0m\u001b[0;34m(\u001b[0m\u001b[0mall_data_frames\u001b[0m\u001b[0;34m,\u001b[0m \u001b[0maxis\u001b[0m\u001b[0;34m=\u001b[0m\u001b[0;36m0\u001b[0m\u001b[0;34m,\u001b[0m \u001b[0mignore_index\u001b[0m\u001b[0;34m=\u001b[0m\u001b[0;32mTrue\u001b[0m\u001b[0;34m)\u001b[0m\u001b[0;34m\u001b[0m\u001b[0;34m\u001b[0m\u001b[0m\n\u001b[0m\u001b[1;32m     17\u001b[0m   \u001b[0;31m# CSV output 저장\u001b[0m\u001b[0;34m\u001b[0m\u001b[0;34m\u001b[0m\u001b[0;34m\u001b[0m\u001b[0m\n\u001b[1;32m     18\u001b[0m   \u001b[0mdata_frame_concat\u001b[0m\u001b[0;34m.\u001b[0m\u001b[0mto_csv\u001b[0m\u001b[0;34m(\u001b[0m\u001b[0;34m\"data/AWS/AWS_\"\u001b[0m \u001b[0;34m+\u001b[0m \u001b[0mnum\u001b[0m \u001b[0;34m+\u001b[0m \u001b[0;34m\".csv\"\u001b[0m\u001b[0;34m,\u001b[0m \u001b[0mindex\u001b[0m\u001b[0;34m=\u001b[0m\u001b[0;32mFalse\u001b[0m\u001b[0;34m,\u001b[0m \u001b[0mencoding\u001b[0m\u001b[0;34m=\u001b[0m\u001b[0;34m'utf-8-sig'\u001b[0m\u001b[0;34m)\u001b[0m\u001b[0;34m\u001b[0m\u001b[0;34m\u001b[0m\u001b[0m\n",
            "\u001b[0;32m/usr/local/lib/python3.7/dist-packages/pandas/core/reshape/concat.py\u001b[0m in \u001b[0;36mconcat\u001b[0;34m(objs, axis, join, ignore_index, keys, levels, names, verify_integrity, sort, copy)\u001b[0m\n\u001b[1;32m    282\u001b[0m         \u001b[0mverify_integrity\u001b[0m\u001b[0;34m=\u001b[0m\u001b[0mverify_integrity\u001b[0m\u001b[0;34m,\u001b[0m\u001b[0;34m\u001b[0m\u001b[0;34m\u001b[0m\u001b[0m\n\u001b[1;32m    283\u001b[0m         \u001b[0mcopy\u001b[0m\u001b[0;34m=\u001b[0m\u001b[0mcopy\u001b[0m\u001b[0;34m,\u001b[0m\u001b[0;34m\u001b[0m\u001b[0;34m\u001b[0m\u001b[0m\n\u001b[0;32m--> 284\u001b[0;31m         \u001b[0msort\u001b[0m\u001b[0;34m=\u001b[0m\u001b[0msort\u001b[0m\u001b[0;34m,\u001b[0m\u001b[0;34m\u001b[0m\u001b[0;34m\u001b[0m\u001b[0m\n\u001b[0m\u001b[1;32m    285\u001b[0m     )\n\u001b[1;32m    286\u001b[0m \u001b[0;34m\u001b[0m\u001b[0m\n",
            "\u001b[0;32m/usr/local/lib/python3.7/dist-packages/pandas/core/reshape/concat.py\u001b[0m in \u001b[0;36m__init__\u001b[0;34m(self, objs, axis, join, keys, levels, names, ignore_index, verify_integrity, copy, sort)\u001b[0m\n\u001b[1;32m    329\u001b[0m \u001b[0;34m\u001b[0m\u001b[0m\n\u001b[1;32m    330\u001b[0m         \u001b[0;32mif\u001b[0m \u001b[0mlen\u001b[0m\u001b[0;34m(\u001b[0m\u001b[0mobjs\u001b[0m\u001b[0;34m)\u001b[0m \u001b[0;34m==\u001b[0m \u001b[0;36m0\u001b[0m\u001b[0;34m:\u001b[0m\u001b[0;34m\u001b[0m\u001b[0;34m\u001b[0m\u001b[0m\n\u001b[0;32m--> 331\u001b[0;31m             \u001b[0;32mraise\u001b[0m \u001b[0mValueError\u001b[0m\u001b[0;34m(\u001b[0m\u001b[0;34m\"No objects to concatenate\"\u001b[0m\u001b[0;34m)\u001b[0m\u001b[0;34m\u001b[0m\u001b[0;34m\u001b[0m\u001b[0m\n\u001b[0m\u001b[1;32m    332\u001b[0m \u001b[0;34m\u001b[0m\u001b[0m\n\u001b[1;32m    333\u001b[0m         \u001b[0;32mif\u001b[0m \u001b[0mkeys\u001b[0m \u001b[0;32mis\u001b[0m \u001b[0;32mNone\u001b[0m\u001b[0;34m:\u001b[0m\u001b[0;34m\u001b[0m\u001b[0;34m\u001b[0m\u001b[0m\n",
            "\u001b[0;31mValueError\u001b[0m: No objects to concatenate"
          ]
        }
      ]
    },
    {
      "cell_type": "code",
      "metadata": {
        "id": "0SMb4Rc_jJWd"
      },
      "source": [
        "all_files = glob.glob(os.path.join(\"data/AWS/\",'AWS_*'))\n",
        "\n",
        "merged_aws = []\n",
        "for file in all_files:\n",
        "  data_frame = pd.read_csv(file, index_col=None)\n",
        "  merged_aws.append(data_frame)\n",
        "merged_aws_concat = pd.concat(merged_aws, axis=0, ignore_index=True)\n",
        "merged_aws_concat.to_csv(\"data/AWS_최종/AWS_merged.csv\", index=False, encoding='utf-8-sig')"
      ],
      "execution_count": 28,
      "outputs": []
    },
    {
      "cell_type": "code",
      "metadata": {
        "colab": {
          "base_uri": "https://localhost:8080/",
          "height": 606
        },
        "id": "wg_20NHzlOK3",
        "outputId": "302e738d-c7e4-483c-9009-ccc68e9f7d19"
      },
      "source": [
        "aws_df = pd.read_csv(\"data/AWS_최종/AWS_merged.csv\")\n",
        "aws_df_sorted = aws_df.sort_values(by=['일시', '지점'], ignore_index=True)\n",
        "aws_df_sorted"
      ],
      "execution_count": 29,
      "outputs": [
        {
          "output_type": "execute_result",
          "data": {
            "text/html": [
              "<div>\n",
              "<style scoped>\n",
              "    .dataframe tbody tr th:only-of-type {\n",
              "        vertical-align: middle;\n",
              "    }\n",
              "\n",
              "    .dataframe tbody tr th {\n",
              "        vertical-align: top;\n",
              "    }\n",
              "\n",
              "    .dataframe thead th {\n",
              "        text-align: right;\n",
              "    }\n",
              "</style>\n",
              "<table border=\"1\" class=\"dataframe\">\n",
              "  <thead>\n",
              "    <tr style=\"text-align: right;\">\n",
              "      <th></th>\n",
              "      <th>지점</th>\n",
              "      <th>일시</th>\n",
              "      <th>평균기온(°C)</th>\n",
              "      <th>최저기온(°C)</th>\n",
              "      <th>최저기온 시각(hhmi)</th>\n",
              "      <th>최고기온(°C)</th>\n",
              "      <th>최고기온 시각(hhmi)</th>\n",
              "      <th>1시간 최다강수량(mm)</th>\n",
              "      <th>1시간 최다 강수량 시각(hhmi)</th>\n",
              "      <th>일강수량(mm)</th>\n",
              "      <th>최대 순간 풍속(m/s)</th>\n",
              "      <th>최대 순간풍속 시각(hhmi)</th>\n",
              "      <th>평균 풍속(m/s)</th>\n",
              "      <th>최대 순간 풍속 풍향(hhmi)</th>\n",
              "      <th>최대 순간 풍속 풍향(deg)</th>\n",
              "    </tr>\n",
              "  </thead>\n",
              "  <tbody>\n",
              "    <tr>\n",
              "      <th>0</th>\n",
              "      <td>96</td>\n",
              "      <td>2011-01-01</td>\n",
              "      <td>3.7</td>\n",
              "      <td>-0.4</td>\n",
              "      <td>403.0</td>\n",
              "      <td>5.5</td>\n",
              "      <td>1406.0</td>\n",
              "      <td>5.0</td>\n",
              "      <td>500.0</td>\n",
              "      <td>11.5</td>\n",
              "      <td>30.1</td>\n",
              "      <td>355.0</td>\n",
              "      <td>5.7</td>\n",
              "      <td>254.9</td>\n",
              "      <td>NaN</td>\n",
              "    </tr>\n",
              "    <tr>\n",
              "      <th>1</th>\n",
              "      <td>311</td>\n",
              "      <td>2011-01-01</td>\n",
              "      <td>-6.9</td>\n",
              "      <td>-11.1</td>\n",
              "      <td>34.0</td>\n",
              "      <td>-2.6</td>\n",
              "      <td>1328.0</td>\n",
              "      <td>0.0</td>\n",
              "      <td>NaN</td>\n",
              "      <td>0.0</td>\n",
              "      <td>13.9</td>\n",
              "      <td>1111.0</td>\n",
              "      <td>2.2</td>\n",
              "      <td>56.3</td>\n",
              "      <td>NaN</td>\n",
              "    </tr>\n",
              "    <tr>\n",
              "      <th>2</th>\n",
              "      <td>312</td>\n",
              "      <td>2011-01-01</td>\n",
              "      <td>-5.5</td>\n",
              "      <td>-10.8</td>\n",
              "      <td>309.0</td>\n",
              "      <td>0.5</td>\n",
              "      <td>1604.0</td>\n",
              "      <td>0.0</td>\n",
              "      <td>NaN</td>\n",
              "      <td>0.0</td>\n",
              "      <td>6.5</td>\n",
              "      <td>1316.0</td>\n",
              "      <td>0.8</td>\n",
              "      <td>34.5</td>\n",
              "      <td>NaN</td>\n",
              "    </tr>\n",
              "    <tr>\n",
              "      <th>3</th>\n",
              "      <td>313</td>\n",
              "      <td>2011-01-01</td>\n",
              "      <td>1.0</td>\n",
              "      <td>-2.6</td>\n",
              "      <td>732.0</td>\n",
              "      <td>3.9</td>\n",
              "      <td>1526.0</td>\n",
              "      <td>0.0</td>\n",
              "      <td>NaN</td>\n",
              "      <td>0.0</td>\n",
              "      <td>8.4</td>\n",
              "      <td>452.0</td>\n",
              "      <td>2.5</td>\n",
              "      <td>304.8</td>\n",
              "      <td>NaN</td>\n",
              "    </tr>\n",
              "    <tr>\n",
              "      <th>4</th>\n",
              "      <td>319</td>\n",
              "      <td>2011-01-01</td>\n",
              "      <td>4.0</td>\n",
              "      <td>1.1</td>\n",
              "      <td>353.0</td>\n",
              "      <td>5.3</td>\n",
              "      <td>1456.0</td>\n",
              "      <td>7.5</td>\n",
              "      <td>500.0</td>\n",
              "      <td>26.5</td>\n",
              "      <td>22.2</td>\n",
              "      <td>614.0</td>\n",
              "      <td>6.9</td>\n",
              "      <td>4.2</td>\n",
              "      <td>NaN</td>\n",
              "    </tr>\n",
              "    <tr>\n",
              "      <th>...</th>\n",
              "      <td>...</td>\n",
              "      <td>...</td>\n",
              "      <td>...</td>\n",
              "      <td>...</td>\n",
              "      <td>...</td>\n",
              "      <td>...</td>\n",
              "      <td>...</td>\n",
              "      <td>...</td>\n",
              "      <td>...</td>\n",
              "      <td>...</td>\n",
              "      <td>...</td>\n",
              "      <td>...</td>\n",
              "      <td>...</td>\n",
              "      <td>...</td>\n",
              "      <td>...</td>\n",
              "    </tr>\n",
              "    <tr>\n",
              "      <th>315150</th>\n",
              "      <td>945</td>\n",
              "      <td>2019-12-31</td>\n",
              "      <td>-2.8</td>\n",
              "      <td>-5.7</td>\n",
              "      <td>759.0</td>\n",
              "      <td>1.7</td>\n",
              "      <td>1457.0</td>\n",
              "      <td>NaN</td>\n",
              "      <td>NaN</td>\n",
              "      <td>0.0</td>\n",
              "      <td>14.7</td>\n",
              "      <td>219.0</td>\n",
              "      <td>3.9</td>\n",
              "      <td>NaN</td>\n",
              "      <td>320.6</td>\n",
              "    </tr>\n",
              "    <tr>\n",
              "      <th>315151</th>\n",
              "      <td>946</td>\n",
              "      <td>2019-12-31</td>\n",
              "      <td>-3.8</td>\n",
              "      <td>-6.9</td>\n",
              "      <td>801.0</td>\n",
              "      <td>-0.2</td>\n",
              "      <td>1406.0</td>\n",
              "      <td>NaN</td>\n",
              "      <td>NaN</td>\n",
              "      <td>0.0</td>\n",
              "      <td>9.4</td>\n",
              "      <td>659.0</td>\n",
              "      <td>3.0</td>\n",
              "      <td>NaN</td>\n",
              "      <td>250.3</td>\n",
              "    </tr>\n",
              "    <tr>\n",
              "      <th>315152</th>\n",
              "      <td>947</td>\n",
              "      <td>2019-12-31</td>\n",
              "      <td>1.0</td>\n",
              "      <td>-1.6</td>\n",
              "      <td>2349.0</td>\n",
              "      <td>6.8</td>\n",
              "      <td>1.0</td>\n",
              "      <td>NaN</td>\n",
              "      <td>NaN</td>\n",
              "      <td>0.0</td>\n",
              "      <td>11.3</td>\n",
              "      <td>126.0</td>\n",
              "      <td>3.7</td>\n",
              "      <td>NaN</td>\n",
              "      <td>272.8</td>\n",
              "    </tr>\n",
              "    <tr>\n",
              "      <th>315153</th>\n",
              "      <td>948</td>\n",
              "      <td>2019-12-31</td>\n",
              "      <td>-1.6</td>\n",
              "      <td>-5.9</td>\n",
              "      <td>2342.0</td>\n",
              "      <td>2.4</td>\n",
              "      <td>1411.0</td>\n",
              "      <td>NaN</td>\n",
              "      <td>NaN</td>\n",
              "      <td>0.0</td>\n",
              "      <td>19.7</td>\n",
              "      <td>430.0</td>\n",
              "      <td>6.0</td>\n",
              "      <td>NaN</td>\n",
              "      <td>33.7</td>\n",
              "    </tr>\n",
              "    <tr>\n",
              "      <th>315154</th>\n",
              "      <td>953</td>\n",
              "      <td>2019-12-31</td>\n",
              "      <td>0.4</td>\n",
              "      <td>-1.8</td>\n",
              "      <td>904.0</td>\n",
              "      <td>7.2</td>\n",
              "      <td>1.0</td>\n",
              "      <td>NaN</td>\n",
              "      <td>NaN</td>\n",
              "      <td>0.0</td>\n",
              "      <td>12.9</td>\n",
              "      <td>503.0</td>\n",
              "      <td>5.4</td>\n",
              "      <td>NaN</td>\n",
              "      <td>16.9</td>\n",
              "    </tr>\n",
              "  </tbody>\n",
              "</table>\n",
              "<p>315155 rows × 15 columns</p>\n",
              "</div>"
            ],
            "text/plain": [
              "         지점          일시  ...  최대 순간 풍속 풍향(hhmi)  최대 순간 풍속 풍향(deg)\n",
              "0        96  2011-01-01  ...              254.9               NaN\n",
              "1       311  2011-01-01  ...               56.3               NaN\n",
              "2       312  2011-01-01  ...               34.5               NaN\n",
              "3       313  2011-01-01  ...              304.8               NaN\n",
              "4       319  2011-01-01  ...                4.2               NaN\n",
              "...     ...         ...  ...                ...               ...\n",
              "315150  945  2019-12-31  ...                NaN             320.6\n",
              "315151  946  2019-12-31  ...                NaN             250.3\n",
              "315152  947  2019-12-31  ...                NaN             272.8\n",
              "315153  948  2019-12-31  ...                NaN              33.7\n",
              "315154  953  2019-12-31  ...                NaN              16.9\n",
              "\n",
              "[315155 rows x 15 columns]"
            ]
          },
          "metadata": {
            "tags": []
          },
          "execution_count": 29
        }
      ]
    },
    {
      "cell_type": "code",
      "metadata": {
        "id": "VVz2hZxAlgO0"
      },
      "source": [
        "aws_df_sorted.to_csv(\"data/AWS_최종/AWS_final.csv\", index=False, encoding='utf-8-sig')"
      ],
      "execution_count": 30,
      "outputs": []
    }
  ]
}