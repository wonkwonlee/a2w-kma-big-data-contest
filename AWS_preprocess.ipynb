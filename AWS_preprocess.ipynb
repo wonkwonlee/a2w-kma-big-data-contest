{
  "nbformat": 4,
  "nbformat_minor": 0,
  "metadata": {
    "colab": {
      "name": "AWS_preprocess.ipynb",
      "provenance": [],
      "authorship_tag": "ABX9TyN4fm8NqmS9Z7vuTbUyGyXc",
      "include_colab_link": true
    },
    "kernelspec": {
      "name": "python3",
      "display_name": "Python 3"
    },
    "language_info": {
      "name": "python"
    }
  },
  "cells": [
    {
      "cell_type": "markdown",
      "metadata": {
        "id": "view-in-github",
        "colab_type": "text"
      },
      "source": [
        "<a href=\"https://colab.research.google.com/github/wonkwonlee/a2w-kma-big-data-contest/blob/main/AWS_preprocess.ipynb\" target=\"_parent\"><img src=\"https://colab.research.google.com/assets/colab-badge.svg\" alt=\"Open In Colab\"/></a>"
      ]
    },
    {
      "cell_type": "code",
      "metadata": {
        "colab": {
          "base_uri": "https://localhost:8080/"
        },
        "id": "xfN6f1XDR80F",
        "outputId": "9cade1ba-74c2-459a-ddba-bebc13f66f6a"
      },
      "source": [
        "from google.colab import drive\n",
        "drive.mount('/content/drive')"
      ],
      "execution_count": 1,
      "outputs": [
        {
          "output_type": "stream",
          "text": [
            "Mounted at /content/drive\n"
          ],
          "name": "stdout"
        }
      ]
    },
    {
      "cell_type": "code",
      "metadata": {
        "id": "ZXyJWL9BYxyV"
      },
      "source": [
        "# 경로 설정 \n",
        "import os\n",
        "os.chdir('/content/drive/MyDrive/Colab Notebooks')"
      ],
      "execution_count": 2,
      "outputs": []
    },
    {
      "cell_type": "code",
      "metadata": {
        "id": "KKmOZx6KYzEi"
      },
      "source": [
        "# Library\n",
        "\n",
        "import pandas as pd\n",
        "import seaborn as sns\n",
        "import matplotlib.pyplot as plt\n",
        "import csv\n",
        "import glob\n",
        "import sys"
      ],
      "execution_count": 3,
      "outputs": []
    },
    {
      "cell_type": "code",
      "metadata": {
        "id": "ADODuJqPY39g"
      },
      "source": [
        "df = pd.read_csv(\"../A2W/데이터/AWS_최종/AWS_final.csv\")"
      ],
      "execution_count": 5,
      "outputs": []
    },
    {
      "cell_type": "code",
      "metadata": {
        "id": "DURzLZasZeZy"
      },
      "source": [
        "area_code = [96,311,312,313,319,530,673,686,800,801,802,803,804,805,806,807,808,809,810,811,812,813,814,815,\n",
        "             816,817,818,819,820,821,822,823,824,825,826,827,829,830,831,832,833,834,835,836,837,838,839,840,\n",
        "             841,842,843,844,847,848,849,850,851,852,853,859,872,902,903,905,906,907,908,909,911,912,913,\n",
        "             914,915,916,917,918,919,920,922,925,926,927,928,929,930,931,932,933,934,935,936,944,945,946,947,948,953]\n",
        "\n",
        "      \n",
        "area_name = ['독도','가야산','주왕산','양지암','천부','태하','진영','대곡','평해','영양','온정','옥산','청하','죽장','선산','의흥',\n",
        "             '호미곶','대덕','성주','황성','고령','청도','부석','예천','구룡포','수비','마성','예안','하회','공성','김천','군위',\n",
        "             '가산','칠곡','신녕','경산','외동','기계','석포','단북','은척','화서','봉화읍','현서','이산','동로','길안','하양','화북',\n",
        "             '산내','금강송','영덕읍','소보','청도금천','지보','감포','소곡','죽변','팔공산','토함산','지리산','시천','도천',\n",
        "             '양산상북','화개','삼천포','진해','서이말','매물도','백천','상주면','서하','삼가','단성','사천','고성','창녕','함안',\n",
        "             '단장','생림','진북','송백','웅상','개천','사량도','욕지도','하동','금남','수곡','청덕','신포','길곡','대병','북상','명사',\n",
        "             '삼장','장목']\n",
        "\n",
        "dic = {key:value for key, value in zip(area_code, area_name)}"
      ],
      "execution_count": 6,
      "outputs": []
    },
    {
      "cell_type": "code",
      "metadata": {
        "colab": {
          "base_uri": "https://localhost:8080/"
        },
        "id": "u2KsSCL5ZTeM",
        "outputId": "dd0e7038-6135-4ee4-8927-baccf75b6d73"
      },
      "source": [
        "df['지역'] = \"\"\n",
        "\n",
        "for i in range(len(df['지점'])):\n",
        "  df['지역'][i] = dic[df['지점'][i]]"
      ],
      "execution_count": 16,
      "outputs": [
        {
          "output_type": "stream",
          "text": [
            "/usr/local/lib/python3.7/dist-packages/ipykernel_launcher.py:4: SettingWithCopyWarning: \n",
            "A value is trying to be set on a copy of a slice from a DataFrame\n",
            "\n",
            "See the caveats in the documentation: https://pandas.pydata.org/pandas-docs/stable/user_guide/indexing.html#returning-a-view-versus-a-copy\n",
            "  after removing the cwd from sys.path.\n"
          ],
          "name": "stderr"
        }
      ]
    },
    {
      "cell_type": "code",
      "metadata": {
        "colab": {
          "base_uri": "https://localhost:8080/"
        },
        "id": "dF_uQ0-JaAnV",
        "outputId": "bfd31475-05de-4eae-f5a3-f2f42fbeb32c"
      },
      "source": [
        "df.columns"
      ],
      "execution_count": 19,
      "outputs": [
        {
          "output_type": "execute_result",
          "data": {
            "text/plain": [
              "Index(['지점', '일시', '평균기온(°C)', '최저기온(°C)', '최저기온 시각(hhmi)', '최고기온(°C)',\n",
              "       '최고기온 시각(hhmi)', '1시간 최다강수량(mm)', '1시간 최다 강수량 시각(hhmi)', '일강수량(mm)',\n",
              "       '최대 순간 풍속(m/s)', '최대 순간풍속 시각(hhmi)', '평균 풍속(m/s)', '최대 순간 풍속 풍향(hhmi)',\n",
              "       '최대 순간 풍속 풍향(deg)', '지역'],\n",
              "      dtype='object')"
            ]
          },
          "metadata": {
            "tags": []
          },
          "execution_count": 19
        }
      ]
    },
    {
      "cell_type": "code",
      "metadata": {
        "id": "a-hAg93FbvcE"
      },
      "source": [
        "df = df[['지점', '지역', '일시', '평균기온(°C)', '최저기온(°C)', '최저기온 시각(hhmi)', '최고기온(°C)',\n",
        "       '최고기온 시각(hhmi)', '1시간 최다강수량(mm)', '1시간 최다 강수량 시각(hhmi)', '일강수량(mm)',\n",
        "       '최대 순간 풍속(m/s)', '최대 순간풍속 시각(hhmi)', '평균 풍속(m/s)', '최대 순간 풍속 풍향(hhmi)',\n",
        "       '최대 순간 풍속 풍향(deg)']]"
      ],
      "execution_count": 20,
      "outputs": []
    },
    {
      "cell_type": "code",
      "metadata": {
        "colab": {
          "base_uri": "https://localhost:8080/",
          "height": 657
        },
        "id": "TBw-9qSOb5EE",
        "outputId": "d1fc2a14-6fe7-4704-9086-753fd3b51868"
      },
      "source": [
        "df"
      ],
      "execution_count": 21,
      "outputs": [
        {
          "output_type": "execute_result",
          "data": {
            "text/html": [
              "<div>\n",
              "<style scoped>\n",
              "    .dataframe tbody tr th:only-of-type {\n",
              "        vertical-align: middle;\n",
              "    }\n",
              "\n",
              "    .dataframe tbody tr th {\n",
              "        vertical-align: top;\n",
              "    }\n",
              "\n",
              "    .dataframe thead th {\n",
              "        text-align: right;\n",
              "    }\n",
              "</style>\n",
              "<table border=\"1\" class=\"dataframe\">\n",
              "  <thead>\n",
              "    <tr style=\"text-align: right;\">\n",
              "      <th></th>\n",
              "      <th>지점</th>\n",
              "      <th>지역</th>\n",
              "      <th>일시</th>\n",
              "      <th>평균기온(°C)</th>\n",
              "      <th>최저기온(°C)</th>\n",
              "      <th>최저기온 시각(hhmi)</th>\n",
              "      <th>최고기온(°C)</th>\n",
              "      <th>최고기온 시각(hhmi)</th>\n",
              "      <th>1시간 최다강수량(mm)</th>\n",
              "      <th>1시간 최다 강수량 시각(hhmi)</th>\n",
              "      <th>일강수량(mm)</th>\n",
              "      <th>최대 순간 풍속(m/s)</th>\n",
              "      <th>최대 순간풍속 시각(hhmi)</th>\n",
              "      <th>평균 풍속(m/s)</th>\n",
              "      <th>최대 순간 풍속 풍향(hhmi)</th>\n",
              "      <th>최대 순간 풍속 풍향(deg)</th>\n",
              "    </tr>\n",
              "  </thead>\n",
              "  <tbody>\n",
              "    <tr>\n",
              "      <th>0</th>\n",
              "      <td>96</td>\n",
              "      <td>독도</td>\n",
              "      <td>2011-01-01</td>\n",
              "      <td>3.7</td>\n",
              "      <td>-0.4</td>\n",
              "      <td>403.0</td>\n",
              "      <td>5.5</td>\n",
              "      <td>1406.0</td>\n",
              "      <td>5.0</td>\n",
              "      <td>500.0</td>\n",
              "      <td>11.5</td>\n",
              "      <td>30.1</td>\n",
              "      <td>355.0</td>\n",
              "      <td>5.7</td>\n",
              "      <td>254.9</td>\n",
              "      <td>NaN</td>\n",
              "    </tr>\n",
              "    <tr>\n",
              "      <th>1</th>\n",
              "      <td>311</td>\n",
              "      <td>가야산</td>\n",
              "      <td>2011-01-01</td>\n",
              "      <td>-6.9</td>\n",
              "      <td>-11.1</td>\n",
              "      <td>34.0</td>\n",
              "      <td>-2.6</td>\n",
              "      <td>1328.0</td>\n",
              "      <td>0.0</td>\n",
              "      <td>NaN</td>\n",
              "      <td>0.0</td>\n",
              "      <td>13.9</td>\n",
              "      <td>1111.0</td>\n",
              "      <td>2.2</td>\n",
              "      <td>56.3</td>\n",
              "      <td>NaN</td>\n",
              "    </tr>\n",
              "    <tr>\n",
              "      <th>2</th>\n",
              "      <td>312</td>\n",
              "      <td>주왕산</td>\n",
              "      <td>2011-01-01</td>\n",
              "      <td>-5.5</td>\n",
              "      <td>-10.8</td>\n",
              "      <td>309.0</td>\n",
              "      <td>0.5</td>\n",
              "      <td>1604.0</td>\n",
              "      <td>0.0</td>\n",
              "      <td>NaN</td>\n",
              "      <td>0.0</td>\n",
              "      <td>6.5</td>\n",
              "      <td>1316.0</td>\n",
              "      <td>0.8</td>\n",
              "      <td>34.5</td>\n",
              "      <td>NaN</td>\n",
              "    </tr>\n",
              "    <tr>\n",
              "      <th>3</th>\n",
              "      <td>313</td>\n",
              "      <td>양지암</td>\n",
              "      <td>2011-01-01</td>\n",
              "      <td>1.0</td>\n",
              "      <td>-2.6</td>\n",
              "      <td>732.0</td>\n",
              "      <td>3.9</td>\n",
              "      <td>1526.0</td>\n",
              "      <td>0.0</td>\n",
              "      <td>NaN</td>\n",
              "      <td>0.0</td>\n",
              "      <td>8.4</td>\n",
              "      <td>452.0</td>\n",
              "      <td>2.5</td>\n",
              "      <td>304.8</td>\n",
              "      <td>NaN</td>\n",
              "    </tr>\n",
              "    <tr>\n",
              "      <th>4</th>\n",
              "      <td>319</td>\n",
              "      <td>천부</td>\n",
              "      <td>2011-01-01</td>\n",
              "      <td>4.0</td>\n",
              "      <td>1.1</td>\n",
              "      <td>353.0</td>\n",
              "      <td>5.3</td>\n",
              "      <td>1456.0</td>\n",
              "      <td>7.5</td>\n",
              "      <td>500.0</td>\n",
              "      <td>26.5</td>\n",
              "      <td>22.2</td>\n",
              "      <td>614.0</td>\n",
              "      <td>6.9</td>\n",
              "      <td>4.2</td>\n",
              "      <td>NaN</td>\n",
              "    </tr>\n",
              "    <tr>\n",
              "      <th>...</th>\n",
              "      <td>...</td>\n",
              "      <td>...</td>\n",
              "      <td>...</td>\n",
              "      <td>...</td>\n",
              "      <td>...</td>\n",
              "      <td>...</td>\n",
              "      <td>...</td>\n",
              "      <td>...</td>\n",
              "      <td>...</td>\n",
              "      <td>...</td>\n",
              "      <td>...</td>\n",
              "      <td>...</td>\n",
              "      <td>...</td>\n",
              "      <td>...</td>\n",
              "      <td>...</td>\n",
              "      <td>...</td>\n",
              "    </tr>\n",
              "    <tr>\n",
              "      <th>315150</th>\n",
              "      <td>945</td>\n",
              "      <td>대병</td>\n",
              "      <td>2019-12-31</td>\n",
              "      <td>-2.8</td>\n",
              "      <td>-5.7</td>\n",
              "      <td>759.0</td>\n",
              "      <td>1.7</td>\n",
              "      <td>1457.0</td>\n",
              "      <td>NaN</td>\n",
              "      <td>NaN</td>\n",
              "      <td>0.0</td>\n",
              "      <td>14.7</td>\n",
              "      <td>219.0</td>\n",
              "      <td>3.9</td>\n",
              "      <td>NaN</td>\n",
              "      <td>320.6</td>\n",
              "    </tr>\n",
              "    <tr>\n",
              "      <th>315151</th>\n",
              "      <td>946</td>\n",
              "      <td>북상</td>\n",
              "      <td>2019-12-31</td>\n",
              "      <td>-3.8</td>\n",
              "      <td>-6.9</td>\n",
              "      <td>801.0</td>\n",
              "      <td>-0.2</td>\n",
              "      <td>1406.0</td>\n",
              "      <td>NaN</td>\n",
              "      <td>NaN</td>\n",
              "      <td>0.0</td>\n",
              "      <td>9.4</td>\n",
              "      <td>659.0</td>\n",
              "      <td>3.0</td>\n",
              "      <td>NaN</td>\n",
              "      <td>250.3</td>\n",
              "    </tr>\n",
              "    <tr>\n",
              "      <th>315152</th>\n",
              "      <td>947</td>\n",
              "      <td>명사</td>\n",
              "      <td>2019-12-31</td>\n",
              "      <td>1.0</td>\n",
              "      <td>-1.6</td>\n",
              "      <td>2349.0</td>\n",
              "      <td>6.8</td>\n",
              "      <td>1.0</td>\n",
              "      <td>NaN</td>\n",
              "      <td>NaN</td>\n",
              "      <td>0.0</td>\n",
              "      <td>11.3</td>\n",
              "      <td>126.0</td>\n",
              "      <td>3.7</td>\n",
              "      <td>NaN</td>\n",
              "      <td>272.8</td>\n",
              "    </tr>\n",
              "    <tr>\n",
              "      <th>315153</th>\n",
              "      <td>948</td>\n",
              "      <td>삼장</td>\n",
              "      <td>2019-12-31</td>\n",
              "      <td>-1.6</td>\n",
              "      <td>-5.9</td>\n",
              "      <td>2342.0</td>\n",
              "      <td>2.4</td>\n",
              "      <td>1411.0</td>\n",
              "      <td>NaN</td>\n",
              "      <td>NaN</td>\n",
              "      <td>0.0</td>\n",
              "      <td>19.7</td>\n",
              "      <td>430.0</td>\n",
              "      <td>6.0</td>\n",
              "      <td>NaN</td>\n",
              "      <td>33.7</td>\n",
              "    </tr>\n",
              "    <tr>\n",
              "      <th>315154</th>\n",
              "      <td>953</td>\n",
              "      <td>장목</td>\n",
              "      <td>2019-12-31</td>\n",
              "      <td>0.4</td>\n",
              "      <td>-1.8</td>\n",
              "      <td>904.0</td>\n",
              "      <td>7.2</td>\n",
              "      <td>1.0</td>\n",
              "      <td>NaN</td>\n",
              "      <td>NaN</td>\n",
              "      <td>0.0</td>\n",
              "      <td>12.9</td>\n",
              "      <td>503.0</td>\n",
              "      <td>5.4</td>\n",
              "      <td>NaN</td>\n",
              "      <td>16.9</td>\n",
              "    </tr>\n",
              "  </tbody>\n",
              "</table>\n",
              "<p>315155 rows × 16 columns</p>\n",
              "</div>"
            ],
            "text/plain": [
              "         지점   지역          일시  ...  평균 풍속(m/s)  최대 순간 풍속 풍향(hhmi)  최대 순간 풍속 풍향(deg)\n",
              "0        96   독도  2011-01-01  ...         5.7              254.9               NaN\n",
              "1       311  가야산  2011-01-01  ...         2.2               56.3               NaN\n",
              "2       312  주왕산  2011-01-01  ...         0.8               34.5               NaN\n",
              "3       313  양지암  2011-01-01  ...         2.5              304.8               NaN\n",
              "4       319   천부  2011-01-01  ...         6.9                4.2               NaN\n",
              "...     ...  ...         ...  ...         ...                ...               ...\n",
              "315150  945   대병  2019-12-31  ...         3.9                NaN             320.6\n",
              "315151  946   북상  2019-12-31  ...         3.0                NaN             250.3\n",
              "315152  947   명사  2019-12-31  ...         3.7                NaN             272.8\n",
              "315153  948   삼장  2019-12-31  ...         6.0                NaN              33.7\n",
              "315154  953   장목  2019-12-31  ...         5.4                NaN              16.9\n",
              "\n",
              "[315155 rows x 16 columns]"
            ]
          },
          "metadata": {
            "tags": []
          },
          "execution_count": 21
        }
      ]
    },
    {
      "cell_type": "code",
      "metadata": {
        "id": "6SGBBiiicJR5"
      },
      "source": [
        "df.to_csv(\"../A2W/데이터/AWS_최종/AWS_proc.csv\", index=False, encoding='utf-8-sig')"
      ],
      "execution_count": 22,
      "outputs": []
    }
  ]
}